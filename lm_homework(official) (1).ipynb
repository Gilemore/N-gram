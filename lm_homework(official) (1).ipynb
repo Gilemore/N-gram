{
 "cells": [
  {
   "cell_type": "markdown",
   "metadata": {
    "colab_type": "text",
    "id": "92wQgC_pkbrn"
   },
   "source": [
    "# DS-GA 1011 Homework 2\n",
    "## N-Gram and Neural Language Modeling"
   ]
  },
  {
   "cell_type": "markdown",
   "metadata": {
    "colab_type": "text",
    "id": "zGs49UeVkhY1"
   },
   "source": [
    "Haoxue Li (hl3664),  Xiaocheng Li (xl3119),  Diwen Lu (dl3209),  Gaomin Wu (gw1107) by <em>last name</em>"
   ]
  },
  {
   "cell_type": "markdown",
   "metadata": {
    "colab_type": "text",
    "id": "NtqQJ0E9lJlC"
   },
   "source": [
    "__Contribution:__\n",
    "\n",
    "1.1 Interpolation (Haoxue Li, Diwen Lu)\n",
    "<br /> 1.2 Kneser-Ney (Haoxue Li, Diwen Lu)\n",
    "<br /> 2.1 RNN (Gaomin Wu)\n",
    "<br /> 2.1 LSTM (Xiaocheng Li)\n",
    "<br /> 2.1 Performance Evaluation (All, summarized and plotted by Haoxue Li)\n",
    "<br /> 2.2 Learned Embeddings (Haoxue Li)\n",
    "<br /> 2.3 Scoring (Diwen Lu)\n",
    "<br /> 2.4 Sampling (Sampling Function: Gaomin Wu; Analysis: Xiaocheng Li)"
   ]
  },
  {
   "cell_type": "code",
   "execution_count": null,
   "metadata": {
    "colab": {
     "base_uri": "https://localhost:8080/",
     "height": 227
    },
    "colab_type": "code",
    "collapsed": true,
    "id": "7lCD6DD7kbro",
    "jupyter": {
     "outputs_hidden": true,
     "source_hidden": true
    },
    "outputId": "47edf239-4a16-416c-937f-6ffdb4b6d4c7"
   },
   "outputs": [
    {
     "name": "stdout",
     "output_type": "stream",
     "text": [
      "Installing the package, RESTART THIS CELL\n",
      "Collecting jsonlines\n",
      "  Downloading https://files.pythonhosted.org/packages/4f/9a/ab96291470e305504aa4b7a2e0ec132e930da89eb3ca7a82fbe03167c131/jsonlines-1.2.0-py2.py3-none-any.whl\n",
      "Requirement already satisfied: six in /usr/local/lib/python3.6/dist-packages (from jsonlines) (1.12.0)\n",
      "Installing collected packages: jsonlines\n",
      "Successfully installed jsonlines-1.2.0\n",
      "Go to this URL in a browser: https://accounts.google.com/o/oauth2/auth?client_id=947318989803-6bn6qk8qdgf4n4g3pfee6491hc0brc4i.apps.googleusercontent.com&redirect_uri=urn%3Aietf%3Awg%3Aoauth%3A2.0%3Aoob&scope=email%20https%3A%2F%2Fwww.googleapis.com%2Fauth%2Fdocs.test%20https%3A%2F%2Fwww.googleapis.com%2Fauth%2Fdrive%20https%3A%2F%2Fwww.googleapis.com%2Fauth%2Fdrive.photos.readonly%20https%3A%2F%2Fwww.googleapis.com%2Fauth%2Fpeopleapi.readonly&response_type=code\n",
      "\n",
      "Enter your authorization code:\n",
      "··········\n",
      "Mounted at /content/drive\n"
     ]
    }
   ],
   "source": [
    "import os\n",
    "import json\n",
    "try:\n",
    "  import jsonlines\n",
    "except ImportError:\n",
    "  print('Installing the package, RESTART THIS CELL')\n",
    "  !pip install jsonlines\n",
    "try:\n",
    "    from tqdm import tqdm\n",
    "except ImportError:\n",
    "    print('Installing the package, RESTART THIS CELL')\n",
    "    !{sys.executable} -m pip install tqdm\n",
    "import shutil\n",
    "import numpy as np\n",
    "from collections import defaultdict\n",
    "\n",
    "from google.colab import drive\n",
    "drive.mount('/content/drive')"
   ]
  },
  {
   "cell_type": "markdown",
   "metadata": {
    "colab_type": "text",
    "id": "SkYVRF1bkbrr"
   },
   "source": [
    "## I. N-Gram Language Modeling"
   ]
  },
  {
   "cell_type": "markdown",
   "metadata": {
    "colab_type": "text",
    "id": "TZHgss-2kbrs"
   },
   "source": [
    "#### Utilities"
   ]
  },
  {
   "cell_type": "code",
   "execution_count": null,
   "metadata": {
    "colab": {},
    "colab_type": "code",
    "id": "MbYkMXQzkbrs",
    "jupyter": {
     "source_hidden": true
    }
   },
   "outputs": [],
   "source": [
    "def load_wikitext(filename='wikitext2-sentencized.json'):\n",
    "    if not os.path.exists(filename):\n",
    "        !wget \"https://nyu.box.com/shared/static/9kb7l7ci30hb6uahhbssjlq0kctr5ii4.json\" -O $filename\n",
    "    \n",
    "    datasets = json.load(open(filename, 'r'))\n",
    "    for name in datasets:\n",
    "        datasets[name] = [x.split() for x in datasets[name]]\n",
    "    vocab = list(set([t for ts in datasets['train'] for t in ts]))    \n",
    "    print(\"Vocab size: %d\" % (len(vocab)))\n",
    "    return datasets, vocab\n",
    "\n",
    "def perplexity(model, sequences):\n",
    "    n_total = 0\n",
    "    logp_total = 0\n",
    "    for sequence in sequences:\n",
    "        logp_total += model.sequence_logp(sequence)\n",
    "        n_total += len(sequence) + 1  \n",
    "    ppl = 2 ** (- (1.0 / n_total) * logp_total)  \n",
    "    return ppl"
   ]
  },
  {
   "cell_type": "code",
   "execution_count": null,
   "metadata": {
    "colab": {
     "base_uri": "https://localhost:8080/",
     "height": 486
    },
    "colab_type": "code",
    "collapsed": true,
    "id": "lazvf3rbc2pt",
    "jupyter": {
     "outputs_hidden": true
    },
    "outputId": "1e6dc961-0cfe-4d2f-8b73-94d2fe106215"
   },
   "outputs": [
    {
     "name": "stdout",
     "output_type": "stream",
     "text": [
      "--2019-10-08 17:38:49--  https://nyu.box.com/shared/static/9kb7l7ci30hb6uahhbssjlq0kctr5ii4.json\n",
      "Resolving nyu.box.com (nyu.box.com)... 103.116.4.197\n",
      "Connecting to nyu.box.com (nyu.box.com)|103.116.4.197|:443... connected.\n",
      "HTTP request sent, awaiting response... 301 Moved Permanently\n",
      "Location: /public/static/9kb7l7ci30hb6uahhbssjlq0kctr5ii4.json [following]\n",
      "--2019-10-08 17:38:49--  https://nyu.box.com/public/static/9kb7l7ci30hb6uahhbssjlq0kctr5ii4.json\n",
      "Reusing existing connection to nyu.box.com:443.\n",
      "HTTP request sent, awaiting response... 301 Moved Permanently\n",
      "Location: https://nyu.app.box.com/public/static/9kb7l7ci30hb6uahhbssjlq0kctr5ii4.json [following]\n",
      "--2019-10-08 17:38:49--  https://nyu.app.box.com/public/static/9kb7l7ci30hb6uahhbssjlq0kctr5ii4.json\n",
      "Resolving nyu.app.box.com (nyu.app.box.com)... 103.116.4.199\n",
      "Connecting to nyu.app.box.com (nyu.app.box.com)|103.116.4.199|:443... connected.\n",
      "HTTP request sent, awaiting response... 302 Found\n",
      "Location: https://public.boxcloud.com/d/1/b1!d8w2wZLPQbxa-MwryzVJE5zYrXd3W6OeN_MgmftywYubdekLnCFHG-cF_0MhAOixgQ0bkc_hH8ZlBel2spS-GGZ_BQDTeXQMTva1MDM1dIgrPKvLJXrNJr1-FKxlCG9B1uPdkRRXhK1TAd7gq3_wQ4Aem2RF8sMS3BO_2VRsrW6av864fqCZXv6HV9WzIIVqhPbhrliM7gu1lmMBybiFAdFwR166VFNeZ34xBRmhJmLTbsD4WXAa4TmN4m1gZfmvJAk8paLHkPt3q92P3Kr91qgaXV0M2ib514vRp4KK9yRrgR9fir7ou67CeL9oXHESP77QL7AQvMuxafbgL750w6YUv9HHAh0Bu475qXBsAdDNYjIsgat61zUfs3fgy7c1SsQpeCCUgqn6X7bpCJ29CCZy5GTy1T5UTZ4vKD42Sdksp03pw0GvqUVGmHnKeyemmOSIIMQY9wl0UKJMBIjXyhzt0vy05T_CgLysltAtNZe0sC5jpN3FN_vWI_lJe3Vnpns6NIsTRGhkXSF-oLsr3a5g8BTW8yQgFoKnT9qGzIGTv8uWKbieYJX-Wt4mEzgmzgKpVQSWRt9UWwI5HotoF06QkeDliHbjFSSDzuB-9RP-JmwQUHSXTSP9cl2TGUfpE8uIfvuDdrruA4stMD4bM1tC7uS0ZHgQmhvLRe3Utc7YP_A_H_RuradZO0GqUx4mI0njuBXByWbp9PWnXQMgFB0Z_JZPxBtMD-2Z0S4zaY7MpNZWah2q4z3edEMXCZknwmg5cBRPRkzBKpgmRBphwe483nuE7N8z5CE-QYJYyGxUuKKoykH8BAiXtWVtwKTkK7GYa_qxkgptFX-whFjW3wLA0nc61s1ZrLmHJ30pJh3YFCnoPwTt3YXC_6pM00pjlp5Rvd232YFV2oRJaW5Nb_TNvXsA7TE7LncmF-UbadQSlNwFXxs3fSoEaNE1y0aG23Pxk8RdeniZT2p9HBFTHdqIKtits9O33iZV-7-pVgreKvgGA4l3hI72Rx0zPyvuTYWYIFf1SSmUb0xxFQwV4njP8wNCuQq306nVDW9VaGZX82s1f2SW56tvg3c1FpbpXifW0dwaqlyIlmSGfwFd8_zAzrnfDKy9m-rZo0siMg2xTp2Oz8cLH7QH6sx87bP5A_XlJ8a7A7XWwxYq-J6VVf551jze5pn7BxSdO5d7Y3KrVS0YuyKloJwdaAOf8heMZt22LeuOCwdQ02l8Io1-hplPJzcxPO05qEIJk1RrpXy2e6YYflJywUb6moaMFe847d8bxcGyOzzE2MTsuml0GI5__gfJ5mWJE2IM-o91_fM0QUdTwOpffqcyq2dyruW9WZWb0AmaAWifs-LsuZGpVtOYIfmiFSFlfRW_piwPijrw9YqhqM_BMbxyL1ItBZLaQea_ppRmHyhB9yM./download [following]\n",
      "--2019-10-08 17:38:50--  https://public.boxcloud.com/d/1/b1!d8w2wZLPQbxa-MwryzVJE5zYrXd3W6OeN_MgmftywYubdekLnCFHG-cF_0MhAOixgQ0bkc_hH8ZlBel2spS-GGZ_BQDTeXQMTva1MDM1dIgrPKvLJXrNJr1-FKxlCG9B1uPdkRRXhK1TAd7gq3_wQ4Aem2RF8sMS3BO_2VRsrW6av864fqCZXv6HV9WzIIVqhPbhrliM7gu1lmMBybiFAdFwR166VFNeZ34xBRmhJmLTbsD4WXAa4TmN4m1gZfmvJAk8paLHkPt3q92P3Kr91qgaXV0M2ib514vRp4KK9yRrgR9fir7ou67CeL9oXHESP77QL7AQvMuxafbgL750w6YUv9HHAh0Bu475qXBsAdDNYjIsgat61zUfs3fgy7c1SsQpeCCUgqn6X7bpCJ29CCZy5GTy1T5UTZ4vKD42Sdksp03pw0GvqUVGmHnKeyemmOSIIMQY9wl0UKJMBIjXyhzt0vy05T_CgLysltAtNZe0sC5jpN3FN_vWI_lJe3Vnpns6NIsTRGhkXSF-oLsr3a5g8BTW8yQgFoKnT9qGzIGTv8uWKbieYJX-Wt4mEzgmzgKpVQSWRt9UWwI5HotoF06QkeDliHbjFSSDzuB-9RP-JmwQUHSXTSP9cl2TGUfpE8uIfvuDdrruA4stMD4bM1tC7uS0ZHgQmhvLRe3Utc7YP_A_H_RuradZO0GqUx4mI0njuBXByWbp9PWnXQMgFB0Z_JZPxBtMD-2Z0S4zaY7MpNZWah2q4z3edEMXCZknwmg5cBRPRkzBKpgmRBphwe483nuE7N8z5CE-QYJYyGxUuKKoykH8BAiXtWVtwKTkK7GYa_qxkgptFX-whFjW3wLA0nc61s1ZrLmHJ30pJh3YFCnoPwTt3YXC_6pM00pjlp5Rvd232YFV2oRJaW5Nb_TNvXsA7TE7LncmF-UbadQSlNwFXxs3fSoEaNE1y0aG23Pxk8RdeniZT2p9HBFTHdqIKtits9O33iZV-7-pVgreKvgGA4l3hI72Rx0zPyvuTYWYIFf1SSmUb0xxFQwV4njP8wNCuQq306nVDW9VaGZX82s1f2SW56tvg3c1FpbpXifW0dwaqlyIlmSGfwFd8_zAzrnfDKy9m-rZo0siMg2xTp2Oz8cLH7QH6sx87bP5A_XlJ8a7A7XWwxYq-J6VVf551jze5pn7BxSdO5d7Y3KrVS0YuyKloJwdaAOf8heMZt22LeuOCwdQ02l8Io1-hplPJzcxPO05qEIJk1RrpXy2e6YYflJywUb6moaMFe847d8bxcGyOzzE2MTsuml0GI5__gfJ5mWJE2IM-o91_fM0QUdTwOpffqcyq2dyruW9WZWb0AmaAWifs-LsuZGpVtOYIfmiFSFlfRW_piwPijrw9YqhqM_BMbxyL1ItBZLaQea_ppRmHyhB9yM./download\n",
      "Resolving public.boxcloud.com (public.boxcloud.com)... 103.116.4.200\n",
      "Connecting to public.boxcloud.com (public.boxcloud.com)|103.116.4.200|:443... connected.\n",
      "HTTP request sent, awaiting response... 200 OK\n",
      "Length: 12714601 (12M) [application/octet-stream]\n",
      "Saving to: ‘wikitext2-sentencized.json’\n",
      "\n",
      "wikitext2-sentenciz 100%[===================>]  12.12M  9.18MB/s    in 1.3s    \n",
      "\n",
      "2019-10-08 17:38:52 (9.18 MB/s) - ‘wikitext2-sentencized.json’ saved [12714601/12714601]\n",
      "\n",
      "Vocab size: 33175\n"
     ]
    }
   ],
   "source": [
    "datasets, vocab = load_wikitext()"
   ]
  },
  {
   "cell_type": "markdown",
   "metadata": {
    "colab_type": "text",
    "id": "ogb-CClXkbru"
   },
   "source": [
    "### Additive Smoothing"
   ]
  },
  {
   "cell_type": "code",
   "execution_count": null,
   "metadata": {
    "colab": {},
    "colab_type": "code",
    "id": "dKs3QGwDkbrv",
    "jupyter": {
     "source_hidden": true
    }
   },
   "outputs": [],
   "source": [
    "class NGramAdditive(object):\n",
    "    def __init__(self, n, delta, vsize):\n",
    "        self.n = n\n",
    "        self.delta = delta\n",
    "        self.count = defaultdict(lambda: defaultdict(float))\n",
    "        self.total = defaultdict(float)\n",
    "        self.vsize = vsize\n",
    "    \n",
    "    def estimate(self, sequences):\n",
    "        for sequence in sequences:\n",
    "            padded_sequence = ['<bos>']*(self.n-1) + sequence + ['<eos>']\n",
    "            for i in range(len(padded_sequence) - self.n+1):\n",
    "                ngram = tuple(padded_sequence[i:i+self.n])\n",
    "                prefix, word = ngram[:-1], ngram[-1]\n",
    "                self.count[prefix][word] += 1\n",
    "                self.total[prefix] += 1\n",
    "                \n",
    "    def sequence_logp(self, sequence):\n",
    "        padded_sequence = ['<bos>']*(self.n-1) + sequence + ['<eos>']\n",
    "        total_logp = 0\n",
    "        for i in range(len(padded_sequence) - self.n+1):\n",
    "            ngram = tuple(padded_sequence[i:i+self.n])\n",
    "            total_logp += np.log2(self.ngram_prob(ngram))\n",
    "        return total_logp\n",
    "\n",
    "    def ngram_prob(self, ngram):\n",
    "        prefix = ngram[:-1]\n",
    "        word = ngram[-1]\n",
    "        prob = ((self.delta + self.count[prefix][word]) / \n",
    "                (self.total[prefix] + self.delta*self.vsize))\n",
    "        return prob"
   ]
  },
  {
   "cell_type": "code",
   "execution_count": null,
   "metadata": {
    "colab": {
     "base_uri": "https://localhost:8080/",
     "height": 121
    },
    "colab_type": "code",
    "id": "R66qrz2Qkbrx",
    "jupyter": {
     "source_hidden": true
    },
    "outputId": "93282740-b07d-42ce-a2f8-c4161b9e33fd"
   },
   "outputs": [
    {
     "name": "stdout",
     "output_type": "stream",
     "text": [
      "Baseline (Additive smoothing, n=2, delta=0.0005)) Train Perplexity: 90.228\n",
      "Baseline (Additive smoothing, n=2, delta=0.0005)) Valid Perplexity: 525.825\n",
      "Baseline (Additive smoothing, n=3, delta=0.0005)) Train Perplexity: 26.768\n",
      "Baseline (Additive smoothing, n=3, delta=0.0005)) Valid Perplexity: 2577.128\n",
      "Baseline (Additive smoothing, n=4, delta=0.0005)) Train Perplexity: 19.947\n",
      "Baseline (Additive smoothing, n=4, delta=0.0005)) Valid Perplexity: 9570.901\n"
     ]
    }
   ],
   "source": [
    "delta = 0.0005\n",
    "for n in [2, 3, 4]:\n",
    "    lm = NGramAdditive(n=n, delta=delta, vsize=len(vocab)+1)  # +1 is for <eos>\n",
    "    lm.estimate(datasets['train'])\n",
    "\n",
    "    print(\"Baseline (Additive smoothing, n=%d, delta=%.4f)) Train Perplexity: %.3f\" % (n, delta, perplexity(lm, datasets['train'])))\n",
    "    print(\"Baseline (Additive smoothing, n=%d, delta=%.4f)) Valid Perplexity: %.3f\" % (n, delta, perplexity(lm, datasets['valid'])))"
   ]
  },
  {
   "cell_type": "markdown",
   "metadata": {
    "colab_type": "text",
    "id": "gtwjPH-nkbr0"
   },
   "source": [
    "### I.1 Interpolation"
   ]
  },
  {
   "cell_type": "code",
   "execution_count": null,
   "metadata": {
    "colab": {},
    "colab_type": "code",
    "id": "RCdxXLxCW0Ov",
    "jupyter": {
     "source_hidden": true
    }
   },
   "outputs": [],
   "source": [
    "# parameter lambda\n",
    "l=defaultdict(list)\n",
    "# equal:\n",
    "l[2]=[1/3,1/3,1/3]\n",
    "l[3]=[1/4,1/4,1/4,1/4]\n",
    "l[4]=[1/5,1/5,1/5,1/5,1/5]\n",
    "# increasing:\n",
    "l[2]=[1/6,1/3,1/2]\n",
    "l[3]=[1/10,1/5,3/10,2/5]\n",
    "l[4]=[1/15,2/15,3/15,4/15,5/15]\n",
    "# increasing more:\n",
    "l[2]=[1/111,10/111,100/111]\n",
    "l[3]=[1/131,10/131,100/131,20/131]\n",
    "l[4]=[1/132,10/132,100/132,20/132,1/132]\n",
    "datasets, vocab = load_wikitext()"
   ]
  },
  {
   "cell_type": "code",
   "execution_count": null,
   "metadata": {
    "colab": {},
    "colab_type": "code",
    "id": "oyM1Xpvdkbr0",
    "jupyter": {
     "source_hidden": true
    }
   },
   "outputs": [],
   "source": [
    "class NGramInterpolation(object):\n",
    "    def __init__(self, n, vsize):\n",
    "        # n-gram --n\n",
    "        self.n = n\n",
    "        # count:{\"2\":{[\"<bos>\",\"<bos>\"]:{\"candy\":7.0,\"the\":8.0...}...}}\n",
    "        self.count1 = defaultdict(float)\n",
    "        self.count2 = defaultdict(lambda: defaultdict(float))\n",
    "        self.total2 = defaultdict(float)\n",
    "        self.count3 = defaultdict(lambda: defaultdict(float))\n",
    "        self.total3 = defaultdict(float)\n",
    "        self.count4 = defaultdict(lambda: defaultdict(float))\n",
    "        self.total4 = defaultdict(float)\n",
    "        # vocabulary size+1 --vsize\n",
    "        self.vsize = vsize\n",
    "\n",
    "    def estimate(self, sequences):\n",
    "      for j in range(1,self.n+1):\n",
    "        # n=2,3,4\n",
    "        for sequence in sequences:\n",
    "            padded_sequence = ['<bos>']*(j-1) + sequence + ['<eos>']\n",
    "            # padded_sequence=[<bos>,i,am,chasing,a,rabbit,<eos>]\n",
    "            for i in range(len(padded_sequence) - j+1):\n",
    "              # j=2, i=0\n",
    "                ngram = tuple(padded_sequence[i:i+j])\n",
    "                #print(j,ngram)\n",
    "                #break\n",
    "                # ngram=[<bos>,i]\n",
    "                prefix, word = ngram[:-1], ngram[-1]\n",
    "                # prefix=[<bos>],word=[i]\n",
    "                # count:{2:{\n",
    "                            # [\"<bos>\",\"<bos>\"]:{\"candy\":7.0,\"the\":8.0...}...},\n",
    "                      #  3:{\n",
    "                            # [\"<bos>\",\"<bos>\",\"<bos>\"]:{\"candy\":7.0,\"the\":8.0...}...},\n",
    "                # count[2][i][<bos>]+=1\n",
    "                if j==1:self.count1[word] += 1\n",
    "                if j==2:self.count2[prefix][word] += 1\n",
    "                if j==3:self.count3[prefix][word] += 1\n",
    "                if j==4:self.count4[prefix][word] += 1\n",
    "                # total:{3:{('<bos>', '<bos>', '<bos>'):5,...},\n",
    "                      #  4:{('<bos>', '<bos>', '<bos>',\"<bos>\":100,...}}\n",
    "                if j==2:self.total2[prefix] += 1\n",
    "                if j==3:self.total3[prefix] += 1\n",
    "                if j==4:self.total4[prefix] += 1\n",
    "        self.k=sum(list(self.count1.values()))\n",
    "                \n",
    "    def sequence_logp(self, sequence):\n",
    "        padded_sequence = ['<bos>']*(self.n-1) + sequence + ['<eos>']\n",
    "        total_logp = 0\n",
    "        for i in range(len(padded_sequence) - self.n+1):\n",
    "            ngram = tuple(padded_sequence[i:i+self.n])\n",
    "            total_logp += np.log2(self.ngram_prob(ngram))\n",
    "        return total_logp\n",
    "\n",
    "    def ngram_prob(self, ngram):\n",
    "      #print(self.count)\n",
    "      prob=(1/(self.vsize))*l[self.n][0]\n",
    "      for i in range(1,self.n+1):\n",
    "        prefix = ngram[-i:-1]\n",
    "        word = ngram[-1]\n",
    "        if i==1:\n",
    "          prob += (l[self.n][i])*self.count1[word]/self.k\n",
    "        if i==2:\n",
    "          prob += (l[self.n][i]*self.count2[prefix][word])/ max(self.total2[prefix],1)\n",
    "        if i==3:\n",
    "          prob += (l[self.n][i]*self.count3[prefix][word])/ max(self.total3[prefix],1)\n",
    "        if i==4:\n",
    "          prob += (l[self.n][i]*self.count4[prefix][word])/ max(self.total4[prefix],1)\n",
    "      return prob\n",
    "  "
   ]
  },
  {
   "cell_type": "markdown",
   "metadata": {
    "colab_type": "text",
    "id": "fquEIc4Nkbr2"
   },
   "source": [
    "#### Results (showing $\\lambda_0,\\ldots,\\lambda_n$ values):"
   ]
  },
  {
   "cell_type": "code",
   "execution_count": null,
   "metadata": {
    "colab": {
     "base_uri": "https://localhost:8080/",
     "height": 187
    },
    "colab_type": "code",
    "id": "tp7jvEkykbr3",
    "jupyter": {
     "source_hidden": true
    },
    "outputId": "317af253-fdd5-4c9c-c411-b016a56eadb5"
   },
   "outputs": [
    {
     "name": "stdout",
     "output_type": "stream",
     "text": [
      "Vocab size: 33175\n",
      "The value of lambda: [0.009009009009009009, 0.09009009009009009, 0.9009009009009009]\n",
      "Baseline (Interpolation, n=2)) Train Perplexity: 83.113\n",
      "Baseline (Interpolation, n=2)) Valid Perplexity: 338.879\n",
      "The value of lambda: [0.007633587786259542, 0.07633587786259542, 0.7633587786259542, 0.15267175572519084]\n",
      "Baseline (Interpolation, n=3)) Train Perplexity: 23.235\n",
      "Baseline (Interpolation, n=3)) Valid Perplexity: 320.460\n",
      "The value of lambda: [0.007575757575757576, 0.07575757575757576, 0.7575757575757576, 0.15151515151515152, 0.007575757575757576]\n",
      "Baseline (Interpolation, n=4)) Train Perplexity: 18.167\n",
      "Baseline (Interpolation, n=4)) Valid Perplexity: 319.789\n"
     ]
    }
   ],
   "source": [
    "datasets, vocab = load_wikitext()\n",
    "for n in [2,3,4]:\n",
    "    lm1 = NGramInterpolation(n=n, vsize=len(vocab)+1)  # +1 is for <eos>\n",
    "    lm1.estimate(datasets['train'])\n",
    "\n",
    "    print(\"The value of lambda: {}\".format(l[n]))\n",
    "    print(\"Baseline (Interpolation, n=%d)) Train Perplexity: %.3f\" % (n,  perplexity(lm1, datasets['train'])))\n",
    "    print(\"Baseline (Interpolation, n=%d)) Valid Perplexity: %.3f\" % (n,  perplexity(lm1, datasets['valid'])))"
   ]
  },
  {
   "cell_type": "markdown",
   "metadata": {
    "colab_type": "text",
    "id": "D2u0pm5LPNAs"
   },
   "source": [
    "### I.2 Kenlm"
   ]
  },
  {
   "cell_type": "code",
   "execution_count": null,
   "metadata": {
    "colab": {},
    "colab_type": "code",
    "id": "oJXvwLHEO-8-",
    "jupyter": {
     "source_hidden": true
    }
   },
   "outputs": [],
   "source": [
    "class NGramkenlm(object):\n",
    "    def __init__(self, n, vsize):\n",
    "        self.n = n\n",
    "        self.count1 = defaultdict(float)\n",
    "        self.count2 = defaultdict(lambda: defaultdict(float))\n",
    "        self.total2 = defaultdict(float)\n",
    "        self.count3 = defaultdict(lambda: defaultdict(float))\n",
    "        self.total3 = defaultdict(float)\n",
    "        self.count4 = defaultdict(lambda: defaultdict(float))\n",
    "        self.total4 = defaultdict(float)\n",
    "        self.vsize = vsize\n",
    "\n",
    "    def estimate(self, sequences):\n",
    "      self.D=[[0 for _ in range(5)] for _ in range(5)]\n",
    "      for j in range(1,self.n+1):\n",
    "        for sequence in sequences:\n",
    "            padded_sequence = ['<bos>']*(j-1) + sequence + ['<eos>']\n",
    "            for i in range(len(padded_sequence) - j+1):\n",
    "                ngram = tuple(padded_sequence[i:i+j])\n",
    "                prefix, word = ngram[:-1], ngram[-1]\n",
    "                if j==1:self.count1[word] += 1\n",
    "                if j==2:self.count2[prefix][word] += 1\n",
    "                if j==3:self.count3[prefix][word] += 1\n",
    "                if j==4:self.count4[prefix][word] += 1\n",
    "                if j==2:self.total2[prefix] += 1\n",
    "                if j==3:self.total3[prefix] += 1\n",
    "                if j==4:self.total4[prefix] += 1\n",
    "        self.k=sum(list(self.count1.values()))\n",
    "        if j==2:\n",
    "          n=[]\n",
    "          for l in range(4):\n",
    "            n.append(len(self.filterTheDict(self.total2,lambda elem : elem[1]==(l+1))))\n",
    "          self.D[j][0]=n[0]/(n[0]+2*n[1])\n",
    "          self.D[j][1],self.D[j][2],self.D[j][3]=1-2*self.D[j][0]*(n[1]/n[0]),2-3*self.D[j][0]*(n[2]/n[1]),3-4*self.D[j][0]*(n[3]/n[2])\n",
    "        if j==3:\n",
    "          n=[]\n",
    "          for l in range(4):\n",
    "            n.append(len(self.filterTheDict(self.total3,lambda elem : elem[1]==(l+1))))\n",
    "          self.D[j][0]=n[0]/(n[0]+2*n[1])\n",
    "          self.D[j][1],self.D[j][2],self.D[j][3]=1-2*self.D[j][0]*(n[1]/n[0]),2-3*self.D[j][0]*(n[2]/n[1]),3-4*self.D[j][0]*(n[3]/n[2])\n",
    "        if j==4:\n",
    "          n=[]\n",
    "          for l in range(4):\n",
    "            n.append(len(self.filterTheDict(self.total4,lambda elem : elem[1]==(l+1))))\n",
    "          self.D[j][0]=n[0]/(n[0]+2*n[1])\n",
    "          self.D[j][1],self.D[j][2],self.D[j][3]=1-2*self.D[j][0]*(n[1]/n[0]),2-3*self.D[j][0]*(n[2]/n[1]),3-4*self.D[j][0]*(n[3]/n[2])\n",
    "        \n",
    "                \n",
    "    def sequence_logp(self, sequence):\n",
    "        padded_sequence = ['<bos>']*(self.n-1) + sequence + ['<eos>']\n",
    "        total_logp = 0\n",
    "        for i in range(len(padded_sequence) - self.n+1):\n",
    "            ngram = tuple(padded_sequence[i:i+self.n])\n",
    "            total_logp += np.log2(self.ngram_prob(ngram))\n",
    "        return total_logp\n",
    "\n",
    "    def filterTheDict(self,dictObj, callback):\n",
    "      newDict = {}\n",
    "    # Iterate over all the items in dictionary\n",
    "      for (key, value) in dictObj.items():\n",
    "        # Check if item satisfies the given condition then add to new dict\n",
    "          if callback((key, value)):\n",
    "              newDict[key] = value\n",
    "      return newDict\n",
    "\n",
    "    def ngram_prob(self, ngram):\n",
    "      def update_prob(count,total,i,prob):\n",
    "          c=count[prefix][word]\n",
    "          t=total[prefix]\n",
    "          if c>0:\n",
    "            alpha=(c-self.D[i][int(c) if c<3 else 3])/max(t,1)\n",
    "            prob=alpha\n",
    "          else:\n",
    "            N1=len(self.filterTheDict(count[prefix],lambda elem : int(elem[1])==1))\n",
    "            N2=len(self.filterTheDict(count[prefix],lambda elem : int(elem[1])==2))\n",
    "            N3=len(self.filterTheDict(count[prefix],lambda elem : int(elem[1])>=3))\n",
    "            sigma=(self.D[i][1]*N1+self.D[i][2]*N2+self.D[i][3]*N3)/max(t,1)\n",
    "            if sigma>0:\n",
    "              prob=sigma*prob \n",
    "          if prob==0:\n",
    "            print(c,N1,N2,N3)\n",
    "          return prob\n",
    "      for i in range(1,self.n+1):\n",
    "        prefix = ngram[-i:-1]\n",
    "        word = ngram[-1]\n",
    "        if i==1:\n",
    "          prob = self.count1[word]/self.k\n",
    "          if self.count1[word]==0:\n",
    "            prob=1/(self.vsize)\n",
    "        if i==2:\n",
    "          prob=update_prob(self.count2,self.total2,i,prob)\n",
    "        if i==3:\n",
    "          prob=update_prob(self.count3,self.total3,i,prob)\n",
    "        if i==4:\n",
    "          prob=update_prob(self.count4,self.total4,i,prob)\n",
    "      return prob"
   ]
  },
  {
   "cell_type": "markdown",
   "metadata": {
    "colab_type": "text",
    "id": "qzr8mJil3Ogy"
   },
   "source": [
    "#### Results"
   ]
  },
  {
   "cell_type": "code",
   "execution_count": null,
   "metadata": {
    "colab": {
     "base_uri": "https://localhost:8080/",
     "height": 136
    },
    "colab_type": "code",
    "id": "bGpsnegtPHV0",
    "outputId": "af6916d0-8c3a-4b11-a980-a6c20494b3e7"
   },
   "outputs": [
    {
     "name": "stdout",
     "output_type": "stream",
     "text": [
      "Vocab size: 33175\n",
      "Baseline (Interpolation, n=2)) Train Perplexity: 105.160\n",
      "Baseline (Interpolation, n=2)) Valid Perplexity: 344.829\n",
      "Baseline (Interpolation, n=3)) Train Perplexity: 18.874\n",
      "Baseline (Interpolation, n=3)) Valid Perplexity: 345.446\n",
      "Baseline (Interpolation, n=4)) Train Perplexity: 11.262\n",
      "Baseline (Interpolation, n=4)) Valid Perplexity: 377.080\n"
     ]
    }
   ],
   "source": [
    "datasets, vocab = load_wikitext()\n",
    "for n in [2,3,4]:\n",
    "    lm2 = NGramkenlm(n=n, vsize=len(vocab)+1)  # +1 is for <eos>\n",
    "    lm2.estimate(datasets['train'])\n",
    "\n",
    "    # print(\"The value of lambda: {}\".format(l[n]))\n",
    "    print(\"Baseline (Interpolation, n=%d)) Train Perplexity: %.3f\" % (n,  perplexity(lm2, datasets['train'])))\n",
    "    print(\"Baseline (Interpolation, n=%d)) Valid Perplexity: %.3f\" % (n,  perplexity(lm2, datasets['valid'])))"
   ]
  },
  {
   "cell_type": "markdown",
   "metadata": {
    "colab_type": "text",
    "id": "_oYZ254ekbr5"
   },
   "source": [
    "## II. Neural Language Modeling with a Recurrent Neural Network"
   ]
  },
  {
   "cell_type": "code",
   "execution_count": null,
   "metadata": {
    "colab": {},
    "colab_type": "code",
    "id": "aoEJHYcqkbr5"
   },
   "outputs": [],
   "source": [
    "import torch\n",
    "import torch.nn as nn\n",
    "try:\n",
    "    import tqdm\n",
    "except ImportError:\n",
    "    print('Installing the package, RESTART THIS CELL')\n",
    "    !{sys.executable} -m pip install tqdm\n",
    "from tqdm import tqdm"
   ]
  },
  {
   "cell_type": "markdown",
   "metadata": {
    "colab_type": "text",
    "id": "iRXA0sOTkbr7"
   },
   "source": [
    "#### Utilities\n",
    "\n",
    "(Hint: you can adopt the `Dictionary`, dataset loading, and training code from the lab for use here)"
   ]
  },
  {
   "cell_type": "code",
   "execution_count": null,
   "metadata": {
    "colab": {},
    "colab_type": "code",
    "id": "nNedIzIJkbr7",
    "jupyter": {
     "source_hidden": true
    }
   },
   "outputs": [],
   "source": [
    "# This cell is modified by the version of rnnlm.ipynb\n",
    "class Dictionary(object):\n",
    "    def __init__(self, datasets, include_valid=False):\n",
    "        self.tokens = []\n",
    "        self.ids = {}\n",
    "        self.counts = {}\n",
    "        \n",
    "        # add special tokens\n",
    "        self.add_token('<bos>')\n",
    "        self.add_token('<eos>')\n",
    "        self.add_token('<pad>')\n",
    "        self.add_token('<unk>')\n",
    "        \n",
    "        for line in tqdm(datasets['train']):\n",
    "            for w in line:\n",
    "                self.add_token(w)\n",
    "                    \n",
    "        if include_valid is True:\n",
    "            for line in tqdm(datasets['valid']):\n",
    "                for w in line:\n",
    "                    self.add_token(w)\n",
    "                            \n",
    "    def add_token(self, w):\n",
    "        if w not in self.tokens:\n",
    "            self.tokens.append(w)\n",
    "            _w_id = len(self.tokens) - 1\n",
    "            self.ids[w] = _w_id\n",
    "            self.counts[w] = 1\n",
    "        else:\n",
    "            self.counts[w] += 1\n",
    "\n",
    "    def get_id(self, w):\n",
    "        return self.ids[w]\n",
    "    \n",
    "    def get_token(self, idx):\n",
    "        return self.tokens[idx]\n",
    "    \n",
    "    def decode_idx_seq(self, l):\n",
    "        return [self.tokens[i] for i in l]\n",
    "    \n",
    "    def encode_token_seq(self, l):\n",
    "        return [self.ids[i] if i in self.ids else self.ids['<unk>'] for i in l]\n",
    "    \n",
    "    def __len__(self):\n",
    "        return len(self.tokens)"
   ]
  },
  {
   "cell_type": "code",
   "execution_count": null,
   "metadata": {
    "colab": {
     "base_uri": "https://localhost:8080/",
     "height": 52
    },
    "colab_type": "code",
    "id": "5mrBmcu-usYe",
    "outputId": "1b11fa3b-2161-4d65-f0f4-e6086043629f"
   },
   "outputs": [
    {
     "name": "stderr",
     "output_type": "stream",
     "text": [
      "100%|██████████| 78274/78274 [02:14<00:00, 580.13it/s]\n",
      "100%|██████████| 8464/8464 [00:10<00:00, 784.74it/s]\n"
     ]
    }
   ],
   "source": [
    "train_val_dictionary = Dictionary(datasets,include_valid=True)"
   ]
  },
  {
   "cell_type": "code",
   "execution_count": null,
   "metadata": {
    "colab": {},
    "colab_type": "code",
    "id": "ybNR07HEuxCf",
    "jupyter": {
     "source_hidden": true
    }
   },
   "outputs": [],
   "source": [
    "def tokenize_dataset(datasets, dictionary, ngram_order=2):\n",
    "    tokenized_datasets = {}\n",
    "    for split, dataset in datasets.items():\n",
    "        _current_dictified = []\n",
    "        for l in tqdm(dataset):\n",
    "            l = ['<bos>']*(ngram_order-1) + l + ['<eos>']\n",
    "            encoded_l = dictionary.encode_token_seq(l)\n",
    "            _current_dictified.append(encoded_l)\n",
    "        tokenized_datasets[split] = _current_dictified\n",
    "        \n",
    "    return tokenized_datasets"
   ]
  },
  {
   "cell_type": "code",
   "execution_count": null,
   "metadata": {
    "colab": {},
    "colab_type": "code",
    "id": "AUF822YAuzNi",
    "jupyter": {
     "source_hidden": true
    }
   },
   "outputs": [],
   "source": [
    "import torch\n",
    "from torch.utils.data import Dataset, RandomSampler, SequentialSampler, DataLoader\n",
    "\n",
    "# target is the shifted input sequence\n",
    "\n",
    "class TensoredDataset(Dataset):\n",
    "    def __init__(self, list_of_lists_of_tokens):\n",
    "        self.input_tensors = []\n",
    "        self.target_tensors = []\n",
    "        \n",
    "        for sample in list_of_lists_of_tokens:\n",
    "            # !!!! input: except the last token\n",
    "            self.input_tensors.append(torch.tensor([sample[:-1]], dtype=torch.long))\n",
    "            # !!!! output: start with 2nd token\n",
    "            self.target_tensors.append(torch.tensor([sample[1:]], dtype=torch.long))\n",
    "    \n",
    "    def __len__(self):\n",
    "        return len(self.input_tensors)\n",
    "    \n",
    "    def __getitem__(self, idx):\n",
    "        # return a (input, target) tuple\n",
    "        return (self.input_tensors[idx], self.target_tensors[idx])"
   ]
  },
  {
   "cell_type": "code",
   "execution_count": null,
   "metadata": {
    "colab": {},
    "colab_type": "code",
    "id": "ek0RndULu0FO",
    "jupyter": {
     "source_hidden": true
    }
   },
   "outputs": [],
   "source": [
    "def pad_list_of_tensors(list_of_tensors, pad_token):\n",
    "    max_length = max([t.size(-1) for t in list_of_tensors])\n",
    "    padded_list = []\n",
    "    \n",
    "    for t in list_of_tensors:\n",
    "        padded_tensor = torch.cat([t, torch.tensor([[pad_token]*(max_length - t.size(-1))], dtype=torch.long)], dim = -1)\n",
    "        padded_list.append(padded_tensor)\n",
    "        \n",
    "    padded_tensor = torch.cat(padded_list, dim=0)\n",
    "    \n",
    "    return padded_tensor\n",
    "\n",
    "def pad_collate_fn(batch):\n",
    "    # batch is a list of sample tuples\n",
    "    input_list = [s[0] for s in batch]\n",
    "    target_list = [s[1] for s in batch]\n",
    "    \n",
    "    #pad_token = persona_dict.get_id('<pad>')\n",
    "    pad_token = 2\n",
    "    \n",
    "    input_tensor = pad_list_of_tensors(input_list, pad_token)\n",
    "    target_tensor = pad_list_of_tensors(target_list, pad_token)\n",
    "    \n",
    "    return input_tensor, target_tensor"
   ]
  },
  {
   "cell_type": "code",
   "execution_count": null,
   "metadata": {
    "colab": {
     "base_uri": "https://localhost:8080/",
     "height": 138
    },
    "colab_type": "code",
    "collapsed": true,
    "id": "kBorbGUNu1_E",
    "jupyter": {
     "outputs_hidden": true,
     "source_hidden": true
    },
    "outputId": "0f5c460e-f555-41ba-8049-f2eb2a3a2de2"
   },
   "outputs": [
    {
     "name": "stderr",
     "output_type": "stream",
     "text": [
      "100%|██████████| 78274/78274 [00:00<00:00, 92978.00it/s]\n",
      "100%|██████████| 8464/8464 [00:00<00:00, 130732.20it/s]\n",
      "100%|██████████| 9708/9708 [00:00<00:00, 130484.38it/s]\n"
     ]
    },
    {
     "data": {
      "text/plain": [
       "(tensor([[ 0, 75, 26, 76, 77, 33, 78, 10, 79, 80, 20, 81, 82,  5,  6, 83, 84, 85,\n",
       "           4, 15, 86, 39]]),\n",
       " tensor([[75, 26, 76, 77, 33, 78, 10, 79, 80, 20, 81, 82,  5,  6, 83, 84, 85,  4,\n",
       "          15, 86, 39,  1]]))"
      ]
     },
     "execution_count": 10,
     "metadata": {
      "tags": []
     },
     "output_type": "execute_result"
    }
   ],
   "source": [
    "wiki_tokenized_datasets = tokenize_dataset(datasets, train_val_dictionary)\n",
    "wiki_tensor_dataset = {}\n",
    "\n",
    "for split, listoflists in wiki_tokenized_datasets.items():\n",
    "    wiki_tensor_dataset[split] = TensoredDataset(listoflists)\n",
    "    \n",
    "# check the first example\n",
    "wiki_tensor_dataset['train'][3]"
   ]
  },
  {
   "cell_type": "code",
   "execution_count": null,
   "metadata": {
    "colab": {},
    "colab_type": "code",
    "id": "3n9UvT6fSp3A",
    "jupyter": {
     "source_hidden": true
    }
   },
   "outputs": [],
   "source": [
    "wiki_loaders = {}\n",
    "\n",
    "batch_size = 32\n",
    "\n",
    "for split, wiki_dataset in wiki_tensor_dataset.items():\n",
    "    wiki_loaders[split] = DataLoader(wiki_dataset, batch_size=batch_size, shuffle=True, collate_fn=pad_collate_fn)"
   ]
  },
  {
   "cell_type": "code",
   "execution_count": null,
   "metadata": {
    "colab": {},
    "colab_type": "code",
    "id": "RtDuGnWkR6V0",
    "jupyter": {
     "source_hidden": true
    }
   },
   "outputs": [],
   "source": [
    "#Define the neural network\n",
    "import torch.nn as nn\n",
    "\n",
    "class RNNLanguageModel(nn.Module):\n",
    "    \"\"\"\n",
    "    This model combines embedding, rnn and projection layer into a single model\n",
    "    \"\"\"\n",
    "    def __init__(self, options):\n",
    "        super().__init__()\n",
    "        \n",
    "        # create each LM part here \n",
    "        self.lookup = nn.Embedding(num_embeddings=options['num_embeddings'], embedding_dim=options['embedding_dim'], padding_idx=options['padding_idx'])\n",
    "        self.rnn = nn.RNN(options['input_size'], options['hidden_size'], options['num_layers'], dropout=options['rnn_dropout'], batch_first=True)\n",
    "        self.projection = nn.Linear(options['hidden_size'], options['num_embeddings'])\n",
    "        \n",
    "    def forward(self, encoded_input_sequence):\n",
    "        \"\"\"\n",
    "        Forward method process the input from token ids to logits\n",
    "        \"\"\"\n",
    "        embeddings = self.lookup(encoded_input_sequence) # RNN naturely produce sequence embedding\n",
    "        \n",
    "        # it gives u [ outputs, last hidden layer of the last time step ] !!! Check DOC\n",
    "        rnn_outputs = self.rnn(embeddings)\n",
    " \n",
    "        logits = self.projection(rnn_outputs[0])\n",
    "        \n",
    "        return logits"
   ]
  },
  {
   "cell_type": "code",
   "execution_count": null,
   "metadata": {
    "colab": {},
    "colab_type": "code",
    "id": "G9CYvu0PR5oi",
    "jupyter": {
     "source_hidden": true
    }
   },
   "outputs": [],
   "source": [
    "# Specify hyper parameter and model\n",
    "import torch\n",
    "import torch.nn as nn\n",
    "import torch.optim as optim\n",
    "\n",
    "# creating a model, criterion and optimizer\n",
    "\n",
    "load_pretrained = False\n",
    "\n",
    "num_gpus = torch.cuda.device_count()\n",
    "if num_gpus > 0:\n",
    "    current_device = 'cuda'\n",
    "else:\n",
    "    current_device = 'cpu'\n",
    "\n",
    "if load_pretrained:\n",
    "    if not os.path.exists('wiki_rnn_lm.pt'):\n",
    "        raise EOFError('Download pretrained model!')\n",
    "    model_dict = torch.load('wiki_rnn_lm.pt')\n",
    "    \n",
    "    options = model_dict['options']\n",
    "    model = RNNLanguageModel(options).to(current_device)\n",
    "    model.load_state_dict(model_dict['model_dict'])\n",
    "    \n",
    "else:\n",
    "    hidden_size = 128 # output of RNN is hidden_size\n",
    "    embedding_dim = 64\n",
    "    rnn_dropout = 0.1\n",
    "    num_layers =  2\n",
    "    \n",
    "\n",
    "    options = {\n",
    "        'num_embeddings': len(train_val_dictionary),\n",
    "        'embedding_dim': embedding_dim,\n",
    "        'padding_idx': train_val_dictionary.get_id('<pad>'),\n",
    "        'input_size': embedding_dim,\n",
    "        'hidden_size': hidden_size,\n",
    "        'num_layers': num_layers,\n",
    "        'rnn_dropout': rnn_dropout,\n",
    "    }\n",
    "\n",
    "    \n",
    "\n",
    "    model = RNNLanguageModel(options).to(current_device)\n",
    "    \n",
    "# reduction = 'mean': the sum of the output will be divided by the number of elements in the output, 'sum': the output will be summed\n",
    "criterion = nn.CrossEntropyLoss(ignore_index=train_val_dictionary.get_id('<pad>'), reduction='sum')\n",
    "\n",
    "model_parameters = [p for p in model.parameters() if p.requires_grad]\n",
    "optimizer = optim.Adam(model_parameters, lr=0.001)\n"
   ]
  },
  {
   "cell_type": "code",
   "execution_count": null,
   "metadata": {
    "colab": {},
    "colab_type": "code",
    "id": "2GHR_YCePv5m",
    "jupyter": {
     "source_hidden": true
    }
   },
   "outputs": [],
   "source": [
    "# import early stopping\n",
    "# reference:https://github.com/Bjarten/early-stopping-pytorch/blob/master/pytorchtools.py\n",
    "class EarlyStopping:\n",
    "    \"\"\"Early stops the training if validation loss doesn't improve after a given patience.\"\"\"\n",
    "    def __init__(self, patience=7, verbose=False, delta=0):\n",
    "        \"\"\"\n",
    "        Args:\n",
    "            patience (int): How long to wait after last time validation loss improved.\n",
    "                            Default: 7\n",
    "            verbose (bool): If True, prints a message for each validation loss improvement. \n",
    "                            Default: False\n",
    "            delta (float): Minimum change in the monitored quantity to qualify as an improvement.\n",
    "                            Default: 0\n",
    "        \"\"\"\n",
    "        self.patience = patience\n",
    "        self.verbose = verbose\n",
    "        self.counter = 0\n",
    "        self.best_score = None\n",
    "        self.early_stop = False\n",
    "        self.val_loss_min = np.Inf\n",
    "        self.delta = delta\n",
    "\n",
    "    def __call__(self, val_loss, model):\n",
    "\n",
    "        score = -val_loss\n",
    "\n",
    "        if self.best_score is None:\n",
    "            self.best_score = score\n",
    "            self.save_checkpoint(val_loss, model)\n",
    "        elif score < self.best_score - self.delta:# if validation loss increase\n",
    "            self.counter += 1\n",
    "            print(f'EarlyStopping counter: {self.counter} out of {self.patience}')\n",
    "            if self.counter >= self.patience:\n",
    "                self.early_stop = True\n",
    "        else:\n",
    "            self.best_score = score\n",
    "            self.save_checkpoint(val_loss, model)\n",
    "            self.counter = 0\n",
    "\n",
    "    def save_checkpoint(self, val_loss, model):\n",
    "        '''Saves model when validation loss decrease.'''\n",
    "        if self.verbose:\n",
    "            print(f'Validation loss decreased ({self.val_loss_min:.6f} --> {val_loss:.6f}).  Saving model ...')\n",
    "        torch.save(model.state_dict(), 'checkpoint.pt')\n",
    "        self.val_loss_min = val_loss"
   ]
  },
  {
   "cell_type": "code",
   "execution_count": null,
   "metadata": {
    "colab": {},
    "colab_type": "code",
    "id": "wGcCzk36ViBU",
    "jupyter": {
     "source_hidden": true
    }
   },
   "outputs": [],
   "source": [
    "# initialize the early_stopping object\n",
    "patience = 5\n",
    "early_stopping = EarlyStopping(patience=patience, verbose=True)\n",
    "file_name = 'wiki_rnn_lm_EarlyStop_adam_pati{}_1002.pt'.format(patience)"
   ]
  },
  {
   "cell_type": "code",
   "execution_count": null,
   "metadata": {
    "colab": {},
    "colab_type": "code",
    "id": "S75urw2KAoEI",
    "jupyter": {
     "source_hidden": true
    }
   },
   "outputs": [],
   "source": [
    "plot_cache = []\n",
    "\n",
    "for epoch_number in range(100):\n",
    "    avg_loss = -1\n",
    "    if not load_pretrained:\n",
    "        # do train\n",
    "        model.train()\n",
    "    \n",
    "        train_loss_cache = 0\n",
    "        train_non_pad_tokens_cache = 0\n",
    "        \n",
    "        for i, (inp, target) in enumerate(wiki_loaders['train']):\n",
    "            # on each sample ! zero it\n",
    "            optimizer.zero_grad()\n",
    "            # put it to GPU\n",
    "            inp = inp.to(current_device)\n",
    "            target = target.to(current_device)\n",
    "            logits = model(inp)\n",
    "            \n",
    "            # flat the logit? Now in batch size?\n",
    "\n",
    "            loss = criterion(logits.view(-1, logits.size(-1)), target.view(-1))\n",
    "            train_loss_cache += loss.item()\n",
    "            \n",
    "            \n",
    "            ### HERE WE COMPUTE NUMBER OF NON_PAD TOKENS IN THE TARGET\n",
    "            non_pad_tokens = target.view(-1).ne(train_val_dictionary.get_id('<pad>')).sum().item()\n",
    "            train_non_pad_tokens_cache += non_pad_tokens\n",
    "            \n",
    "\n",
    "            loss /= non_pad_tokens  # very important to normalize your current loss before you run .backward()\n",
    "            \n",
    "            # gradient\n",
    "            loss.backward()\n",
    "            optimizer.step()\n",
    "            \n",
    "            \n",
    "            if i % 100 == 0:\n",
    "                avg_loss = train_loss_cache/train_non_pad_tokens_cache\n",
    "                print('Step {} avg train loss = {:.{prec}f}'.format(i, avg_loss, prec=4))\n",
    "            \n",
    "    #do valid\n",
    "    valid_loss_cache = 0\n",
    "    valid_non_pad_tokens_cache = 0\n",
    "    # make sure that your drop put is not used, for example\n",
    "    model.eval() \n",
    "    with torch.no_grad():\n",
    "        for i, (inp, target) in enumerate(wiki_loaders['valid']):\n",
    "            inp = inp.to(current_device)\n",
    "            target = target.to(current_device)\n",
    "            logits = model(inp)\n",
    "\n",
    "            loss = criterion(logits.view(-1, logits.size(-1)), target.view(-1))\n",
    "            valid_loss_cache += loss.item()\n",
    "             ### HERE WE COMPUTE NUMBER OF NON_PAD TOKENS IN THE TARGET\n",
    "            non_pad_tokens = target.view(-1).ne(train_val_dictionary.get_id('<pad>')).sum().item()\n",
    "            \n",
    "            valid_non_pad_tokens_cache += non_pad_tokens\n",
    "\n",
    "        avg_val_loss = valid_loss_cache / valid_non_pad_tokens_cache\n",
    "        print('Validation loss after {} epoch = {:.{prec}f}'.format(epoch_number, avg_val_loss, prec=4))\n",
    "        \n",
    "        # early_stopping needs the validation loss to check if it has decresed, \n",
    "        # and if it has, it will make a checkpoint of the current model\n",
    "        early_stopping(avg_val_loss, model)\n",
    "\n",
    "        if early_stopping.early_stop:\n",
    "            print(\"Early stopping\")\n",
    "            break\n",
    "            \n",
    "    plot_cache.append((avg_loss, avg_val_loss))"
   ]
  },
  {
   "cell_type": "code",
   "execution_count": null,
   "metadata": {
    "colab": {},
    "colab_type": "code",
    "id": "fmsgxs__U0gz",
    "jupyter": {
     "source_hidden": true
    }
   },
   "outputs": [],
   "source": [
    "# load the last checkpoint with the best model\n",
    "model.load_state_dict(torch.load('checkpoint.pt'))\n",
    "\n",
    "# save the checkpoint of the best model\n",
    "torch.save({\n",
    "    'options': options,\n",
    "    'loss_cache': plot_cache, # to print the loss curve\n",
    "    'model_dict': model.state_dict() # the parameter of the model\n",
    "}, './'+file_name)    "
   ]
  },
  {
   "cell_type": "code",
   "execution_count": null,
   "metadata": {
    "colab": {
     "base_uri": "https://localhost:8080/",
     "height": 281
    },
    "colab_type": "code",
    "collapsed": true,
    "id": "ppFxcYLhS7__",
    "jupyter": {
     "outputs_hidden": true,
     "source_hidden": true
    },
    "outputId": "e478cb01-f788-4be7-8ffc-f04739672fc6"
   },
   "outputs": [
    {
     "data": {
      "image/png": "[encoded data removed]",
      "text/plain": [
       "<Figure size 432x288 with 1 Axes>"
      ]
     },
     "metadata": {
      "tags": []
     },
     "output_type": "display_data"
    }
   ],
   "source": [
    "import matplotlib.pyplot as plt\n",
    "import numpy\n",
    "\n",
    "epochs = numpy.array(list(range(len(plot_cache))))\n",
    "plt.plot(epochs, [i[0] for i in plot_cache], label='Train loss')\n",
    "plt.plot(epochs, [i[1] for i in plot_cache], label='Valid loss')\n",
    "# find position of lowest validation loss\n",
    "valid_loss = [i[1] for i in plot_cache]\n",
    "minposs = valid_loss.index(min(valid_loss))\n",
    "plt.axvline(minposs, linestyle='--', color='r',label='Early Stopping Checkpoint')\n",
    "\n",
    "plt.legend()\n",
    "plt.title('Loss curves')\n",
    "plt.show()"
   ]
  },
  {
   "cell_type": "code",
   "execution_count": null,
   "metadata": {
    "colab": {
     "base_uri": "https://localhost:8080/",
     "height": 281
    },
    "colab_type": "code",
    "collapsed": true,
    "id": "soszUZyhTIpM",
    "jupyter": {
     "outputs_hidden": true,
     "source_hidden": true
    },
    "outputId": "570f48f0-6f2b-4535-ad5d-fbe9c752c595"
   },
   "outputs": [
    {
     "data": {
      "image/png": "[encoded data removed]",
      "text/plain": [
       "<Figure size 432x288 with 1 Axes>"
      ]
     },
     "metadata": {
      "tags": []
     },
     "output_type": "display_data"
    }
   ],
   "source": [
    "import matplotlib.pyplot as plt\n",
    "import numpy\n",
    "\n",
    "epochs = numpy.array(list(range(len(plot_cache))))\n",
    "plt.plot(epochs, [2**(i[0]/numpy.log(2)) for i in plot_cache], label='Train ppl')\n",
    "plt.plot(epochs, [2**(i[1]/numpy.log(2)) for i in plot_cache], label='Valid ppl')\n",
    "# find position of lowest validation loss\n",
    "valid_loss = [i[1] for i in plot_cache]\n",
    "minposs = valid_loss.index(min(valid_loss))\n",
    "plt.axvline(minposs, linestyle='--', color='r',label='Early Stopping Checkpoint')\n",
    "\n",
    "plt.legend()\n",
    "plt.title('PPL curves')\n",
    "plt.show()"
   ]
  },
  {
   "cell_type": "markdown",
   "metadata": {
    "colab_type": "text",
    "id": "tuLh8laD99Lr"
   },
   "source": [
    "#### RNN Baseline"
   ]
  },
  {
   "cell_type": "code",
   "execution_count": null,
   "metadata": {
    "colab": {
     "base_uri": "https://localhost:8080/",
     "height": 52
    },
    "colab_type": "code",
    "id": "9H6miuFwMnhd",
    "jupyter": {
     "source_hidden": true
    },
    "outputId": "a710c235-6ab7-44d5-c172-fe723ecacb9f"
   },
   "outputs": [
    {
     "name": "stdout",
     "output_type": "stream",
     "text": [
      "val loss: 5.332501461822781\n",
      "val ppl: 206.95501727964103\n"
     ]
    }
   ],
   "source": [
    "print('val loss:',min(valid_loss))\n",
    "print('val ppl:',2**(min(valid_loss)/numpy.log(2)))"
   ]
  },
  {
   "cell_type": "code",
   "execution_count": null,
   "metadata": {
    "colab": {
     "base_uri": "https://localhost:8080/",
     "height": 35
    },
    "colab_type": "code",
    "collapsed": true,
    "id": "d1mLibhDf0Pv",
    "jupyter": {
     "outputs_hidden": true,
     "source_hidden": true
    },
    "outputId": "4901eef4-43a1-4d8a-d447-cd2b3a431cfe"
   },
   "outputs": [
    {
     "data": {
      "text/plain": [
       "'./drive/My Drive/wiki_rnn_lm_EarlyStop_adam_pati5_1002.pt'"
      ]
     },
     "execution_count": 30,
     "metadata": {
      "tags": []
     },
     "output_type": "execute_result"
    }
   ],
   "source": [
    "# move checkpoint to google drive\n",
    "shutil.copy('./'+file_name, './drive/My Drive/'+file_name)"
   ]
  },
  {
   "cell_type": "markdown",
   "metadata": {
    "colab_type": "text",
    "id": "y7EUS0A4kbr9"
   },
   "source": [
    "### II.1 LSTM and Hyper-Parameters\n",
    "\n",
    "\n"
   ]
  },
  {
   "cell_type": "markdown",
   "metadata": {
    "colab_type": "text",
    "id": "L1tNDLlOvNDH"
   },
   "source": [
    "#### Hyper-parameters:\n",
    "\n",
    "embedding_size = 256\n",
    "    \n",
    "num_layers = 3\n",
    "\n",
    "**Dropout Rate:`[0.05, 0.1, 0.2, 0.3]`**\n",
    "\n",
    "**hidden_size:`[64, 128, 256, 512]`**"
   ]
  },
  {
   "cell_type": "code",
   "execution_count": null,
   "metadata": {
    "colab": {},
    "colab_type": "code",
    "id": "ey4cy7ffkbr-",
    "jupyter": {
     "source_hidden": true
    }
   },
   "outputs": [],
   "source": [
    "import torch.nn as nn\n",
    "\n",
    "class LSTMLanguageModel(nn.Module):\n",
    "    \"\"\"\n",
    "    This model combines embedding, LSTM, and projection layer into a single model.\n",
    "    \"\"\"\n",
    "    \n",
    "    def __init__(self, options):\n",
    "        super().__init__()\n",
    "        \n",
    "        # create each LM part here\n",
    "        self.lookup = nn.Embedding(num_embeddings=options['num_embeddings'],\n",
    "                                   embedding_dim=options['embedding_dim'], \n",
    "                                   padding_idx=options['padding_idx'])\n",
    "        self.lstm = nn.LSTM(options['input_size'], \n",
    "                            options['hidden_size'], \n",
    "                            options['num_layers'], \n",
    "                            dropout=options['rnn_dropout'], \n",
    "                            batch_first=True)\n",
    "        self.projection = nn.Linear(options['hidden_size'], \n",
    "                                    options['num_embeddings'])\n",
    "        \n",
    "    def forward(self, encoded_input_sequence):\n",
    "        \"\"\"\n",
    "        Forward method process the input from token ids to logits\n",
    "        \"\"\"\n",
    "        embeddings = self.lookup(encoded_input_sequence)\n",
    "        lstm_outputs = self.lstm(embeddings)\n",
    "\n",
    "        logits = self.projection(lstm_outputs[0]) ## This returns the output of LSTM, instead of the cell.\n",
    "        return logits"
   ]
  },
  {
   "cell_type": "code",
   "execution_count": null,
   "metadata": {
    "colab": {},
    "colab_type": "code",
    "id": "SaD-VgiXvdls",
    "jupyter": {
     "source_hidden": true
    }
   },
   "outputs": [],
   "source": [
    "import torch\n",
    "import torch.nn as nn\n",
    "import torch.optim as optim\n",
    "\n",
    "# creating a model, criterion and optimizer\n",
    "\n",
    "load_pretrained = False\n",
    "\n",
    "num_gpus = torch.cuda.device_count()\n",
    "\n",
    "if num_gpus > 0:\n",
    "    current_device = 'cuda'\n",
    "else:\n",
    "    current_device = 'cpu'\n",
    "\n",
    "if load_pretrained:\n",
    "    if not os.path.exists('wiki_lstm_lm.pt'):\n",
    "        raise EOFError('Download pretrained model!')\n",
    "    model_dict = torch.load('wiki_lstm_lm.pt')\n",
    "    \n",
    "    options = model_dict['options']\n",
    "    model = LSTMLanguageModel(options).to(current_device)\n",
    "    model.load_state_dict(model_dict['model_dict'])\n",
    "    \n",
    "else:\n",
    "    embedding_size = 256\n",
    "    hidden_size = 512 # output of RNN is hidden_size\n",
    "    num_layers = 3\n",
    "    rnn_dropout = 0.4\n",
    "\n",
    "    options = {\n",
    "        'num_embeddings': len(train_val_dictionary),\n",
    "        'embedding_dim': embedding_size,\n",
    "        'padding_idx': train_val_dictionary.get_id('<pad>'),\n",
    "        'input_size': embedding_size,\n",
    "        'hidden_size': hidden_size,\n",
    "        'num_layers': num_layers,\n",
    "        'rnn_dropout': rnn_dropout,\n",
    "    }\n",
    "\n",
    "    \n",
    "\n",
    "    model = LSTMLanguageModel(options).to(current_device)\n",
    "\n",
    "criterion = nn.CrossEntropyLoss(ignore_index=train_val_dictionary.get_id('<pad>'), reduction='sum')\n",
    "\n",
    "model_parameters = [p for p in model.parameters() if p.requires_grad]\n",
    "optimizer = optim.Adam(model_parameters, lr=0.001)"
   ]
  },
  {
   "cell_type": "code",
   "execution_count": null,
   "metadata": {
    "colab": {},
    "colab_type": "code",
    "id": "Vgx9Yayqvf-x",
    "jupyter": {
     "source_hidden": true
    }
   },
   "outputs": [],
   "source": [
    "# initialize the early_stopping object\n",
    "patience = 5\n",
    "early_stopping = EarlyStopping(patience=patience, verbose=True)\n",
    "file_name = 'wiki_LSTM_e{}_dp{}.pt'.format(embedding_size, rnn_dropout)"
   ]
  },
  {
   "cell_type": "code",
   "execution_count": null,
   "metadata": {
    "colab": {},
    "colab_type": "code",
    "id": "mNsXhZIfvh-G",
    "jupyter": {
     "source_hidden": true
    }
   },
   "outputs": [],
   "source": [
    "plot_cache = []\n",
    "\n",
    "for epoch_number in range(100):\n",
    "    avg_loss = -1\n",
    "    if not load_pretrained:\n",
    "        # do train\n",
    "        model.train()\n",
    "    \n",
    "        train_loss_cache = 0\n",
    "        train_non_pad_tokens_cache = 0\n",
    "        \n",
    "        for i, (inp, target) in enumerate(wiki_loaders['train']):\n",
    "            # on each sample ! zero it\n",
    "            optimizer.zero_grad()\n",
    "            # put it to GPU\n",
    "            inp = inp.to(current_device)\n",
    "            target = target.to(current_device)\n",
    "            logits = model(inp)\n",
    "            \n",
    "            # flat the logit? Now in batch size?\n",
    "\n",
    "            loss = criterion(logits.view(-1, logits.size(-1)), target.view(-1))\n",
    "            train_loss_cache += loss.item()\n",
    "            \n",
    "            \n",
    "            ### HERE WE COMPUTE NUMBER OF NON_PAD TOKENS IN THE TARGET\n",
    "            non_pad_tokens = target.view(-1).ne(train_val_dictionary.get_id('<pad>')).sum().item()\n",
    "            train_non_pad_tokens_cache += non_pad_tokens\n",
    "            \n",
    "\n",
    "            loss /= non_pad_tokens  # very important to normalize your current loss before you run .backward()\n",
    "            \n",
    "            # gradient\n",
    "            loss.backward()\n",
    "            optimizer.step()\n",
    "            \n",
    "            \n",
    "            if i % 100 == 0:\n",
    "                avg_loss = train_loss_cache/train_non_pad_tokens_cache\n",
    "                print('Step {} avg train loss = {:.{prec}f}'.format(i, avg_loss, prec=4))\n",
    "            \n",
    "    #do valid\n",
    "    valid_loss_cache = 0\n",
    "    valid_non_pad_tokens_cache = 0\n",
    "    # make sure that your drop put is not used, for example\n",
    "    model.eval() \n",
    "    with torch.no_grad():\n",
    "        for i, (inp, target) in enumerate(wiki_loaders['valid']):\n",
    "            inp = inp.to(current_device)\n",
    "            target = target.to(current_device)\n",
    "            logits = model(inp)\n",
    "\n",
    "            loss = criterion(logits.view(-1, logits.size(-1)), target.view(-1))\n",
    "            valid_loss_cache += loss.item()\n",
    "             ### HERE WE COMPUTE NUMBER OF NON_PAD TOKENS IN THE TARGET\n",
    "            non_pad_tokens = target.view(-1).ne(train_val_dictionary.get_id('<pad>')).sum().item()\n",
    "            \n",
    "            valid_non_pad_tokens_cache += non_pad_tokens\n",
    "\n",
    "        avg_val_loss = valid_loss_cache / valid_non_pad_tokens_cache\n",
    "        print('Validation loss after {} epoch = {:.{prec}f}'.format(epoch_number, avg_val_loss, prec=4))\n",
    "        \n",
    "        # early_stopping needs the validation loss to check if it has decresed, \n",
    "        # and if it has, it will make a checkpoint of the current model\n",
    "        early_stopping(avg_val_loss, model)\n",
    "\n",
    "        if early_stopping.early_stop:\n",
    "            print(\"Early stopping\")\n",
    "            break\n",
    "            \n",
    "    plot_cache.append((avg_loss, avg_val_loss))"
   ]
  },
  {
   "cell_type": "markdown",
   "metadata": {
    "colab_type": "text",
    "id": "9q8oDJhCkbsA"
   },
   "source": [
    "#### Results (LSTM vs. Baseline)"
   ]
  },
  {
   "cell_type": "markdown",
   "metadata": {
    "colab_type": "text",
    "id": "jJCvy92m4IQw"
   },
   "source": [
    "RNN Baseline:     \n",
    "val ppl: **206.96** \n",
    "\n",
    "LSTM:    \n",
    "val ppl: **172.52**\n"
   ]
  },
  {
   "cell_type": "markdown",
   "metadata": {
    "colab_type": "text",
    "id": "CgQ2AaDdkbsC"
   },
   "source": [
    "#### Performance Variation Based on Hyperparameter Values"
   ]
  },
  {
   "cell_type": "code",
   "execution_count": null,
   "metadata": {
    "colab": {},
    "colab_type": "code",
    "id": "0kJ2hmPVkbsA",
    "jupyter": {
     "source_hidden": true
    }
   },
   "outputs": [],
   "source": [
    "valid_loss,perplexity_loss=[[] for _ in range(4)],[[] for _ in range(4)]\n",
    "hidden_choice=[\"64\",\"128\",\"256\",\"512\"]\n",
    "dp=[\"0.05\",\"0.1\",\"0.2\",\"0.3\"]\n",
    "for i in range(4):\n",
    "  for j in range(4):\n",
    "    file_name = 'wiki_LSTM_hidden{}_dp{}.pt'.format(hidden_choice[j], rnn_dp[i])\n",
    "    checkpoint = torch.load(filename)\n",
    "    loss=checkpoint['loss_cache']\n",
    "    tvalid_loss=10000\n",
    "    for k in range(len(loss)):\n",
    "      tvalid_loss=min(loss[k][1],tvalid_loss)\n",
    "    valid_loss[i].append(tvalid_loss)\n",
    "    perplexity_loss[i].append(2**((tvalid_loss)/numpy.log(2)))"
   ]
  },
  {
   "cell_type": "code",
   "execution_count": 1,
   "metadata": {
    "colab": {},
    "colab_type": "code",
    "id": "T1xamWQPFVyg",
    "jupyter": {
     "source_hidden": true
    }
   },
   "outputs": [],
   "source": [
    "perplexity_loss=[[209.08,198.13,200.27,212.77],[196.69,192.99,194.98,196.03],[187.08,182.9,174.9,187.4],[182.44,180.64,179.93,172.52]]"
   ]
  },
  {
   "cell_type": "code",
   "execution_count": 2,
   "metadata": {
    "colab": {
     "base_uri": "https://localhost:8080/",
     "height": 379
    },
    "colab_type": "code",
    "id": "u65wPbASxr1V",
    "jupyter": {
     "source_hidden": true
    },
    "outputId": "f156aa17-c570-4443-d891-e35ab15868aa"
   },
   "outputs": [
    {
     "name": "stdout",
     "output_type": "stream",
     "text": [
      "Requirement already satisfied: mpld3 in /anaconda3/lib/python3.7/site-packages (0.3)\n"
     ]
    },
    {
     "data": {
      "image/png": "[encoded data removed]",
      "text/html": [
       "\n",
       "\n",
       "<style>\n",
       "\n",
       "</style>\n",
       "\n",
       "<div id=\"fig_el1536148044011367791077271\"></div>\n",
       "<script>\n",
       "function mpld3_load_lib(url, callback){\n",
       "  var s = document.createElement('script');\n",
       "  s.src = url;\n",
       "  s.async = true;\n",
       "  s.onreadystatechange = s.onload = callback;\n",
       "  s.onerror = function(){console.warn(\"failed to load library \" + url);};\n",
       "  document.getElementsByTagName(\"head\")[0].appendChild(s);\n",
       "}\n",
       "\n",
       "if(typeof(mpld3) !== \"undefined\" && mpld3._mpld3IsLoaded){\n",
       "   // already loaded: just create the figure\n",
       "   !function(mpld3){\n",
       "       \n",
       "       mpld3.draw_figure(\"fig_el1536148044011367791077271\", {\"width\": 480.0, \"height\": 320.0, \"axes\": [{\"bbox\": [0.125, 0.125, 0.775, 0.755], \"xlim\": [0.037500000000000006, 0.3125], \"ylim\": [170.50750000000002, 214.7825], \"xdomain\": [0.037500000000000006, 0.3125], \"ydomain\": [170.50750000000002, 214.7825], \"xscale\": \"linear\", \"yscale\": \"linear\", \"axes\": [{\"position\": \"bottom\", \"nticks\": 8, \"tickvalues\": null, \"tickformat\": null, \"scale\": \"linear\", \"fontsize\": 10.0, \"grid\": {\"gridOn\": true, \"color\": \"#CCCCCC\", \"dasharray\": \"none\", \"alpha\": 1.0}, \"visible\": true}, {\"position\": \"left\", \"nticks\": 10, \"tickvalues\": null, \"tickformat\": null, \"scale\": \"linear\", \"fontsize\": 10.0, \"grid\": {\"gridOn\": true, \"color\": \"#CCCCCC\", \"dasharray\": \"none\", \"alpha\": 1.0}, \"visible\": true}], \"axesbg\": \"#FFFFFF\", \"axesbgalpha\": null, \"zoomable\": true, \"id\": \"el153614817415528\", \"lines\": [{\"data\": \"data01\", \"xindex\": 0, \"yindex\": 1, \"coordinates\": \"data\", \"id\": \"el153614820613328\", \"color\": \"#40E0D0\", \"linewidth\": 1.5, \"dasharray\": \"5.550000000000001,2.4000000000000004\", \"alpha\": 1, \"zorder\": 2, \"drawstyle\": \"default\"}, {\"data\": \"data01\", \"xindex\": 0, \"yindex\": 2, \"coordinates\": \"data\", \"id\": \"el153614568689464\", \"color\": \"#008080\", \"linewidth\": 1.5, \"dasharray\": \"5.550000000000001,2.4000000000000004\", \"alpha\": 1, \"zorder\": 2, \"drawstyle\": \"default\"}, {\"data\": \"data01\", \"xindex\": 0, \"yindex\": 3, \"coordinates\": \"data\", \"id\": \"el153614820614448\", \"color\": \"#0000FF\", \"linewidth\": 1.5, \"dasharray\": \"5.550000000000001,2.4000000000000004\", \"alpha\": 1, \"zorder\": 2, \"drawstyle\": \"default\"}, {\"data\": \"data01\", \"xindex\": 0, \"yindex\": 4, \"coordinates\": \"data\", \"id\": \"el153614820614392\", \"color\": \"#00008B\", \"linewidth\": 1.5, \"dasharray\": \"5.550000000000001,2.4000000000000004\", \"alpha\": 1, \"zorder\": 2, \"drawstyle\": \"default\"}, {\"data\": \"data02\", \"xindex\": 0, \"yindex\": 1, \"coordinates\": \"axes\", \"id\": \"el153614746340896\", \"color\": \"#40E0D0\", \"linewidth\": 1.5, \"dasharray\": \"5.550000000000001,2.4000000000000004\", \"alpha\": 1, \"zorder\": 1000002.0, \"drawstyle\": \"default\"}, {\"data\": \"data02\", \"xindex\": 0, \"yindex\": 2, \"coordinates\": \"axes\", \"id\": \"el153614820724480\", \"color\": \"#008080\", \"linewidth\": 1.5, \"dasharray\": \"5.550000000000001,2.4000000000000004\", \"alpha\": 1, \"zorder\": 1000002.0, \"drawstyle\": \"default\"}, {\"data\": \"data02\", \"xindex\": 0, \"yindex\": 3, \"coordinates\": \"axes\", \"id\": \"el153614820725432\", \"color\": \"#0000FF\", \"linewidth\": 1.5, \"dasharray\": \"5.550000000000001,2.4000000000000004\", \"alpha\": 1, \"zorder\": 1000002.0, \"drawstyle\": \"default\"}, {\"data\": \"data02\", \"xindex\": 0, \"yindex\": 4, \"coordinates\": \"axes\", \"id\": \"el153614820788000\", \"color\": \"#00008B\", \"linewidth\": 1.5, \"dasharray\": \"5.550000000000001,2.4000000000000004\", \"alpha\": 1, \"zorder\": 1000002.0, \"drawstyle\": \"default\"}], \"paths\": [{\"data\": \"data04\", \"xindex\": 0, \"yindex\": 1, \"coordinates\": \"axes\", \"pathcodes\": [\"M\", \"L\", \"S\", \"L\", \"S\", \"L\", \"S\", \"L\", \"S\", \"Z\"], \"id\": \"el153614820723640\", \"dasharray\": \"none\", \"alpha\": 0.8, \"facecolor\": \"#FFFFFF\", \"edgecolor\": \"#CCCCCC\", \"edgewidth\": 1.0, \"zorder\": 1000000.0}], \"markers\": [{\"data\": \"data01\", \"xindex\": 0, \"yindex\": 1, \"coordinates\": \"data\", \"id\": \"el153614820613328pts\", \"facecolor\": \"#40E0D0\", \"edgecolor\": \"#40E0D0\", \"edgewidth\": 1.0, \"alpha\": 1, \"zorder\": 2, \"markerpath\": [[[0.0, 3.0], [0.7956093000000001, 3.0], [1.5587396123545605, 2.683901074764725], [2.121320343559643, 2.121320343559643], [2.683901074764725, 1.5587396123545605], [3.0, 0.7956093000000001], [3.0, 0.0], [3.0, -0.7956093000000001], [2.683901074764725, -1.5587396123545605], [2.121320343559643, -2.121320343559643], [1.5587396123545605, -2.683901074764725], [0.7956093000000001, -3.0], [0.0, -3.0], [-0.7956093000000001, -3.0], [-1.5587396123545605, -2.683901074764725], [-2.121320343559643, -2.121320343559643], [-2.683901074764725, -1.5587396123545605], [-3.0, -0.7956093000000001], [-3.0, 0.0], [-3.0, 0.7956093000000001], [-2.683901074764725, 1.5587396123545605], [-2.121320343559643, 2.121320343559643], [-1.5587396123545605, 2.683901074764725], [-0.7956093000000001, 3.0], [0.0, 3.0]], [\"M\", \"C\", \"C\", \"C\", \"C\", \"C\", \"C\", \"C\", \"C\", \"Z\"]]}, {\"data\": \"data01\", \"xindex\": 0, \"yindex\": 2, \"coordinates\": \"data\", \"id\": \"el153614568689464pts\", \"facecolor\": \"#008080\", \"edgecolor\": \"#008080\", \"edgewidth\": 1.0, \"alpha\": 1, \"zorder\": 2, \"markerpath\": [[[0.0, 3.0], [0.7956093000000001, 3.0], [1.5587396123545605, 2.683901074764725], [2.121320343559643, 2.121320343559643], [2.683901074764725, 1.5587396123545605], [3.0, 0.7956093000000001], [3.0, 0.0], [3.0, -0.7956093000000001], [2.683901074764725, -1.5587396123545605], [2.121320343559643, -2.121320343559643], [1.5587396123545605, -2.683901074764725], [0.7956093000000001, -3.0], [0.0, -3.0], [-0.7956093000000001, -3.0], [-1.5587396123545605, -2.683901074764725], [-2.121320343559643, -2.121320343559643], [-2.683901074764725, -1.5587396123545605], [-3.0, -0.7956093000000001], [-3.0, 0.0], [-3.0, 0.7956093000000001], [-2.683901074764725, 1.5587396123545605], [-2.121320343559643, 2.121320343559643], [-1.5587396123545605, 2.683901074764725], [-0.7956093000000001, 3.0], [0.0, 3.0]], [\"M\", \"C\", \"C\", \"C\", \"C\", \"C\", \"C\", \"C\", \"C\", \"Z\"]]}, {\"data\": \"data01\", \"xindex\": 0, \"yindex\": 3, \"coordinates\": \"data\", \"id\": \"el153614820614448pts\", \"facecolor\": \"#0000FF\", \"edgecolor\": \"#0000FF\", \"edgewidth\": 1.0, \"alpha\": 1, \"zorder\": 2, \"markerpath\": [[[0.0, 3.0], [0.7956093000000001, 3.0], [1.5587396123545605, 2.683901074764725], [2.121320343559643, 2.121320343559643], [2.683901074764725, 1.5587396123545605], [3.0, 0.7956093000000001], [3.0, 0.0], [3.0, -0.7956093000000001], [2.683901074764725, -1.5587396123545605], [2.121320343559643, -2.121320343559643], [1.5587396123545605, -2.683901074764725], [0.7956093000000001, -3.0], [0.0, -3.0], [-0.7956093000000001, -3.0], [-1.5587396123545605, -2.683901074764725], [-2.121320343559643, -2.121320343559643], [-2.683901074764725, -1.5587396123545605], [-3.0, -0.7956093000000001], [-3.0, 0.0], [-3.0, 0.7956093000000001], [-2.683901074764725, 1.5587396123545605], [-2.121320343559643, 2.121320343559643], [-1.5587396123545605, 2.683901074764725], [-0.7956093000000001, 3.0], [0.0, 3.0]], [\"M\", \"C\", \"C\", \"C\", \"C\", \"C\", \"C\", \"C\", \"C\", \"Z\"]]}, {\"data\": \"data01\", \"xindex\": 0, \"yindex\": 4, \"coordinates\": \"data\", \"id\": \"el153614820614392pts\", \"facecolor\": \"#00008B\", \"edgecolor\": \"#00008B\", \"edgewidth\": 1.0, \"alpha\": 1, \"zorder\": 2, \"markerpath\": [[[0.0, 3.0], [0.7956093000000001, 3.0], [1.5587396123545605, 2.683901074764725], [2.121320343559643, 2.121320343559643], [2.683901074764725, 1.5587396123545605], [3.0, 0.7956093000000001], [3.0, 0.0], [3.0, -0.7956093000000001], [2.683901074764725, -1.5587396123545605], [2.121320343559643, -2.121320343559643], [1.5587396123545605, -2.683901074764725], [0.7956093000000001, -3.0], [0.0, -3.0], [-0.7956093000000001, -3.0], [-1.5587396123545605, -2.683901074764725], [-2.121320343559643, -2.121320343559643], [-2.683901074764725, -1.5587396123545605], [-3.0, -0.7956093000000001], [-3.0, 0.0], [-3.0, 0.7956093000000001], [-2.683901074764725, 1.5587396123545605], [-2.121320343559643, 2.121320343559643], [-1.5587396123545605, 2.683901074764725], [-0.7956093000000001, 3.0], [0.0, 3.0]], [\"M\", \"C\", \"C\", \"C\", \"C\", \"C\", \"C\", \"C\", \"C\", \"Z\"]]}, {\"data\": \"data03\", \"xindex\": 0, \"yindex\": 1, \"coordinates\": \"axes\", \"id\": \"el153614820724592pts\", \"facecolor\": \"#40E0D0\", \"edgecolor\": \"#40E0D0\", \"edgewidth\": 1.0, \"alpha\": 1, \"zorder\": 1000002.0, \"markerpath\": [[[0.0, 3.0], [0.7956093000000001, 3.0], [1.5587396123545605, 2.683901074764725], [2.121320343559643, 2.121320343559643], [2.683901074764725, 1.5587396123545605], [3.0, 0.7956093000000001], [3.0, 0.0], [3.0, -0.7956093000000001], [2.683901074764725, -1.5587396123545605], [2.121320343559643, -2.121320343559643], [1.5587396123545605, -2.683901074764725], [0.7956093000000001, -3.0], [0.0, -3.0], [-0.7956093000000001, -3.0], [-1.5587396123545605, -2.683901074764725], [-2.121320343559643, -2.121320343559643], [-2.683901074764725, -1.5587396123545605], [-3.0, -0.7956093000000001], [-3.0, 0.0], [-3.0, 0.7956093000000001], [-2.683901074764725, 1.5587396123545605], [-2.121320343559643, 2.121320343559643], [-1.5587396123545605, 2.683901074764725], [-0.7956093000000001, 3.0], [0.0, 3.0]], [\"M\", \"C\", \"C\", \"C\", \"C\", \"C\", \"C\", \"C\", \"C\", \"Z\"]]}, {\"data\": \"data03\", \"xindex\": 0, \"yindex\": 2, \"coordinates\": \"axes\", \"id\": \"el153614820725544pts\", \"facecolor\": \"#008080\", \"edgecolor\": \"#008080\", \"edgewidth\": 1.0, \"alpha\": 1, \"zorder\": 1000002.0, \"markerpath\": [[[0.0, 3.0], [0.7956093000000001, 3.0], [1.5587396123545605, 2.683901074764725], [2.121320343559643, 2.121320343559643], [2.683901074764725, 1.5587396123545605], [3.0, 0.7956093000000001], [3.0, 0.0], [3.0, -0.7956093000000001], [2.683901074764725, -1.5587396123545605], [2.121320343559643, -2.121320343559643], [1.5587396123545605, -2.683901074764725], [0.7956093000000001, -3.0], [0.0, -3.0], [-0.7956093000000001, -3.0], [-1.5587396123545605, -2.683901074764725], [-2.121320343559643, -2.121320343559643], [-2.683901074764725, -1.5587396123545605], [-3.0, -0.7956093000000001], [-3.0, 0.0], [-3.0, 0.7956093000000001], [-2.683901074764725, 1.5587396123545605], [-2.121320343559643, 2.121320343559643], [-1.5587396123545605, 2.683901074764725], [-0.7956093000000001, 3.0], [0.0, 3.0]], [\"M\", \"C\", \"C\", \"C\", \"C\", \"C\", \"C\", \"C\", \"C\", \"Z\"]]}, {\"data\": \"data03\", \"xindex\": 0, \"yindex\": 3, \"coordinates\": \"axes\", \"id\": \"el153614820788112pts\", \"facecolor\": \"#0000FF\", \"edgecolor\": \"#0000FF\", \"edgewidth\": 1.0, \"alpha\": 1, \"zorder\": 1000002.0, \"markerpath\": [[[0.0, 3.0], [0.7956093000000001, 3.0], [1.5587396123545605, 2.683901074764725], [2.121320343559643, 2.121320343559643], [2.683901074764725, 1.5587396123545605], [3.0, 0.7956093000000001], [3.0, 0.0], [3.0, -0.7956093000000001], [2.683901074764725, -1.5587396123545605], [2.121320343559643, -2.121320343559643], [1.5587396123545605, -2.683901074764725], [0.7956093000000001, -3.0], [0.0, -3.0], [-0.7956093000000001, -3.0], [-1.5587396123545605, -2.683901074764725], [-2.121320343559643, -2.121320343559643], [-2.683901074764725, -1.5587396123545605], [-3.0, -0.7956093000000001], [-3.0, 0.0], [-3.0, 0.7956093000000001], [-2.683901074764725, 1.5587396123545605], [-2.121320343559643, 2.121320343559643], [-1.5587396123545605, 2.683901074764725], [-0.7956093000000001, 3.0], [0.0, 3.0]], [\"M\", \"C\", \"C\", \"C\", \"C\", \"C\", \"C\", \"C\", \"C\", \"Z\"]]}, {\"data\": \"data03\", \"xindex\": 0, \"yindex\": 4, \"coordinates\": \"axes\", \"id\": \"el153614820789176pts\", \"facecolor\": \"#00008B\", \"edgecolor\": \"#00008B\", \"edgewidth\": 1.0, \"alpha\": 1, \"zorder\": 1000002.0, \"markerpath\": [[[0.0, 3.0], [0.7956093000000001, 3.0], [1.5587396123545605, 2.683901074764725], [2.121320343559643, 2.121320343559643], [2.683901074764725, 1.5587396123545605], [3.0, 0.7956093000000001], [3.0, 0.0], [3.0, -0.7956093000000001], [2.683901074764725, -1.5587396123545605], [2.121320343559643, -2.121320343559643], [1.5587396123545605, -2.683901074764725], [0.7956093000000001, -3.0], [0.0, -3.0], [-0.7956093000000001, -3.0], [-1.5587396123545605, -2.683901074764725], [-2.121320343559643, -2.121320343559643], [-2.683901074764725, -1.5587396123545605], [-3.0, -0.7956093000000001], [-3.0, 0.0], [-3.0, 0.7956093000000001], [-2.683901074764725, 1.5587396123545605], [-2.121320343559643, 2.121320343559643], [-1.5587396123545605, 2.683901074764725], [-0.7956093000000001, 3.0], [0.0, 3.0]], [\"M\", \"C\", \"C\", \"C\", \"C\", \"C\", \"C\", \"C\", \"C\", \"Z\"]]}], \"texts\": [{\"text\": \"The effect of varying hyper-parameters\", \"position\": [0.5, 1.0275938189845475], \"coordinates\": \"axes\", \"h_anchor\": \"middle\", \"v_baseline\": \"auto\", \"rotation\": -0.0, \"fontsize\": 12.0, \"color\": \"#262626\", \"alpha\": 1, \"zorder\": 3, \"id\": \"el153614817747864\"}, {\"text\": \"Hidden size=64\", \"position\": [0.4300888590203108, 0.9254966887417218], \"coordinates\": \"axes\", \"h_anchor\": \"start\", \"v_baseline\": \"auto\", \"rotation\": -0.0, \"fontsize\": 10.0, \"color\": \"#262626\", \"alpha\": 1, \"zorder\": 1000003.0, \"id\": \"el153614820723976\"}, {\"text\": \"Hidden size=128\", \"position\": [0.4300888590203108, 0.8611111111111112], \"coordinates\": \"axes\", \"h_anchor\": \"start\", \"v_baseline\": \"auto\", \"rotation\": -0.0, \"fontsize\": 10.0, \"color\": \"#262626\", \"alpha\": 1, \"zorder\": 1000003.0, \"id\": \"el153614820724816\"}, {\"text\": \"Hidden size=256\", \"position\": [0.4300888590203108, 0.7967255334805003], \"coordinates\": \"axes\", \"h_anchor\": \"start\", \"v_baseline\": \"auto\", \"rotation\": -0.0, \"fontsize\": 10.0, \"color\": \"#262626\", \"alpha\": 1, \"zorder\": 1000003.0, \"id\": \"el153614820787328\"}, {\"text\": \"Hidden size=512\", \"position\": [0.4300888590203108, 0.7323399558498896], \"coordinates\": \"axes\", \"h_anchor\": \"start\", \"v_baseline\": \"auto\", \"rotation\": -0.0, \"fontsize\": 10.0, \"color\": \"#262626\", \"alpha\": 1, \"zorder\": 1000003.0, \"id\": \"el153614820788056\"}], \"collections\": [], \"images\": [], \"sharex\": [], \"sharey\": []}], \"data\": {\"data01\": [[0.05, 209.08, 196.69, 187.08, 182.44], [0.1, 198.13, 192.99, 182.9, 180.64], [0.2, 200.27, 194.98, 174.9, 179.93], [0.3, 212.77, 196.03, 187.4, 172.52]], \"data02\": [[0.34645683990442067, 0.9415930831493744, 0.8772075055187638, 0.812821927888153, 0.7484363502575423], [0.40619399641577075, 0.9415930831493744, 0.8772075055187638, 0.812821927888153, 0.7484363502575423]], \"data03\": [[0.3763254181600957, 0.9415930831493744, 0.8772075055187638, 0.812821927888153, 0.7484363502575423]], \"data04\": [[0.34048312425328564, 0.7056659308314938], [0.6595168757467146, 0.7056659308314938], [0.6654905913978496, 0.7056659308314938], [0.6654905913978496, 0.7148638704930096], [0.6654905913978496, 0.9678072111846947], [0.6654905913978496, 0.9770051508462105], [0.6595168757467146, 0.9770051508462105], [0.34048312425328564, 0.9770051508462105], [0.3345094086021506, 0.9770051508462105], [0.3345094086021506, 0.9678072111846947], [0.3345094086021506, 0.7148638704930096], [0.3345094086021506, 0.7056659308314938], [0.34048312425328564, 0.7056659308314938]]}, \"id\": \"el153614804401136\", \"plugins\": [{\"type\": \"reset\"}, {\"type\": \"zoom\", \"button\": true, \"enabled\": false}, {\"type\": \"boxzoom\", \"button\": true, \"enabled\": false}]});\n",
       "   }(mpld3);\n",
       "}else if(typeof define === \"function\" && define.amd){\n",
       "   // require.js is available: use it to load d3/mpld3\n",
       "   require.config({paths: {d3: \"https://mpld3.github.io/js/d3.v3.min\"}});\n",
       "   require([\"d3\"], function(d3){\n",
       "      window.d3 = d3;\n",
       "      mpld3_load_lib(\"https://mpld3.github.io/js/mpld3.v0.3.js\", function(){\n",
       "         \n",
       "         mpld3.draw_figure(\"fig_el1536148044011367791077271\", {\"width\": 480.0, \"height\": 320.0, \"axes\": [{\"bbox\": [0.125, 0.125, 0.775, 0.755], \"xlim\": [0.037500000000000006, 0.3125], \"ylim\": [170.50750000000002, 214.7825], \"xdomain\": [0.037500000000000006, 0.3125], \"ydomain\": [170.50750000000002, 214.7825], \"xscale\": \"linear\", \"yscale\": \"linear\", \"axes\": [{\"position\": \"bottom\", \"nticks\": 8, \"tickvalues\": null, \"tickformat\": null, \"scale\": \"linear\", \"fontsize\": 10.0, \"grid\": {\"gridOn\": true, \"color\": \"#CCCCCC\", \"dasharray\": \"none\", \"alpha\": 1.0}, \"visible\": true}, {\"position\": \"left\", \"nticks\": 10, \"tickvalues\": null, \"tickformat\": null, \"scale\": \"linear\", \"fontsize\": 10.0, \"grid\": {\"gridOn\": true, \"color\": \"#CCCCCC\", \"dasharray\": \"none\", \"alpha\": 1.0}, \"visible\": true}], \"axesbg\": \"#FFFFFF\", \"axesbgalpha\": null, \"zoomable\": true, \"id\": \"el153614817415528\", \"lines\": [{\"data\": \"data01\", \"xindex\": 0, \"yindex\": 1, \"coordinates\": \"data\", \"id\": \"el153614820613328\", \"color\": \"#40E0D0\", \"linewidth\": 1.5, \"dasharray\": \"5.550000000000001,2.4000000000000004\", \"alpha\": 1, \"zorder\": 2, \"drawstyle\": \"default\"}, {\"data\": \"data01\", \"xindex\": 0, \"yindex\": 2, \"coordinates\": \"data\", \"id\": \"el153614568689464\", \"color\": \"#008080\", \"linewidth\": 1.5, \"dasharray\": \"5.550000000000001,2.4000000000000004\", \"alpha\": 1, \"zorder\": 2, \"drawstyle\": \"default\"}, {\"data\": \"data01\", \"xindex\": 0, \"yindex\": 3, \"coordinates\": \"data\", \"id\": \"el153614820614448\", \"color\": \"#0000FF\", \"linewidth\": 1.5, \"dasharray\": \"5.550000000000001,2.4000000000000004\", \"alpha\": 1, \"zorder\": 2, \"drawstyle\": \"default\"}, {\"data\": \"data01\", \"xindex\": 0, \"yindex\": 4, \"coordinates\": \"data\", \"id\": \"el153614820614392\", \"color\": \"#00008B\", \"linewidth\": 1.5, \"dasharray\": \"5.550000000000001,2.4000000000000004\", \"alpha\": 1, \"zorder\": 2, \"drawstyle\": \"default\"}, {\"data\": \"data02\", \"xindex\": 0, \"yindex\": 1, \"coordinates\": \"axes\", \"id\": \"el153614746340896\", \"color\": \"#40E0D0\", \"linewidth\": 1.5, \"dasharray\": \"5.550000000000001,2.4000000000000004\", \"alpha\": 1, \"zorder\": 1000002.0, \"drawstyle\": \"default\"}, {\"data\": \"data02\", \"xindex\": 0, \"yindex\": 2, \"coordinates\": \"axes\", \"id\": \"el153614820724480\", \"color\": \"#008080\", \"linewidth\": 1.5, \"dasharray\": \"5.550000000000001,2.4000000000000004\", \"alpha\": 1, \"zorder\": 1000002.0, \"drawstyle\": \"default\"}, {\"data\": \"data02\", \"xindex\": 0, \"yindex\": 3, \"coordinates\": \"axes\", \"id\": \"el153614820725432\", \"color\": \"#0000FF\", \"linewidth\": 1.5, \"dasharray\": \"5.550000000000001,2.4000000000000004\", \"alpha\": 1, \"zorder\": 1000002.0, \"drawstyle\": \"default\"}, {\"data\": \"data02\", \"xindex\": 0, \"yindex\": 4, \"coordinates\": \"axes\", \"id\": \"el153614820788000\", \"color\": \"#00008B\", \"linewidth\": 1.5, \"dasharray\": \"5.550000000000001,2.4000000000000004\", \"alpha\": 1, \"zorder\": 1000002.0, \"drawstyle\": \"default\"}], \"paths\": [{\"data\": \"data04\", \"xindex\": 0, \"yindex\": 1, \"coordinates\": \"axes\", \"pathcodes\": [\"M\", \"L\", \"S\", \"L\", \"S\", \"L\", \"S\", \"L\", \"S\", \"Z\"], \"id\": \"el153614820723640\", \"dasharray\": \"none\", \"alpha\": 0.8, \"facecolor\": \"#FFFFFF\", \"edgecolor\": \"#CCCCCC\", \"edgewidth\": 1.0, \"zorder\": 1000000.0}], \"markers\": [{\"data\": \"data01\", \"xindex\": 0, \"yindex\": 1, \"coordinates\": \"data\", \"id\": \"el153614820613328pts\", \"facecolor\": \"#40E0D0\", \"edgecolor\": \"#40E0D0\", \"edgewidth\": 1.0, \"alpha\": 1, \"zorder\": 2, \"markerpath\": [[[0.0, 3.0], [0.7956093000000001, 3.0], [1.5587396123545605, 2.683901074764725], [2.121320343559643, 2.121320343559643], [2.683901074764725, 1.5587396123545605], [3.0, 0.7956093000000001], [3.0, 0.0], [3.0, -0.7956093000000001], [2.683901074764725, -1.5587396123545605], [2.121320343559643, -2.121320343559643], [1.5587396123545605, -2.683901074764725], [0.7956093000000001, -3.0], [0.0, -3.0], [-0.7956093000000001, -3.0], [-1.5587396123545605, -2.683901074764725], [-2.121320343559643, -2.121320343559643], [-2.683901074764725, -1.5587396123545605], [-3.0, -0.7956093000000001], [-3.0, 0.0], [-3.0, 0.7956093000000001], [-2.683901074764725, 1.5587396123545605], [-2.121320343559643, 2.121320343559643], [-1.5587396123545605, 2.683901074764725], [-0.7956093000000001, 3.0], [0.0, 3.0]], [\"M\", \"C\", \"C\", \"C\", \"C\", \"C\", \"C\", \"C\", \"C\", \"Z\"]]}, {\"data\": \"data01\", \"xindex\": 0, \"yindex\": 2, \"coordinates\": \"data\", \"id\": \"el153614568689464pts\", \"facecolor\": \"#008080\", \"edgecolor\": \"#008080\", \"edgewidth\": 1.0, \"alpha\": 1, \"zorder\": 2, \"markerpath\": [[[0.0, 3.0], [0.7956093000000001, 3.0], [1.5587396123545605, 2.683901074764725], [2.121320343559643, 2.121320343559643], [2.683901074764725, 1.5587396123545605], [3.0, 0.7956093000000001], [3.0, 0.0], [3.0, -0.7956093000000001], [2.683901074764725, -1.5587396123545605], [2.121320343559643, -2.121320343559643], [1.5587396123545605, -2.683901074764725], [0.7956093000000001, -3.0], [0.0, -3.0], [-0.7956093000000001, -3.0], [-1.5587396123545605, -2.683901074764725], [-2.121320343559643, -2.121320343559643], [-2.683901074764725, -1.5587396123545605], [-3.0, -0.7956093000000001], [-3.0, 0.0], [-3.0, 0.7956093000000001], [-2.683901074764725, 1.5587396123545605], [-2.121320343559643, 2.121320343559643], [-1.5587396123545605, 2.683901074764725], [-0.7956093000000001, 3.0], [0.0, 3.0]], [\"M\", \"C\", \"C\", \"C\", \"C\", \"C\", \"C\", \"C\", \"C\", \"Z\"]]}, {\"data\": \"data01\", \"xindex\": 0, \"yindex\": 3, \"coordinates\": \"data\", \"id\": \"el153614820614448pts\", \"facecolor\": \"#0000FF\", \"edgecolor\": \"#0000FF\", \"edgewidth\": 1.0, \"alpha\": 1, \"zorder\": 2, \"markerpath\": [[[0.0, 3.0], [0.7956093000000001, 3.0], [1.5587396123545605, 2.683901074764725], [2.121320343559643, 2.121320343559643], [2.683901074764725, 1.5587396123545605], [3.0, 0.7956093000000001], [3.0, 0.0], [3.0, -0.7956093000000001], [2.683901074764725, -1.5587396123545605], [2.121320343559643, -2.121320343559643], [1.5587396123545605, -2.683901074764725], [0.7956093000000001, -3.0], [0.0, -3.0], [-0.7956093000000001, -3.0], [-1.5587396123545605, -2.683901074764725], [-2.121320343559643, -2.121320343559643], [-2.683901074764725, -1.5587396123545605], [-3.0, -0.7956093000000001], [-3.0, 0.0], [-3.0, 0.7956093000000001], [-2.683901074764725, 1.5587396123545605], [-2.121320343559643, 2.121320343559643], [-1.5587396123545605, 2.683901074764725], [-0.7956093000000001, 3.0], [0.0, 3.0]], [\"M\", \"C\", \"C\", \"C\", \"C\", \"C\", \"C\", \"C\", \"C\", \"Z\"]]}, {\"data\": \"data01\", \"xindex\": 0, \"yindex\": 4, \"coordinates\": \"data\", \"id\": \"el153614820614392pts\", \"facecolor\": \"#00008B\", \"edgecolor\": \"#00008B\", \"edgewidth\": 1.0, \"alpha\": 1, \"zorder\": 2, \"markerpath\": [[[0.0, 3.0], [0.7956093000000001, 3.0], [1.5587396123545605, 2.683901074764725], [2.121320343559643, 2.121320343559643], [2.683901074764725, 1.5587396123545605], [3.0, 0.7956093000000001], [3.0, 0.0], [3.0, -0.7956093000000001], [2.683901074764725, -1.5587396123545605], [2.121320343559643, -2.121320343559643], [1.5587396123545605, -2.683901074764725], [0.7956093000000001, -3.0], [0.0, -3.0], [-0.7956093000000001, -3.0], [-1.5587396123545605, -2.683901074764725], [-2.121320343559643, -2.121320343559643], [-2.683901074764725, -1.5587396123545605], [-3.0, -0.7956093000000001], [-3.0, 0.0], [-3.0, 0.7956093000000001], [-2.683901074764725, 1.5587396123545605], [-2.121320343559643, 2.121320343559643], [-1.5587396123545605, 2.683901074764725], [-0.7956093000000001, 3.0], [0.0, 3.0]], [\"M\", \"C\", \"C\", \"C\", \"C\", \"C\", \"C\", \"C\", \"C\", \"Z\"]]}, {\"data\": \"data03\", \"xindex\": 0, \"yindex\": 1, \"coordinates\": \"axes\", \"id\": \"el153614820724592pts\", \"facecolor\": \"#40E0D0\", \"edgecolor\": \"#40E0D0\", \"edgewidth\": 1.0, \"alpha\": 1, \"zorder\": 1000002.0, \"markerpath\": [[[0.0, 3.0], [0.7956093000000001, 3.0], [1.5587396123545605, 2.683901074764725], [2.121320343559643, 2.121320343559643], [2.683901074764725, 1.5587396123545605], [3.0, 0.7956093000000001], [3.0, 0.0], [3.0, -0.7956093000000001], [2.683901074764725, -1.5587396123545605], [2.121320343559643, -2.121320343559643], [1.5587396123545605, -2.683901074764725], [0.7956093000000001, -3.0], [0.0, -3.0], [-0.7956093000000001, -3.0], [-1.5587396123545605, -2.683901074764725], [-2.121320343559643, -2.121320343559643], [-2.683901074764725, -1.5587396123545605], [-3.0, -0.7956093000000001], [-3.0, 0.0], [-3.0, 0.7956093000000001], [-2.683901074764725, 1.5587396123545605], [-2.121320343559643, 2.121320343559643], [-1.5587396123545605, 2.683901074764725], [-0.7956093000000001, 3.0], [0.0, 3.0]], [\"M\", \"C\", \"C\", \"C\", \"C\", \"C\", \"C\", \"C\", \"C\", \"Z\"]]}, {\"data\": \"data03\", \"xindex\": 0, \"yindex\": 2, \"coordinates\": \"axes\", \"id\": \"el153614820725544pts\", \"facecolor\": \"#008080\", \"edgecolor\": \"#008080\", \"edgewidth\": 1.0, \"alpha\": 1, \"zorder\": 1000002.0, \"markerpath\": [[[0.0, 3.0], [0.7956093000000001, 3.0], [1.5587396123545605, 2.683901074764725], [2.121320343559643, 2.121320343559643], [2.683901074764725, 1.5587396123545605], [3.0, 0.7956093000000001], [3.0, 0.0], [3.0, -0.7956093000000001], [2.683901074764725, -1.5587396123545605], [2.121320343559643, -2.121320343559643], [1.5587396123545605, -2.683901074764725], [0.7956093000000001, -3.0], [0.0, -3.0], [-0.7956093000000001, -3.0], [-1.5587396123545605, -2.683901074764725], [-2.121320343559643, -2.121320343559643], [-2.683901074764725, -1.5587396123545605], [-3.0, -0.7956093000000001], [-3.0, 0.0], [-3.0, 0.7956093000000001], [-2.683901074764725, 1.5587396123545605], [-2.121320343559643, 2.121320343559643], [-1.5587396123545605, 2.683901074764725], [-0.7956093000000001, 3.0], [0.0, 3.0]], [\"M\", \"C\", \"C\", \"C\", \"C\", \"C\", \"C\", \"C\", \"C\", \"Z\"]]}, {\"data\": \"data03\", \"xindex\": 0, \"yindex\": 3, \"coordinates\": \"axes\", \"id\": \"el153614820788112pts\", \"facecolor\": \"#0000FF\", \"edgecolor\": \"#0000FF\", \"edgewidth\": 1.0, \"alpha\": 1, \"zorder\": 1000002.0, \"markerpath\": [[[0.0, 3.0], [0.7956093000000001, 3.0], [1.5587396123545605, 2.683901074764725], [2.121320343559643, 2.121320343559643], [2.683901074764725, 1.5587396123545605], [3.0, 0.7956093000000001], [3.0, 0.0], [3.0, -0.7956093000000001], [2.683901074764725, -1.5587396123545605], [2.121320343559643, -2.121320343559643], [1.5587396123545605, -2.683901074764725], [0.7956093000000001, -3.0], [0.0, -3.0], [-0.7956093000000001, -3.0], [-1.5587396123545605, -2.683901074764725], [-2.121320343559643, -2.121320343559643], [-2.683901074764725, -1.5587396123545605], [-3.0, -0.7956093000000001], [-3.0, 0.0], [-3.0, 0.7956093000000001], [-2.683901074764725, 1.5587396123545605], [-2.121320343559643, 2.121320343559643], [-1.5587396123545605, 2.683901074764725], [-0.7956093000000001, 3.0], [0.0, 3.0]], [\"M\", \"C\", \"C\", \"C\", \"C\", \"C\", \"C\", \"C\", \"C\", \"Z\"]]}, {\"data\": \"data03\", \"xindex\": 0, \"yindex\": 4, \"coordinates\": \"axes\", \"id\": \"el153614820789176pts\", \"facecolor\": \"#00008B\", \"edgecolor\": \"#00008B\", \"edgewidth\": 1.0, \"alpha\": 1, \"zorder\": 1000002.0, \"markerpath\": [[[0.0, 3.0], [0.7956093000000001, 3.0], [1.5587396123545605, 2.683901074764725], [2.121320343559643, 2.121320343559643], [2.683901074764725, 1.5587396123545605], [3.0, 0.7956093000000001], [3.0, 0.0], [3.0, -0.7956093000000001], [2.683901074764725, -1.5587396123545605], [2.121320343559643, -2.121320343559643], [1.5587396123545605, -2.683901074764725], [0.7956093000000001, -3.0], [0.0, -3.0], [-0.7956093000000001, -3.0], [-1.5587396123545605, -2.683901074764725], [-2.121320343559643, -2.121320343559643], [-2.683901074764725, -1.5587396123545605], [-3.0, -0.7956093000000001], [-3.0, 0.0], [-3.0, 0.7956093000000001], [-2.683901074764725, 1.5587396123545605], [-2.121320343559643, 2.121320343559643], [-1.5587396123545605, 2.683901074764725], [-0.7956093000000001, 3.0], [0.0, 3.0]], [\"M\", \"C\", \"C\", \"C\", \"C\", \"C\", \"C\", \"C\", \"C\", \"Z\"]]}], \"texts\": [{\"text\": \"The effect of varying hyper-parameters\", \"position\": [0.5, 1.0275938189845475], \"coordinates\": \"axes\", \"h_anchor\": \"middle\", \"v_baseline\": \"auto\", \"rotation\": -0.0, \"fontsize\": 12.0, \"color\": \"#262626\", \"alpha\": 1, \"zorder\": 3, \"id\": \"el153614817747864\"}, {\"text\": \"Hidden size=64\", \"position\": [0.4300888590203108, 0.9254966887417218], \"coordinates\": \"axes\", \"h_anchor\": \"start\", \"v_baseline\": \"auto\", \"rotation\": -0.0, \"fontsize\": 10.0, \"color\": \"#262626\", \"alpha\": 1, \"zorder\": 1000003.0, \"id\": \"el153614820723976\"}, {\"text\": \"Hidden size=128\", \"position\": [0.4300888590203108, 0.8611111111111112], \"coordinates\": \"axes\", \"h_anchor\": \"start\", \"v_baseline\": \"auto\", \"rotation\": -0.0, \"fontsize\": 10.0, \"color\": \"#262626\", \"alpha\": 1, \"zorder\": 1000003.0, \"id\": \"el153614820724816\"}, {\"text\": \"Hidden size=256\", \"position\": [0.4300888590203108, 0.7967255334805003], \"coordinates\": \"axes\", \"h_anchor\": \"start\", \"v_baseline\": \"auto\", \"rotation\": -0.0, \"fontsize\": 10.0, \"color\": \"#262626\", \"alpha\": 1, \"zorder\": 1000003.0, \"id\": \"el153614820787328\"}, {\"text\": \"Hidden size=512\", \"position\": [0.4300888590203108, 0.7323399558498896], \"coordinates\": \"axes\", \"h_anchor\": \"start\", \"v_baseline\": \"auto\", \"rotation\": -0.0, \"fontsize\": 10.0, \"color\": \"#262626\", \"alpha\": 1, \"zorder\": 1000003.0, \"id\": \"el153614820788056\"}], \"collections\": [], \"images\": [], \"sharex\": [], \"sharey\": []}], \"data\": {\"data01\": [[0.05, 209.08, 196.69, 187.08, 182.44], [0.1, 198.13, 192.99, 182.9, 180.64], [0.2, 200.27, 194.98, 174.9, 179.93], [0.3, 212.77, 196.03, 187.4, 172.52]], \"data02\": [[0.34645683990442067, 0.9415930831493744, 0.8772075055187638, 0.812821927888153, 0.7484363502575423], [0.40619399641577075, 0.9415930831493744, 0.8772075055187638, 0.812821927888153, 0.7484363502575423]], \"data03\": [[0.3763254181600957, 0.9415930831493744, 0.8772075055187638, 0.812821927888153, 0.7484363502575423]], \"data04\": [[0.34048312425328564, 0.7056659308314938], [0.6595168757467146, 0.7056659308314938], [0.6654905913978496, 0.7056659308314938], [0.6654905913978496, 0.7148638704930096], [0.6654905913978496, 0.9678072111846947], [0.6654905913978496, 0.9770051508462105], [0.6595168757467146, 0.9770051508462105], [0.34048312425328564, 0.9770051508462105], [0.3345094086021506, 0.9770051508462105], [0.3345094086021506, 0.9678072111846947], [0.3345094086021506, 0.7148638704930096], [0.3345094086021506, 0.7056659308314938], [0.34048312425328564, 0.7056659308314938]]}, \"id\": \"el153614804401136\", \"plugins\": [{\"type\": \"reset\"}, {\"type\": \"zoom\", \"button\": true, \"enabled\": false}, {\"type\": \"boxzoom\", \"button\": true, \"enabled\": false}]});\n",
       "      });\n",
       "    });\n",
       "}else{\n",
       "    // require.js not available: dynamically load d3 & mpld3\n",
       "    mpld3_load_lib(\"https://mpld3.github.io/js/d3.v3.min.js\", function(){\n",
       "         mpld3_load_lib(\"https://mpld3.github.io/js/mpld3.v0.3.js\", function(){\n",
       "                 \n",
       "                 mpld3.draw_figure(\"fig_el1536148044011367791077271\", {\"width\": 480.0, \"height\": 320.0, \"axes\": [{\"bbox\": [0.125, 0.125, 0.775, 0.755], \"xlim\": [0.037500000000000006, 0.3125], \"ylim\": [170.50750000000002, 214.7825], \"xdomain\": [0.037500000000000006, 0.3125], \"ydomain\": [170.50750000000002, 214.7825], \"xscale\": \"linear\", \"yscale\": \"linear\", \"axes\": [{\"position\": \"bottom\", \"nticks\": 8, \"tickvalues\": null, \"tickformat\": null, \"scale\": \"linear\", \"fontsize\": 10.0, \"grid\": {\"gridOn\": true, \"color\": \"#CCCCCC\", \"dasharray\": \"none\", \"alpha\": 1.0}, \"visible\": true}, {\"position\": \"left\", \"nticks\": 10, \"tickvalues\": null, \"tickformat\": null, \"scale\": \"linear\", \"fontsize\": 10.0, \"grid\": {\"gridOn\": true, \"color\": \"#CCCCCC\", \"dasharray\": \"none\", \"alpha\": 1.0}, \"visible\": true}], \"axesbg\": \"#FFFFFF\", \"axesbgalpha\": null, \"zoomable\": true, \"id\": \"el153614817415528\", \"lines\": [{\"data\": \"data01\", \"xindex\": 0, \"yindex\": 1, \"coordinates\": \"data\", \"id\": \"el153614820613328\", \"color\": \"#40E0D0\", \"linewidth\": 1.5, \"dasharray\": \"5.550000000000001,2.4000000000000004\", \"alpha\": 1, \"zorder\": 2, \"drawstyle\": \"default\"}, {\"data\": \"data01\", \"xindex\": 0, \"yindex\": 2, \"coordinates\": \"data\", \"id\": \"el153614568689464\", \"color\": \"#008080\", \"linewidth\": 1.5, \"dasharray\": \"5.550000000000001,2.4000000000000004\", \"alpha\": 1, \"zorder\": 2, \"drawstyle\": \"default\"}, {\"data\": \"data01\", \"xindex\": 0, \"yindex\": 3, \"coordinates\": \"data\", \"id\": \"el153614820614448\", \"color\": \"#0000FF\", \"linewidth\": 1.5, \"dasharray\": \"5.550000000000001,2.4000000000000004\", \"alpha\": 1, \"zorder\": 2, \"drawstyle\": \"default\"}, {\"data\": \"data01\", \"xindex\": 0, \"yindex\": 4, \"coordinates\": \"data\", \"id\": \"el153614820614392\", \"color\": \"#00008B\", \"linewidth\": 1.5, \"dasharray\": \"5.550000000000001,2.4000000000000004\", \"alpha\": 1, \"zorder\": 2, \"drawstyle\": \"default\"}, {\"data\": \"data02\", \"xindex\": 0, \"yindex\": 1, \"coordinates\": \"axes\", \"id\": \"el153614746340896\", \"color\": \"#40E0D0\", \"linewidth\": 1.5, \"dasharray\": \"5.550000000000001,2.4000000000000004\", \"alpha\": 1, \"zorder\": 1000002.0, \"drawstyle\": \"default\"}, {\"data\": \"data02\", \"xindex\": 0, \"yindex\": 2, \"coordinates\": \"axes\", \"id\": \"el153614820724480\", \"color\": \"#008080\", \"linewidth\": 1.5, \"dasharray\": \"5.550000000000001,2.4000000000000004\", \"alpha\": 1, \"zorder\": 1000002.0, \"drawstyle\": \"default\"}, {\"data\": \"data02\", \"xindex\": 0, \"yindex\": 3, \"coordinates\": \"axes\", \"id\": \"el153614820725432\", \"color\": \"#0000FF\", \"linewidth\": 1.5, \"dasharray\": \"5.550000000000001,2.4000000000000004\", \"alpha\": 1, \"zorder\": 1000002.0, \"drawstyle\": \"default\"}, {\"data\": \"data02\", \"xindex\": 0, \"yindex\": 4, \"coordinates\": \"axes\", \"id\": \"el153614820788000\", \"color\": \"#00008B\", \"linewidth\": 1.5, \"dasharray\": \"5.550000000000001,2.4000000000000004\", \"alpha\": 1, \"zorder\": 1000002.0, \"drawstyle\": \"default\"}], \"paths\": [{\"data\": \"data04\", \"xindex\": 0, \"yindex\": 1, \"coordinates\": \"axes\", \"pathcodes\": [\"M\", \"L\", \"S\", \"L\", \"S\", \"L\", \"S\", \"L\", \"S\", \"Z\"], \"id\": \"el153614820723640\", \"dasharray\": \"none\", \"alpha\": 0.8, \"facecolor\": \"#FFFFFF\", \"edgecolor\": \"#CCCCCC\", \"edgewidth\": 1.0, \"zorder\": 1000000.0}], \"markers\": [{\"data\": \"data01\", \"xindex\": 0, \"yindex\": 1, \"coordinates\": \"data\", \"id\": \"el153614820613328pts\", \"facecolor\": \"#40E0D0\", \"edgecolor\": \"#40E0D0\", \"edgewidth\": 1.0, \"alpha\": 1, \"zorder\": 2, \"markerpath\": [[[0.0, 3.0], [0.7956093000000001, 3.0], [1.5587396123545605, 2.683901074764725], [2.121320343559643, 2.121320343559643], [2.683901074764725, 1.5587396123545605], [3.0, 0.7956093000000001], [3.0, 0.0], [3.0, -0.7956093000000001], [2.683901074764725, -1.5587396123545605], [2.121320343559643, -2.121320343559643], [1.5587396123545605, -2.683901074764725], [0.7956093000000001, -3.0], [0.0, -3.0], [-0.7956093000000001, -3.0], [-1.5587396123545605, -2.683901074764725], [-2.121320343559643, -2.121320343559643], [-2.683901074764725, -1.5587396123545605], [-3.0, -0.7956093000000001], [-3.0, 0.0], [-3.0, 0.7956093000000001], [-2.683901074764725, 1.5587396123545605], [-2.121320343559643, 2.121320343559643], [-1.5587396123545605, 2.683901074764725], [-0.7956093000000001, 3.0], [0.0, 3.0]], [\"M\", \"C\", \"C\", \"C\", \"C\", \"C\", \"C\", \"C\", \"C\", \"Z\"]]}, {\"data\": \"data01\", \"xindex\": 0, \"yindex\": 2, \"coordinates\": \"data\", \"id\": \"el153614568689464pts\", \"facecolor\": \"#008080\", \"edgecolor\": \"#008080\", \"edgewidth\": 1.0, \"alpha\": 1, \"zorder\": 2, \"markerpath\": [[[0.0, 3.0], [0.7956093000000001, 3.0], [1.5587396123545605, 2.683901074764725], [2.121320343559643, 2.121320343559643], [2.683901074764725, 1.5587396123545605], [3.0, 0.7956093000000001], [3.0, 0.0], [3.0, -0.7956093000000001], [2.683901074764725, -1.5587396123545605], [2.121320343559643, -2.121320343559643], [1.5587396123545605, -2.683901074764725], [0.7956093000000001, -3.0], [0.0, -3.0], [-0.7956093000000001, -3.0], [-1.5587396123545605, -2.683901074764725], [-2.121320343559643, -2.121320343559643], [-2.683901074764725, -1.5587396123545605], [-3.0, -0.7956093000000001], [-3.0, 0.0], [-3.0, 0.7956093000000001], [-2.683901074764725, 1.5587396123545605], [-2.121320343559643, 2.121320343559643], [-1.5587396123545605, 2.683901074764725], [-0.7956093000000001, 3.0], [0.0, 3.0]], [\"M\", \"C\", \"C\", \"C\", \"C\", \"C\", \"C\", \"C\", \"C\", \"Z\"]]}, {\"data\": \"data01\", \"xindex\": 0, \"yindex\": 3, \"coordinates\": \"data\", \"id\": \"el153614820614448pts\", \"facecolor\": \"#0000FF\", \"edgecolor\": \"#0000FF\", \"edgewidth\": 1.0, \"alpha\": 1, \"zorder\": 2, \"markerpath\": [[[0.0, 3.0], [0.7956093000000001, 3.0], [1.5587396123545605, 2.683901074764725], [2.121320343559643, 2.121320343559643], [2.683901074764725, 1.5587396123545605], [3.0, 0.7956093000000001], [3.0, 0.0], [3.0, -0.7956093000000001], [2.683901074764725, -1.5587396123545605], [2.121320343559643, -2.121320343559643], [1.5587396123545605, -2.683901074764725], [0.7956093000000001, -3.0], [0.0, -3.0], [-0.7956093000000001, -3.0], [-1.5587396123545605, -2.683901074764725], [-2.121320343559643, -2.121320343559643], [-2.683901074764725, -1.5587396123545605], [-3.0, -0.7956093000000001], [-3.0, 0.0], [-3.0, 0.7956093000000001], [-2.683901074764725, 1.5587396123545605], [-2.121320343559643, 2.121320343559643], [-1.5587396123545605, 2.683901074764725], [-0.7956093000000001, 3.0], [0.0, 3.0]], [\"M\", \"C\", \"C\", \"C\", \"C\", \"C\", \"C\", \"C\", \"C\", \"Z\"]]}, {\"data\": \"data01\", \"xindex\": 0, \"yindex\": 4, \"coordinates\": \"data\", \"id\": \"el153614820614392pts\", \"facecolor\": \"#00008B\", \"edgecolor\": \"#00008B\", \"edgewidth\": 1.0, \"alpha\": 1, \"zorder\": 2, \"markerpath\": [[[0.0, 3.0], [0.7956093000000001, 3.0], [1.5587396123545605, 2.683901074764725], [2.121320343559643, 2.121320343559643], [2.683901074764725, 1.5587396123545605], [3.0, 0.7956093000000001], [3.0, 0.0], [3.0, -0.7956093000000001], [2.683901074764725, -1.5587396123545605], [2.121320343559643, -2.121320343559643], [1.5587396123545605, -2.683901074764725], [0.7956093000000001, -3.0], [0.0, -3.0], [-0.7956093000000001, -3.0], [-1.5587396123545605, -2.683901074764725], [-2.121320343559643, -2.121320343559643], [-2.683901074764725, -1.5587396123545605], [-3.0, -0.7956093000000001], [-3.0, 0.0], [-3.0, 0.7956093000000001], [-2.683901074764725, 1.5587396123545605], [-2.121320343559643, 2.121320343559643], [-1.5587396123545605, 2.683901074764725], [-0.7956093000000001, 3.0], [0.0, 3.0]], [\"M\", \"C\", \"C\", \"C\", \"C\", \"C\", \"C\", \"C\", \"C\", \"Z\"]]}, {\"data\": \"data03\", \"xindex\": 0, \"yindex\": 1, \"coordinates\": \"axes\", \"id\": \"el153614820724592pts\", \"facecolor\": \"#40E0D0\", \"edgecolor\": \"#40E0D0\", \"edgewidth\": 1.0, \"alpha\": 1, \"zorder\": 1000002.0, \"markerpath\": [[[0.0, 3.0], [0.7956093000000001, 3.0], [1.5587396123545605, 2.683901074764725], [2.121320343559643, 2.121320343559643], [2.683901074764725, 1.5587396123545605], [3.0, 0.7956093000000001], [3.0, 0.0], [3.0, -0.7956093000000001], [2.683901074764725, -1.5587396123545605], [2.121320343559643, -2.121320343559643], [1.5587396123545605, -2.683901074764725], [0.7956093000000001, -3.0], [0.0, -3.0], [-0.7956093000000001, -3.0], [-1.5587396123545605, -2.683901074764725], [-2.121320343559643, -2.121320343559643], [-2.683901074764725, -1.5587396123545605], [-3.0, -0.7956093000000001], [-3.0, 0.0], [-3.0, 0.7956093000000001], [-2.683901074764725, 1.5587396123545605], [-2.121320343559643, 2.121320343559643], [-1.5587396123545605, 2.683901074764725], [-0.7956093000000001, 3.0], [0.0, 3.0]], [\"M\", \"C\", \"C\", \"C\", \"C\", \"C\", \"C\", \"C\", \"C\", \"Z\"]]}, {\"data\": \"data03\", \"xindex\": 0, \"yindex\": 2, \"coordinates\": \"axes\", \"id\": \"el153614820725544pts\", \"facecolor\": \"#008080\", \"edgecolor\": \"#008080\", \"edgewidth\": 1.0, \"alpha\": 1, \"zorder\": 1000002.0, \"markerpath\": [[[0.0, 3.0], [0.7956093000000001, 3.0], [1.5587396123545605, 2.683901074764725], [2.121320343559643, 2.121320343559643], [2.683901074764725, 1.5587396123545605], [3.0, 0.7956093000000001], [3.0, 0.0], [3.0, -0.7956093000000001], [2.683901074764725, -1.5587396123545605], [2.121320343559643, -2.121320343559643], [1.5587396123545605, -2.683901074764725], [0.7956093000000001, -3.0], [0.0, -3.0], [-0.7956093000000001, -3.0], [-1.5587396123545605, -2.683901074764725], [-2.121320343559643, -2.121320343559643], [-2.683901074764725, -1.5587396123545605], [-3.0, -0.7956093000000001], [-3.0, 0.0], [-3.0, 0.7956093000000001], [-2.683901074764725, 1.5587396123545605], [-2.121320343559643, 2.121320343559643], [-1.5587396123545605, 2.683901074764725], [-0.7956093000000001, 3.0], [0.0, 3.0]], [\"M\", \"C\", \"C\", \"C\", \"C\", \"C\", \"C\", \"C\", \"C\", \"Z\"]]}, {\"data\": \"data03\", \"xindex\": 0, \"yindex\": 3, \"coordinates\": \"axes\", \"id\": \"el153614820788112pts\", \"facecolor\": \"#0000FF\", \"edgecolor\": \"#0000FF\", \"edgewidth\": 1.0, \"alpha\": 1, \"zorder\": 1000002.0, \"markerpath\": [[[0.0, 3.0], [0.7956093000000001, 3.0], [1.5587396123545605, 2.683901074764725], [2.121320343559643, 2.121320343559643], [2.683901074764725, 1.5587396123545605], [3.0, 0.7956093000000001], [3.0, 0.0], [3.0, -0.7956093000000001], [2.683901074764725, -1.5587396123545605], [2.121320343559643, -2.121320343559643], [1.5587396123545605, -2.683901074764725], [0.7956093000000001, -3.0], [0.0, -3.0], [-0.7956093000000001, -3.0], [-1.5587396123545605, -2.683901074764725], [-2.121320343559643, -2.121320343559643], [-2.683901074764725, -1.5587396123545605], [-3.0, -0.7956093000000001], [-3.0, 0.0], [-3.0, 0.7956093000000001], [-2.683901074764725, 1.5587396123545605], [-2.121320343559643, 2.121320343559643], [-1.5587396123545605, 2.683901074764725], [-0.7956093000000001, 3.0], [0.0, 3.0]], [\"M\", \"C\", \"C\", \"C\", \"C\", \"C\", \"C\", \"C\", \"C\", \"Z\"]]}, {\"data\": \"data03\", \"xindex\": 0, \"yindex\": 4, \"coordinates\": \"axes\", \"id\": \"el153614820789176pts\", \"facecolor\": \"#00008B\", \"edgecolor\": \"#00008B\", \"edgewidth\": 1.0, \"alpha\": 1, \"zorder\": 1000002.0, \"markerpath\": [[[0.0, 3.0], [0.7956093000000001, 3.0], [1.5587396123545605, 2.683901074764725], [2.121320343559643, 2.121320343559643], [2.683901074764725, 1.5587396123545605], [3.0, 0.7956093000000001], [3.0, 0.0], [3.0, -0.7956093000000001], [2.683901074764725, -1.5587396123545605], [2.121320343559643, -2.121320343559643], [1.5587396123545605, -2.683901074764725], [0.7956093000000001, -3.0], [0.0, -3.0], [-0.7956093000000001, -3.0], [-1.5587396123545605, -2.683901074764725], [-2.121320343559643, -2.121320343559643], [-2.683901074764725, -1.5587396123545605], [-3.0, -0.7956093000000001], [-3.0, 0.0], [-3.0, 0.7956093000000001], [-2.683901074764725, 1.5587396123545605], [-2.121320343559643, 2.121320343559643], [-1.5587396123545605, 2.683901074764725], [-0.7956093000000001, 3.0], [0.0, 3.0]], [\"M\", \"C\", \"C\", \"C\", \"C\", \"C\", \"C\", \"C\", \"C\", \"Z\"]]}], \"texts\": [{\"text\": \"The effect of varying hyper-parameters\", \"position\": [0.5, 1.0275938189845475], \"coordinates\": \"axes\", \"h_anchor\": \"middle\", \"v_baseline\": \"auto\", \"rotation\": -0.0, \"fontsize\": 12.0, \"color\": \"#262626\", \"alpha\": 1, \"zorder\": 3, \"id\": \"el153614817747864\"}, {\"text\": \"Hidden size=64\", \"position\": [0.4300888590203108, 0.9254966887417218], \"coordinates\": \"axes\", \"h_anchor\": \"start\", \"v_baseline\": \"auto\", \"rotation\": -0.0, \"fontsize\": 10.0, \"color\": \"#262626\", \"alpha\": 1, \"zorder\": 1000003.0, \"id\": \"el153614820723976\"}, {\"text\": \"Hidden size=128\", \"position\": [0.4300888590203108, 0.8611111111111112], \"coordinates\": \"axes\", \"h_anchor\": \"start\", \"v_baseline\": \"auto\", \"rotation\": -0.0, \"fontsize\": 10.0, \"color\": \"#262626\", \"alpha\": 1, \"zorder\": 1000003.0, \"id\": \"el153614820724816\"}, {\"text\": \"Hidden size=256\", \"position\": [0.4300888590203108, 0.7967255334805003], \"coordinates\": \"axes\", \"h_anchor\": \"start\", \"v_baseline\": \"auto\", \"rotation\": -0.0, \"fontsize\": 10.0, \"color\": \"#262626\", \"alpha\": 1, \"zorder\": 1000003.0, \"id\": \"el153614820787328\"}, {\"text\": \"Hidden size=512\", \"position\": [0.4300888590203108, 0.7323399558498896], \"coordinates\": \"axes\", \"h_anchor\": \"start\", \"v_baseline\": \"auto\", \"rotation\": -0.0, \"fontsize\": 10.0, \"color\": \"#262626\", \"alpha\": 1, \"zorder\": 1000003.0, \"id\": \"el153614820788056\"}], \"collections\": [], \"images\": [], \"sharex\": [], \"sharey\": []}], \"data\": {\"data01\": [[0.05, 209.08, 196.69, 187.08, 182.44], [0.1, 198.13, 192.99, 182.9, 180.64], [0.2, 200.27, 194.98, 174.9, 179.93], [0.3, 212.77, 196.03, 187.4, 172.52]], \"data02\": [[0.34645683990442067, 0.9415930831493744, 0.8772075055187638, 0.812821927888153, 0.7484363502575423], [0.40619399641577075, 0.9415930831493744, 0.8772075055187638, 0.812821927888153, 0.7484363502575423]], \"data03\": [[0.3763254181600957, 0.9415930831493744, 0.8772075055187638, 0.812821927888153, 0.7484363502575423]], \"data04\": [[0.34048312425328564, 0.7056659308314938], [0.6595168757467146, 0.7056659308314938], [0.6654905913978496, 0.7056659308314938], [0.6654905913978496, 0.7148638704930096], [0.6654905913978496, 0.9678072111846947], [0.6654905913978496, 0.9770051508462105], [0.6595168757467146, 0.9770051508462105], [0.34048312425328564, 0.9770051508462105], [0.3345094086021506, 0.9770051508462105], [0.3345094086021506, 0.9678072111846947], [0.3345094086021506, 0.7148638704930096], [0.3345094086021506, 0.7056659308314938], [0.34048312425328564, 0.7056659308314938]]}, \"id\": \"el153614804401136\", \"plugins\": [{\"type\": \"reset\"}, {\"type\": \"zoom\", \"button\": true, \"enabled\": false}, {\"type\": \"boxzoom\", \"button\": true, \"enabled\": false}]});\n",
       "            })\n",
       "         });\n",
       "}\n",
       "</script>"
      ],
      "text/plain": [
       "<Figure size 480x320 with 1 Axes>"
      ]
     },
     "metadata": {},
     "output_type": "display_data"
    }
   ],
   "source": [
    "import matplotlib.pyplot as plt\n",
    "import numpy\n",
    "%matplotlib inline\n",
    "!pip install mpld3\n",
    "import mpld3\n",
    "mpld3.enable_notebook()\n",
    "plt.style.use('seaborn-whitegrid')\n",
    "plt.rcParams['figure.dpi'] = 80\n",
    "\n",
    "ax = numpy.array([0.05,0.1,0.2,0.3])\n",
    "plt.plot(ax, perplexity_loss[0], label='Hidden size=64',marker='o',linestyle='--',color=\"turquoise\")\n",
    "plt.plot(ax, perplexity_loss[1], label='Hidden size=128',marker='o',linestyle='--',color=\"teal\")\n",
    "plt.plot(ax, perplexity_loss[2], label='Hidden size=256',marker='o',linestyle='--',color=\"blue\")\n",
    "plt.plot(ax, perplexity_loss[3], label='Hidden size=512',marker='o',linestyle='--',color=\"darkblue\")\n",
    "#plt.axvline(ax[0],ymin=,ymax=, linestyle='--', color='r')\n",
    "#plt.axvline(ax[1],ymin=,ymax=, linestyle='--', color='r')\n",
    "#plt.axvline(ax[2],ymin=,ymax=, linestyle='--', color='r')\n",
    "#plt.axvline(ax[3],ymin=,ymax=, linestyle='--', color='r')\n",
    "\n",
    "plt.legend()\n",
    "plt.title('The effect of varying hyper-parameters')\n",
    "plt.show()"
   ]
  },
  {
   "cell_type": "markdown",
   "metadata": {
    "colab_type": "text",
    "id": "X4gI27yPd5I2"
   },
   "source": [
    "Include a brief (1-2 sentence) discussion of the results:\n",
    "\n",
    "We achieve the best validation loss in LSTM with **hidden size 512 and dropout rate 0.3**\n",
    ". From the plot above, we can see that the larger the hiddedn size, the better validation loss. The relationship between dropout rate and validation loss is \"U\" shape (noted that in dropout rate 0.4, LSTM with hiddedn size 512 achieve worse than 0.3 dropout rate) "
   ]
  },
  {
   "cell_type": "markdown",
   "metadata": {
    "colab_type": "text",
    "id": "HTnu43lLkbsE"
   },
   "source": [
    "### II.2 Learned Embeddings"
   ]
  },
  {
   "cell_type": "markdown",
   "metadata": {
    "colab_type": "text",
    "id": "m0jDhhK5kbsE"
   },
   "source": [
    "#### Utilities\n",
    "\n",
    "Below is code to use [UMAP](https://umap-learn.readthedocs.io/en/latest/) to find a 2-dimensional representation of a weight matrix, and plot the resulting 2-dimensional points that correspond to certain words.\n",
    "\n",
    "Use `!pip install umap-learn` to install UMAP."
   ]
  },
  {
   "cell_type": "code",
   "execution_count": null,
   "metadata": {
    "colab": {
     "base_uri": "https://localhost:8080/",
     "height": 107
    },
    "colab_type": "code",
    "collapsed": true,
    "id": "xdcfyXiWkbsF",
    "jupyter": {
     "outputs_hidden": true,
     "source_hidden": true
    },
    "outputId": "9bd8df95-9d80-4d7a-f231-b5acbf3e8dd7"
   },
   "outputs": [
    {
     "name": "stdout",
     "output_type": "stream",
     "text": [
      "Populating the interactive namespace from numpy and matplotlib\n"
     ]
    },
    {
     "name": "stderr",
     "output_type": "stream",
     "text": [
      "/usr/local/lib/python3.6/dist-packages/IPython/core/magics/pylab.py:161: UserWarning: pylab import has clobbered these variables: ['split']\n",
      "`%matplotlib` prevents importing * from pylab and numpy\n",
      "  \"\\n`%matplotlib` prevents importing * from pylab and numpy\"\n"
     ]
    }
   ],
   "source": [
    "%pylab inline \n",
    "import umap\n",
    "import matplotlib.pyplot as plt\n",
    "\n",
    "def umap_plot(weight_matrix, word_ids, words):\n",
    "    \"\"\"Run UMAP on the entire Vxd `weight_matrix` (e.g. model.lookup.weight or model.projection.weight),\n",
    "    And plot the points corresponding to the given `word_ids`. \"\"\"\n",
    "    reduced = umap.UMAP(min_dist=0.0001).fit_transform(weight_matrix.detach().cpu().numpy())\n",
    "    plt.figure(figsize=(20,20))\n",
    "\n",
    "    to_plot = reduced[word_ids, :]\n",
    "    plt.scatter(to_plot[:, 0], to_plot[:, 1])\n",
    "    for i, word_id in enumerate(word_ids):\n",
    "        current_point = to_plot[i]\n",
    "        plt.annotate(words[i], (current_point[0], current_point[1]))\n",
    "\n",
    "    plt.grid()\n",
    "    plt.show()"
   ]
  },
  {
   "cell_type": "code",
   "execution_count": null,
   "metadata": {
    "colab": {},
    "colab_type": "code",
    "id": "qsC_ghGrkbsH",
    "jupyter": {
     "source_hidden": true
    }
   },
   "outputs": [],
   "source": [
    "Vsize = 100                                 # e.g. len(dictionary)\n",
    "d = 32                                      # e.g. model.lookup.weight.size(1) \n",
    "fake_weight_matrix = torch.randn(Vsize, d)  # e.g. model.lookup.weight\n",
    "\n",
    "words = ['the', 'dog', 'ran']\n",
    "word_ids = [4, 54, 20]                  # e.g. use dictionary.get_id on a list of words\n",
    "\n",
    "umap_plot(fake_weight_matrix, word_ids, words)"
   ]
  },
  {
   "cell_type": "markdown",
   "metadata": {
    "colab_type": "text",
    "id": "Ztx3wFT2kbsI"
   },
   "source": [
    "#### II.2.1 Word Similarity"
   ]
  },
  {
   "cell_type": "code",
   "execution_count": null,
   "metadata": {
    "colab": {},
    "colab_type": "code",
    "id": "QcpOlGj8kbsJ",
    "jupyter": {
     "source_hidden": true
    }
   },
   "outputs": [],
   "source": [
    "# load the trained embedding:\n",
    "checkpoint = torch.load(\"./drive/My Drive/wiki_LSTM_emb256_dp0.3.pt\")\n",
    "model.load_state_dict(checkpoint['model_dict'])\n",
    "count=0\n",
    "for k in model.parameters():\n",
    "  if count==0:\n",
    "    LSTM_embedding = k\n",
    "  elif count==13:\n",
    "    Projection=k\n",
    "  count+=1\n",
    "# Choose a set of 5 words: {\"the\",\"run\",\"dog\",\"where\",\"quick\"}\n",
    "words_chosen=[\"the\",\"run\",\"dog\",\"where\",\"quick\"]"
   ]
  },
  {
   "cell_type": "code",
   "execution_count": null,
   "metadata": {
    "colab": {},
    "colab_type": "code",
    "id": "cHZ2dECzCc5A",
    "jupyter": {
     "source_hidden": true
    }
   },
   "outputs": [],
   "source": [
    "def find_similar(Embeddings,words_chosen):\n",
    "    words_chosen_id=[train_val_dictionary.get_id(i) for i in words_chosen]\n",
    "    count=0\n",
    "    words=words_chosen.copy()\n",
    "    words_id=words_chosen_id.copy()\n",
    "    for i in tqdm(words_chosen_id):\n",
    "      output = [[] for _ in range(len(Embeddings))]\n",
    "      for j in range(len(Embeddings)):\n",
    "        t1,t2=Embeddings[i],Embeddings[j]\n",
    "        k=torch.nn.functional.cosine_similarity(t1.view(1,len(t1)),t2.view(1,len(t2)))\n",
    "        output[j]+=[j,k]\n",
    "      output_cloest=sorted(output,key=lambda x: x[1],reverse=True)[1:11]\n",
    "      output_furthest=sorted(output,key=lambda x: x[1],reverse=False)[1:11]\n",
    "      word_cloest=[train_val_dictionary.get_token(x[0]) for x in output_cloest]      \n",
    "      word_furthest=[train_val_dictionary.get_token(x[0]) for x in output_furthest]\n",
    "      print(\"\\n10 most closet words of \"+words_chosen[count]+\" is:\")\n",
    "      print(\", \".join(word_cloest))\n",
    "      print(\"10 most furthest words of \"+words_chosen[count]+\" is:\")\n",
    "      print(\", \".join(word_furthest))\n",
    "      words+=word_cloest+word_furthest\n",
    "      words_id+=output_cloest+output_furthest\n",
    "      count+=1\n",
    "    return words,words_id\n"
   ]
  },
  {
   "cell_type": "markdown",
   "metadata": {
    "colab_type": "text",
    "id": "RlJC1tMi5z-g"
   },
   "source": [
    "##### Results"
   ]
  },
  {
   "cell_type": "code",
   "execution_count": null,
   "metadata": {
    "colab": {
     "base_uri": "https://localhost:8080/",
     "height": 904
    },
    "colab_type": "code",
    "id": "-D3lspDLQG-d",
    "jupyter": {
     "source_hidden": true
    },
    "outputId": "fd0e55a8-3c93-4485-a42d-a20c15841baa"
   },
   "outputs": [
    {
     "name": "stdout",
     "output_type": "stream",
     "text": [
      "\n",
      "For the:\n",
      "Embedding: 10 most cloest words for the is \n",
      "['independent', 'remedial', 'Shop', 'his', 'Volume', 'Prue', 'Hakim', 'vine', 'main', 'Abbot']\n",
      "Projection: 10 most cloest words for the is \n",
      "['a', 'an', 'his', 'their', 'her', 'this', 'its', 'it', 'both', 'The']\n",
      "Embedding: 10 most furthest words for the is \n",
      "['Influence', 'superiority', 'vertebrae', 'motives', '571', 'MacKay', 'creature', 'Peckhams', 'conducts', 'subjected']\n",
      "Projection: 10 most furthest words for the is \n",
      "['couple', 'essay', 'outbreak', 'benefice', 'catastrophe', 'asymptotic', 'angle', 'berm', 'doorway', 'Pizhi']\n",
      "\n",
      "For run:\n",
      "Embedding: 10 most cloest words for run is \n",
      "['29', 'Recently', 'striker', 'wickets', '1981', 'flick', 'ruled', 'adulatory', 'GPa', 'canceled']\n",
      "Projection: 10 most cloest words for run is \n",
      "['pass', 'shoot', 'strike', 'act', 'deal', 'defeat', 'transfer', 'move', 'kick', 'win']\n",
      "Embedding: 10 most furthest words for run is \n",
      "['Darryl', 'Dick', 'deserve', 'Millais', 'Tabernacle', '270', 'Weaver', 'Bohemond', 'Lynx', 'Schwimmer']\n",
      "Projection: 10 most furthest words for run is \n",
      "['and', 'a', 'for', ',', 'it', 'in', 'to', 'that', 'A', '<unk>']\n",
      "\n",
      "For dog:\n",
      "Embedding: 10 most cloest words for dog is \n",
      "['messages', 'Palestine', 'reminiscent', 'Genoa', 'Nesbitt', 'crowns', 'Tabernacle', 'Mysore', 'Antarctica', 'squeezed']\n",
      "Projection: 10 most cloest words for dog is \n",
      "['sensation', 'mood', 'dubious', 'witch', 'horns', 'demons', 'findings', 'enthusiasm', 'smart', 'telescope']\n",
      "Embedding: 10 most furthest words for dog is \n",
      "['Reala', 'Carlos', 'corrected', 'Mann', 'PAVN', 'slam', 'Clearing', 'contractors', 'leave', 'computational']\n",
      "Projection: 10 most furthest words for dog is \n",
      "['the', '\"', 'that', 'and', 'in', 'a', 'two', 'to', 'for', '(']\n",
      "\n",
      "For where:\n",
      "Embedding: 10 most cloest words for where is \n",
      "['imply', 'whom', 'beyond', 'earliest', 'Churches', 'whether', 'warn', 'treating', 'archaic', 'beside']\n",
      "Projection: 10 most cloest words for where is \n",
      "['which', 'whose', 'along', 'but', 'because', 'when', 'against', 'before', 'without', 'within']\n",
      "Embedding: 10 most furthest words for where is \n",
      "['clothesline', '<', 'Moreover', 'coefficient', 'Sawtooth', '1275', 'successive', 'attach', 'enlargement', 'Pagoda']\n",
      "Projection: 10 most furthest words for where is \n",
      "['two', 'game', 'series', 'first', 'second', 'year', 'song', '\"', 'British', 'name']\n",
      "\n",
      "For quick:\n",
      "Embedding: 10 most cloest words for quick is \n",
      "['miniature', 'Charleston', 'separating', 'Regarding', 'Live', 'fulfil', 'Emanuel', 'ceremonial', 'signaling', '1809']\n",
      "Projection: 10 most cloest words for quick is \n",
      "['psychological', 'illegal', 'lengthy', 'mere', 'fixed', 'experimental', 'supernova', 'thick', 'pregnant', 'swing']\n",
      "Embedding: 10 most furthest words for quick is \n",
      "['ceilings', 'calculators', 'agrees', 'maturity', 'Chaytor', 'exceedingly', 'swarm', 'Trương', 'Knox', 'ecoregion']\n",
      "Projection: 10 most furthest words for quick is \n",
      "['and', '\"', 'was', 'to', 'in', 'the', '<unk>', 'is', 'for', 'that']\n"
     ]
    }
   ],
   "source": [
    "words_chosen=[\"the\",\"run\",\"dog\",\"where\",\"quick\"]\n",
    "for i in range(len(words_chosen)):\n",
    "  print(\"\\nFor {}:\".format(words_chosen[i]))\n",
    "  print(\"Embedding: 10 most closest words for '{}' is \".format(words_chosen[i]))\n",
    "  print(words[(i*20+5):(i*20+15)])\n",
    "  print(\"Projection: 10 most closest words for '{}' is \".format(words_chosen[i]))\n",
    "  print(words2[(i*20+5):(i*20+15)])\n",
    "  print(\"Embedding: 10 most furthest words for '{}' is \".format(words_chosen[i]))\n",
    "  print(words[(i*20+15):(i*20+25)])\n",
    "  print(\"Projection: 10 most furthest words for '{}' is \".format(words_chosen[i]))\n",
    "  print(words2[(i*20+15):(i*20+25)])"
   ]
  },
  {
   "cell_type": "markdown",
   "metadata": {
    "colab_type": "text",
    "id": "QnPJPNmDkbsK"
   },
   "source": [
    "#### II.2.2 Embedding Layer"
   ]
  },
  {
   "cell_type": "code",
   "execution_count": null,
   "metadata": {
    "colab": {
     "base_uri": "https://localhost:8080/",
     "height": 488
    },
    "colab_type": "code",
    "id": "4HqPigMVIXet",
    "outputId": "e8e4f5f9-6606-4dfc-daa6-63b8b49f7f5e"
   },
   "outputs": [
    {
     "name": "stderr",
     "output_type": "stream",
     "text": [
      " 20%|██        | 1/5 [00:46<03:05, 46.45s/it]"
     ]
    },
    {
     "name": "stdout",
     "output_type": "stream",
     "text": [
      "\n",
      "10 most closet words of the is:\n",
      "independent, remedial, Shop, his, Volume, Prue, Hakim, vine, main, Abbot\n",
      "10 most furthest words of the is:\n",
      "Influence, superiority, vertebrae, motives, 571, MacKay, creature, Peckhams, conducts, subjected\n"
     ]
    },
    {
     "name": "stderr",
     "output_type": "stream",
     "text": [
      " 40%|████      | 2/5 [01:33<02:19, 46.64s/it]"
     ]
    },
    {
     "name": "stdout",
     "output_type": "stream",
     "text": [
      "\n",
      "10 most closet words of run is:\n",
      "29, Recently, striker, wickets, 1981, flick, ruled, adulatory, GPa, canceled\n",
      "10 most furthest words of run is:\n",
      "Darryl, Dick, deserve, Millais, Tabernacle, 270, Weaver, Bohemond, Lynx, Schwimmer\n"
     ]
    },
    {
     "name": "stderr",
     "output_type": "stream",
     "text": [
      " 60%|██████    | 3/5 [02:20<01:33, 46.71s/it]"
     ]
    },
    {
     "name": "stdout",
     "output_type": "stream",
     "text": [
      "\n",
      "10 most closet words of dog is:\n",
      "messages, Palestine, reminiscent, Genoa, Nesbitt, crowns, Tabernacle, Mysore, Antarctica, squeezed\n",
      "10 most furthest words of dog is:\n",
      "Reala, Carlos, corrected, Mann, PAVN, slam, Clearing, contractors, leave, computational\n"
     ]
    },
    {
     "name": "stderr",
     "output_type": "stream",
     "text": [
      " 80%|████████  | 4/5 [03:07<00:46, 46.79s/it]"
     ]
    },
    {
     "name": "stdout",
     "output_type": "stream",
     "text": [
      "\n",
      "10 most closet words of where is:\n",
      "imply, whom, beyond, earliest, Churches, whether, warn, treating, archaic, beside\n",
      "10 most furthest words of where is:\n",
      "clothesline, <, Moreover, coefficient, Sawtooth, 1275, successive, attach, enlargement, Pagoda\n"
     ]
    },
    {
     "name": "stderr",
     "output_type": "stream",
     "text": [
      "100%|██████████| 5/5 [03:55<00:00, 47.15s/it]"
     ]
    },
    {
     "name": "stdout",
     "output_type": "stream",
     "text": [
      "\n",
      "10 most closet words of quick is:\n",
      "miniature, Charleston, separating, Regarding, Live, fulfil, Emanuel, ceremonial, signaling, 1809\n",
      "10 most furthest words of quick is:\n",
      "ceilings, calculators, agrees, maturity, Chaytor, exceedingly, swarm, Trương, Knox, ecoregion\n"
     ]
    },
    {
     "name": "stderr",
     "output_type": "stream",
     "text": [
      "\n"
     ]
    }
   ],
   "source": [
    "words,words_id=find_similar(LSTM_embedding,words_chosen)"
   ]
  },
  {
   "cell_type": "code",
   "execution_count": null,
   "metadata": {
    "colab": {},
    "colab_type": "code",
    "id": "tN93ncIK3pWT",
    "jupyter": {
     "source_hidden": true
    }
   },
   "outputs": [],
   "source": [
    "import pickle\n",
    "#with open(\"./drive/My Drive/words.txt\", \"wb\") as fp:   #Pickling\n",
    " # pickle.dump(words, fp)\n",
    "#with open(\"./drive/My Drive/words_id.txt\", \"wb\") as fp:   #Pickling\n",
    " # pickle.dump(words_id, fp)\n",
    "with open(\"./drive/My Drive/words.txt\", \"rb\") as fp:   # Unpickling\n",
    "  words = pickle.load(fp)\n",
    "with open(\"./drive/My Drive/words_id.txt\", \"rb\") as fp:   # Unpickling\n",
    "  words_id = pickle.load(fp)"
   ]
  },
  {
   "cell_type": "code",
   "execution_count": null,
   "metadata": {
    "colab": {
     "base_uri": "https://localhost:8080/",
     "height": 35
    },
    "colab_type": "code",
    "collapsed": true,
    "id": "xLwaZnZEkbsL",
    "jupyter": {
     "outputs_hidden": true,
     "source_hidden": true
    },
    "outputId": "4a1567d3-754b-426a-c1be-a585429d6234"
   },
   "outputs": [
    {
     "name": "stdout",
     "output_type": "stream",
     "text": [
      "Populating the interactive namespace from numpy and matplotlib\n"
     ]
    }
   ],
   "source": [
    "%pylab inline \n",
    "try:\n",
    "  import umap\n",
    "except ImportError:\n",
    "  print('Installing the package, RESTART THIS CELL')\n",
    "  !pip install umap-learn\n",
    "import matplotlib.pyplot as plt\n",
    "\n",
    "plt.style.use('seaborn-whitegrid')\n",
    "\n",
    "def umap_plot(weight_matrix, word_ids, words):\n",
    "    \"\"\"Run UMAP on the entire Vxd `weight_matrix` (e.g. model.lookup.weight or model.projection.weight),\n",
    "    And plot the points corresponding to the given `word_ids`. \"\"\"\n",
    "    reduced = umap.UMAP(min_dist=0.0001).fit_transform(weight_matrix.detach().cpu().numpy())\n",
    "    plt.figure(figsize=(8,8))\n",
    "    plt.style.use(\"ggplot\")\n",
    "    to_plot = reduced[word_ids, :]\n",
    "    plt.scatter(to_plot[:, 0], to_plot[:, 1],color=\"navy\")\n",
    "    color=[\"teal\",\"blue\",\"green\",\"indigo\",\"black\"]\n",
    "    for i, word_id in enumerate(word_ids):\n",
    "        current_point = to_plot[i]\n",
    "        if (i>=5 and i<=24) or i==0:\n",
    "          plt.annotate(words[i], (current_point[0], current_point[1]),color=color[0])\n",
    "        if (i>=25 and i<=44) or i==1:\n",
    "          plt.annotate(words[i], (current_point[0], current_point[1]),color=color[1])\n",
    "        if (i>=45 and i<=64) or i==2:\n",
    "          plt.annotate(words[i], (current_point[0], current_point[1]),color=color[2])\n",
    "        if (i>=65 and i<=84) or i==3:\n",
    "          plt.annotate(words[i], (current_point[0], current_point[1]),color=color[3])\n",
    "        if (i>=85 and i<=104) or i==4:\n",
    "          plt.annotate(words[i], (current_point[0], current_point[1]),color=color[4])\n",
    "\n",
    "    plt.grid()\n",
    "    plt.show()"
   ]
  },
  {
   "cell_type": "code",
   "execution_count": null,
   "metadata": {
    "colab": {},
    "colab_type": "code",
    "id": "ckq617QeT25B",
    "jupyter": {
     "source_hidden": true
    }
   },
   "outputs": [],
   "source": [
    "words_id_n=[]\n",
    "for i in range(len(words_id)):\n",
    "  if not isinstance(words_id[i],int):\n",
    "    words_id_n.append(words_id[i][0])\n",
    "  else:\n",
    "    words_id_n.append(words_id[i])"
   ]
  },
  {
   "cell_type": "markdown",
   "metadata": {
    "colab_type": "text",
    "id": "A3uEsnGD5arl"
   },
   "source": [
    "##### Results"
   ]
  },
  {
   "cell_type": "code",
   "execution_count": null,
   "metadata": {
    "colab": {
     "base_uri": "https://localhost:8080/",
     "height": 635
    },
    "colab_type": "code",
    "id": "j4GGP08TIUST",
    "jupyter": {
     "source_hidden": true
    },
    "outputId": "3a112e5e-59fc-4a4b-cc3d-e5ebc3a9ba4a"
   },
   "outputs": [
    {
     "name": "stdout",
     "output_type": "stream",
     "text": [
      "Requirement already satisfied: mpld3 in /usr/local/lib/python3.6/dist-packages (0.3.1.dev1)\n"
     ]
    },
    {
     "data": {
      "image/png": "[encoded data removed]",
      "text/html": [
       "\n",
       "\n",
       "<style>\n",
       "\n",
       "</style>\n",
       "\n",
       "<div id=\"fig_el1221401908219262802636912322\"></div>\n",
       "<script>\n",
       "function mpld3_load_lib(url, callback){\n",
       "  var s = document.createElement('script');\n",
       "  s.src = url;\n",
       "  s.async = true;\n",
       "  s.onreadystatechange = s.onload = callback;\n",
       "  s.onerror = function(){console.warn(\"failed to load library \" + url);};\n",
       "  document.getElementsByTagName(\"head\")[0].appendChild(s);\n",
       "}\n",
       "\n",
       "if(typeof(mpld3) !== \"undefined\" && mpld3._mpld3IsLoaded){\n",
       "   // already loaded: just create the figure\n",
       "   !function(mpld3){\n",
       "       \n",
       "       mpld3.draw_figure(\"fig_el1221401908219262802636912322\", {\"width\": 576.0, \"height\": 576.0, \"axes\": [{\"bbox\": [0.125, 0.125, 0.775, 0.775], \"xlim\": [-2.0, 3.0], \"ylim\": [-3.0, 3.0], \"xdomain\": [-2.0, 3.0], \"ydomain\": [-3.0, 3.0], \"xscale\": \"linear\", \"yscale\": \"linear\", \"axes\": [{\"position\": \"bottom\", \"nticks\": 6, \"tickvalues\": null, \"tickformat\": null, \"scale\": \"linear\", \"fontsize\": 10.0, \"grid\": {\"gridOn\": false}, \"visible\": true}, {\"position\": \"left\", \"nticks\": 7, \"tickvalues\": null, \"tickformat\": null, \"scale\": \"linear\", \"fontsize\": 10.0, \"grid\": {\"gridOn\": false}, \"visible\": true}], \"axesbg\": \"#E5E5E5\", \"axesbgalpha\": null, \"zoomable\": true, \"id\": \"el122140190792884008\", \"lines\": [], \"paths\": [], \"markers\": [], \"texts\": [{\"text\": \"the\", \"position\": [-0.13296933472156525, 1.4387670755386353], \"coordinates\": \"data\", \"h_anchor\": \"start\", \"v_baseline\": \"auto\", \"rotation\": -0.0, \"fontsize\": 10.0, \"color\": \"#008080\", \"alpha\": 1, \"zorder\": 3, \"id\": \"el122140190799149152\"}, {\"text\": \"run\", \"position\": [0.5734120011329651, 1.7196626663208008], \"coordinates\": \"data\", \"h_anchor\": \"start\", \"v_baseline\": \"auto\", \"rotation\": -0.0, \"fontsize\": 10.0, \"color\": \"#0000FF\", \"alpha\": 1, \"zorder\": 3, \"id\": \"el122140190805713976\"}, {\"text\": \"dog\", \"position\": [-0.021664077416062355, 0.8679569363594055], \"coordinates\": \"data\", \"h_anchor\": \"start\", \"v_baseline\": \"auto\", \"rotation\": -0.0, \"fontsize\": 10.0, \"color\": \"#008000\", \"alpha\": 1, \"zorder\": 3, \"id\": \"el122140190805714032\"}, {\"text\": \"where\", \"position\": [-0.21796944737434387, 2.377739906311035], \"coordinates\": \"data\", \"h_anchor\": \"start\", \"v_baseline\": \"auto\", \"rotation\": -0.0, \"fontsize\": 10.0, \"color\": \"#4B0082\", \"alpha\": 1, \"zorder\": 3, \"id\": \"el122140190805714760\"}, {\"text\": \"quick\", \"position\": [1.088663101196289, 1.9357551336288452], \"coordinates\": \"data\", \"h_anchor\": \"start\", \"v_baseline\": \"auto\", \"rotation\": -0.0, \"fontsize\": 10.0, \"color\": \"#000000\", \"alpha\": 1, \"zorder\": 3, \"id\": \"el122140190817380616\"}, {\"text\": \"independent\", \"position\": [0.2540515661239624, 0.7961070537567139], \"coordinates\": \"data\", \"h_anchor\": \"start\", \"v_baseline\": \"auto\", \"rotation\": -0.0, \"fontsize\": 10.0, \"color\": \"#008080\", \"alpha\": 1, \"zorder\": 3, \"id\": \"el122140190817381568\"}, {\"text\": \"remedial\", \"position\": [-0.7621439695358276, 1.2987394332885742], \"coordinates\": \"data\", \"h_anchor\": \"start\", \"v_baseline\": \"auto\", \"rotation\": -0.0, \"fontsize\": 10.0, \"color\": \"#008080\", \"alpha\": 1, \"zorder\": 3, \"id\": \"el122140190817381120\"}, {\"text\": \"Shop\", \"position\": [1.9208282232284546, -0.7519452571868896], \"coordinates\": \"data\", \"h_anchor\": \"start\", \"v_baseline\": \"auto\", \"rotation\": -0.0, \"fontsize\": 10.0, \"color\": \"#008080\", \"alpha\": 1, \"zorder\": 3, \"id\": \"el122140190817380728\"}, {\"text\": \"his\", \"position\": [0.2512497305870056, 0.9832419157028198], \"coordinates\": \"data\", \"h_anchor\": \"start\", \"v_baseline\": \"auto\", \"rotation\": -0.0, \"fontsize\": 10.0, \"color\": \"#008080\", \"alpha\": 1, \"zorder\": 3, \"id\": \"el122140190817381064\"}, {\"text\": \"Volume\", \"position\": [0.16539353132247925, -1.7786282300949097], \"coordinates\": \"data\", \"h_anchor\": \"start\", \"v_baseline\": \"auto\", \"rotation\": -0.0, \"fontsize\": 10.0, \"color\": \"#008080\", \"alpha\": 1, \"zorder\": 3, \"id\": \"el122140190812355888\"}, {\"text\": \"Prue\", \"position\": [-0.03057011030614376, 1.3815230131149292], \"coordinates\": \"data\", \"h_anchor\": \"start\", \"v_baseline\": \"auto\", \"rotation\": -0.0, \"fontsize\": 10.0, \"color\": \"#008080\", \"alpha\": 1, \"zorder\": 3, \"id\": \"el122140190812353648\"}, {\"text\": \"Hakim\", \"position\": [-0.8980859518051147, 2.018906593322754], \"coordinates\": \"data\", \"h_anchor\": \"start\", \"v_baseline\": \"auto\", \"rotation\": -0.0, \"fontsize\": 10.0, \"color\": \"#008080\", \"alpha\": 1, \"zorder\": 3, \"id\": \"el122140190812353368\"}, {\"text\": \"vine\", \"position\": [0.14758239686489105, 0.7320803999900818], \"coordinates\": \"data\", \"h_anchor\": \"start\", \"v_baseline\": \"auto\", \"rotation\": -0.0, \"fontsize\": 10.0, \"color\": \"#008080\", \"alpha\": 1, \"zorder\": 3, \"id\": \"el122140190860639480\"}, {\"text\": \"main\", \"position\": [-0.18012577295303345, 2.6397271156311035], \"coordinates\": \"data\", \"h_anchor\": \"start\", \"v_baseline\": \"auto\", \"rotation\": -0.0, \"fontsize\": 10.0, \"color\": \"#008080\", \"alpha\": 1, \"zorder\": 3, \"id\": \"el122140190860636512\"}, {\"text\": \"Abbot\", \"position\": [-0.6464399099349976, -1.4163109064102173], \"coordinates\": \"data\", \"h_anchor\": \"start\", \"v_baseline\": \"auto\", \"rotation\": -0.0, \"fontsize\": 10.0, \"color\": \"#008080\", \"alpha\": 1, \"zorder\": 3, \"id\": \"el122140190860637632\"}, {\"text\": \"Influence\", \"position\": [1.0074392557144165, 0.3488190770149231], \"coordinates\": \"data\", \"h_anchor\": \"start\", \"v_baseline\": \"auto\", \"rotation\": -0.0, \"fontsize\": 10.0, \"color\": \"#008080\", \"alpha\": 1, \"zorder\": 3, \"id\": \"el122140190860639256\"}, {\"text\": \"superiority\", \"position\": [1.477140188217163, 1.5427578687667847], \"coordinates\": \"data\", \"h_anchor\": \"start\", \"v_baseline\": \"auto\", \"rotation\": -0.0, \"fontsize\": 10.0, \"color\": \"#008080\", \"alpha\": 1, \"zorder\": 3, \"id\": \"el122140190860639816\"}, {\"text\": \"vertebrae\", \"position\": [0.815991222858429, -0.6883450746536255], \"coordinates\": \"data\", \"h_anchor\": \"start\", \"v_baseline\": \"auto\", \"rotation\": -0.0, \"fontsize\": 10.0, \"color\": \"#008080\", \"alpha\": 1, \"zorder\": 3, \"id\": \"el122140190860639032\"}, {\"text\": \"motives\", \"position\": [0.8247168660163879, 1.2798925638198853], \"coordinates\": \"data\", \"h_anchor\": \"start\", \"v_baseline\": \"auto\", \"rotation\": -0.0, \"fontsize\": 10.0, \"color\": \"#008080\", \"alpha\": 1, \"zorder\": 3, \"id\": \"el122140190860636232\"}, {\"text\": \"571\", \"position\": [-0.05338839814066887, -1.407231092453003], \"coordinates\": \"data\", \"h_anchor\": \"start\", \"v_baseline\": \"auto\", \"rotation\": -0.0, \"fontsize\": 10.0, \"color\": \"#008080\", \"alpha\": 1, \"zorder\": 3, \"id\": \"el122140190860639704\"}, {\"text\": \"MacKay\", \"position\": [-0.3688185214996338, 1.7974499464035034], \"coordinates\": \"data\", \"h_anchor\": \"start\", \"v_baseline\": \"auto\", \"rotation\": -0.0, \"fontsize\": 10.0, \"color\": \"#008080\", \"alpha\": 1, \"zorder\": 3, \"id\": \"el122140190810654256\"}, {\"text\": \"creature\", \"position\": [2.045384645462036, 1.0097997188568115], \"coordinates\": \"data\", \"h_anchor\": \"start\", \"v_baseline\": \"auto\", \"rotation\": -0.0, \"fontsize\": 10.0, \"color\": \"#008080\", \"alpha\": 1, \"zorder\": 3, \"id\": \"el122140190860637016\"}, {\"text\": \"Peckhams\", \"position\": [-1.55785071849823, 0.4615047872066498], \"coordinates\": \"data\", \"h_anchor\": \"start\", \"v_baseline\": \"auto\", \"rotation\": -0.0, \"fontsize\": 10.0, \"color\": \"#008080\", \"alpha\": 1, \"zorder\": 3, \"id\": \"el122140190860636736\"}, {\"text\": \"conducts\", \"position\": [-0.05345430225133896, -1.6628673076629639], \"coordinates\": \"data\", \"h_anchor\": \"start\", \"v_baseline\": \"auto\", \"rotation\": -0.0, \"fontsize\": 10.0, \"color\": \"#008080\", \"alpha\": 1, \"zorder\": 3, \"id\": \"el122140190860636904\"}, {\"text\": \"subjected\", \"position\": [1.2924582958221436, 0.5689688324928284], \"coordinates\": \"data\", \"h_anchor\": \"start\", \"v_baseline\": \"auto\", \"rotation\": -0.0, \"fontsize\": 10.0, \"color\": \"#008080\", \"alpha\": 1, \"zorder\": 3, \"id\": \"el122140190860637408\"}, {\"text\": \"29\", \"position\": [1.382386326789856, 2.4846534729003906], \"coordinates\": \"data\", \"h_anchor\": \"start\", \"v_baseline\": \"auto\", \"rotation\": -0.0, \"fontsize\": 10.0, \"color\": \"#0000FF\", \"alpha\": 1, \"zorder\": 3, \"id\": \"el122140190860639088\"}, {\"text\": \"Recently\", \"position\": [-0.9173482656478882, 1.23149836063385], \"coordinates\": \"data\", \"h_anchor\": \"start\", \"v_baseline\": \"auto\", \"rotation\": -0.0, \"fontsize\": 10.0, \"color\": \"#0000FF\", \"alpha\": 1, \"zorder\": 3, \"id\": \"el122140190860637856\"}, {\"text\": \"striker\", \"position\": [1.7621073722839355, -1.2687196731567383], \"coordinates\": \"data\", \"h_anchor\": \"start\", \"v_baseline\": \"auto\", \"rotation\": -0.0, \"fontsize\": 10.0, \"color\": \"#0000FF\", \"alpha\": 1, \"zorder\": 3, \"id\": \"el122140190860636344\"}, {\"text\": \"wickets\", \"position\": [0.3143230378627777, -0.6060060262680054], \"coordinates\": \"data\", \"h_anchor\": \"start\", \"v_baseline\": \"auto\", \"rotation\": -0.0, \"fontsize\": 10.0, \"color\": \"#0000FF\", \"alpha\": 1, \"zorder\": 3, \"id\": \"el122140190860636456\"}, {\"text\": \"1981\", \"position\": [0.9701150059700012, 1.0136184692382812], \"coordinates\": \"data\", \"h_anchor\": \"start\", \"v_baseline\": \"auto\", \"rotation\": -0.0, \"fontsize\": 10.0, \"color\": \"#0000FF\", \"alpha\": 1, \"zorder\": 3, \"id\": \"el122140190860637968\"}, {\"text\": \"flick\", \"position\": [-1.171390175819397, 0.7997186183929443], \"coordinates\": \"data\", \"h_anchor\": \"start\", \"v_baseline\": \"auto\", \"rotation\": -0.0, \"fontsize\": 10.0, \"color\": \"#0000FF\", \"alpha\": 1, \"zorder\": 3, \"id\": \"el122140190860637800\"}, {\"text\": \"ruled\", \"position\": [0.1031460389494896, 2.2418320178985596], \"coordinates\": \"data\", \"h_anchor\": \"start\", \"v_baseline\": \"auto\", \"rotation\": -0.0, \"fontsize\": 10.0, \"color\": \"#0000FF\", \"alpha\": 1, \"zorder\": 3, \"id\": \"el122140190860638696\"}, {\"text\": \"adulatory\", \"position\": [1.2726839780807495, -0.4898874759674072], \"coordinates\": \"data\", \"h_anchor\": \"start\", \"v_baseline\": \"auto\", \"rotation\": -0.0, \"fontsize\": 10.0, \"color\": \"#0000FF\", \"alpha\": 1, \"zorder\": 3, \"id\": \"el122140190860639312\"}, {\"text\": \"GPa\", \"position\": [-0.6859244704246521, 1.3649237155914307], \"coordinates\": \"data\", \"h_anchor\": \"start\", \"v_baseline\": \"auto\", \"rotation\": -0.0, \"fontsize\": 10.0, \"color\": \"#0000FF\", \"alpha\": 1, \"zorder\": 3, \"id\": \"el122140190860640152\"}, {\"text\": \"canceled\", \"position\": [-0.662533164024353, -1.4886143207550049], \"coordinates\": \"data\", \"h_anchor\": \"start\", \"v_baseline\": \"auto\", \"rotation\": -0.0, \"fontsize\": 10.0, \"color\": \"#0000FF\", \"alpha\": 1, \"zorder\": 3, \"id\": \"el122140190860638976\"}, {\"text\": \"Darryl\", \"position\": [-1.4043251276016235, 1.221198558807373], \"coordinates\": \"data\", \"h_anchor\": \"start\", \"v_baseline\": \"auto\", \"rotation\": -0.0, \"fontsize\": 10.0, \"color\": \"#0000FF\", \"alpha\": 1, \"zorder\": 3, \"id\": \"el122140190869636432\"}, {\"text\": \"Dick\", \"position\": [-0.10081993043422699, 1.1296645402908325], \"coordinates\": \"data\", \"h_anchor\": \"start\", \"v_baseline\": \"auto\", \"rotation\": -0.0, \"fontsize\": 10.0, \"color\": \"#0000FF\", \"alpha\": 1, \"zorder\": 3, \"id\": \"el122140190869637832\"}, {\"text\": \"deserve\", \"position\": [-1.6560993194580078, 0.0413442999124527], \"coordinates\": \"data\", \"h_anchor\": \"start\", \"v_baseline\": \"auto\", \"rotation\": -0.0, \"fontsize\": 10.0, \"color\": \"#0000FF\", \"alpha\": 1, \"zorder\": 3, \"id\": \"el122140190869637160\"}, {\"text\": \"Millais\", \"position\": [0.4556441307067871, 2.04201602935791], \"coordinates\": \"data\", \"h_anchor\": \"start\", \"v_baseline\": \"auto\", \"rotation\": -0.0, \"fontsize\": 10.0, \"color\": \"#0000FF\", \"alpha\": 1, \"zorder\": 3, \"id\": \"el122140190869636768\"}, {\"text\": \"Tabernacle\", \"position\": [-0.667289674282074, 0.6208910346031189], \"coordinates\": \"data\", \"h_anchor\": \"start\", \"v_baseline\": \"auto\", \"rotation\": -0.0, \"fontsize\": 10.0, \"color\": \"#0000FF\", \"alpha\": 1, \"zorder\": 3, \"id\": \"el122140190869637104\"}, {\"text\": \"270\", \"position\": [1.768749713897705, 1.9805418252944946], \"coordinates\": \"data\", \"h_anchor\": \"start\", \"v_baseline\": \"auto\", \"rotation\": -0.0, \"fontsize\": 10.0, \"color\": \"#0000FF\", \"alpha\": 1, \"zorder\": 3, \"id\": \"el122140190869638560\"}, {\"text\": \"Weaver\", \"position\": [-0.895798921585083, -1.0192605257034302], \"coordinates\": \"data\", \"h_anchor\": \"start\", \"v_baseline\": \"auto\", \"rotation\": -0.0, \"fontsize\": 10.0, \"color\": \"#0000FF\", \"alpha\": 1, \"zorder\": 3, \"id\": \"el122140190869637384\"}, {\"text\": \"Bohemond\", \"position\": [-0.937831699848175, 0.6723652482032776], \"coordinates\": \"data\", \"h_anchor\": \"start\", \"v_baseline\": \"auto\", \"rotation\": -0.0, \"fontsize\": 10.0, \"color\": \"#0000FF\", \"alpha\": 1, \"zorder\": 3, \"id\": \"el122140190869636880\"}, {\"text\": \"Lynx\", \"position\": [-1.7148098945617676, -0.4160715937614441], \"coordinates\": \"data\", \"h_anchor\": \"start\", \"v_baseline\": \"auto\", \"rotation\": -0.0, \"fontsize\": 10.0, \"color\": \"#0000FF\", \"alpha\": 1, \"zorder\": 3, \"id\": \"el122140190869636656\"}, {\"text\": \"Schwimmer\", \"position\": [-0.6722639203071594, -0.6779581308364868], \"coordinates\": \"data\", \"h_anchor\": \"start\", \"v_baseline\": \"auto\", \"rotation\": -0.0, \"fontsize\": 10.0, \"color\": \"#0000FF\", \"alpha\": 1, \"zorder\": 3, \"id\": \"el122140190869637664\"}, {\"text\": \"messages\", \"position\": [1.9664932489395142, 1.1691174507141113], \"coordinates\": \"data\", \"h_anchor\": \"start\", \"v_baseline\": \"auto\", \"rotation\": -0.0, \"fontsize\": 10.0, \"color\": \"#008000\", \"alpha\": 1, \"zorder\": 3, \"id\": \"el122140190869636488\"}, {\"text\": \"Palestine\", \"position\": [1.1325304508209229, -1.427998423576355], \"coordinates\": \"data\", \"h_anchor\": \"start\", \"v_baseline\": \"auto\", \"rotation\": -0.0, \"fontsize\": 10.0, \"color\": \"#008000\", \"alpha\": 1, \"zorder\": 3, \"id\": \"el122140190869639008\"}, {\"text\": \"reminiscent\", \"position\": [1.979570746421814, 1.2737997770309448], \"coordinates\": \"data\", \"h_anchor\": \"start\", \"v_baseline\": \"auto\", \"rotation\": -0.0, \"fontsize\": 10.0, \"color\": \"#008000\", \"alpha\": 1, \"zorder\": 3, \"id\": \"el122140190869636712\"}, {\"text\": \"Genoa\", \"position\": [-1.0000927448272705, 1.1844682693481445], \"coordinates\": \"data\", \"h_anchor\": \"start\", \"v_baseline\": \"auto\", \"rotation\": -0.0, \"fontsize\": 10.0, \"color\": \"#008000\", \"alpha\": 1, \"zorder\": 3, \"id\": \"el122140190869638056\"}, {\"text\": \"Nesbitt\", \"position\": [-1.093850016593933, 0.26671090722084045], \"coordinates\": \"data\", \"h_anchor\": \"start\", \"v_baseline\": \"auto\", \"rotation\": -0.0, \"fontsize\": 10.0, \"color\": \"#008000\", \"alpha\": 1, \"zorder\": 3, \"id\": \"el122140190869635984\"}, {\"text\": \"crowns\", \"position\": [2.3674731254577637, 0.9019677639007568], \"coordinates\": \"data\", \"h_anchor\": \"start\", \"v_baseline\": \"auto\", \"rotation\": -0.0, \"fontsize\": 10.0, \"color\": \"#008000\", \"alpha\": 1, \"zorder\": 3, \"id\": \"el122140190869639064\"}, {\"text\": \"Tabernacle\", \"position\": [-0.667289674282074, 0.6208910346031189], \"coordinates\": \"data\", \"h_anchor\": \"start\", \"v_baseline\": \"auto\", \"rotation\": -0.0, \"fontsize\": 10.0, \"color\": \"#008000\", \"alpha\": 1, \"zorder\": 3, \"id\": \"el122140190869635592\"}, {\"text\": \"Mysore\", \"position\": [1.423022747039795, -1.1093239784240723], \"coordinates\": \"data\", \"h_anchor\": \"start\", \"v_baseline\": \"auto\", \"rotation\": -0.0, \"fontsize\": 10.0, \"color\": \"#008000\", \"alpha\": 1, \"zorder\": 3, \"id\": \"el122140190869638504\"}, {\"text\": \"Antarctica\", \"position\": [0.10331563651561737, 0.5243449211120605], \"coordinates\": \"data\", \"h_anchor\": \"start\", \"v_baseline\": \"auto\", \"rotation\": -0.0, \"fontsize\": 10.0, \"color\": \"#008000\", \"alpha\": 1, \"zorder\": 3, \"id\": \"el122140190869636824\"}, {\"text\": \"squeezed\", \"position\": [1.81595778465271, 1.2921011447906494], \"coordinates\": \"data\", \"h_anchor\": \"start\", \"v_baseline\": \"auto\", \"rotation\": -0.0, \"fontsize\": 10.0, \"color\": \"#008000\", \"alpha\": 1, \"zorder\": 3, \"id\": \"el122140190869638000\"}, {\"text\": \"Reala\", \"position\": [-1.0369305610656738, 0.25827479362487793], \"coordinates\": \"data\", \"h_anchor\": \"start\", \"v_baseline\": \"auto\", \"rotation\": -0.0, \"fontsize\": 10.0, \"color\": \"#008000\", \"alpha\": 1, \"zorder\": 3, \"id\": \"el122140190869637944\"}, {\"text\": \"Carlos\", \"position\": [-0.26668453216552734, -0.17553982138633728], \"coordinates\": \"data\", \"h_anchor\": \"start\", \"v_baseline\": \"auto\", \"rotation\": -0.0, \"fontsize\": 10.0, \"color\": \"#008000\", \"alpha\": 1, \"zorder\": 3, \"id\": \"el122140190869637888\"}, {\"text\": \"corrected\", \"position\": [1.9727023839950562, -1.2251017093658447], \"coordinates\": \"data\", \"h_anchor\": \"start\", \"v_baseline\": \"auto\", \"rotation\": -0.0, \"fontsize\": 10.0, \"color\": \"#008000\", \"alpha\": 1, \"zorder\": 3, \"id\": \"el122140190816374232\"}, {\"text\": \"Mann\", \"position\": [0.9462335109710693, -0.44427725672721863], \"coordinates\": \"data\", \"h_anchor\": \"start\", \"v_baseline\": \"auto\", \"rotation\": -0.0, \"fontsize\": 10.0, \"color\": \"#008000\", \"alpha\": 1, \"zorder\": 3, \"id\": \"el122140190828856712\"}, {\"text\": \"PAVN\", \"position\": [-0.33802279829978943, 1.896579623222351], \"coordinates\": \"data\", \"h_anchor\": \"start\", \"v_baseline\": \"auto\", \"rotation\": -0.0, \"fontsize\": 10.0, \"color\": \"#008000\", \"alpha\": 1, \"zorder\": 3, \"id\": \"el122140190828856768\"}, {\"text\": \"slam\", \"position\": [1.513469934463501, 0.5406247973442078], \"coordinates\": \"data\", \"h_anchor\": \"start\", \"v_baseline\": \"auto\", \"rotation\": -0.0, \"fontsize\": 10.0, \"color\": \"#008000\", \"alpha\": 1, \"zorder\": 3, \"id\": \"el122140190800952848\"}, {\"text\": \"Clearing\", \"position\": [-0.651455283164978, -0.5132462978363037], \"coordinates\": \"data\", \"h_anchor\": \"start\", \"v_baseline\": \"auto\", \"rotation\": -0.0, \"fontsize\": 10.0, \"color\": \"#008000\", \"alpha\": 1, \"zorder\": 3, \"id\": \"el122140190870635296\"}, {\"text\": \"contractors\", \"position\": [-1.602505087852478, 0.2607661783695221], \"coordinates\": \"data\", \"h_anchor\": \"start\", \"v_baseline\": \"auto\", \"rotation\": -0.0, \"fontsize\": 10.0, \"color\": \"#008000\", \"alpha\": 1, \"zorder\": 3, \"id\": \"el122140190870636416\"}, {\"text\": \"leave\", \"position\": [0.5120214819908142, 1.2426888942718506], \"coordinates\": \"data\", \"h_anchor\": \"start\", \"v_baseline\": \"auto\", \"rotation\": -0.0, \"fontsize\": 10.0, \"color\": \"#008000\", \"alpha\": 1, \"zorder\": 3, \"id\": \"el122140190870637928\"}, {\"text\": \"computational\", \"position\": [0.2543918490409851, 0.2834746837615967], \"coordinates\": \"data\", \"h_anchor\": \"start\", \"v_baseline\": \"auto\", \"rotation\": -0.0, \"fontsize\": 10.0, \"color\": \"#008000\", \"alpha\": 1, \"zorder\": 3, \"id\": \"el122140190870636976\"}, {\"text\": \"imply\", \"position\": [-0.3688823878765106, -1.2097188234329224], \"coordinates\": \"data\", \"h_anchor\": \"start\", \"v_baseline\": \"auto\", \"rotation\": -0.0, \"fontsize\": 10.0, \"color\": \"#4B0082\", \"alpha\": 1, \"zorder\": 3, \"id\": \"el122140190870638376\"}, {\"text\": \"whom\", \"position\": [2.1656479835510254, 1.8111599683761597], \"coordinates\": \"data\", \"h_anchor\": \"start\", \"v_baseline\": \"auto\", \"rotation\": -0.0, \"fontsize\": 10.0, \"color\": \"#4B0082\", \"alpha\": 1, \"zorder\": 3, \"id\": \"el122140190870638488\"}, {\"text\": \"beyond\", \"position\": [2.182081460952759, 0.7228695750236511], \"coordinates\": \"data\", \"h_anchor\": \"start\", \"v_baseline\": \"auto\", \"rotation\": -0.0, \"fontsize\": 10.0, \"color\": \"#4B0082\", \"alpha\": 1, \"zorder\": 3, \"id\": \"el122140190870637312\"}, {\"text\": \"earliest\", \"position\": [0.5941083431243896, 2.7541303634643555], \"coordinates\": \"data\", \"h_anchor\": \"start\", \"v_baseline\": \"auto\", \"rotation\": -0.0, \"fontsize\": 10.0, \"color\": \"#4B0082\", \"alpha\": 1, \"zorder\": 3, \"id\": \"el122140190870637256\"}, {\"text\": \"Churches\", \"position\": [0.020447198301553726, -0.6977940797805786], \"coordinates\": \"data\", \"h_anchor\": \"start\", \"v_baseline\": \"auto\", \"rotation\": -0.0, \"fontsize\": 10.0, \"color\": \"#4B0082\", \"alpha\": 1, \"zorder\": 3, \"id\": \"el122140190870637872\"}, {\"text\": \"whether\", \"position\": [2.609917640686035, 1.226550579071045], \"coordinates\": \"data\", \"h_anchor\": \"start\", \"v_baseline\": \"auto\", \"rotation\": -0.0, \"fontsize\": 10.0, \"color\": \"#4B0082\", \"alpha\": 1, \"zorder\": 3, \"id\": \"el122140190870635240\"}, {\"text\": \"warn\", \"position\": [-0.6689892411231995, -1.004753589630127], \"coordinates\": \"data\", \"h_anchor\": \"start\", \"v_baseline\": \"auto\", \"rotation\": -0.0, \"fontsize\": 10.0, \"color\": \"#4B0082\", \"alpha\": 1, \"zorder\": 3, \"id\": \"el122140190870635688\"}, {\"text\": \"treating\", \"position\": [0.6859158873558044, 0.39383673667907715], \"coordinates\": \"data\", \"h_anchor\": \"start\", \"v_baseline\": \"auto\", \"rotation\": -0.0, \"fontsize\": 10.0, \"color\": \"#4B0082\", \"alpha\": 1, \"zorder\": 3, \"id\": \"el122140190870637984\"}, {\"text\": \"archaic\", \"position\": [-1.5934159755706787, -0.16876056790351868], \"coordinates\": \"data\", \"h_anchor\": \"start\", \"v_baseline\": \"auto\", \"rotation\": -0.0, \"fontsize\": 10.0, \"color\": \"#4B0082\", \"alpha\": 1, \"zorder\": 3, \"id\": \"el122140190870636864\"}, {\"text\": \"beside\", \"position\": [0.8552354574203491, -0.6783784627914429], \"coordinates\": \"data\", \"h_anchor\": \"start\", \"v_baseline\": \"auto\", \"rotation\": -0.0, \"fontsize\": 10.0, \"color\": \"#4B0082\", \"alpha\": 1, \"zorder\": 3, \"id\": \"el122140190870635912\"}, {\"text\": \"clothesline\", \"position\": [-1.1218899488449097, 1.8986643552780151], \"coordinates\": \"data\", \"h_anchor\": \"start\", \"v_baseline\": \"auto\", \"rotation\": -0.0, \"fontsize\": 10.0, \"color\": \"#4B0082\", \"alpha\": 1, \"zorder\": 3, \"id\": \"el122140190870635520\"}, {\"text\": \"<\", \"position\": [0.04982137680053711, 2.706545114517212], \"coordinates\": \"data\", \"h_anchor\": \"start\", \"v_baseline\": \"auto\", \"rotation\": -0.0, \"fontsize\": 10.0, \"color\": \"#4B0082\", \"alpha\": 1, \"zorder\": 3, \"id\": \"el122140190870636472\"}, {\"text\": \"Moreover\", \"position\": [1.6002119779586792, -0.03948643058538437], \"coordinates\": \"data\", \"h_anchor\": \"start\", \"v_baseline\": \"auto\", \"rotation\": -0.0, \"fontsize\": 10.0, \"color\": \"#4B0082\", \"alpha\": 1, \"zorder\": 3, \"id\": \"el122140190870637144\"}, {\"text\": \"coefficient\", \"position\": [1.2703800201416016, -0.7029944062232971], \"coordinates\": \"data\", \"h_anchor\": \"start\", \"v_baseline\": \"auto\", \"rotation\": -0.0, \"fontsize\": 10.0, \"color\": \"#4B0082\", \"alpha\": 1, \"zorder\": 3, \"id\": \"el122140190870636752\"}, {\"text\": \"Sawtooth\", \"position\": [0.3156818747520447, -1.5279862880706787], \"coordinates\": \"data\", \"h_anchor\": \"start\", \"v_baseline\": \"auto\", \"rotation\": -0.0, \"fontsize\": 10.0, \"color\": \"#4B0082\", \"alpha\": 1, \"zorder\": 3, \"id\": \"el122140190870636304\"}, {\"text\": \"1275\", \"position\": [-0.5485522747039795, 0.3559187054634094], \"coordinates\": \"data\", \"h_anchor\": \"start\", \"v_baseline\": \"auto\", \"rotation\": -0.0, \"fontsize\": 10.0, \"color\": \"#4B0082\", \"alpha\": 1, \"zorder\": 3, \"id\": \"el122140190870637424\"}, {\"text\": \"successive\", \"position\": [1.4769285917282104, -1.0366692543029785], \"coordinates\": \"data\", \"h_anchor\": \"start\", \"v_baseline\": \"auto\", \"rotation\": -0.0, \"fontsize\": 10.0, \"color\": \"#4B0082\", \"alpha\": 1, \"zorder\": 3, \"id\": \"el122140190870638432\"}, {\"text\": \"attach\", \"position\": [-0.33055633306503296, -0.39203333854675293], \"coordinates\": \"data\", \"h_anchor\": \"start\", \"v_baseline\": \"auto\", \"rotation\": -0.0, \"fontsize\": 10.0, \"color\": \"#4B0082\", \"alpha\": 1, \"zorder\": 3, \"id\": \"el122140190870636640\"}, {\"text\": \"enlargement\", \"position\": [0.6712293028831482, -0.3623298704624176], \"coordinates\": \"data\", \"h_anchor\": \"start\", \"v_baseline\": \"auto\", \"rotation\": -0.0, \"fontsize\": 10.0, \"color\": \"#4B0082\", \"alpha\": 1, \"zorder\": 3, \"id\": \"el122140190870634792\"}, {\"text\": \"Pagoda\", \"position\": [-0.13075385987758636, -0.40864500403404236], \"coordinates\": \"data\", \"h_anchor\": \"start\", \"v_baseline\": \"auto\", \"rotation\": -0.0, \"fontsize\": 10.0, \"color\": \"#4B0082\", \"alpha\": 1, \"zorder\": 3, \"id\": \"el122140190795392392\"}, {\"text\": \"miniature\", \"position\": [0.7811845541000366, 0.401228666305542], \"coordinates\": \"data\", \"h_anchor\": \"start\", \"v_baseline\": \"auto\", \"rotation\": -0.0, \"fontsize\": 10.0, \"color\": \"#000000\", \"alpha\": 1, \"zorder\": 3, \"id\": \"el122140190795391160\"}, {\"text\": \"Charleston\", \"position\": [1.55410897731781, 2.00858736038208], \"coordinates\": \"data\", \"h_anchor\": \"start\", \"v_baseline\": \"auto\", \"rotation\": -0.0, \"fontsize\": 10.0, \"color\": \"#000000\", \"alpha\": 1, \"zorder\": 3, \"id\": \"el122140190819754168\"}, {\"text\": \"separating\", \"position\": [1.2843679189682007, -0.9025121927261353], \"coordinates\": \"data\", \"h_anchor\": \"start\", \"v_baseline\": \"auto\", \"rotation\": -0.0, \"fontsize\": 10.0, \"color\": \"#000000\", \"alpha\": 1, \"zorder\": 3, \"id\": \"el122140190819754056\"}, {\"text\": \"Regarding\", \"position\": [1.7345701456069946, -1.2721960544586182], \"coordinates\": \"data\", \"h_anchor\": \"start\", \"v_baseline\": \"auto\", \"rotation\": -0.0, \"fontsize\": 10.0, \"color\": \"#000000\", \"alpha\": 1, \"zorder\": 3, \"id\": \"el122140190810165712\"}, {\"text\": \"Live\", \"position\": [2.284578561782837, 1.7739481925964355], \"coordinates\": \"data\", \"h_anchor\": \"start\", \"v_baseline\": \"auto\", \"rotation\": -0.0, \"fontsize\": 10.0, \"color\": \"#000000\", \"alpha\": 1, \"zorder\": 3, \"id\": \"el122140190810167280\"}, {\"text\": \"fulfil\", \"position\": [-0.23641625046730042, -0.00454303901642561], \"coordinates\": \"data\", \"h_anchor\": \"start\", \"v_baseline\": \"auto\", \"rotation\": -0.0, \"fontsize\": 10.0, \"color\": \"#000000\", \"alpha\": 1, \"zorder\": 3, \"id\": \"el122140190817497664\"}, {\"text\": \"Emanuel\", \"position\": [-0.7686442732810974, -1.0683534145355225], \"coordinates\": \"data\", \"h_anchor\": \"start\", \"v_baseline\": \"auto\", \"rotation\": -0.0, \"fontsize\": 10.0, \"color\": \"#000000\", \"alpha\": 1, \"zorder\": 3, \"id\": \"el122140190801099912\"}, {\"text\": \"ceremonial\", \"position\": [1.978983998298645, 1.1316614151000977], \"coordinates\": \"data\", \"h_anchor\": \"start\", \"v_baseline\": \"auto\", \"rotation\": -0.0, \"fontsize\": 10.0, \"color\": \"#000000\", \"alpha\": 1, \"zorder\": 3, \"id\": \"el122140190810976720\"}, {\"text\": \"signaling\", \"position\": [1.9438258409500122, 2.1200313568115234], \"coordinates\": \"data\", \"h_anchor\": \"start\", \"v_baseline\": \"auto\", \"rotation\": -0.0, \"fontsize\": 10.0, \"color\": \"#000000\", \"alpha\": 1, \"zorder\": 3, \"id\": \"el122140190870220584\"}, {\"text\": \"1809\", \"position\": [1.407739520072937, 0.5827780961990356], \"coordinates\": \"data\", \"h_anchor\": \"start\", \"v_baseline\": \"auto\", \"rotation\": -0.0, \"fontsize\": 10.0, \"color\": \"#000000\", \"alpha\": 1, \"zorder\": 3, \"id\": \"el122140190811212096\"}, {\"text\": \"ceilings\", \"position\": [0.03933580219745636, -0.46272945404052734], \"coordinates\": \"data\", \"h_anchor\": \"start\", \"v_baseline\": \"auto\", \"rotation\": -0.0, \"fontsize\": 10.0, \"color\": \"#000000\", \"alpha\": 1, \"zorder\": 3, \"id\": \"el122140190817131712\"}, {\"text\": \"calculators\", \"position\": [-0.8240883946418762, -1.1124354600906372], \"coordinates\": \"data\", \"h_anchor\": \"start\", \"v_baseline\": \"auto\", \"rotation\": -0.0, \"fontsize\": 10.0, \"color\": \"#000000\", \"alpha\": 1, \"zorder\": 3, \"id\": \"el122140190811249744\"}, {\"text\": \"agrees\", \"position\": [0.7596363425254822, 1.2662794589996338], \"coordinates\": \"data\", \"h_anchor\": \"start\", \"v_baseline\": \"auto\", \"rotation\": -0.0, \"fontsize\": 10.0, \"color\": \"#000000\", \"alpha\": 1, \"zorder\": 3, \"id\": \"el122140190831074440\"}, {\"text\": \"maturity\", \"position\": [0.5691859126091003, 1.8172154426574707], \"coordinates\": \"data\", \"h_anchor\": \"start\", \"v_baseline\": \"auto\", \"rotation\": -0.0, \"fontsize\": 10.0, \"color\": \"#000000\", \"alpha\": 1, \"zorder\": 3, \"id\": \"el122140190811151776\"}, {\"text\": \"Chaytor\", \"position\": [-0.9348189234733582, 1.0234850645065308], \"coordinates\": \"data\", \"h_anchor\": \"start\", \"v_baseline\": \"auto\", \"rotation\": -0.0, \"fontsize\": 10.0, \"color\": \"#000000\", \"alpha\": 1, \"zorder\": 3, \"id\": \"el122140190827808528\"}, {\"text\": \"exceedingly\", \"position\": [-0.8519243001937866, 0.9512191414833069], \"coordinates\": \"data\", \"h_anchor\": \"start\", \"v_baseline\": \"auto\", \"rotation\": -0.0, \"fontsize\": 10.0, \"color\": \"#000000\", \"alpha\": 1, \"zorder\": 3, \"id\": \"el122140190827810656\"}, {\"text\": \"swarm\", \"position\": [-0.927815318107605, 1.387953281402588], \"coordinates\": \"data\", \"h_anchor\": \"start\", \"v_baseline\": \"auto\", \"rotation\": -0.0, \"fontsize\": 10.0, \"color\": \"#000000\", \"alpha\": 1, \"zorder\": 3, \"id\": \"el122140190827807520\"}, {\"text\": \"Tr\\u01b0\\u01a1ng\", \"position\": [-0.2514283061027527, 1.7918682098388672], \"coordinates\": \"data\", \"h_anchor\": \"start\", \"v_baseline\": \"auto\", \"rotation\": -0.0, \"fontsize\": 10.0, \"color\": \"#000000\", \"alpha\": 1, \"zorder\": 3, \"id\": \"el122140190827806792\"}, {\"text\": \"Knox\", \"position\": [0.04243018478155136, -1.1266810894012451], \"coordinates\": \"data\", \"h_anchor\": \"start\", \"v_baseline\": \"auto\", \"rotation\": -0.0, \"fontsize\": 10.0, \"color\": \"#000000\", \"alpha\": 1, \"zorder\": 3, \"id\": \"el122140190801060136\"}, {\"text\": \"ecoregion\", \"position\": [-1.1001849174499512, 1.1702418327331543], \"coordinates\": \"data\", \"h_anchor\": \"start\", \"v_baseline\": \"auto\", \"rotation\": -0.0, \"fontsize\": 10.0, \"color\": \"#000000\", \"alpha\": 1, \"zorder\": 3, \"id\": \"el122140190801060024\"}], \"collections\": [{\"offsets\": \"data01\", \"xindex\": 0, \"yindex\": 1, \"paths\": [[[[0.0, -0.5], [0.13260155, -0.5], [0.25978993539242673, -0.44731684579412084], [0.3535533905932738, -0.3535533905932738], [0.44731684579412084, -0.25978993539242673], [0.5, -0.13260155], [0.5, 0.0], [0.5, 0.13260155], [0.44731684579412084, 0.25978993539242673], [0.3535533905932738, 0.3535533905932738], [0.25978993539242673, 0.44731684579412084], [0.13260155, 0.5], [0.0, 0.5], [-0.13260155, 0.5], [-0.25978993539242673, 0.44731684579412084], [-0.3535533905932738, 0.3535533905932738], [-0.44731684579412084, 0.25978993539242673], [-0.5, 0.13260155], [-0.5, 0.0], [-0.5, -0.13260155], [-0.44731684579412084, -0.25978993539242673], [-0.3535533905932738, -0.3535533905932738], [-0.25978993539242673, -0.44731684579412084], [-0.13260155, -0.5], [0.0, -0.5]], [\"M\", \"C\", \"C\", \"C\", \"C\", \"C\", \"C\", \"C\", \"C\", \"Z\"]]], \"pathtransforms\": [[4.47213595499958, 0.0, 0.0, 4.47213595499958, 0.0, 0.0]], \"alphas\": [null], \"edgecolors\": [\"#000080\"], \"facecolors\": [\"#000080\"], \"edgewidths\": [0.5], \"offsetcoordinates\": \"data\", \"pathcoordinates\": \"display\", \"zorder\": 1, \"id\": \"el122140190810654368\"}], \"images\": [], \"sharex\": [], \"sharey\": []}], \"data\": {\"data01\": [[-0.13296933472156525, 1.4387670755386353], [0.5734120011329651, 1.7196626663208008], [-0.021664077416062355, 0.8679569363594055], [-0.21796944737434387, 2.377739906311035], [1.088663101196289, 1.9357551336288452], [0.2540515661239624, 0.7961070537567139], [-0.7621439695358276, 1.2987394332885742], [1.9208282232284546, -0.7519452571868896], [0.2512497305870056, 0.9832419157028198], [0.16539353132247925, -1.7786282300949097], [-0.03057011030614376, 1.3815230131149292], [-0.8980859518051147, 2.018906593322754], [0.14758239686489105, 0.7320803999900818], [-0.18012577295303345, 2.6397271156311035], [-0.6464399099349976, -1.4163109064102173], [1.0074392557144165, 0.3488190770149231], [1.477140188217163, 1.5427578687667847], [0.815991222858429, -0.6883450746536255], [0.8247168660163879, 1.2798925638198853], [-0.05338839814066887, -1.407231092453003], [-0.3688185214996338, 1.7974499464035034], [2.045384645462036, 1.0097997188568115], [-1.55785071849823, 0.4615047872066498], [-0.05345430225133896, -1.6628673076629639], [1.2924582958221436, 0.5689688324928284], [1.382386326789856, 2.4846534729003906], [-0.9173482656478882, 1.23149836063385], [1.7621073722839355, -1.2687196731567383], [0.3143230378627777, -0.6060060262680054], [0.9701150059700012, 1.0136184692382812], [-1.171390175819397, 0.7997186183929443], [0.1031460389494896, 2.2418320178985596], [1.2726839780807495, -0.4898874759674072], [-0.6859244704246521, 1.3649237155914307], [-0.662533164024353, -1.4886143207550049], [-1.4043251276016235, 1.221198558807373], [-0.10081993043422699, 1.1296645402908325], [-1.6560993194580078, 0.0413442999124527], [0.4556441307067871, 2.04201602935791], [-0.667289674282074, 0.6208910346031189], [1.768749713897705, 1.9805418252944946], [-0.895798921585083, -1.0192605257034302], [-0.937831699848175, 0.6723652482032776], [-1.7148098945617676, -0.4160715937614441], [-0.6722639203071594, -0.6779581308364868], [1.9664932489395142, 1.1691174507141113], [1.1325304508209229, -1.427998423576355], [1.979570746421814, 1.2737997770309448], [-1.0000927448272705, 1.1844682693481445], [-1.093850016593933, 0.26671090722084045], [2.3674731254577637, 0.9019677639007568], [-0.667289674282074, 0.6208910346031189], [1.423022747039795, -1.1093239784240723], [0.10331563651561737, 0.5243449211120605], [1.81595778465271, 1.2921011447906494], [-1.0369305610656738, 0.25827479362487793], [-0.26668453216552734, -0.17553982138633728], [1.9727023839950562, -1.2251017093658447], [0.9462335109710693, -0.44427725672721863], [-0.33802279829978943, 1.896579623222351], [1.513469934463501, 0.5406247973442078], [-0.651455283164978, -0.5132462978363037], [-1.602505087852478, 0.2607661783695221], [0.5120214819908142, 1.2426888942718506], [0.2543918490409851, 0.2834746837615967], [-0.3688823878765106, -1.2097188234329224], [2.1656479835510254, 1.8111599683761597], [2.182081460952759, 0.7228695750236511], [0.5941083431243896, 2.7541303634643555], [0.020447198301553726, -0.6977940797805786], [2.609917640686035, 1.226550579071045], [-0.6689892411231995, -1.004753589630127], [0.6859158873558044, 0.39383673667907715], [-1.5934159755706787, -0.16876056790351868], [0.8552354574203491, -0.6783784627914429], [-1.1218899488449097, 1.8986643552780151], [0.04982137680053711, 2.706545114517212], [1.6002119779586792, -0.03948643058538437], [1.2703800201416016, -0.7029944062232971], [0.3156818747520447, -1.5279862880706787], [-0.5485522747039795, 0.3559187054634094], [1.4769285917282104, -1.0366692543029785], [-0.33055633306503296, -0.39203333854675293], [0.6712293028831482, -0.3623298704624176], [-0.13075385987758636, -0.40864500403404236], [0.7811845541000366, 0.401228666305542], [1.55410897731781, 2.00858736038208], [1.2843679189682007, -0.9025121927261353], [1.7345701456069946, -1.2721960544586182], [2.284578561782837, 1.7739481925964355], [-0.23641625046730042, -0.00454303901642561], [-0.7686442732810974, -1.0683534145355225], [1.978983998298645, 1.1316614151000977], [1.9438258409500122, 2.1200313568115234], [1.407739520072937, 0.5827780961990356], [0.03933580219745636, -0.46272945404052734], [-0.8240883946418762, -1.1124354600906372], [0.7596363425254822, 1.2662794589996338], [0.5691859126091003, 1.8172154426574707], [-0.9348189234733582, 1.0234850645065308], [-0.8519243001937866, 0.9512191414833069], [-0.927815318107605, 1.387953281402588], [-0.2514283061027527, 1.7918682098388672], [0.04243018478155136, -1.1266810894012451], [-1.1001849174499512, 1.1702418327331543]]}, \"id\": \"el122140190821926280\", \"plugins\": [{\"type\": \"reset\"}, {\"type\": \"zoom\", \"button\": true, \"enabled\": false}, {\"type\": \"boxzoom\", \"button\": true, \"enabled\": false}]});\n",
       "   }(mpld3);\n",
       "}else if(typeof define === \"function\" && define.amd){\n",
       "   // require.js is available: use it to load d3/mpld3\n",
       "   require.config({paths: {d3: \"https://mpld3.github.io/js/d3.v3.min\"}});\n",
       "   require([\"d3\"], function(d3){\n",
       "      window.d3 = d3;\n",
       "      mpld3_load_lib(\"https://mpld3.github.io/js/mpld3.v0.3.1.dev1.js\", function(){\n",
       "         \n",
       "         mpld3.draw_figure(\"fig_el1221401908219262802636912322\", {\"width\": 576.0, \"height\": 576.0, \"axes\": [{\"bbox\": [0.125, 0.125, 0.775, 0.775], \"xlim\": [-2.0, 3.0], \"ylim\": [-3.0, 3.0], \"xdomain\": [-2.0, 3.0], \"ydomain\": [-3.0, 3.0], \"xscale\": \"linear\", \"yscale\": \"linear\", \"axes\": [{\"position\": \"bottom\", \"nticks\": 6, \"tickvalues\": null, \"tickformat\": null, \"scale\": \"linear\", \"fontsize\": 10.0, \"grid\": {\"gridOn\": false}, \"visible\": true}, {\"position\": \"left\", \"nticks\": 7, \"tickvalues\": null, \"tickformat\": null, \"scale\": \"linear\", \"fontsize\": 10.0, \"grid\": {\"gridOn\": false}, \"visible\": true}], \"axesbg\": \"#E5E5E5\", \"axesbgalpha\": null, \"zoomable\": true, \"id\": \"el122140190792884008\", \"lines\": [], \"paths\": [], \"markers\": [], \"texts\": [{\"text\": \"the\", \"position\": [-0.13296933472156525, 1.4387670755386353], \"coordinates\": \"data\", \"h_anchor\": \"start\", \"v_baseline\": \"auto\", \"rotation\": -0.0, \"fontsize\": 10.0, \"color\": \"#008080\", \"alpha\": 1, \"zorder\": 3, \"id\": \"el122140190799149152\"}, {\"text\": \"run\", \"position\": [0.5734120011329651, 1.7196626663208008], \"coordinates\": \"data\", \"h_anchor\": \"start\", \"v_baseline\": \"auto\", \"rotation\": -0.0, \"fontsize\": 10.0, \"color\": \"#0000FF\", \"alpha\": 1, \"zorder\": 3, \"id\": \"el122140190805713976\"}, {\"text\": \"dog\", \"position\": [-0.021664077416062355, 0.8679569363594055], \"coordinates\": \"data\", \"h_anchor\": \"start\", \"v_baseline\": \"auto\", \"rotation\": -0.0, \"fontsize\": 10.0, \"color\": \"#008000\", \"alpha\": 1, \"zorder\": 3, \"id\": \"el122140190805714032\"}, {\"text\": \"where\", \"position\": [-0.21796944737434387, 2.377739906311035], \"coordinates\": \"data\", \"h_anchor\": \"start\", \"v_baseline\": \"auto\", \"rotation\": -0.0, \"fontsize\": 10.0, \"color\": \"#4B0082\", \"alpha\": 1, \"zorder\": 3, \"id\": \"el122140190805714760\"}, {\"text\": \"quick\", \"position\": [1.088663101196289, 1.9357551336288452], \"coordinates\": \"data\", \"h_anchor\": \"start\", \"v_baseline\": \"auto\", \"rotation\": -0.0, \"fontsize\": 10.0, \"color\": \"#000000\", \"alpha\": 1, \"zorder\": 3, \"id\": \"el122140190817380616\"}, {\"text\": \"independent\", \"position\": [0.2540515661239624, 0.7961070537567139], \"coordinates\": \"data\", \"h_anchor\": \"start\", \"v_baseline\": \"auto\", \"rotation\": -0.0, \"fontsize\": 10.0, \"color\": \"#008080\", \"alpha\": 1, \"zorder\": 3, \"id\": \"el122140190817381568\"}, {\"text\": \"remedial\", \"position\": [-0.7621439695358276, 1.2987394332885742], \"coordinates\": \"data\", \"h_anchor\": \"start\", \"v_baseline\": \"auto\", \"rotation\": -0.0, \"fontsize\": 10.0, \"color\": \"#008080\", \"alpha\": 1, \"zorder\": 3, \"id\": \"el122140190817381120\"}, {\"text\": \"Shop\", \"position\": [1.9208282232284546, -0.7519452571868896], \"coordinates\": \"data\", \"h_anchor\": \"start\", \"v_baseline\": \"auto\", \"rotation\": -0.0, \"fontsize\": 10.0, \"color\": \"#008080\", \"alpha\": 1, \"zorder\": 3, \"id\": \"el122140190817380728\"}, {\"text\": \"his\", \"position\": [0.2512497305870056, 0.9832419157028198], \"coordinates\": \"data\", \"h_anchor\": \"start\", \"v_baseline\": \"auto\", \"rotation\": -0.0, \"fontsize\": 10.0, \"color\": \"#008080\", \"alpha\": 1, \"zorder\": 3, \"id\": \"el122140190817381064\"}, {\"text\": \"Volume\", \"position\": [0.16539353132247925, -1.7786282300949097], \"coordinates\": \"data\", \"h_anchor\": \"start\", \"v_baseline\": \"auto\", \"rotation\": -0.0, \"fontsize\": 10.0, \"color\": \"#008080\", \"alpha\": 1, \"zorder\": 3, \"id\": \"el122140190812355888\"}, {\"text\": \"Prue\", \"position\": [-0.03057011030614376, 1.3815230131149292], \"coordinates\": \"data\", \"h_anchor\": \"start\", \"v_baseline\": \"auto\", \"rotation\": -0.0, \"fontsize\": 10.0, \"color\": \"#008080\", \"alpha\": 1, \"zorder\": 3, \"id\": \"el122140190812353648\"}, {\"text\": \"Hakim\", \"position\": [-0.8980859518051147, 2.018906593322754], \"coordinates\": \"data\", \"h_anchor\": \"start\", \"v_baseline\": \"auto\", \"rotation\": -0.0, \"fontsize\": 10.0, \"color\": \"#008080\", \"alpha\": 1, \"zorder\": 3, \"id\": \"el122140190812353368\"}, {\"text\": \"vine\", \"position\": [0.14758239686489105, 0.7320803999900818], \"coordinates\": \"data\", \"h_anchor\": \"start\", \"v_baseline\": \"auto\", \"rotation\": -0.0, \"fontsize\": 10.0, \"color\": \"#008080\", \"alpha\": 1, \"zorder\": 3, \"id\": \"el122140190860639480\"}, {\"text\": \"main\", \"position\": [-0.18012577295303345, 2.6397271156311035], \"coordinates\": \"data\", \"h_anchor\": \"start\", \"v_baseline\": \"auto\", \"rotation\": -0.0, \"fontsize\": 10.0, \"color\": \"#008080\", \"alpha\": 1, \"zorder\": 3, \"id\": \"el122140190860636512\"}, {\"text\": \"Abbot\", \"position\": [-0.6464399099349976, -1.4163109064102173], \"coordinates\": \"data\", \"h_anchor\": \"start\", \"v_baseline\": \"auto\", \"rotation\": -0.0, \"fontsize\": 10.0, \"color\": \"#008080\", \"alpha\": 1, \"zorder\": 3, \"id\": \"el122140190860637632\"}, {\"text\": \"Influence\", \"position\": [1.0074392557144165, 0.3488190770149231], \"coordinates\": \"data\", \"h_anchor\": \"start\", \"v_baseline\": \"auto\", \"rotation\": -0.0, \"fontsize\": 10.0, \"color\": \"#008080\", \"alpha\": 1, \"zorder\": 3, \"id\": \"el122140190860639256\"}, {\"text\": \"superiority\", \"position\": [1.477140188217163, 1.5427578687667847], \"coordinates\": \"data\", \"h_anchor\": \"start\", \"v_baseline\": \"auto\", \"rotation\": -0.0, \"fontsize\": 10.0, \"color\": \"#008080\", \"alpha\": 1, \"zorder\": 3, \"id\": \"el122140190860639816\"}, {\"text\": \"vertebrae\", \"position\": [0.815991222858429, -0.6883450746536255], \"coordinates\": \"data\", \"h_anchor\": \"start\", \"v_baseline\": \"auto\", \"rotation\": -0.0, \"fontsize\": 10.0, \"color\": \"#008080\", \"alpha\": 1, \"zorder\": 3, \"id\": \"el122140190860639032\"}, {\"text\": \"motives\", \"position\": [0.8247168660163879, 1.2798925638198853], \"coordinates\": \"data\", \"h_anchor\": \"start\", \"v_baseline\": \"auto\", \"rotation\": -0.0, \"fontsize\": 10.0, \"color\": \"#008080\", \"alpha\": 1, \"zorder\": 3, \"id\": \"el122140190860636232\"}, {\"text\": \"571\", \"position\": [-0.05338839814066887, -1.407231092453003], \"coordinates\": \"data\", \"h_anchor\": \"start\", \"v_baseline\": \"auto\", \"rotation\": -0.0, \"fontsize\": 10.0, \"color\": \"#008080\", \"alpha\": 1, \"zorder\": 3, \"id\": \"el122140190860639704\"}, {\"text\": \"MacKay\", \"position\": [-0.3688185214996338, 1.7974499464035034], \"coordinates\": \"data\", \"h_anchor\": \"start\", \"v_baseline\": \"auto\", \"rotation\": -0.0, \"fontsize\": 10.0, \"color\": \"#008080\", \"alpha\": 1, \"zorder\": 3, \"id\": \"el122140190810654256\"}, {\"text\": \"creature\", \"position\": [2.045384645462036, 1.0097997188568115], \"coordinates\": \"data\", \"h_anchor\": \"start\", \"v_baseline\": \"auto\", \"rotation\": -0.0, \"fontsize\": 10.0, \"color\": \"#008080\", \"alpha\": 1, \"zorder\": 3, \"id\": \"el122140190860637016\"}, {\"text\": \"Peckhams\", \"position\": [-1.55785071849823, 0.4615047872066498], \"coordinates\": \"data\", \"h_anchor\": \"start\", \"v_baseline\": \"auto\", \"rotation\": -0.0, \"fontsize\": 10.0, \"color\": \"#008080\", \"alpha\": 1, \"zorder\": 3, \"id\": \"el122140190860636736\"}, {\"text\": \"conducts\", \"position\": [-0.05345430225133896, -1.6628673076629639], \"coordinates\": \"data\", \"h_anchor\": \"start\", \"v_baseline\": \"auto\", \"rotation\": -0.0, \"fontsize\": 10.0, \"color\": \"#008080\", \"alpha\": 1, \"zorder\": 3, \"id\": \"el122140190860636904\"}, {\"text\": \"subjected\", \"position\": [1.2924582958221436, 0.5689688324928284], \"coordinates\": \"data\", \"h_anchor\": \"start\", \"v_baseline\": \"auto\", \"rotation\": -0.0, \"fontsize\": 10.0, \"color\": \"#008080\", \"alpha\": 1, \"zorder\": 3, \"id\": \"el122140190860637408\"}, {\"text\": \"29\", \"position\": [1.382386326789856, 2.4846534729003906], \"coordinates\": \"data\", \"h_anchor\": \"start\", \"v_baseline\": \"auto\", \"rotation\": -0.0, \"fontsize\": 10.0, \"color\": \"#0000FF\", \"alpha\": 1, \"zorder\": 3, \"id\": \"el122140190860639088\"}, {\"text\": \"Recently\", \"position\": [-0.9173482656478882, 1.23149836063385], \"coordinates\": \"data\", \"h_anchor\": \"start\", \"v_baseline\": \"auto\", \"rotation\": -0.0, \"fontsize\": 10.0, \"color\": \"#0000FF\", \"alpha\": 1, \"zorder\": 3, \"id\": \"el122140190860637856\"}, {\"text\": \"striker\", \"position\": [1.7621073722839355, -1.2687196731567383], \"coordinates\": \"data\", \"h_anchor\": \"start\", \"v_baseline\": \"auto\", \"rotation\": -0.0, \"fontsize\": 10.0, \"color\": \"#0000FF\", \"alpha\": 1, \"zorder\": 3, \"id\": \"el122140190860636344\"}, {\"text\": \"wickets\", \"position\": [0.3143230378627777, -0.6060060262680054], \"coordinates\": \"data\", \"h_anchor\": \"start\", \"v_baseline\": \"auto\", \"rotation\": -0.0, \"fontsize\": 10.0, \"color\": \"#0000FF\", \"alpha\": 1, \"zorder\": 3, \"id\": \"el122140190860636456\"}, {\"text\": \"1981\", \"position\": [0.9701150059700012, 1.0136184692382812], \"coordinates\": \"data\", \"h_anchor\": \"start\", \"v_baseline\": \"auto\", \"rotation\": -0.0, \"fontsize\": 10.0, \"color\": \"#0000FF\", \"alpha\": 1, \"zorder\": 3, \"id\": \"el122140190860637968\"}, {\"text\": \"flick\", \"position\": [-1.171390175819397, 0.7997186183929443], \"coordinates\": \"data\", \"h_anchor\": \"start\", \"v_baseline\": \"auto\", \"rotation\": -0.0, \"fontsize\": 10.0, \"color\": \"#0000FF\", \"alpha\": 1, \"zorder\": 3, \"id\": \"el122140190860637800\"}, {\"text\": \"ruled\", \"position\": [0.1031460389494896, 2.2418320178985596], \"coordinates\": \"data\", \"h_anchor\": \"start\", \"v_baseline\": \"auto\", \"rotation\": -0.0, \"fontsize\": 10.0, \"color\": \"#0000FF\", \"alpha\": 1, \"zorder\": 3, \"id\": \"el122140190860638696\"}, {\"text\": \"adulatory\", \"position\": [1.2726839780807495, -0.4898874759674072], \"coordinates\": \"data\", \"h_anchor\": \"start\", \"v_baseline\": \"auto\", \"rotation\": -0.0, \"fontsize\": 10.0, \"color\": \"#0000FF\", \"alpha\": 1, \"zorder\": 3, \"id\": \"el122140190860639312\"}, {\"text\": \"GPa\", \"position\": [-0.6859244704246521, 1.3649237155914307], \"coordinates\": \"data\", \"h_anchor\": \"start\", \"v_baseline\": \"auto\", \"rotation\": -0.0, \"fontsize\": 10.0, \"color\": \"#0000FF\", \"alpha\": 1, \"zorder\": 3, \"id\": \"el122140190860640152\"}, {\"text\": \"canceled\", \"position\": [-0.662533164024353, -1.4886143207550049], \"coordinates\": \"data\", \"h_anchor\": \"start\", \"v_baseline\": \"auto\", \"rotation\": -0.0, \"fontsize\": 10.0, \"color\": \"#0000FF\", \"alpha\": 1, \"zorder\": 3, \"id\": \"el122140190860638976\"}, {\"text\": \"Darryl\", \"position\": [-1.4043251276016235, 1.221198558807373], \"coordinates\": \"data\", \"h_anchor\": \"start\", \"v_baseline\": \"auto\", \"rotation\": -0.0, \"fontsize\": 10.0, \"color\": \"#0000FF\", \"alpha\": 1, \"zorder\": 3, \"id\": \"el122140190869636432\"}, {\"text\": \"Dick\", \"position\": [-0.10081993043422699, 1.1296645402908325], \"coordinates\": \"data\", \"h_anchor\": \"start\", \"v_baseline\": \"auto\", \"rotation\": -0.0, \"fontsize\": 10.0, \"color\": \"#0000FF\", \"alpha\": 1, \"zorder\": 3, \"id\": \"el122140190869637832\"}, {\"text\": \"deserve\", \"position\": [-1.6560993194580078, 0.0413442999124527], \"coordinates\": \"data\", \"h_anchor\": \"start\", \"v_baseline\": \"auto\", \"rotation\": -0.0, \"fontsize\": 10.0, \"color\": \"#0000FF\", \"alpha\": 1, \"zorder\": 3, \"id\": \"el122140190869637160\"}, {\"text\": \"Millais\", \"position\": [0.4556441307067871, 2.04201602935791], \"coordinates\": \"data\", \"h_anchor\": \"start\", \"v_baseline\": \"auto\", \"rotation\": -0.0, \"fontsize\": 10.0, \"color\": \"#0000FF\", \"alpha\": 1, \"zorder\": 3, \"id\": \"el122140190869636768\"}, {\"text\": \"Tabernacle\", \"position\": [-0.667289674282074, 0.6208910346031189], \"coordinates\": \"data\", \"h_anchor\": \"start\", \"v_baseline\": \"auto\", \"rotation\": -0.0, \"fontsize\": 10.0, \"color\": \"#0000FF\", \"alpha\": 1, \"zorder\": 3, \"id\": \"el122140190869637104\"}, {\"text\": \"270\", \"position\": [1.768749713897705, 1.9805418252944946], \"coordinates\": \"data\", \"h_anchor\": \"start\", \"v_baseline\": \"auto\", \"rotation\": -0.0, \"fontsize\": 10.0, \"color\": \"#0000FF\", \"alpha\": 1, \"zorder\": 3, \"id\": \"el122140190869638560\"}, {\"text\": \"Weaver\", \"position\": [-0.895798921585083, -1.0192605257034302], \"coordinates\": \"data\", \"h_anchor\": \"start\", \"v_baseline\": \"auto\", \"rotation\": -0.0, \"fontsize\": 10.0, \"color\": \"#0000FF\", \"alpha\": 1, \"zorder\": 3, \"id\": \"el122140190869637384\"}, {\"text\": \"Bohemond\", \"position\": [-0.937831699848175, 0.6723652482032776], \"coordinates\": \"data\", \"h_anchor\": \"start\", \"v_baseline\": \"auto\", \"rotation\": -0.0, \"fontsize\": 10.0, \"color\": \"#0000FF\", \"alpha\": 1, \"zorder\": 3, \"id\": \"el122140190869636880\"}, {\"text\": \"Lynx\", \"position\": [-1.7148098945617676, -0.4160715937614441], \"coordinates\": \"data\", \"h_anchor\": \"start\", \"v_baseline\": \"auto\", \"rotation\": -0.0, \"fontsize\": 10.0, \"color\": \"#0000FF\", \"alpha\": 1, \"zorder\": 3, \"id\": \"el122140190869636656\"}, {\"text\": \"Schwimmer\", \"position\": [-0.6722639203071594, -0.6779581308364868], \"coordinates\": \"data\", \"h_anchor\": \"start\", \"v_baseline\": \"auto\", \"rotation\": -0.0, \"fontsize\": 10.0, \"color\": \"#0000FF\", \"alpha\": 1, \"zorder\": 3, \"id\": \"el122140190869637664\"}, {\"text\": \"messages\", \"position\": [1.9664932489395142, 1.1691174507141113], \"coordinates\": \"data\", \"h_anchor\": \"start\", \"v_baseline\": \"auto\", \"rotation\": -0.0, \"fontsize\": 10.0, \"color\": \"#008000\", \"alpha\": 1, \"zorder\": 3, \"id\": \"el122140190869636488\"}, {\"text\": \"Palestine\", \"position\": [1.1325304508209229, -1.427998423576355], \"coordinates\": \"data\", \"h_anchor\": \"start\", \"v_baseline\": \"auto\", \"rotation\": -0.0, \"fontsize\": 10.0, \"color\": \"#008000\", \"alpha\": 1, \"zorder\": 3, \"id\": \"el122140190869639008\"}, {\"text\": \"reminiscent\", \"position\": [1.979570746421814, 1.2737997770309448], \"coordinates\": \"data\", \"h_anchor\": \"start\", \"v_baseline\": \"auto\", \"rotation\": -0.0, \"fontsize\": 10.0, \"color\": \"#008000\", \"alpha\": 1, \"zorder\": 3, \"id\": \"el122140190869636712\"}, {\"text\": \"Genoa\", \"position\": [-1.0000927448272705, 1.1844682693481445], \"coordinates\": \"data\", \"h_anchor\": \"start\", \"v_baseline\": \"auto\", \"rotation\": -0.0, \"fontsize\": 10.0, \"color\": \"#008000\", \"alpha\": 1, \"zorder\": 3, \"id\": \"el122140190869638056\"}, {\"text\": \"Nesbitt\", \"position\": [-1.093850016593933, 0.26671090722084045], \"coordinates\": \"data\", \"h_anchor\": \"start\", \"v_baseline\": \"auto\", \"rotation\": -0.0, \"fontsize\": 10.0, \"color\": \"#008000\", \"alpha\": 1, \"zorder\": 3, \"id\": \"el122140190869635984\"}, {\"text\": \"crowns\", \"position\": [2.3674731254577637, 0.9019677639007568], \"coordinates\": \"data\", \"h_anchor\": \"start\", \"v_baseline\": \"auto\", \"rotation\": -0.0, \"fontsize\": 10.0, \"color\": \"#008000\", \"alpha\": 1, \"zorder\": 3, \"id\": \"el122140190869639064\"}, {\"text\": \"Tabernacle\", \"position\": [-0.667289674282074, 0.6208910346031189], \"coordinates\": \"data\", \"h_anchor\": \"start\", \"v_baseline\": \"auto\", \"rotation\": -0.0, \"fontsize\": 10.0, \"color\": \"#008000\", \"alpha\": 1, \"zorder\": 3, \"id\": \"el122140190869635592\"}, {\"text\": \"Mysore\", \"position\": [1.423022747039795, -1.1093239784240723], \"coordinates\": \"data\", \"h_anchor\": \"start\", \"v_baseline\": \"auto\", \"rotation\": -0.0, \"fontsize\": 10.0, \"color\": \"#008000\", \"alpha\": 1, \"zorder\": 3, \"id\": \"el122140190869638504\"}, {\"text\": \"Antarctica\", \"position\": [0.10331563651561737, 0.5243449211120605], \"coordinates\": \"data\", \"h_anchor\": \"start\", \"v_baseline\": \"auto\", \"rotation\": -0.0, \"fontsize\": 10.0, \"color\": \"#008000\", \"alpha\": 1, \"zorder\": 3, \"id\": \"el122140190869636824\"}, {\"text\": \"squeezed\", \"position\": [1.81595778465271, 1.2921011447906494], \"coordinates\": \"data\", \"h_anchor\": \"start\", \"v_baseline\": \"auto\", \"rotation\": -0.0, \"fontsize\": 10.0, \"color\": \"#008000\", \"alpha\": 1, \"zorder\": 3, \"id\": \"el122140190869638000\"}, {\"text\": \"Reala\", \"position\": [-1.0369305610656738, 0.25827479362487793], \"coordinates\": \"data\", \"h_anchor\": \"start\", \"v_baseline\": \"auto\", \"rotation\": -0.0, \"fontsize\": 10.0, \"color\": \"#008000\", \"alpha\": 1, \"zorder\": 3, \"id\": \"el122140190869637944\"}, {\"text\": \"Carlos\", \"position\": [-0.26668453216552734, -0.17553982138633728], \"coordinates\": \"data\", \"h_anchor\": \"start\", \"v_baseline\": \"auto\", \"rotation\": -0.0, \"fontsize\": 10.0, \"color\": \"#008000\", \"alpha\": 1, \"zorder\": 3, \"id\": \"el122140190869637888\"}, {\"text\": \"corrected\", \"position\": [1.9727023839950562, -1.2251017093658447], \"coordinates\": \"data\", \"h_anchor\": \"start\", \"v_baseline\": \"auto\", \"rotation\": -0.0, \"fontsize\": 10.0, \"color\": \"#008000\", \"alpha\": 1, \"zorder\": 3, \"id\": \"el122140190816374232\"}, {\"text\": \"Mann\", \"position\": [0.9462335109710693, -0.44427725672721863], \"coordinates\": \"data\", \"h_anchor\": \"start\", \"v_baseline\": \"auto\", \"rotation\": -0.0, \"fontsize\": 10.0, \"color\": \"#008000\", \"alpha\": 1, \"zorder\": 3, \"id\": \"el122140190828856712\"}, {\"text\": \"PAVN\", \"position\": [-0.33802279829978943, 1.896579623222351], \"coordinates\": \"data\", \"h_anchor\": \"start\", \"v_baseline\": \"auto\", \"rotation\": -0.0, \"fontsize\": 10.0, \"color\": \"#008000\", \"alpha\": 1, \"zorder\": 3, \"id\": \"el122140190828856768\"}, {\"text\": \"slam\", \"position\": [1.513469934463501, 0.5406247973442078], \"coordinates\": \"data\", \"h_anchor\": \"start\", \"v_baseline\": \"auto\", \"rotation\": -0.0, \"fontsize\": 10.0, \"color\": \"#008000\", \"alpha\": 1, \"zorder\": 3, \"id\": \"el122140190800952848\"}, {\"text\": \"Clearing\", \"position\": [-0.651455283164978, -0.5132462978363037], \"coordinates\": \"data\", \"h_anchor\": \"start\", \"v_baseline\": \"auto\", \"rotation\": -0.0, \"fontsize\": 10.0, \"color\": \"#008000\", \"alpha\": 1, \"zorder\": 3, \"id\": \"el122140190870635296\"}, {\"text\": \"contractors\", \"position\": [-1.602505087852478, 0.2607661783695221], \"coordinates\": \"data\", \"h_anchor\": \"start\", \"v_baseline\": \"auto\", \"rotation\": -0.0, \"fontsize\": 10.0, \"color\": \"#008000\", \"alpha\": 1, \"zorder\": 3, \"id\": \"el122140190870636416\"}, {\"text\": \"leave\", \"position\": [0.5120214819908142, 1.2426888942718506], \"coordinates\": \"data\", \"h_anchor\": \"start\", \"v_baseline\": \"auto\", \"rotation\": -0.0, \"fontsize\": 10.0, \"color\": \"#008000\", \"alpha\": 1, \"zorder\": 3, \"id\": \"el122140190870637928\"}, {\"text\": \"computational\", \"position\": [0.2543918490409851, 0.2834746837615967], \"coordinates\": \"data\", \"h_anchor\": \"start\", \"v_baseline\": \"auto\", \"rotation\": -0.0, \"fontsize\": 10.0, \"color\": \"#008000\", \"alpha\": 1, \"zorder\": 3, \"id\": \"el122140190870636976\"}, {\"text\": \"imply\", \"position\": [-0.3688823878765106, -1.2097188234329224], \"coordinates\": \"data\", \"h_anchor\": \"start\", \"v_baseline\": \"auto\", \"rotation\": -0.0, \"fontsize\": 10.0, \"color\": \"#4B0082\", \"alpha\": 1, \"zorder\": 3, \"id\": \"el122140190870638376\"}, {\"text\": \"whom\", \"position\": [2.1656479835510254, 1.8111599683761597], \"coordinates\": \"data\", \"h_anchor\": \"start\", \"v_baseline\": \"auto\", \"rotation\": -0.0, \"fontsize\": 10.0, \"color\": \"#4B0082\", \"alpha\": 1, \"zorder\": 3, \"id\": \"el122140190870638488\"}, {\"text\": \"beyond\", \"position\": [2.182081460952759, 0.7228695750236511], \"coordinates\": \"data\", \"h_anchor\": \"start\", \"v_baseline\": \"auto\", \"rotation\": -0.0, \"fontsize\": 10.0, \"color\": \"#4B0082\", \"alpha\": 1, \"zorder\": 3, \"id\": \"el122140190870637312\"}, {\"text\": \"earliest\", \"position\": [0.5941083431243896, 2.7541303634643555], \"coordinates\": \"data\", \"h_anchor\": \"start\", \"v_baseline\": \"auto\", \"rotation\": -0.0, \"fontsize\": 10.0, \"color\": \"#4B0082\", \"alpha\": 1, \"zorder\": 3, \"id\": \"el122140190870637256\"}, {\"text\": \"Churches\", \"position\": [0.020447198301553726, -0.6977940797805786], \"coordinates\": \"data\", \"h_anchor\": \"start\", \"v_baseline\": \"auto\", \"rotation\": -0.0, \"fontsize\": 10.0, \"color\": \"#4B0082\", \"alpha\": 1, \"zorder\": 3, \"id\": \"el122140190870637872\"}, {\"text\": \"whether\", \"position\": [2.609917640686035, 1.226550579071045], \"coordinates\": \"data\", \"h_anchor\": \"start\", \"v_baseline\": \"auto\", \"rotation\": -0.0, \"fontsize\": 10.0, \"color\": \"#4B0082\", \"alpha\": 1, \"zorder\": 3, \"id\": \"el122140190870635240\"}, {\"text\": \"warn\", \"position\": [-0.6689892411231995, -1.004753589630127], \"coordinates\": \"data\", \"h_anchor\": \"start\", \"v_baseline\": \"auto\", \"rotation\": -0.0, \"fontsize\": 10.0, \"color\": \"#4B0082\", \"alpha\": 1, \"zorder\": 3, \"id\": \"el122140190870635688\"}, {\"text\": \"treating\", \"position\": [0.6859158873558044, 0.39383673667907715], \"coordinates\": \"data\", \"h_anchor\": \"start\", \"v_baseline\": \"auto\", \"rotation\": -0.0, \"fontsize\": 10.0, \"color\": \"#4B0082\", \"alpha\": 1, \"zorder\": 3, \"id\": \"el122140190870637984\"}, {\"text\": \"archaic\", \"position\": [-1.5934159755706787, -0.16876056790351868], \"coordinates\": \"data\", \"h_anchor\": \"start\", \"v_baseline\": \"auto\", \"rotation\": -0.0, \"fontsize\": 10.0, \"color\": \"#4B0082\", \"alpha\": 1, \"zorder\": 3, \"id\": \"el122140190870636864\"}, {\"text\": \"beside\", \"position\": [0.8552354574203491, -0.6783784627914429], \"coordinates\": \"data\", \"h_anchor\": \"start\", \"v_baseline\": \"auto\", \"rotation\": -0.0, \"fontsize\": 10.0, \"color\": \"#4B0082\", \"alpha\": 1, \"zorder\": 3, \"id\": \"el122140190870635912\"}, {\"text\": \"clothesline\", \"position\": [-1.1218899488449097, 1.8986643552780151], \"coordinates\": \"data\", \"h_anchor\": \"start\", \"v_baseline\": \"auto\", \"rotation\": -0.0, \"fontsize\": 10.0, \"color\": \"#4B0082\", \"alpha\": 1, \"zorder\": 3, \"id\": \"el122140190870635520\"}, {\"text\": \"<\", \"position\": [0.04982137680053711, 2.706545114517212], \"coordinates\": \"data\", \"h_anchor\": \"start\", \"v_baseline\": \"auto\", \"rotation\": -0.0, \"fontsize\": 10.0, \"color\": \"#4B0082\", \"alpha\": 1, \"zorder\": 3, \"id\": \"el122140190870636472\"}, {\"text\": \"Moreover\", \"position\": [1.6002119779586792, -0.03948643058538437], \"coordinates\": \"data\", \"h_anchor\": \"start\", \"v_baseline\": \"auto\", \"rotation\": -0.0, \"fontsize\": 10.0, \"color\": \"#4B0082\", \"alpha\": 1, \"zorder\": 3, \"id\": \"el122140190870637144\"}, {\"text\": \"coefficient\", \"position\": [1.2703800201416016, -0.7029944062232971], \"coordinates\": \"data\", \"h_anchor\": \"start\", \"v_baseline\": \"auto\", \"rotation\": -0.0, \"fontsize\": 10.0, \"color\": \"#4B0082\", \"alpha\": 1, \"zorder\": 3, \"id\": \"el122140190870636752\"}, {\"text\": \"Sawtooth\", \"position\": [0.3156818747520447, -1.5279862880706787], \"coordinates\": \"data\", \"h_anchor\": \"start\", \"v_baseline\": \"auto\", \"rotation\": -0.0, \"fontsize\": 10.0, \"color\": \"#4B0082\", \"alpha\": 1, \"zorder\": 3, \"id\": \"el122140190870636304\"}, {\"text\": \"1275\", \"position\": [-0.5485522747039795, 0.3559187054634094], \"coordinates\": \"data\", \"h_anchor\": \"start\", \"v_baseline\": \"auto\", \"rotation\": -0.0, \"fontsize\": 10.0, \"color\": \"#4B0082\", \"alpha\": 1, \"zorder\": 3, \"id\": \"el122140190870637424\"}, {\"text\": \"successive\", \"position\": [1.4769285917282104, -1.0366692543029785], \"coordinates\": \"data\", \"h_anchor\": \"start\", \"v_baseline\": \"auto\", \"rotation\": -0.0, \"fontsize\": 10.0, \"color\": \"#4B0082\", \"alpha\": 1, \"zorder\": 3, \"id\": \"el122140190870638432\"}, {\"text\": \"attach\", \"position\": [-0.33055633306503296, -0.39203333854675293], \"coordinates\": \"data\", \"h_anchor\": \"start\", \"v_baseline\": \"auto\", \"rotation\": -0.0, \"fontsize\": 10.0, \"color\": \"#4B0082\", \"alpha\": 1, \"zorder\": 3, \"id\": \"el122140190870636640\"}, {\"text\": \"enlargement\", \"position\": [0.6712293028831482, -0.3623298704624176], \"coordinates\": \"data\", \"h_anchor\": \"start\", \"v_baseline\": \"auto\", \"rotation\": -0.0, \"fontsize\": 10.0, \"color\": \"#4B0082\", \"alpha\": 1, \"zorder\": 3, \"id\": \"el122140190870634792\"}, {\"text\": \"Pagoda\", \"position\": [-0.13075385987758636, -0.40864500403404236], \"coordinates\": \"data\", \"h_anchor\": \"start\", \"v_baseline\": \"auto\", \"rotation\": -0.0, \"fontsize\": 10.0, \"color\": \"#4B0082\", \"alpha\": 1, \"zorder\": 3, \"id\": \"el122140190795392392\"}, {\"text\": \"miniature\", \"position\": [0.7811845541000366, 0.401228666305542], \"coordinates\": \"data\", \"h_anchor\": \"start\", \"v_baseline\": \"auto\", \"rotation\": -0.0, \"fontsize\": 10.0, \"color\": \"#000000\", \"alpha\": 1, \"zorder\": 3, \"id\": \"el122140190795391160\"}, {\"text\": \"Charleston\", \"position\": [1.55410897731781, 2.00858736038208], \"coordinates\": \"data\", \"h_anchor\": \"start\", \"v_baseline\": \"auto\", \"rotation\": -0.0, \"fontsize\": 10.0, \"color\": \"#000000\", \"alpha\": 1, \"zorder\": 3, \"id\": \"el122140190819754168\"}, {\"text\": \"separating\", \"position\": [1.2843679189682007, -0.9025121927261353], \"coordinates\": \"data\", \"h_anchor\": \"start\", \"v_baseline\": \"auto\", \"rotation\": -0.0, \"fontsize\": 10.0, \"color\": \"#000000\", \"alpha\": 1, \"zorder\": 3, \"id\": \"el122140190819754056\"}, {\"text\": \"Regarding\", \"position\": [1.7345701456069946, -1.2721960544586182], \"coordinates\": \"data\", \"h_anchor\": \"start\", \"v_baseline\": \"auto\", \"rotation\": -0.0, \"fontsize\": 10.0, \"color\": \"#000000\", \"alpha\": 1, \"zorder\": 3, \"id\": \"el122140190810165712\"}, {\"text\": \"Live\", \"position\": [2.284578561782837, 1.7739481925964355], \"coordinates\": \"data\", \"h_anchor\": \"start\", \"v_baseline\": \"auto\", \"rotation\": -0.0, \"fontsize\": 10.0, \"color\": \"#000000\", \"alpha\": 1, \"zorder\": 3, \"id\": \"el122140190810167280\"}, {\"text\": \"fulfil\", \"position\": [-0.23641625046730042, -0.00454303901642561], \"coordinates\": \"data\", \"h_anchor\": \"start\", \"v_baseline\": \"auto\", \"rotation\": -0.0, \"fontsize\": 10.0, \"color\": \"#000000\", \"alpha\": 1, \"zorder\": 3, \"id\": \"el122140190817497664\"}, {\"text\": \"Emanuel\", \"position\": [-0.7686442732810974, -1.0683534145355225], \"coordinates\": \"data\", \"h_anchor\": \"start\", \"v_baseline\": \"auto\", \"rotation\": -0.0, \"fontsize\": 10.0, \"color\": \"#000000\", \"alpha\": 1, \"zorder\": 3, \"id\": \"el122140190801099912\"}, {\"text\": \"ceremonial\", \"position\": [1.978983998298645, 1.1316614151000977], \"coordinates\": \"data\", \"h_anchor\": \"start\", \"v_baseline\": \"auto\", \"rotation\": -0.0, \"fontsize\": 10.0, \"color\": \"#000000\", \"alpha\": 1, \"zorder\": 3, \"id\": \"el122140190810976720\"}, {\"text\": \"signaling\", \"position\": [1.9438258409500122, 2.1200313568115234], \"coordinates\": \"data\", \"h_anchor\": \"start\", \"v_baseline\": \"auto\", \"rotation\": -0.0, \"fontsize\": 10.0, \"color\": \"#000000\", \"alpha\": 1, \"zorder\": 3, \"id\": \"el122140190870220584\"}, {\"text\": \"1809\", \"position\": [1.407739520072937, 0.5827780961990356], \"coordinates\": \"data\", \"h_anchor\": \"start\", \"v_baseline\": \"auto\", \"rotation\": -0.0, \"fontsize\": 10.0, \"color\": \"#000000\", \"alpha\": 1, \"zorder\": 3, \"id\": \"el122140190811212096\"}, {\"text\": \"ceilings\", \"position\": [0.03933580219745636, -0.46272945404052734], \"coordinates\": \"data\", \"h_anchor\": \"start\", \"v_baseline\": \"auto\", \"rotation\": -0.0, \"fontsize\": 10.0, \"color\": \"#000000\", \"alpha\": 1, \"zorder\": 3, \"id\": \"el122140190817131712\"}, {\"text\": \"calculators\", \"position\": [-0.8240883946418762, -1.1124354600906372], \"coordinates\": \"data\", \"h_anchor\": \"start\", \"v_baseline\": \"auto\", \"rotation\": -0.0, \"fontsize\": 10.0, \"color\": \"#000000\", \"alpha\": 1, \"zorder\": 3, \"id\": \"el122140190811249744\"}, {\"text\": \"agrees\", \"position\": [0.7596363425254822, 1.2662794589996338], \"coordinates\": \"data\", \"h_anchor\": \"start\", \"v_baseline\": \"auto\", \"rotation\": -0.0, \"fontsize\": 10.0, \"color\": \"#000000\", \"alpha\": 1, \"zorder\": 3, \"id\": \"el122140190831074440\"}, {\"text\": \"maturity\", \"position\": [0.5691859126091003, 1.8172154426574707], \"coordinates\": \"data\", \"h_anchor\": \"start\", \"v_baseline\": \"auto\", \"rotation\": -0.0, \"fontsize\": 10.0, \"color\": \"#000000\", \"alpha\": 1, \"zorder\": 3, \"id\": \"el122140190811151776\"}, {\"text\": \"Chaytor\", \"position\": [-0.9348189234733582, 1.0234850645065308], \"coordinates\": \"data\", \"h_anchor\": \"start\", \"v_baseline\": \"auto\", \"rotation\": -0.0, \"fontsize\": 10.0, \"color\": \"#000000\", \"alpha\": 1, \"zorder\": 3, \"id\": \"el122140190827808528\"}, {\"text\": \"exceedingly\", \"position\": [-0.8519243001937866, 0.9512191414833069], \"coordinates\": \"data\", \"h_anchor\": \"start\", \"v_baseline\": \"auto\", \"rotation\": -0.0, \"fontsize\": 10.0, \"color\": \"#000000\", \"alpha\": 1, \"zorder\": 3, \"id\": \"el122140190827810656\"}, {\"text\": \"swarm\", \"position\": [-0.927815318107605, 1.387953281402588], \"coordinates\": \"data\", \"h_anchor\": \"start\", \"v_baseline\": \"auto\", \"rotation\": -0.0, \"fontsize\": 10.0, \"color\": \"#000000\", \"alpha\": 1, \"zorder\": 3, \"id\": \"el122140190827807520\"}, {\"text\": \"Tr\\u01b0\\u01a1ng\", \"position\": [-0.2514283061027527, 1.7918682098388672], \"coordinates\": \"data\", \"h_anchor\": \"start\", \"v_baseline\": \"auto\", \"rotation\": -0.0, \"fontsize\": 10.0, \"color\": \"#000000\", \"alpha\": 1, \"zorder\": 3, \"id\": \"el122140190827806792\"}, {\"text\": \"Knox\", \"position\": [0.04243018478155136, -1.1266810894012451], \"coordinates\": \"data\", \"h_anchor\": \"start\", \"v_baseline\": \"auto\", \"rotation\": -0.0, \"fontsize\": 10.0, \"color\": \"#000000\", \"alpha\": 1, \"zorder\": 3, \"id\": \"el122140190801060136\"}, {\"text\": \"ecoregion\", \"position\": [-1.1001849174499512, 1.1702418327331543], \"coordinates\": \"data\", \"h_anchor\": \"start\", \"v_baseline\": \"auto\", \"rotation\": -0.0, \"fontsize\": 10.0, \"color\": \"#000000\", \"alpha\": 1, \"zorder\": 3, \"id\": \"el122140190801060024\"}], \"collections\": [{\"offsets\": \"data01\", \"xindex\": 0, \"yindex\": 1, \"paths\": [[[[0.0, -0.5], [0.13260155, -0.5], [0.25978993539242673, -0.44731684579412084], [0.3535533905932738, -0.3535533905932738], [0.44731684579412084, -0.25978993539242673], [0.5, -0.13260155], [0.5, 0.0], [0.5, 0.13260155], [0.44731684579412084, 0.25978993539242673], [0.3535533905932738, 0.3535533905932738], [0.25978993539242673, 0.44731684579412084], [0.13260155, 0.5], [0.0, 0.5], [-0.13260155, 0.5], [-0.25978993539242673, 0.44731684579412084], [-0.3535533905932738, 0.3535533905932738], [-0.44731684579412084, 0.25978993539242673], [-0.5, 0.13260155], [-0.5, 0.0], [-0.5, -0.13260155], [-0.44731684579412084, -0.25978993539242673], [-0.3535533905932738, -0.3535533905932738], [-0.25978993539242673, -0.44731684579412084], [-0.13260155, -0.5], [0.0, -0.5]], [\"M\", \"C\", \"C\", \"C\", \"C\", \"C\", \"C\", \"C\", \"C\", \"Z\"]]], \"pathtransforms\": [[4.47213595499958, 0.0, 0.0, 4.47213595499958, 0.0, 0.0]], \"alphas\": [null], \"edgecolors\": [\"#000080\"], \"facecolors\": [\"#000080\"], \"edgewidths\": [0.5], \"offsetcoordinates\": \"data\", \"pathcoordinates\": \"display\", \"zorder\": 1, \"id\": \"el122140190810654368\"}], \"images\": [], \"sharex\": [], \"sharey\": []}], \"data\": {\"data01\": [[-0.13296933472156525, 1.4387670755386353], [0.5734120011329651, 1.7196626663208008], [-0.021664077416062355, 0.8679569363594055], [-0.21796944737434387, 2.377739906311035], [1.088663101196289, 1.9357551336288452], [0.2540515661239624, 0.7961070537567139], [-0.7621439695358276, 1.2987394332885742], [1.9208282232284546, -0.7519452571868896], [0.2512497305870056, 0.9832419157028198], [0.16539353132247925, -1.7786282300949097], [-0.03057011030614376, 1.3815230131149292], [-0.8980859518051147, 2.018906593322754], [0.14758239686489105, 0.7320803999900818], [-0.18012577295303345, 2.6397271156311035], [-0.6464399099349976, -1.4163109064102173], [1.0074392557144165, 0.3488190770149231], [1.477140188217163, 1.5427578687667847], [0.815991222858429, -0.6883450746536255], [0.8247168660163879, 1.2798925638198853], [-0.05338839814066887, -1.407231092453003], [-0.3688185214996338, 1.7974499464035034], [2.045384645462036, 1.0097997188568115], [-1.55785071849823, 0.4615047872066498], [-0.05345430225133896, -1.6628673076629639], [1.2924582958221436, 0.5689688324928284], [1.382386326789856, 2.4846534729003906], [-0.9173482656478882, 1.23149836063385], [1.7621073722839355, -1.2687196731567383], [0.3143230378627777, -0.6060060262680054], [0.9701150059700012, 1.0136184692382812], [-1.171390175819397, 0.7997186183929443], [0.1031460389494896, 2.2418320178985596], [1.2726839780807495, -0.4898874759674072], [-0.6859244704246521, 1.3649237155914307], [-0.662533164024353, -1.4886143207550049], [-1.4043251276016235, 1.221198558807373], [-0.10081993043422699, 1.1296645402908325], [-1.6560993194580078, 0.0413442999124527], [0.4556441307067871, 2.04201602935791], [-0.667289674282074, 0.6208910346031189], [1.768749713897705, 1.9805418252944946], [-0.895798921585083, -1.0192605257034302], [-0.937831699848175, 0.6723652482032776], [-1.7148098945617676, -0.4160715937614441], [-0.6722639203071594, -0.6779581308364868], [1.9664932489395142, 1.1691174507141113], [1.1325304508209229, -1.427998423576355], [1.979570746421814, 1.2737997770309448], [-1.0000927448272705, 1.1844682693481445], [-1.093850016593933, 0.26671090722084045], [2.3674731254577637, 0.9019677639007568], [-0.667289674282074, 0.6208910346031189], [1.423022747039795, -1.1093239784240723], [0.10331563651561737, 0.5243449211120605], [1.81595778465271, 1.2921011447906494], [-1.0369305610656738, 0.25827479362487793], [-0.26668453216552734, -0.17553982138633728], [1.9727023839950562, -1.2251017093658447], [0.9462335109710693, -0.44427725672721863], [-0.33802279829978943, 1.896579623222351], [1.513469934463501, 0.5406247973442078], [-0.651455283164978, -0.5132462978363037], [-1.602505087852478, 0.2607661783695221], [0.5120214819908142, 1.2426888942718506], [0.2543918490409851, 0.2834746837615967], [-0.3688823878765106, -1.2097188234329224], [2.1656479835510254, 1.8111599683761597], [2.182081460952759, 0.7228695750236511], [0.5941083431243896, 2.7541303634643555], [0.020447198301553726, -0.6977940797805786], [2.609917640686035, 1.226550579071045], [-0.6689892411231995, -1.004753589630127], [0.6859158873558044, 0.39383673667907715], [-1.5934159755706787, -0.16876056790351868], [0.8552354574203491, -0.6783784627914429], [-1.1218899488449097, 1.8986643552780151], [0.04982137680053711, 2.706545114517212], [1.6002119779586792, -0.03948643058538437], [1.2703800201416016, -0.7029944062232971], [0.3156818747520447, -1.5279862880706787], [-0.5485522747039795, 0.3559187054634094], [1.4769285917282104, -1.0366692543029785], [-0.33055633306503296, -0.39203333854675293], [0.6712293028831482, -0.3623298704624176], [-0.13075385987758636, -0.40864500403404236], [0.7811845541000366, 0.401228666305542], [1.55410897731781, 2.00858736038208], [1.2843679189682007, -0.9025121927261353], [1.7345701456069946, -1.2721960544586182], [2.284578561782837, 1.7739481925964355], [-0.23641625046730042, -0.00454303901642561], [-0.7686442732810974, -1.0683534145355225], [1.978983998298645, 1.1316614151000977], [1.9438258409500122, 2.1200313568115234], [1.407739520072937, 0.5827780961990356], [0.03933580219745636, -0.46272945404052734], [-0.8240883946418762, -1.1124354600906372], [0.7596363425254822, 1.2662794589996338], [0.5691859126091003, 1.8172154426574707], [-0.9348189234733582, 1.0234850645065308], [-0.8519243001937866, 0.9512191414833069], [-0.927815318107605, 1.387953281402588], [-0.2514283061027527, 1.7918682098388672], [0.04243018478155136, -1.1266810894012451], [-1.1001849174499512, 1.1702418327331543]]}, \"id\": \"el122140190821926280\", \"plugins\": [{\"type\": \"reset\"}, {\"type\": \"zoom\", \"button\": true, \"enabled\": false}, {\"type\": \"boxzoom\", \"button\": true, \"enabled\": false}]});\n",
       "      });\n",
       "    });\n",
       "}else{\n",
       "    // require.js not available: dynamically load d3 & mpld3\n",
       "    mpld3_load_lib(\"https://mpld3.github.io/js/d3.v3.min.js\", function(){\n",
       "         mpld3_load_lib(\"https://mpld3.github.io/js/mpld3.v0.3.1.dev1.js\", function(){\n",
       "                 \n",
       "                 mpld3.draw_figure(\"fig_el1221401908219262802636912322\", {\"width\": 576.0, \"height\": 576.0, \"axes\": [{\"bbox\": [0.125, 0.125, 0.775, 0.775], \"xlim\": [-2.0, 3.0], \"ylim\": [-3.0, 3.0], \"xdomain\": [-2.0, 3.0], \"ydomain\": [-3.0, 3.0], \"xscale\": \"linear\", \"yscale\": \"linear\", \"axes\": [{\"position\": \"bottom\", \"nticks\": 6, \"tickvalues\": null, \"tickformat\": null, \"scale\": \"linear\", \"fontsize\": 10.0, \"grid\": {\"gridOn\": false}, \"visible\": true}, {\"position\": \"left\", \"nticks\": 7, \"tickvalues\": null, \"tickformat\": null, \"scale\": \"linear\", \"fontsize\": 10.0, \"grid\": {\"gridOn\": false}, \"visible\": true}], \"axesbg\": \"#E5E5E5\", \"axesbgalpha\": null, \"zoomable\": true, \"id\": \"el122140190792884008\", \"lines\": [], \"paths\": [], \"markers\": [], \"texts\": [{\"text\": \"the\", \"position\": [-0.13296933472156525, 1.4387670755386353], \"coordinates\": \"data\", \"h_anchor\": \"start\", \"v_baseline\": \"auto\", \"rotation\": -0.0, \"fontsize\": 10.0, \"color\": \"#008080\", \"alpha\": 1, \"zorder\": 3, \"id\": \"el122140190799149152\"}, {\"text\": \"run\", \"position\": [0.5734120011329651, 1.7196626663208008], \"coordinates\": \"data\", \"h_anchor\": \"start\", \"v_baseline\": \"auto\", \"rotation\": -0.0, \"fontsize\": 10.0, \"color\": \"#0000FF\", \"alpha\": 1, \"zorder\": 3, \"id\": \"el122140190805713976\"}, {\"text\": \"dog\", \"position\": [-0.021664077416062355, 0.8679569363594055], \"coordinates\": \"data\", \"h_anchor\": \"start\", \"v_baseline\": \"auto\", \"rotation\": -0.0, \"fontsize\": 10.0, \"color\": \"#008000\", \"alpha\": 1, \"zorder\": 3, \"id\": \"el122140190805714032\"}, {\"text\": \"where\", \"position\": [-0.21796944737434387, 2.377739906311035], \"coordinates\": \"data\", \"h_anchor\": \"start\", \"v_baseline\": \"auto\", \"rotation\": -0.0, \"fontsize\": 10.0, \"color\": \"#4B0082\", \"alpha\": 1, \"zorder\": 3, \"id\": \"el122140190805714760\"}, {\"text\": \"quick\", \"position\": [1.088663101196289, 1.9357551336288452], \"coordinates\": \"data\", \"h_anchor\": \"start\", \"v_baseline\": \"auto\", \"rotation\": -0.0, \"fontsize\": 10.0, \"color\": \"#000000\", \"alpha\": 1, \"zorder\": 3, \"id\": \"el122140190817380616\"}, {\"text\": \"independent\", \"position\": [0.2540515661239624, 0.7961070537567139], \"coordinates\": \"data\", \"h_anchor\": \"start\", \"v_baseline\": \"auto\", \"rotation\": -0.0, \"fontsize\": 10.0, \"color\": \"#008080\", \"alpha\": 1, \"zorder\": 3, \"id\": \"el122140190817381568\"}, {\"text\": \"remedial\", \"position\": [-0.7621439695358276, 1.2987394332885742], \"coordinates\": \"data\", \"h_anchor\": \"start\", \"v_baseline\": \"auto\", \"rotation\": -0.0, \"fontsize\": 10.0, \"color\": \"#008080\", \"alpha\": 1, \"zorder\": 3, \"id\": \"el122140190817381120\"}, {\"text\": \"Shop\", \"position\": [1.9208282232284546, -0.7519452571868896], \"coordinates\": \"data\", \"h_anchor\": \"start\", \"v_baseline\": \"auto\", \"rotation\": -0.0, \"fontsize\": 10.0, \"color\": \"#008080\", \"alpha\": 1, \"zorder\": 3, \"id\": \"el122140190817380728\"}, {\"text\": \"his\", \"position\": [0.2512497305870056, 0.9832419157028198], \"coordinates\": \"data\", \"h_anchor\": \"start\", \"v_baseline\": \"auto\", \"rotation\": -0.0, \"fontsize\": 10.0, \"color\": \"#008080\", \"alpha\": 1, \"zorder\": 3, \"id\": \"el122140190817381064\"}, {\"text\": \"Volume\", \"position\": [0.16539353132247925, -1.7786282300949097], \"coordinates\": \"data\", \"h_anchor\": \"start\", \"v_baseline\": \"auto\", \"rotation\": -0.0, \"fontsize\": 10.0, \"color\": \"#008080\", \"alpha\": 1, \"zorder\": 3, \"id\": \"el122140190812355888\"}, {\"text\": \"Prue\", \"position\": [-0.03057011030614376, 1.3815230131149292], \"coordinates\": \"data\", \"h_anchor\": \"start\", \"v_baseline\": \"auto\", \"rotation\": -0.0, \"fontsize\": 10.0, \"color\": \"#008080\", \"alpha\": 1, \"zorder\": 3, \"id\": \"el122140190812353648\"}, {\"text\": \"Hakim\", \"position\": [-0.8980859518051147, 2.018906593322754], \"coordinates\": \"data\", \"h_anchor\": \"start\", \"v_baseline\": \"auto\", \"rotation\": -0.0, \"fontsize\": 10.0, \"color\": \"#008080\", \"alpha\": 1, \"zorder\": 3, \"id\": \"el122140190812353368\"}, {\"text\": \"vine\", \"position\": [0.14758239686489105, 0.7320803999900818], \"coordinates\": \"data\", \"h_anchor\": \"start\", \"v_baseline\": \"auto\", \"rotation\": -0.0, \"fontsize\": 10.0, \"color\": \"#008080\", \"alpha\": 1, \"zorder\": 3, \"id\": \"el122140190860639480\"}, {\"text\": \"main\", \"position\": [-0.18012577295303345, 2.6397271156311035], \"coordinates\": \"data\", \"h_anchor\": \"start\", \"v_baseline\": \"auto\", \"rotation\": -0.0, \"fontsize\": 10.0, \"color\": \"#008080\", \"alpha\": 1, \"zorder\": 3, \"id\": \"el122140190860636512\"}, {\"text\": \"Abbot\", \"position\": [-0.6464399099349976, -1.4163109064102173], \"coordinates\": \"data\", \"h_anchor\": \"start\", \"v_baseline\": \"auto\", \"rotation\": -0.0, \"fontsize\": 10.0, \"color\": \"#008080\", \"alpha\": 1, \"zorder\": 3, \"id\": \"el122140190860637632\"}, {\"text\": \"Influence\", \"position\": [1.0074392557144165, 0.3488190770149231], \"coordinates\": \"data\", \"h_anchor\": \"start\", \"v_baseline\": \"auto\", \"rotation\": -0.0, \"fontsize\": 10.0, \"color\": \"#008080\", \"alpha\": 1, \"zorder\": 3, \"id\": \"el122140190860639256\"}, {\"text\": \"superiority\", \"position\": [1.477140188217163, 1.5427578687667847], \"coordinates\": \"data\", \"h_anchor\": \"start\", \"v_baseline\": \"auto\", \"rotation\": -0.0, \"fontsize\": 10.0, \"color\": \"#008080\", \"alpha\": 1, \"zorder\": 3, \"id\": \"el122140190860639816\"}, {\"text\": \"vertebrae\", \"position\": [0.815991222858429, -0.6883450746536255], \"coordinates\": \"data\", \"h_anchor\": \"start\", \"v_baseline\": \"auto\", \"rotation\": -0.0, \"fontsize\": 10.0, \"color\": \"#008080\", \"alpha\": 1, \"zorder\": 3, \"id\": \"el122140190860639032\"}, {\"text\": \"motives\", \"position\": [0.8247168660163879, 1.2798925638198853], \"coordinates\": \"data\", \"h_anchor\": \"start\", \"v_baseline\": \"auto\", \"rotation\": -0.0, \"fontsize\": 10.0, \"color\": \"#008080\", \"alpha\": 1, \"zorder\": 3, \"id\": \"el122140190860636232\"}, {\"text\": \"571\", \"position\": [-0.05338839814066887, -1.407231092453003], \"coordinates\": \"data\", \"h_anchor\": \"start\", \"v_baseline\": \"auto\", \"rotation\": -0.0, \"fontsize\": 10.0, \"color\": \"#008080\", \"alpha\": 1, \"zorder\": 3, \"id\": \"el122140190860639704\"}, {\"text\": \"MacKay\", \"position\": [-0.3688185214996338, 1.7974499464035034], \"coordinates\": \"data\", \"h_anchor\": \"start\", \"v_baseline\": \"auto\", \"rotation\": -0.0, \"fontsize\": 10.0, \"color\": \"#008080\", \"alpha\": 1, \"zorder\": 3, \"id\": \"el122140190810654256\"}, {\"text\": \"creature\", \"position\": [2.045384645462036, 1.0097997188568115], \"coordinates\": \"data\", \"h_anchor\": \"start\", \"v_baseline\": \"auto\", \"rotation\": -0.0, \"fontsize\": 10.0, \"color\": \"#008080\", \"alpha\": 1, \"zorder\": 3, \"id\": \"el122140190860637016\"}, {\"text\": \"Peckhams\", \"position\": [-1.55785071849823, 0.4615047872066498], \"coordinates\": \"data\", \"h_anchor\": \"start\", \"v_baseline\": \"auto\", \"rotation\": -0.0, \"fontsize\": 10.0, \"color\": \"#008080\", \"alpha\": 1, \"zorder\": 3, \"id\": \"el122140190860636736\"}, {\"text\": \"conducts\", \"position\": [-0.05345430225133896, -1.6628673076629639], \"coordinates\": \"data\", \"h_anchor\": \"start\", \"v_baseline\": \"auto\", \"rotation\": -0.0, \"fontsize\": 10.0, \"color\": \"#008080\", \"alpha\": 1, \"zorder\": 3, \"id\": \"el122140190860636904\"}, {\"text\": \"subjected\", \"position\": [1.2924582958221436, 0.5689688324928284], \"coordinates\": \"data\", \"h_anchor\": \"start\", \"v_baseline\": \"auto\", \"rotation\": -0.0, \"fontsize\": 10.0, \"color\": \"#008080\", \"alpha\": 1, \"zorder\": 3, \"id\": \"el122140190860637408\"}, {\"text\": \"29\", \"position\": [1.382386326789856, 2.4846534729003906], \"coordinates\": \"data\", \"h_anchor\": \"start\", \"v_baseline\": \"auto\", \"rotation\": -0.0, \"fontsize\": 10.0, \"color\": \"#0000FF\", \"alpha\": 1, \"zorder\": 3, \"id\": \"el122140190860639088\"}, {\"text\": \"Recently\", \"position\": [-0.9173482656478882, 1.23149836063385], \"coordinates\": \"data\", \"h_anchor\": \"start\", \"v_baseline\": \"auto\", \"rotation\": -0.0, \"fontsize\": 10.0, \"color\": \"#0000FF\", \"alpha\": 1, \"zorder\": 3, \"id\": \"el122140190860637856\"}, {\"text\": \"striker\", \"position\": [1.7621073722839355, -1.2687196731567383], \"coordinates\": \"data\", \"h_anchor\": \"start\", \"v_baseline\": \"auto\", \"rotation\": -0.0, \"fontsize\": 10.0, \"color\": \"#0000FF\", \"alpha\": 1, \"zorder\": 3, \"id\": \"el122140190860636344\"}, {\"text\": \"wickets\", \"position\": [0.3143230378627777, -0.6060060262680054], \"coordinates\": \"data\", \"h_anchor\": \"start\", \"v_baseline\": \"auto\", \"rotation\": -0.0, \"fontsize\": 10.0, \"color\": \"#0000FF\", \"alpha\": 1, \"zorder\": 3, \"id\": \"el122140190860636456\"}, {\"text\": \"1981\", \"position\": [0.9701150059700012, 1.0136184692382812], \"coordinates\": \"data\", \"h_anchor\": \"start\", \"v_baseline\": \"auto\", \"rotation\": -0.0, \"fontsize\": 10.0, \"color\": \"#0000FF\", \"alpha\": 1, \"zorder\": 3, \"id\": \"el122140190860637968\"}, {\"text\": \"flick\", \"position\": [-1.171390175819397, 0.7997186183929443], \"coordinates\": \"data\", \"h_anchor\": \"start\", \"v_baseline\": \"auto\", \"rotation\": -0.0, \"fontsize\": 10.0, \"color\": \"#0000FF\", \"alpha\": 1, \"zorder\": 3, \"id\": \"el122140190860637800\"}, {\"text\": \"ruled\", \"position\": [0.1031460389494896, 2.2418320178985596], \"coordinates\": \"data\", \"h_anchor\": \"start\", \"v_baseline\": \"auto\", \"rotation\": -0.0, \"fontsize\": 10.0, \"color\": \"#0000FF\", \"alpha\": 1, \"zorder\": 3, \"id\": \"el122140190860638696\"}, {\"text\": \"adulatory\", \"position\": [1.2726839780807495, -0.4898874759674072], \"coordinates\": \"data\", \"h_anchor\": \"start\", \"v_baseline\": \"auto\", \"rotation\": -0.0, \"fontsize\": 10.0, \"color\": \"#0000FF\", \"alpha\": 1, \"zorder\": 3, \"id\": \"el122140190860639312\"}, {\"text\": \"GPa\", \"position\": [-0.6859244704246521, 1.3649237155914307], \"coordinates\": \"data\", \"h_anchor\": \"start\", \"v_baseline\": \"auto\", \"rotation\": -0.0, \"fontsize\": 10.0, \"color\": \"#0000FF\", \"alpha\": 1, \"zorder\": 3, \"id\": \"el122140190860640152\"}, {\"text\": \"canceled\", \"position\": [-0.662533164024353, -1.4886143207550049], \"coordinates\": \"data\", \"h_anchor\": \"start\", \"v_baseline\": \"auto\", \"rotation\": -0.0, \"fontsize\": 10.0, \"color\": \"#0000FF\", \"alpha\": 1, \"zorder\": 3, \"id\": \"el122140190860638976\"}, {\"text\": \"Darryl\", \"position\": [-1.4043251276016235, 1.221198558807373], \"coordinates\": \"data\", \"h_anchor\": \"start\", \"v_baseline\": \"auto\", \"rotation\": -0.0, \"fontsize\": 10.0, \"color\": \"#0000FF\", \"alpha\": 1, \"zorder\": 3, \"id\": \"el122140190869636432\"}, {\"text\": \"Dick\", \"position\": [-0.10081993043422699, 1.1296645402908325], \"coordinates\": \"data\", \"h_anchor\": \"start\", \"v_baseline\": \"auto\", \"rotation\": -0.0, \"fontsize\": 10.0, \"color\": \"#0000FF\", \"alpha\": 1, \"zorder\": 3, \"id\": \"el122140190869637832\"}, {\"text\": \"deserve\", \"position\": [-1.6560993194580078, 0.0413442999124527], \"coordinates\": \"data\", \"h_anchor\": \"start\", \"v_baseline\": \"auto\", \"rotation\": -0.0, \"fontsize\": 10.0, \"color\": \"#0000FF\", \"alpha\": 1, \"zorder\": 3, \"id\": \"el122140190869637160\"}, {\"text\": \"Millais\", \"position\": [0.4556441307067871, 2.04201602935791], \"coordinates\": \"data\", \"h_anchor\": \"start\", \"v_baseline\": \"auto\", \"rotation\": -0.0, \"fontsize\": 10.0, \"color\": \"#0000FF\", \"alpha\": 1, \"zorder\": 3, \"id\": \"el122140190869636768\"}, {\"text\": \"Tabernacle\", \"position\": [-0.667289674282074, 0.6208910346031189], \"coordinates\": \"data\", \"h_anchor\": \"start\", \"v_baseline\": \"auto\", \"rotation\": -0.0, \"fontsize\": 10.0, \"color\": \"#0000FF\", \"alpha\": 1, \"zorder\": 3, \"id\": \"el122140190869637104\"}, {\"text\": \"270\", \"position\": [1.768749713897705, 1.9805418252944946], \"coordinates\": \"data\", \"h_anchor\": \"start\", \"v_baseline\": \"auto\", \"rotation\": -0.0, \"fontsize\": 10.0, \"color\": \"#0000FF\", \"alpha\": 1, \"zorder\": 3, \"id\": \"el122140190869638560\"}, {\"text\": \"Weaver\", \"position\": [-0.895798921585083, -1.0192605257034302], \"coordinates\": \"data\", \"h_anchor\": \"start\", \"v_baseline\": \"auto\", \"rotation\": -0.0, \"fontsize\": 10.0, \"color\": \"#0000FF\", \"alpha\": 1, \"zorder\": 3, \"id\": \"el122140190869637384\"}, {\"text\": \"Bohemond\", \"position\": [-0.937831699848175, 0.6723652482032776], \"coordinates\": \"data\", \"h_anchor\": \"start\", \"v_baseline\": \"auto\", \"rotation\": -0.0, \"fontsize\": 10.0, \"color\": \"#0000FF\", \"alpha\": 1, \"zorder\": 3, \"id\": \"el122140190869636880\"}, {\"text\": \"Lynx\", \"position\": [-1.7148098945617676, -0.4160715937614441], \"coordinates\": \"data\", \"h_anchor\": \"start\", \"v_baseline\": \"auto\", \"rotation\": -0.0, \"fontsize\": 10.0, \"color\": \"#0000FF\", \"alpha\": 1, \"zorder\": 3, \"id\": \"el122140190869636656\"}, {\"text\": \"Schwimmer\", \"position\": [-0.6722639203071594, -0.6779581308364868], \"coordinates\": \"data\", \"h_anchor\": \"start\", \"v_baseline\": \"auto\", \"rotation\": -0.0, \"fontsize\": 10.0, \"color\": \"#0000FF\", \"alpha\": 1, \"zorder\": 3, \"id\": \"el122140190869637664\"}, {\"text\": \"messages\", \"position\": [1.9664932489395142, 1.1691174507141113], \"coordinates\": \"data\", \"h_anchor\": \"start\", \"v_baseline\": \"auto\", \"rotation\": -0.0, \"fontsize\": 10.0, \"color\": \"#008000\", \"alpha\": 1, \"zorder\": 3, \"id\": \"el122140190869636488\"}, {\"text\": \"Palestine\", \"position\": [1.1325304508209229, -1.427998423576355], \"coordinates\": \"data\", \"h_anchor\": \"start\", \"v_baseline\": \"auto\", \"rotation\": -0.0, \"fontsize\": 10.0, \"color\": \"#008000\", \"alpha\": 1, \"zorder\": 3, \"id\": \"el122140190869639008\"}, {\"text\": \"reminiscent\", \"position\": [1.979570746421814, 1.2737997770309448], \"coordinates\": \"data\", \"h_anchor\": \"start\", \"v_baseline\": \"auto\", \"rotation\": -0.0, \"fontsize\": 10.0, \"color\": \"#008000\", \"alpha\": 1, \"zorder\": 3, \"id\": \"el122140190869636712\"}, {\"text\": \"Genoa\", \"position\": [-1.0000927448272705, 1.1844682693481445], \"coordinates\": \"data\", \"h_anchor\": \"start\", \"v_baseline\": \"auto\", \"rotation\": -0.0, \"fontsize\": 10.0, \"color\": \"#008000\", \"alpha\": 1, \"zorder\": 3, \"id\": \"el122140190869638056\"}, {\"text\": \"Nesbitt\", \"position\": [-1.093850016593933, 0.26671090722084045], \"coordinates\": \"data\", \"h_anchor\": \"start\", \"v_baseline\": \"auto\", \"rotation\": -0.0, \"fontsize\": 10.0, \"color\": \"#008000\", \"alpha\": 1, \"zorder\": 3, \"id\": \"el122140190869635984\"}, {\"text\": \"crowns\", \"position\": [2.3674731254577637, 0.9019677639007568], \"coordinates\": \"data\", \"h_anchor\": \"start\", \"v_baseline\": \"auto\", \"rotation\": -0.0, \"fontsize\": 10.0, \"color\": \"#008000\", \"alpha\": 1, \"zorder\": 3, \"id\": \"el122140190869639064\"}, {\"text\": \"Tabernacle\", \"position\": [-0.667289674282074, 0.6208910346031189], \"coordinates\": \"data\", \"h_anchor\": \"start\", \"v_baseline\": \"auto\", \"rotation\": -0.0, \"fontsize\": 10.0, \"color\": \"#008000\", \"alpha\": 1, \"zorder\": 3, \"id\": \"el122140190869635592\"}, {\"text\": \"Mysore\", \"position\": [1.423022747039795, -1.1093239784240723], \"coordinates\": \"data\", \"h_anchor\": \"start\", \"v_baseline\": \"auto\", \"rotation\": -0.0, \"fontsize\": 10.0, \"color\": \"#008000\", \"alpha\": 1, \"zorder\": 3, \"id\": \"el122140190869638504\"}, {\"text\": \"Antarctica\", \"position\": [0.10331563651561737, 0.5243449211120605], \"coordinates\": \"data\", \"h_anchor\": \"start\", \"v_baseline\": \"auto\", \"rotation\": -0.0, \"fontsize\": 10.0, \"color\": \"#008000\", \"alpha\": 1, \"zorder\": 3, \"id\": \"el122140190869636824\"}, {\"text\": \"squeezed\", \"position\": [1.81595778465271, 1.2921011447906494], \"coordinates\": \"data\", \"h_anchor\": \"start\", \"v_baseline\": \"auto\", \"rotation\": -0.0, \"fontsize\": 10.0, \"color\": \"#008000\", \"alpha\": 1, \"zorder\": 3, \"id\": \"el122140190869638000\"}, {\"text\": \"Reala\", \"position\": [-1.0369305610656738, 0.25827479362487793], \"coordinates\": \"data\", \"h_anchor\": \"start\", \"v_baseline\": \"auto\", \"rotation\": -0.0, \"fontsize\": 10.0, \"color\": \"#008000\", \"alpha\": 1, \"zorder\": 3, \"id\": \"el122140190869637944\"}, {\"text\": \"Carlos\", \"position\": [-0.26668453216552734, -0.17553982138633728], \"coordinates\": \"data\", \"h_anchor\": \"start\", \"v_baseline\": \"auto\", \"rotation\": -0.0, \"fontsize\": 10.0, \"color\": \"#008000\", \"alpha\": 1, \"zorder\": 3, \"id\": \"el122140190869637888\"}, {\"text\": \"corrected\", \"position\": [1.9727023839950562, -1.2251017093658447], \"coordinates\": \"data\", \"h_anchor\": \"start\", \"v_baseline\": \"auto\", \"rotation\": -0.0, \"fontsize\": 10.0, \"color\": \"#008000\", \"alpha\": 1, \"zorder\": 3, \"id\": \"el122140190816374232\"}, {\"text\": \"Mann\", \"position\": [0.9462335109710693, -0.44427725672721863], \"coordinates\": \"data\", \"h_anchor\": \"start\", \"v_baseline\": \"auto\", \"rotation\": -0.0, \"fontsize\": 10.0, \"color\": \"#008000\", \"alpha\": 1, \"zorder\": 3, \"id\": \"el122140190828856712\"}, {\"text\": \"PAVN\", \"position\": [-0.33802279829978943, 1.896579623222351], \"coordinates\": \"data\", \"h_anchor\": \"start\", \"v_baseline\": \"auto\", \"rotation\": -0.0, \"fontsize\": 10.0, \"color\": \"#008000\", \"alpha\": 1, \"zorder\": 3, \"id\": \"el122140190828856768\"}, {\"text\": \"slam\", \"position\": [1.513469934463501, 0.5406247973442078], \"coordinates\": \"data\", \"h_anchor\": \"start\", \"v_baseline\": \"auto\", \"rotation\": -0.0, \"fontsize\": 10.0, \"color\": \"#008000\", \"alpha\": 1, \"zorder\": 3, \"id\": \"el122140190800952848\"}, {\"text\": \"Clearing\", \"position\": [-0.651455283164978, -0.5132462978363037], \"coordinates\": \"data\", \"h_anchor\": \"start\", \"v_baseline\": \"auto\", \"rotation\": -0.0, \"fontsize\": 10.0, \"color\": \"#008000\", \"alpha\": 1, \"zorder\": 3, \"id\": \"el122140190870635296\"}, {\"text\": \"contractors\", \"position\": [-1.602505087852478, 0.2607661783695221], \"coordinates\": \"data\", \"h_anchor\": \"start\", \"v_baseline\": \"auto\", \"rotation\": -0.0, \"fontsize\": 10.0, \"color\": \"#008000\", \"alpha\": 1, \"zorder\": 3, \"id\": \"el122140190870636416\"}, {\"text\": \"leave\", \"position\": [0.5120214819908142, 1.2426888942718506], \"coordinates\": \"data\", \"h_anchor\": \"start\", \"v_baseline\": \"auto\", \"rotation\": -0.0, \"fontsize\": 10.0, \"color\": \"#008000\", \"alpha\": 1, \"zorder\": 3, \"id\": \"el122140190870637928\"}, {\"text\": \"computational\", \"position\": [0.2543918490409851, 0.2834746837615967], \"coordinates\": \"data\", \"h_anchor\": \"start\", \"v_baseline\": \"auto\", \"rotation\": -0.0, \"fontsize\": 10.0, \"color\": \"#008000\", \"alpha\": 1, \"zorder\": 3, \"id\": \"el122140190870636976\"}, {\"text\": \"imply\", \"position\": [-0.3688823878765106, -1.2097188234329224], \"coordinates\": \"data\", \"h_anchor\": \"start\", \"v_baseline\": \"auto\", \"rotation\": -0.0, \"fontsize\": 10.0, \"color\": \"#4B0082\", \"alpha\": 1, \"zorder\": 3, \"id\": \"el122140190870638376\"}, {\"text\": \"whom\", \"position\": [2.1656479835510254, 1.8111599683761597], \"coordinates\": \"data\", \"h_anchor\": \"start\", \"v_baseline\": \"auto\", \"rotation\": -0.0, \"fontsize\": 10.0, \"color\": \"#4B0082\", \"alpha\": 1, \"zorder\": 3, \"id\": \"el122140190870638488\"}, {\"text\": \"beyond\", \"position\": [2.182081460952759, 0.7228695750236511], \"coordinates\": \"data\", \"h_anchor\": \"start\", \"v_baseline\": \"auto\", \"rotation\": -0.0, \"fontsize\": 10.0, \"color\": \"#4B0082\", \"alpha\": 1, \"zorder\": 3, \"id\": \"el122140190870637312\"}, {\"text\": \"earliest\", \"position\": [0.5941083431243896, 2.7541303634643555], \"coordinates\": \"data\", \"h_anchor\": \"start\", \"v_baseline\": \"auto\", \"rotation\": -0.0, \"fontsize\": 10.0, \"color\": \"#4B0082\", \"alpha\": 1, \"zorder\": 3, \"id\": \"el122140190870637256\"}, {\"text\": \"Churches\", \"position\": [0.020447198301553726, -0.6977940797805786], \"coordinates\": \"data\", \"h_anchor\": \"start\", \"v_baseline\": \"auto\", \"rotation\": -0.0, \"fontsize\": 10.0, \"color\": \"#4B0082\", \"alpha\": 1, \"zorder\": 3, \"id\": \"el122140190870637872\"}, {\"text\": \"whether\", \"position\": [2.609917640686035, 1.226550579071045], \"coordinates\": \"data\", \"h_anchor\": \"start\", \"v_baseline\": \"auto\", \"rotation\": -0.0, \"fontsize\": 10.0, \"color\": \"#4B0082\", \"alpha\": 1, \"zorder\": 3, \"id\": \"el122140190870635240\"}, {\"text\": \"warn\", \"position\": [-0.6689892411231995, -1.004753589630127], \"coordinates\": \"data\", \"h_anchor\": \"start\", \"v_baseline\": \"auto\", \"rotation\": -0.0, \"fontsize\": 10.0, \"color\": \"#4B0082\", \"alpha\": 1, \"zorder\": 3, \"id\": \"el122140190870635688\"}, {\"text\": \"treating\", \"position\": [0.6859158873558044, 0.39383673667907715], \"coordinates\": \"data\", \"h_anchor\": \"start\", \"v_baseline\": \"auto\", \"rotation\": -0.0, \"fontsize\": 10.0, \"color\": \"#4B0082\", \"alpha\": 1, \"zorder\": 3, \"id\": \"el122140190870637984\"}, {\"text\": \"archaic\", \"position\": [-1.5934159755706787, -0.16876056790351868], \"coordinates\": \"data\", \"h_anchor\": \"start\", \"v_baseline\": \"auto\", \"rotation\": -0.0, \"fontsize\": 10.0, \"color\": \"#4B0082\", \"alpha\": 1, \"zorder\": 3, \"id\": \"el122140190870636864\"}, {\"text\": \"beside\", \"position\": [0.8552354574203491, -0.6783784627914429], \"coordinates\": \"data\", \"h_anchor\": \"start\", \"v_baseline\": \"auto\", \"rotation\": -0.0, \"fontsize\": 10.0, \"color\": \"#4B0082\", \"alpha\": 1, \"zorder\": 3, \"id\": \"el122140190870635912\"}, {\"text\": \"clothesline\", \"position\": [-1.1218899488449097, 1.8986643552780151], \"coordinates\": \"data\", \"h_anchor\": \"start\", \"v_baseline\": \"auto\", \"rotation\": -0.0, \"fontsize\": 10.0, \"color\": \"#4B0082\", \"alpha\": 1, \"zorder\": 3, \"id\": \"el122140190870635520\"}, {\"text\": \"<\", \"position\": [0.04982137680053711, 2.706545114517212], \"coordinates\": \"data\", \"h_anchor\": \"start\", \"v_baseline\": \"auto\", \"rotation\": -0.0, \"fontsize\": 10.0, \"color\": \"#4B0082\", \"alpha\": 1, \"zorder\": 3, \"id\": \"el122140190870636472\"}, {\"text\": \"Moreover\", \"position\": [1.6002119779586792, -0.03948643058538437], \"coordinates\": \"data\", \"h_anchor\": \"start\", \"v_baseline\": \"auto\", \"rotation\": -0.0, \"fontsize\": 10.0, \"color\": \"#4B0082\", \"alpha\": 1, \"zorder\": 3, \"id\": \"el122140190870637144\"}, {\"text\": \"coefficient\", \"position\": [1.2703800201416016, -0.7029944062232971], \"coordinates\": \"data\", \"h_anchor\": \"start\", \"v_baseline\": \"auto\", \"rotation\": -0.0, \"fontsize\": 10.0, \"color\": \"#4B0082\", \"alpha\": 1, \"zorder\": 3, \"id\": \"el122140190870636752\"}, {\"text\": \"Sawtooth\", \"position\": [0.3156818747520447, -1.5279862880706787], \"coordinates\": \"data\", \"h_anchor\": \"start\", \"v_baseline\": \"auto\", \"rotation\": -0.0, \"fontsize\": 10.0, \"color\": \"#4B0082\", \"alpha\": 1, \"zorder\": 3, \"id\": \"el122140190870636304\"}, {\"text\": \"1275\", \"position\": [-0.5485522747039795, 0.3559187054634094], \"coordinates\": \"data\", \"h_anchor\": \"start\", \"v_baseline\": \"auto\", \"rotation\": -0.0, \"fontsize\": 10.0, \"color\": \"#4B0082\", \"alpha\": 1, \"zorder\": 3, \"id\": \"el122140190870637424\"}, {\"text\": \"successive\", \"position\": [1.4769285917282104, -1.0366692543029785], \"coordinates\": \"data\", \"h_anchor\": \"start\", \"v_baseline\": \"auto\", \"rotation\": -0.0, \"fontsize\": 10.0, \"color\": \"#4B0082\", \"alpha\": 1, \"zorder\": 3, \"id\": \"el122140190870638432\"}, {\"text\": \"attach\", \"position\": [-0.33055633306503296, -0.39203333854675293], \"coordinates\": \"data\", \"h_anchor\": \"start\", \"v_baseline\": \"auto\", \"rotation\": -0.0, \"fontsize\": 10.0, \"color\": \"#4B0082\", \"alpha\": 1, \"zorder\": 3, \"id\": \"el122140190870636640\"}, {\"text\": \"enlargement\", \"position\": [0.6712293028831482, -0.3623298704624176], \"coordinates\": \"data\", \"h_anchor\": \"start\", \"v_baseline\": \"auto\", \"rotation\": -0.0, \"fontsize\": 10.0, \"color\": \"#4B0082\", \"alpha\": 1, \"zorder\": 3, \"id\": \"el122140190870634792\"}, {\"text\": \"Pagoda\", \"position\": [-0.13075385987758636, -0.40864500403404236], \"coordinates\": \"data\", \"h_anchor\": \"start\", \"v_baseline\": \"auto\", \"rotation\": -0.0, \"fontsize\": 10.0, \"color\": \"#4B0082\", \"alpha\": 1, \"zorder\": 3, \"id\": \"el122140190795392392\"}, {\"text\": \"miniature\", \"position\": [0.7811845541000366, 0.401228666305542], \"coordinates\": \"data\", \"h_anchor\": \"start\", \"v_baseline\": \"auto\", \"rotation\": -0.0, \"fontsize\": 10.0, \"color\": \"#000000\", \"alpha\": 1, \"zorder\": 3, \"id\": \"el122140190795391160\"}, {\"text\": \"Charleston\", \"position\": [1.55410897731781, 2.00858736038208], \"coordinates\": \"data\", \"h_anchor\": \"start\", \"v_baseline\": \"auto\", \"rotation\": -0.0, \"fontsize\": 10.0, \"color\": \"#000000\", \"alpha\": 1, \"zorder\": 3, \"id\": \"el122140190819754168\"}, {\"text\": \"separating\", \"position\": [1.2843679189682007, -0.9025121927261353], \"coordinates\": \"data\", \"h_anchor\": \"start\", \"v_baseline\": \"auto\", \"rotation\": -0.0, \"fontsize\": 10.0, \"color\": \"#000000\", \"alpha\": 1, \"zorder\": 3, \"id\": \"el122140190819754056\"}, {\"text\": \"Regarding\", \"position\": [1.7345701456069946, -1.2721960544586182], \"coordinates\": \"data\", \"h_anchor\": \"start\", \"v_baseline\": \"auto\", \"rotation\": -0.0, \"fontsize\": 10.0, \"color\": \"#000000\", \"alpha\": 1, \"zorder\": 3, \"id\": \"el122140190810165712\"}, {\"text\": \"Live\", \"position\": [2.284578561782837, 1.7739481925964355], \"coordinates\": \"data\", \"h_anchor\": \"start\", \"v_baseline\": \"auto\", \"rotation\": -0.0, \"fontsize\": 10.0, \"color\": \"#000000\", \"alpha\": 1, \"zorder\": 3, \"id\": \"el122140190810167280\"}, {\"text\": \"fulfil\", \"position\": [-0.23641625046730042, -0.00454303901642561], \"coordinates\": \"data\", \"h_anchor\": \"start\", \"v_baseline\": \"auto\", \"rotation\": -0.0, \"fontsize\": 10.0, \"color\": \"#000000\", \"alpha\": 1, \"zorder\": 3, \"id\": \"el122140190817497664\"}, {\"text\": \"Emanuel\", \"position\": [-0.7686442732810974, -1.0683534145355225], \"coordinates\": \"data\", \"h_anchor\": \"start\", \"v_baseline\": \"auto\", \"rotation\": -0.0, \"fontsize\": 10.0, \"color\": \"#000000\", \"alpha\": 1, \"zorder\": 3, \"id\": \"el122140190801099912\"}, {\"text\": \"ceremonial\", \"position\": [1.978983998298645, 1.1316614151000977], \"coordinates\": \"data\", \"h_anchor\": \"start\", \"v_baseline\": \"auto\", \"rotation\": -0.0, \"fontsize\": 10.0, \"color\": \"#000000\", \"alpha\": 1, \"zorder\": 3, \"id\": \"el122140190810976720\"}, {\"text\": \"signaling\", \"position\": [1.9438258409500122, 2.1200313568115234], \"coordinates\": \"data\", \"h_anchor\": \"start\", \"v_baseline\": \"auto\", \"rotation\": -0.0, \"fontsize\": 10.0, \"color\": \"#000000\", \"alpha\": 1, \"zorder\": 3, \"id\": \"el122140190870220584\"}, {\"text\": \"1809\", \"position\": [1.407739520072937, 0.5827780961990356], \"coordinates\": \"data\", \"h_anchor\": \"start\", \"v_baseline\": \"auto\", \"rotation\": -0.0, \"fontsize\": 10.0, \"color\": \"#000000\", \"alpha\": 1, \"zorder\": 3, \"id\": \"el122140190811212096\"}, {\"text\": \"ceilings\", \"position\": [0.03933580219745636, -0.46272945404052734], \"coordinates\": \"data\", \"h_anchor\": \"start\", \"v_baseline\": \"auto\", \"rotation\": -0.0, \"fontsize\": 10.0, \"color\": \"#000000\", \"alpha\": 1, \"zorder\": 3, \"id\": \"el122140190817131712\"}, {\"text\": \"calculators\", \"position\": [-0.8240883946418762, -1.1124354600906372], \"coordinates\": \"data\", \"h_anchor\": \"start\", \"v_baseline\": \"auto\", \"rotation\": -0.0, \"fontsize\": 10.0, \"color\": \"#000000\", \"alpha\": 1, \"zorder\": 3, \"id\": \"el122140190811249744\"}, {\"text\": \"agrees\", \"position\": [0.7596363425254822, 1.2662794589996338], \"coordinates\": \"data\", \"h_anchor\": \"start\", \"v_baseline\": \"auto\", \"rotation\": -0.0, \"fontsize\": 10.0, \"color\": \"#000000\", \"alpha\": 1, \"zorder\": 3, \"id\": \"el122140190831074440\"}, {\"text\": \"maturity\", \"position\": [0.5691859126091003, 1.8172154426574707], \"coordinates\": \"data\", \"h_anchor\": \"start\", \"v_baseline\": \"auto\", \"rotation\": -0.0, \"fontsize\": 10.0, \"color\": \"#000000\", \"alpha\": 1, \"zorder\": 3, \"id\": \"el122140190811151776\"}, {\"text\": \"Chaytor\", \"position\": [-0.9348189234733582, 1.0234850645065308], \"coordinates\": \"data\", \"h_anchor\": \"start\", \"v_baseline\": \"auto\", \"rotation\": -0.0, \"fontsize\": 10.0, \"color\": \"#000000\", \"alpha\": 1, \"zorder\": 3, \"id\": \"el122140190827808528\"}, {\"text\": \"exceedingly\", \"position\": [-0.8519243001937866, 0.9512191414833069], \"coordinates\": \"data\", \"h_anchor\": \"start\", \"v_baseline\": \"auto\", \"rotation\": -0.0, \"fontsize\": 10.0, \"color\": \"#000000\", \"alpha\": 1, \"zorder\": 3, \"id\": \"el122140190827810656\"}, {\"text\": \"swarm\", \"position\": [-0.927815318107605, 1.387953281402588], \"coordinates\": \"data\", \"h_anchor\": \"start\", \"v_baseline\": \"auto\", \"rotation\": -0.0, \"fontsize\": 10.0, \"color\": \"#000000\", \"alpha\": 1, \"zorder\": 3, \"id\": \"el122140190827807520\"}, {\"text\": \"Tr\\u01b0\\u01a1ng\", \"position\": [-0.2514283061027527, 1.7918682098388672], \"coordinates\": \"data\", \"h_anchor\": \"start\", \"v_baseline\": \"auto\", \"rotation\": -0.0, \"fontsize\": 10.0, \"color\": \"#000000\", \"alpha\": 1, \"zorder\": 3, \"id\": \"el122140190827806792\"}, {\"text\": \"Knox\", \"position\": [0.04243018478155136, -1.1266810894012451], \"coordinates\": \"data\", \"h_anchor\": \"start\", \"v_baseline\": \"auto\", \"rotation\": -0.0, \"fontsize\": 10.0, \"color\": \"#000000\", \"alpha\": 1, \"zorder\": 3, \"id\": \"el122140190801060136\"}, {\"text\": \"ecoregion\", \"position\": [-1.1001849174499512, 1.1702418327331543], \"coordinates\": \"data\", \"h_anchor\": \"start\", \"v_baseline\": \"auto\", \"rotation\": -0.0, \"fontsize\": 10.0, \"color\": \"#000000\", \"alpha\": 1, \"zorder\": 3, \"id\": \"el122140190801060024\"}], \"collections\": [{\"offsets\": \"data01\", \"xindex\": 0, \"yindex\": 1, \"paths\": [[[[0.0, -0.5], [0.13260155, -0.5], [0.25978993539242673, -0.44731684579412084], [0.3535533905932738, -0.3535533905932738], [0.44731684579412084, -0.25978993539242673], [0.5, -0.13260155], [0.5, 0.0], [0.5, 0.13260155], [0.44731684579412084, 0.25978993539242673], [0.3535533905932738, 0.3535533905932738], [0.25978993539242673, 0.44731684579412084], [0.13260155, 0.5], [0.0, 0.5], [-0.13260155, 0.5], [-0.25978993539242673, 0.44731684579412084], [-0.3535533905932738, 0.3535533905932738], [-0.44731684579412084, 0.25978993539242673], [-0.5, 0.13260155], [-0.5, 0.0], [-0.5, -0.13260155], [-0.44731684579412084, -0.25978993539242673], [-0.3535533905932738, -0.3535533905932738], [-0.25978993539242673, -0.44731684579412084], [-0.13260155, -0.5], [0.0, -0.5]], [\"M\", \"C\", \"C\", \"C\", \"C\", \"C\", \"C\", \"C\", \"C\", \"Z\"]]], \"pathtransforms\": [[4.47213595499958, 0.0, 0.0, 4.47213595499958, 0.0, 0.0]], \"alphas\": [null], \"edgecolors\": [\"#000080\"], \"facecolors\": [\"#000080\"], \"edgewidths\": [0.5], \"offsetcoordinates\": \"data\", \"pathcoordinates\": \"display\", \"zorder\": 1, \"id\": \"el122140190810654368\"}], \"images\": [], \"sharex\": [], \"sharey\": []}], \"data\": {\"data01\": [[-0.13296933472156525, 1.4387670755386353], [0.5734120011329651, 1.7196626663208008], [-0.021664077416062355, 0.8679569363594055], [-0.21796944737434387, 2.377739906311035], [1.088663101196289, 1.9357551336288452], [0.2540515661239624, 0.7961070537567139], [-0.7621439695358276, 1.2987394332885742], [1.9208282232284546, -0.7519452571868896], [0.2512497305870056, 0.9832419157028198], [0.16539353132247925, -1.7786282300949097], [-0.03057011030614376, 1.3815230131149292], [-0.8980859518051147, 2.018906593322754], [0.14758239686489105, 0.7320803999900818], [-0.18012577295303345, 2.6397271156311035], [-0.6464399099349976, -1.4163109064102173], [1.0074392557144165, 0.3488190770149231], [1.477140188217163, 1.5427578687667847], [0.815991222858429, -0.6883450746536255], [0.8247168660163879, 1.2798925638198853], [-0.05338839814066887, -1.407231092453003], [-0.3688185214996338, 1.7974499464035034], [2.045384645462036, 1.0097997188568115], [-1.55785071849823, 0.4615047872066498], [-0.05345430225133896, -1.6628673076629639], [1.2924582958221436, 0.5689688324928284], [1.382386326789856, 2.4846534729003906], [-0.9173482656478882, 1.23149836063385], [1.7621073722839355, -1.2687196731567383], [0.3143230378627777, -0.6060060262680054], [0.9701150059700012, 1.0136184692382812], [-1.171390175819397, 0.7997186183929443], [0.1031460389494896, 2.2418320178985596], [1.2726839780807495, -0.4898874759674072], [-0.6859244704246521, 1.3649237155914307], [-0.662533164024353, -1.4886143207550049], [-1.4043251276016235, 1.221198558807373], [-0.10081993043422699, 1.1296645402908325], [-1.6560993194580078, 0.0413442999124527], [0.4556441307067871, 2.04201602935791], [-0.667289674282074, 0.6208910346031189], [1.768749713897705, 1.9805418252944946], [-0.895798921585083, -1.0192605257034302], [-0.937831699848175, 0.6723652482032776], [-1.7148098945617676, -0.4160715937614441], [-0.6722639203071594, -0.6779581308364868], [1.9664932489395142, 1.1691174507141113], [1.1325304508209229, -1.427998423576355], [1.979570746421814, 1.2737997770309448], [-1.0000927448272705, 1.1844682693481445], [-1.093850016593933, 0.26671090722084045], [2.3674731254577637, 0.9019677639007568], [-0.667289674282074, 0.6208910346031189], [1.423022747039795, -1.1093239784240723], [0.10331563651561737, 0.5243449211120605], [1.81595778465271, 1.2921011447906494], [-1.0369305610656738, 0.25827479362487793], [-0.26668453216552734, -0.17553982138633728], [1.9727023839950562, -1.2251017093658447], [0.9462335109710693, -0.44427725672721863], [-0.33802279829978943, 1.896579623222351], [1.513469934463501, 0.5406247973442078], [-0.651455283164978, -0.5132462978363037], [-1.602505087852478, 0.2607661783695221], [0.5120214819908142, 1.2426888942718506], [0.2543918490409851, 0.2834746837615967], [-0.3688823878765106, -1.2097188234329224], [2.1656479835510254, 1.8111599683761597], [2.182081460952759, 0.7228695750236511], [0.5941083431243896, 2.7541303634643555], [0.020447198301553726, -0.6977940797805786], [2.609917640686035, 1.226550579071045], [-0.6689892411231995, -1.004753589630127], [0.6859158873558044, 0.39383673667907715], [-1.5934159755706787, -0.16876056790351868], [0.8552354574203491, -0.6783784627914429], [-1.1218899488449097, 1.8986643552780151], [0.04982137680053711, 2.706545114517212], [1.6002119779586792, -0.03948643058538437], [1.2703800201416016, -0.7029944062232971], [0.3156818747520447, -1.5279862880706787], [-0.5485522747039795, 0.3559187054634094], [1.4769285917282104, -1.0366692543029785], [-0.33055633306503296, -0.39203333854675293], [0.6712293028831482, -0.3623298704624176], [-0.13075385987758636, -0.40864500403404236], [0.7811845541000366, 0.401228666305542], [1.55410897731781, 2.00858736038208], [1.2843679189682007, -0.9025121927261353], [1.7345701456069946, -1.2721960544586182], [2.284578561782837, 1.7739481925964355], [-0.23641625046730042, -0.00454303901642561], [-0.7686442732810974, -1.0683534145355225], [1.978983998298645, 1.1316614151000977], [1.9438258409500122, 2.1200313568115234], [1.407739520072937, 0.5827780961990356], [0.03933580219745636, -0.46272945404052734], [-0.8240883946418762, -1.1124354600906372], [0.7596363425254822, 1.2662794589996338], [0.5691859126091003, 1.8172154426574707], [-0.9348189234733582, 1.0234850645065308], [-0.8519243001937866, 0.9512191414833069], [-0.927815318107605, 1.387953281402588], [-0.2514283061027527, 1.7918682098388672], [0.04243018478155136, -1.1266810894012451], [-1.1001849174499512, 1.1702418327331543]]}, \"id\": \"el122140190821926280\", \"plugins\": [{\"type\": \"reset\"}, {\"type\": \"zoom\", \"button\": true, \"enabled\": false}, {\"type\": \"boxzoom\", \"button\": true, \"enabled\": false}]});\n",
       "            })\n",
       "         });\n",
       "}\n",
       "</script>"
      ],
      "text/plain": [
       "<Figure size 576x576 with 1 Axes>"
      ]
     },
     "metadata": {
      "tags": []
     },
     "output_type": "display_data"
    }
   ],
   "source": [
    "%matplotlib inline\n",
    "!pip install mpld3\n",
    "import mpld3\n",
    "mpld3.enable_notebook()\n",
    "umap_plot(LSTM_embedding,words_id_n, words)"
   ]
  },
  {
   "cell_type": "markdown",
   "metadata": {},
   "source": [
    "<img src=\"p1.jpeg\" alt=\"Drawing\" style=\"width: 600px;\"/>"
   ]
  },
  {
   "cell_type": "markdown",
   "metadata": {
    "colab_type": "text",
    "id": "FJjM0camkbsN"
   },
   "source": [
    "#### II.2.3 Projection Layer"
   ]
  },
  {
   "cell_type": "code",
   "execution_count": null,
   "metadata": {
    "colab": {},
    "colab_type": "code",
    "id": "1gMkfadXkbsN",
    "jupyter": {
     "source_hidden": true
    }
   },
   "outputs": [],
   "source": [
    "# load the projection layer\n",
    "# Projection_layer = pkl.load(open(\"\", \"rb\"))\n",
    "words2,words_id2=find_similar(Projection,words_chosen)\n",
    "words_id2_n=[]\n",
    "for i in range(len(words_id2)):\n",
    "  if not isinstance(words_id2[i],int):\n",
    "    words_id2_n.append(words_id2[i][0])\n",
    "  else:\n",
    "    words_id2_n.append(words_id2[i])"
   ]
  },
  {
   "cell_type": "code",
   "execution_count": null,
   "metadata": {
    "colab": {},
    "colab_type": "code",
    "id": "rBgikqNEAF6N",
    "jupyter": {
     "source_hidden": true
    }
   },
   "outputs": [],
   "source": [
    "import pickle\n",
    "#with open(\"./drive/My Drive/words.txt\", \"wb\") as fp:   #Pickling\n",
    " # pickle.dump(words2, fp)\n",
    "#with open(\"./drive/My Drive/words_id.txt\", \"wb\") as fp:   #Pickling\n",
    " # pickle.dump(words_id2, fp)\n",
    "with open(\"./drive/My Drive/words2.txt\", \"rb\") as fp:   # Unpickling\n",
    "  words2 = pickle.load(fp)\n",
    "with open(\"./drive/My Drive/words_id2.txt\", \"rb\") as fp:   # Unpickling\n",
    "  words_id2 = pickle.load(fp)"
   ]
  },
  {
   "cell_type": "markdown",
   "metadata": {
    "colab_type": "text",
    "id": "bVu_feM95p8m"
   },
   "source": [
    "##### Results"
   ]
  },
  {
   "cell_type": "code",
   "execution_count": null,
   "metadata": {
    "colab": {
     "base_uri": "https://localhost:8080/",
     "height": 597
    },
    "colab_type": "code",
    "id": "9GaTddAjIbJN",
    "jupyter": {
     "source_hidden": true
    },
    "outputId": "c68d6301-06b2-4181-db24-05c8716b947b"
   },
   "outputs": [
    {
     "data": {
      "image/png": "[encoded data removed]",
      "text/html": [
       "\n",
       "\n",
       "<style>\n",
       "\n",
       "</style>\n",
       "\n",
       "<div id=\"fig_el1221401907996297281281618673\"></div>\n",
       "<script>\n",
       "function mpld3_load_lib(url, callback){\n",
       "  var s = document.createElement('script');\n",
       "  s.src = url;\n",
       "  s.async = true;\n",
       "  s.onreadystatechange = s.onload = callback;\n",
       "  s.onerror = function(){console.warn(\"failed to load library \" + url);};\n",
       "  document.getElementsByTagName(\"head\")[0].appendChild(s);\n",
       "}\n",
       "\n",
       "if(typeof(mpld3) !== \"undefined\" && mpld3._mpld3IsLoaded){\n",
       "   // already loaded: just create the figure\n",
       "   !function(mpld3){\n",
       "       \n",
       "       mpld3.draw_figure(\"fig_el1221401907996297281281618673\", {\"width\": 576.0, \"height\": 576.0, \"axes\": [{\"bbox\": [0.125, 0.125, 0.775, 0.775], \"xlim\": [-4.0, 5.0], \"ylim\": [-6.0, 8.0], \"xdomain\": [-4.0, 5.0], \"ydomain\": [-6.0, 8.0], \"xscale\": \"linear\", \"yscale\": \"linear\", \"axes\": [{\"position\": \"bottom\", \"nticks\": 10, \"tickvalues\": null, \"tickformat\": null, \"scale\": \"linear\", \"fontsize\": 10.0, \"grid\": {\"gridOn\": false}, \"visible\": true}, {\"position\": \"left\", \"nticks\": 8, \"tickvalues\": null, \"tickformat\": null, \"scale\": \"linear\", \"fontsize\": 10.0, \"grid\": {\"gridOn\": false}, \"visible\": true}], \"axesbg\": \"#E5E5E5\", \"axesbgalpha\": null, \"zoomable\": true, \"id\": \"el122140190853054360\", \"lines\": [], \"paths\": [], \"markers\": [], \"texts\": [{\"text\": \"the\", \"position\": [4.473491668701172, 3.700982093811035], \"coordinates\": \"data\", \"h_anchor\": \"start\", \"v_baseline\": \"auto\", \"rotation\": -0.0, \"fontsize\": 10.0, \"color\": \"#008080\", \"alpha\": 1, \"zorder\": 3, \"id\": \"el122140190814960328\"}, {\"text\": \"run\", \"position\": [2.1083407402038574, 5.900047302246094], \"coordinates\": \"data\", \"h_anchor\": \"start\", \"v_baseline\": \"auto\", \"rotation\": -0.0, \"fontsize\": 10.0, \"color\": \"#0000FF\", \"alpha\": 1, \"zorder\": 3, \"id\": \"el122140190820672120\"}, {\"text\": \"dog\", \"position\": [1.4576929807662964, 4.291845798492432], \"coordinates\": \"data\", \"h_anchor\": \"start\", \"v_baseline\": \"auto\", \"rotation\": -0.0, \"fontsize\": 10.0, \"color\": \"#008000\", \"alpha\": 1, \"zorder\": 3, \"id\": \"el122140190821195392\"}, {\"text\": \"where\", \"position\": [4.397940158843994, 3.5790045261383057], \"coordinates\": \"data\", \"h_anchor\": \"start\", \"v_baseline\": \"auto\", \"rotation\": -0.0, \"fontsize\": 10.0, \"color\": \"#4B0082\", \"alpha\": 1, \"zorder\": 3, \"id\": \"el122140190821193880\"}, {\"text\": \"quick\", \"position\": [3.0884556770324707, 4.682604789733887], \"coordinates\": \"data\", \"h_anchor\": \"start\", \"v_baseline\": \"auto\", \"rotation\": -0.0, \"fontsize\": 10.0, \"color\": \"#000000\", \"alpha\": 1, \"zorder\": 3, \"id\": \"el122140190821194328\"}, {\"text\": \"a\", \"position\": [4.465862274169922, 3.7182509899139404], \"coordinates\": \"data\", \"h_anchor\": \"start\", \"v_baseline\": \"auto\", \"rotation\": -0.0, \"fontsize\": 10.0, \"color\": \"#008080\", \"alpha\": 1, \"zorder\": 3, \"id\": \"el122140190806713848\"}, {\"text\": \"an\", \"position\": [4.477811336517334, 3.7004051208496094], \"coordinates\": \"data\", \"h_anchor\": \"start\", \"v_baseline\": \"auto\", \"rotation\": -0.0, \"fontsize\": 10.0, \"color\": \"#008080\", \"alpha\": 1, \"zorder\": 3, \"id\": \"el122140190820826024\"}, {\"text\": \"his\", \"position\": [4.467993259429932, 3.688955545425415], \"coordinates\": \"data\", \"h_anchor\": \"start\", \"v_baseline\": \"auto\", \"rotation\": -0.0, \"fontsize\": 10.0, \"color\": \"#008080\", \"alpha\": 1, \"zorder\": 3, \"id\": \"el122140190818887776\"}, {\"text\": \"their\", \"position\": [4.476060390472412, 3.6755757331848145], \"coordinates\": \"data\", \"h_anchor\": \"start\", \"v_baseline\": \"auto\", \"rotation\": -0.0, \"fontsize\": 10.0, \"color\": \"#008080\", \"alpha\": 1, \"zorder\": 3, \"id\": \"el122140190816739280\"}, {\"text\": \"her\", \"position\": [4.461469650268555, 3.6515941619873047], \"coordinates\": \"data\", \"h_anchor\": \"start\", \"v_baseline\": \"auto\", \"rotation\": -0.0, \"fontsize\": 10.0, \"color\": \"#008080\", \"alpha\": 1, \"zorder\": 3, \"id\": \"el122140190819275832\"}, {\"text\": \"this\", \"position\": [4.440008163452148, 3.660221576690674], \"coordinates\": \"data\", \"h_anchor\": \"start\", \"v_baseline\": \"auto\", \"rotation\": -0.0, \"fontsize\": 10.0, \"color\": \"#008080\", \"alpha\": 1, \"zorder\": 3, \"id\": \"el122140190823655240\"}, {\"text\": \"its\", \"position\": [4.470633506774902, 3.6933209896087646], \"coordinates\": \"data\", \"h_anchor\": \"start\", \"v_baseline\": \"auto\", \"rotation\": -0.0, \"fontsize\": 10.0, \"color\": \"#008080\", \"alpha\": 1, \"zorder\": 3, \"id\": \"el122140190823656864\"}, {\"text\": \"it\", \"position\": [4.46032190322876, 3.6559436321258545], \"coordinates\": \"data\", \"h_anchor\": \"start\", \"v_baseline\": \"auto\", \"rotation\": -0.0, \"fontsize\": 10.0, \"color\": \"#008080\", \"alpha\": 1, \"zorder\": 3, \"id\": \"el122140190816718688\"}, {\"text\": \"both\", \"position\": [4.420379161834717, 3.702255964279175], \"coordinates\": \"data\", \"h_anchor\": \"start\", \"v_baseline\": \"auto\", \"rotation\": -0.0, \"fontsize\": 10.0, \"color\": \"#008080\", \"alpha\": 1, \"zorder\": 3, \"id\": \"el122140190795978680\"}, {\"text\": \"The\", \"position\": [2.7661619186401367, -3.9250435829162598], \"coordinates\": \"data\", \"h_anchor\": \"start\", \"v_baseline\": \"auto\", \"rotation\": -0.0, \"fontsize\": 10.0, \"color\": \"#008080\", \"alpha\": 1, \"zorder\": 3, \"id\": \"el122140190823166864\"}, {\"text\": \"couple\", \"position\": [1.869046926498413, 5.594836711883545], \"coordinates\": \"data\", \"h_anchor\": \"start\", \"v_baseline\": \"auto\", \"rotation\": -0.0, \"fontsize\": 10.0, \"color\": \"#008080\", \"alpha\": 1, \"zorder\": 3, \"id\": \"el122140190821916624\"}, {\"text\": \"essay\", \"position\": [1.7369129657745361, 5.481457233428955], \"coordinates\": \"data\", \"h_anchor\": \"start\", \"v_baseline\": \"auto\", \"rotation\": -0.0, \"fontsize\": 10.0, \"color\": \"#008080\", \"alpha\": 1, \"zorder\": 3, \"id\": \"el122140190820395552\"}, {\"text\": \"outbreak\", \"position\": [1.703628420829773, 5.401984214782715], \"coordinates\": \"data\", \"h_anchor\": \"start\", \"v_baseline\": \"auto\", \"rotation\": -0.0, \"fontsize\": 10.0, \"color\": \"#008080\", \"alpha\": 1, \"zorder\": 3, \"id\": \"el122140190820396056\"}, {\"text\": \"benefice\", \"position\": [-0.21671156585216522, 2.1462159156799316], \"coordinates\": \"data\", \"h_anchor\": \"start\", \"v_baseline\": \"auto\", \"rotation\": -0.0, \"fontsize\": 10.0, \"color\": \"#008080\", \"alpha\": 1, \"zorder\": 3, \"id\": \"el122140190820829616\"}, {\"text\": \"catastrophe\", \"position\": [-0.34157925844192505, 2.3362390995025635], \"coordinates\": \"data\", \"h_anchor\": \"start\", \"v_baseline\": \"auto\", \"rotation\": -0.0, \"fontsize\": 10.0, \"color\": \"#008080\", \"alpha\": 1, \"zorder\": 3, \"id\": \"el122140190818853328\"}, {\"text\": \"asymptotic\", \"position\": [2.0938820838928223, 2.6531457901000977], \"coordinates\": \"data\", \"h_anchor\": \"start\", \"v_baseline\": \"auto\", \"rotation\": -0.0, \"fontsize\": 10.0, \"color\": \"#008080\", \"alpha\": 1, \"zorder\": 3, \"id\": \"el122140190815755848\"}, {\"text\": \"angle\", \"position\": [0.3135550618171692, 3.6315863132476807], \"coordinates\": \"data\", \"h_anchor\": \"start\", \"v_baseline\": \"auto\", \"rotation\": -0.0, \"fontsize\": 10.0, \"color\": \"#008080\", \"alpha\": 1, \"zorder\": 3, \"id\": \"el122140190819137632\"}, {\"text\": \"berm\", \"position\": [-0.268826425075531, 1.9561399221420288], \"coordinates\": \"data\", \"h_anchor\": \"start\", \"v_baseline\": \"auto\", \"rotation\": -0.0, \"fontsize\": 10.0, \"color\": \"#008080\", \"alpha\": 1, \"zorder\": 3, \"id\": \"el122140190818505112\"}, {\"text\": \"doorway\", \"position\": [0.38248708844184875, 3.861858606338501], \"coordinates\": \"data\", \"h_anchor\": \"start\", \"v_baseline\": \"auto\", \"rotation\": -0.0, \"fontsize\": 10.0, \"color\": \"#008080\", \"alpha\": 1, \"zorder\": 3, \"id\": \"el122140190809966128\"}, {\"text\": \"Pizhi\", \"position\": [-0.26157963275909424, 1.8529282808303833], \"coordinates\": \"data\", \"h_anchor\": \"start\", \"v_baseline\": \"auto\", \"rotation\": -0.0, \"fontsize\": 10.0, \"color\": \"#008080\", \"alpha\": 1, \"zorder\": 3, \"id\": \"el122140190814098656\"}, {\"text\": \"pass\", \"position\": [2.005741596221924, 5.835488319396973], \"coordinates\": \"data\", \"h_anchor\": \"start\", \"v_baseline\": \"auto\", \"rotation\": -0.0, \"fontsize\": 10.0, \"color\": \"#0000FF\", \"alpha\": 1, \"zorder\": 3, \"id\": \"el122140190817483184\"}, {\"text\": \"shoot\", \"position\": [1.6869697570800781, 5.428356647491455], \"coordinates\": \"data\", \"h_anchor\": \"start\", \"v_baseline\": \"auto\", \"rotation\": -0.0, \"fontsize\": 10.0, \"color\": \"#0000FF\", \"alpha\": 1, \"zorder\": 3, \"id\": \"el122140190803885808\"}, {\"text\": \"strike\", \"position\": [1.9370554685592651, 5.592013359069824], \"coordinates\": \"data\", \"h_anchor\": \"start\", \"v_baseline\": \"auto\", \"rotation\": -0.0, \"fontsize\": 10.0, \"color\": \"#0000FF\", \"alpha\": 1, \"zorder\": 3, \"id\": \"el122140190803885584\"}, {\"text\": \"act\", \"position\": [1.972493290901184, 5.846649646759033], \"coordinates\": \"data\", \"h_anchor\": \"start\", \"v_baseline\": \"auto\", \"rotation\": -0.0, \"fontsize\": 10.0, \"color\": \"#0000FF\", \"alpha\": 1, \"zorder\": 3, \"id\": \"el122140190803884968\"}, {\"text\": \"deal\", \"position\": [2.0682263374328613, 5.880605220794678], \"coordinates\": \"data\", \"h_anchor\": \"start\", \"v_baseline\": \"auto\", \"rotation\": -0.0, \"fontsize\": 10.0, \"color\": \"#0000FF\", \"alpha\": 1, \"zorder\": 3, \"id\": \"el122140190803886032\"}, {\"text\": \"defeat\", \"position\": [2.17765212059021, 5.831765174865723], \"coordinates\": \"data\", \"h_anchor\": \"start\", \"v_baseline\": \"auto\", \"rotation\": -0.0, \"fontsize\": 10.0, \"color\": \"#0000FF\", \"alpha\": 1, \"zorder\": 3, \"id\": \"el122140190803885472\"}, {\"text\": \"transfer\", \"position\": [1.922433614730835, 5.57221794128418], \"coordinates\": \"data\", \"h_anchor\": \"start\", \"v_baseline\": \"auto\", \"rotation\": -0.0, \"fontsize\": 10.0, \"color\": \"#0000FF\", \"alpha\": 1, \"zorder\": 3, \"id\": \"el122140190803885304\"}, {\"text\": \"move\", \"position\": [2.038717269897461, 5.949910640716553], \"coordinates\": \"data\", \"h_anchor\": \"start\", \"v_baseline\": \"auto\", \"rotation\": -0.0, \"fontsize\": 10.0, \"color\": \"#0000FF\", \"alpha\": 1, \"zorder\": 3, \"id\": \"el122140190803884576\"}, {\"text\": \"kick\", \"position\": [1.8883603811264038, 5.604320526123047], \"coordinates\": \"data\", \"h_anchor\": \"start\", \"v_baseline\": \"auto\", \"rotation\": -0.0, \"fontsize\": 10.0, \"color\": \"#0000FF\", \"alpha\": 1, \"zorder\": 3, \"id\": \"el122140190803883288\"}, {\"text\": \"win\", \"position\": [2.0995712280273438, 5.884551525115967], \"coordinates\": \"data\", \"h_anchor\": \"start\", \"v_baseline\": \"auto\", \"rotation\": -0.0, \"fontsize\": 10.0, \"color\": \"#0000FF\", \"alpha\": 1, \"zorder\": 3, \"id\": \"el122140190807053424\"}, {\"text\": \"and\", \"position\": [4.432304382324219, 3.5718281269073486], \"coordinates\": \"data\", \"h_anchor\": \"start\", \"v_baseline\": \"auto\", \"rotation\": -0.0, \"fontsize\": 10.0, \"color\": \"#0000FF\", \"alpha\": 1, \"zorder\": 3, \"id\": \"el122140190807053144\"}, {\"text\": \"a\", \"position\": [4.465862274169922, 3.7182509899139404], \"coordinates\": \"data\", \"h_anchor\": \"start\", \"v_baseline\": \"auto\", \"rotation\": -0.0, \"fontsize\": 10.0, \"color\": \"#0000FF\", \"alpha\": 1, \"zorder\": 3, \"id\": \"el122140190807054432\"}, {\"text\": \"for\", \"position\": [4.450369358062744, 3.5709004402160645], \"coordinates\": \"data\", \"h_anchor\": \"start\", \"v_baseline\": \"auto\", \"rotation\": -0.0, \"fontsize\": 10.0, \"color\": \"#0000FF\", \"alpha\": 1, \"zorder\": 3, \"id\": \"el122140190828095696\"}, {\"text\": \",\", \"position\": [4.5157294273376465, 3.501326560974121], \"coordinates\": \"data\", \"h_anchor\": \"start\", \"v_baseline\": \"auto\", \"rotation\": -0.0, \"fontsize\": 10.0, \"color\": \"#0000FF\", \"alpha\": 1, \"zorder\": 3, \"id\": \"el122140190828542608\"}, {\"text\": \"it\", \"position\": [4.46032190322876, 3.6559436321258545], \"coordinates\": \"data\", \"h_anchor\": \"start\", \"v_baseline\": \"auto\", \"rotation\": -0.0, \"fontsize\": 10.0, \"color\": \"#0000FF\", \"alpha\": 1, \"zorder\": 3, \"id\": \"el122140190802077680\"}, {\"text\": \"in\", \"position\": [4.424813747406006, 3.5905697345733643], \"coordinates\": \"data\", \"h_anchor\": \"start\", \"v_baseline\": \"auto\", \"rotation\": -0.0, \"fontsize\": 10.0, \"color\": \"#0000FF\", \"alpha\": 1, \"zorder\": 3, \"id\": \"el122140190802077568\"}, {\"text\": \"to\", \"position\": [4.43427848815918, 3.5892765522003174], \"coordinates\": \"data\", \"h_anchor\": \"start\", \"v_baseline\": \"auto\", \"rotation\": -0.0, \"fontsize\": 10.0, \"color\": \"#0000FF\", \"alpha\": 1, \"zorder\": 3, \"id\": \"el122140188075490216\"}, {\"text\": \"that\", \"position\": [4.435280799865723, 3.610142230987549], \"coordinates\": \"data\", \"h_anchor\": \"start\", \"v_baseline\": \"auto\", \"rotation\": -0.0, \"fontsize\": 10.0, \"color\": \"#0000FF\", \"alpha\": 1, \"zorder\": 3, \"id\": \"el122140190821619024\"}, {\"text\": \"A\", \"position\": [2.7961525917053223, -3.903174877166748], \"coordinates\": \"data\", \"h_anchor\": \"start\", \"v_baseline\": \"auto\", \"rotation\": -0.0, \"fontsize\": 10.0, \"color\": \"#0000FF\", \"alpha\": 1, \"zorder\": 3, \"id\": \"el122140190807007640\"}, {\"text\": \"<unk>\", \"position\": [3.9977734088897705, -3.0997676849365234], \"coordinates\": \"data\", \"h_anchor\": \"start\", \"v_baseline\": \"auto\", \"rotation\": -0.0, \"fontsize\": 10.0, \"color\": \"#0000FF\", \"alpha\": 1, \"zorder\": 3, \"id\": \"el122140190823521976\"}, {\"text\": \"sensation\", \"position\": [1.799355387687683, 3.885010004043579], \"coordinates\": \"data\", \"h_anchor\": \"start\", \"v_baseline\": \"auto\", \"rotation\": -0.0, \"fontsize\": 10.0, \"color\": \"#008000\", \"alpha\": 1, \"zorder\": 3, \"id\": \"el122140190823521808\"}, {\"text\": \"mood\", \"position\": [1.4715627431869507, 4.271258354187012], \"coordinates\": \"data\", \"h_anchor\": \"start\", \"v_baseline\": \"auto\", \"rotation\": -0.0, \"fontsize\": 10.0, \"color\": \"#008000\", \"alpha\": 1, \"zorder\": 3, \"id\": \"el122140190823522200\"}, {\"text\": \"dubious\", \"position\": [1.615095615386963, 3.4337475299835205], \"coordinates\": \"data\", \"h_anchor\": \"start\", \"v_baseline\": \"auto\", \"rotation\": -0.0, \"fontsize\": 10.0, \"color\": \"#008000\", \"alpha\": 1, \"zorder\": 3, \"id\": \"el122140190803397768\"}, {\"text\": \"witch\", \"position\": [1.2103502750396729, 4.0664544105529785], \"coordinates\": \"data\", \"h_anchor\": \"start\", \"v_baseline\": \"auto\", \"rotation\": -0.0, \"fontsize\": 10.0, \"color\": \"#008000\", \"alpha\": 1, \"zorder\": 3, \"id\": \"el122140190803398048\"}, {\"text\": \"horns\", \"position\": [1.8102856874465942, 3.8997843265533447], \"coordinates\": \"data\", \"h_anchor\": \"start\", \"v_baseline\": \"auto\", \"rotation\": -0.0, \"fontsize\": 10.0, \"color\": \"#008000\", \"alpha\": 1, \"zorder\": 3, \"id\": \"el122140190803397824\"}, {\"text\": \"demons\", \"position\": [2.256415605545044, 3.4352262020111084], \"coordinates\": \"data\", \"h_anchor\": \"start\", \"v_baseline\": \"auto\", \"rotation\": -0.0, \"fontsize\": 10.0, \"color\": \"#008000\", \"alpha\": 1, \"zorder\": 3, \"id\": \"el122140190803397432\"}, {\"text\": \"findings\", \"position\": [1.4191608428955078, 4.047095775604248], \"coordinates\": \"data\", \"h_anchor\": \"start\", \"v_baseline\": \"auto\", \"rotation\": -0.0, \"fontsize\": 10.0, \"color\": \"#008000\", \"alpha\": 1, \"zorder\": 3, \"id\": \"el122140190803397656\"}, {\"text\": \"enthusiasm\", \"position\": [1.5867500305175781, 3.9232795238494873], \"coordinates\": \"data\", \"h_anchor\": \"start\", \"v_baseline\": \"auto\", \"rotation\": -0.0, \"fontsize\": 10.0, \"color\": \"#008000\", \"alpha\": 1, \"zorder\": 3, \"id\": \"el122140190806378872\"}, {\"text\": \"smart\", \"position\": [2.121778726577759, 3.215219736099243], \"coordinates\": \"data\", \"h_anchor\": \"start\", \"v_baseline\": \"auto\", \"rotation\": -0.0, \"fontsize\": 10.0, \"color\": \"#008000\", \"alpha\": 1, \"zorder\": 3, \"id\": \"el122140190831655064\"}, {\"text\": \"telescope\", \"position\": [0.8454933166503906, 4.056744575500488], \"coordinates\": \"data\", \"h_anchor\": \"start\", \"v_baseline\": \"auto\", \"rotation\": -0.0, \"fontsize\": 10.0, \"color\": \"#008000\", \"alpha\": 1, \"zorder\": 3, \"id\": \"el122140190831656800\"}, {\"text\": \"the\", \"position\": [4.473491668701172, 3.700982093811035], \"coordinates\": \"data\", \"h_anchor\": \"start\", \"v_baseline\": \"auto\", \"rotation\": -0.0, \"fontsize\": 10.0, \"color\": \"#008000\", \"alpha\": 1, \"zorder\": 3, \"id\": \"el122140190828806552\"}, {\"text\": \"\\\"\", \"position\": [4.428060054779053, 3.6306896209716797], \"coordinates\": \"data\", \"h_anchor\": \"start\", \"v_baseline\": \"auto\", \"rotation\": -0.0, \"fontsize\": 10.0, \"color\": \"#008000\", \"alpha\": 1, \"zorder\": 3, \"id\": \"el122140190828809688\"}, {\"text\": \"that\", \"position\": [4.435280799865723, 3.610142230987549], \"coordinates\": \"data\", \"h_anchor\": \"start\", \"v_baseline\": \"auto\", \"rotation\": -0.0, \"fontsize\": 10.0, \"color\": \"#008000\", \"alpha\": 1, \"zorder\": 3, \"id\": \"el122140190826672480\"}, {\"text\": \"and\", \"position\": [4.432304382324219, 3.5718281269073486], \"coordinates\": \"data\", \"h_anchor\": \"start\", \"v_baseline\": \"auto\", \"rotation\": -0.0, \"fontsize\": 10.0, \"color\": \"#008000\", \"alpha\": 1, \"zorder\": 3, \"id\": \"el122140190826672368\"}, {\"text\": \"in\", \"position\": [4.424813747406006, 3.5905697345733643], \"coordinates\": \"data\", \"h_anchor\": \"start\", \"v_baseline\": \"auto\", \"rotation\": -0.0, \"fontsize\": 10.0, \"color\": \"#008000\", \"alpha\": 1, \"zorder\": 3, \"id\": \"el122140190793465984\"}, {\"text\": \"a\", \"position\": [4.465862274169922, 3.7182509899139404], \"coordinates\": \"data\", \"h_anchor\": \"start\", \"v_baseline\": \"auto\", \"rotation\": -0.0, \"fontsize\": 10.0, \"color\": \"#008000\", \"alpha\": 1, \"zorder\": 3, \"id\": \"el122140190830785984\"}, {\"text\": \"two\", \"position\": [-2.7123055458068848, -0.6083588600158691], \"coordinates\": \"data\", \"h_anchor\": \"start\", \"v_baseline\": \"auto\", \"rotation\": -0.0, \"fontsize\": 10.0, \"color\": \"#008000\", \"alpha\": 1, \"zorder\": 3, \"id\": \"el122140190794387016\"}, {\"text\": \"to\", \"position\": [4.43427848815918, 3.5892765522003174], \"coordinates\": \"data\", \"h_anchor\": \"start\", \"v_baseline\": \"auto\", \"rotation\": -0.0, \"fontsize\": 10.0, \"color\": \"#008000\", \"alpha\": 1, \"zorder\": 3, \"id\": \"el122140190794386568\"}, {\"text\": \"for\", \"position\": [4.450369358062744, 3.5709004402160645], \"coordinates\": \"data\", \"h_anchor\": \"start\", \"v_baseline\": \"auto\", \"rotation\": -0.0, \"fontsize\": 10.0, \"color\": \"#008000\", \"alpha\": 1, \"zorder\": 3, \"id\": \"el122140190831170112\"}, {\"text\": \"(\", \"position\": [4.45461893081665, 3.514787197113037], \"coordinates\": \"data\", \"h_anchor\": \"start\", \"v_baseline\": \"auto\", \"rotation\": -0.0, \"fontsize\": 10.0, \"color\": \"#008000\", \"alpha\": 1, \"zorder\": 3, \"id\": \"el122140190831169776\"}, {\"text\": \"which\", \"position\": [4.395830154418945, 3.574150562286377], \"coordinates\": \"data\", \"h_anchor\": \"start\", \"v_baseline\": \"auto\", \"rotation\": -0.0, \"fontsize\": 10.0, \"color\": \"#4B0082\", \"alpha\": 1, \"zorder\": 3, \"id\": \"el122140190827404368\"}, {\"text\": \"whose\", \"position\": [4.289813995361328, 3.457730531692505], \"coordinates\": \"data\", \"h_anchor\": \"start\", \"v_baseline\": \"auto\", \"rotation\": -0.0, \"fontsize\": 10.0, \"color\": \"#4B0082\", \"alpha\": 1, \"zorder\": 3, \"id\": \"el122140190793628584\"}, {\"text\": \"along\", \"position\": [4.290060043334961, 3.3852477073669434], \"coordinates\": \"data\", \"h_anchor\": \"start\", \"v_baseline\": \"auto\", \"rotation\": -0.0, \"fontsize\": 10.0, \"color\": \"#4B0082\", \"alpha\": 1, \"zorder\": 3, \"id\": \"el122140190793628696\"}, {\"text\": \"but\", \"position\": [4.407075881958008, 3.558478355407715], \"coordinates\": \"data\", \"h_anchor\": \"start\", \"v_baseline\": \"auto\", \"rotation\": -0.0, \"fontsize\": 10.0, \"color\": \"#4B0082\", \"alpha\": 1, \"zorder\": 3, \"id\": \"el122140190818950672\"}, {\"text\": \"because\", \"position\": [4.39228630065918, 3.5694925785064697], \"coordinates\": \"data\", \"h_anchor\": \"start\", \"v_baseline\": \"auto\", \"rotation\": -0.0, \"fontsize\": 10.0, \"color\": \"#4B0082\", \"alpha\": 1, \"zorder\": 3, \"id\": \"el122140190831453296\"}, {\"text\": \"when\", \"position\": [4.4136176109313965, 3.5707757472991943], \"coordinates\": \"data\", \"h_anchor\": \"start\", \"v_baseline\": \"auto\", \"rotation\": -0.0, \"fontsize\": 10.0, \"color\": \"#4B0082\", \"alpha\": 1, \"zorder\": 3, \"id\": \"el122140190810078848\"}, {\"text\": \"against\", \"position\": [4.370050430297852, 3.54756498336792], \"coordinates\": \"data\", \"h_anchor\": \"start\", \"v_baseline\": \"auto\", \"rotation\": -0.0, \"fontsize\": 10.0, \"color\": \"#4B0082\", \"alpha\": 1, \"zorder\": 3, \"id\": \"el122140190811564968\"}, {\"text\": \"before\", \"position\": [4.403170108795166, 3.5799429416656494], \"coordinates\": \"data\", \"h_anchor\": \"start\", \"v_baseline\": \"auto\", \"rotation\": -0.0, \"fontsize\": 10.0, \"color\": \"#4B0082\", \"alpha\": 1, \"zorder\": 3, \"id\": \"el122140190809457832\"}, {\"text\": \"without\", \"position\": [4.347136497497559, 3.480351448059082], \"coordinates\": \"data\", \"h_anchor\": \"start\", \"v_baseline\": \"auto\", \"rotation\": -0.0, \"fontsize\": 10.0, \"color\": \"#4B0082\", \"alpha\": 1, \"zorder\": 3, \"id\": \"el122140190809457888\"}, {\"text\": \"within\", \"position\": [4.3278093338012695, 3.5145456790924072], \"coordinates\": \"data\", \"h_anchor\": \"start\", \"v_baseline\": \"auto\", \"rotation\": -0.0, \"fontsize\": 10.0, \"color\": \"#4B0082\", \"alpha\": 1, \"zorder\": 3, \"id\": \"el122140190831408968\"}, {\"text\": \"two\", \"position\": [-2.7123055458068848, -0.6083588600158691], \"coordinates\": \"data\", \"h_anchor\": \"start\", \"v_baseline\": \"auto\", \"rotation\": -0.0, \"fontsize\": 10.0, \"color\": \"#4B0082\", \"alpha\": 1, \"zorder\": 3, \"id\": \"el122140190806961400\"}, {\"text\": \"game\", \"position\": [2.4376602172851562, 5.944990158081055], \"coordinates\": \"data\", \"h_anchor\": \"start\", \"v_baseline\": \"auto\", \"rotation\": -0.0, \"fontsize\": 10.0, \"color\": \"#4B0082\", \"alpha\": 1, \"zorder\": 3, \"id\": \"el122140190806959888\"}, {\"text\": \"series\", \"position\": [2.4196338653564453, 5.867511749267578], \"coordinates\": \"data\", \"h_anchor\": \"start\", \"v_baseline\": \"auto\", \"rotation\": -0.0, \"fontsize\": 10.0, \"color\": \"#4B0082\", \"alpha\": 1, \"zorder\": 3, \"id\": \"el122140190830331944\"}, {\"text\": \"first\", \"position\": [3.239870309829712, 5.442595481872559], \"coordinates\": \"data\", \"h_anchor\": \"start\", \"v_baseline\": \"auto\", \"rotation\": -0.0, \"fontsize\": 10.0, \"color\": \"#4B0082\", \"alpha\": 1, \"zorder\": 3, \"id\": \"el122140190790845944\"}, {\"text\": \"second\", \"position\": [3.1831459999084473, 5.473480701446533], \"coordinates\": \"data\", \"h_anchor\": \"start\", \"v_baseline\": \"auto\", \"rotation\": -0.0, \"fontsize\": 10.0, \"color\": \"#4B0082\", \"alpha\": 1, \"zorder\": 3, \"id\": \"el122140190820496888\"}, {\"text\": \"year\", \"position\": [2.3452465534210205, 5.9082746505737305], \"coordinates\": \"data\", \"h_anchor\": \"start\", \"v_baseline\": \"auto\", \"rotation\": -0.0, \"fontsize\": 10.0, \"color\": \"#4B0082\", \"alpha\": 1, \"zorder\": 3, \"id\": \"el122140190820497728\"}, {\"text\": \"song\", \"position\": [2.3866426944732666, 5.901252746582031], \"coordinates\": \"data\", \"h_anchor\": \"start\", \"v_baseline\": \"auto\", \"rotation\": -0.0, \"fontsize\": 10.0, \"color\": \"#4B0082\", \"alpha\": 1, \"zorder\": 3, \"id\": \"el122140190820497000\"}, {\"text\": \"\\\"\", \"position\": [4.428060054779053, 3.6306896209716797], \"coordinates\": \"data\", \"h_anchor\": \"start\", \"v_baseline\": \"auto\", \"rotation\": -0.0, \"fontsize\": 10.0, \"color\": \"#4B0082\", \"alpha\": 1, \"zorder\": 3, \"id\": \"el122140190809557032\"}, {\"text\": \"British\", \"position\": [3.9632065296173096, -3.1023099422454834], \"coordinates\": \"data\", \"h_anchor\": \"start\", \"v_baseline\": \"auto\", \"rotation\": -0.0, \"fontsize\": 10.0, \"color\": \"#4B0082\", \"alpha\": 1, \"zorder\": 3, \"id\": \"el122140190816341184\"}, {\"text\": \"name\", \"position\": [2.3459644317626953, 5.843516826629639], \"coordinates\": \"data\", \"h_anchor\": \"start\", \"v_baseline\": \"auto\", \"rotation\": -0.0, \"fontsize\": 10.0, \"color\": \"#4B0082\", \"alpha\": 1, \"zorder\": 3, \"id\": \"el122140190813660832\"}, {\"text\": \"psychological\", \"position\": [2.4161036014556885, 3.28739595413208], \"coordinates\": \"data\", \"h_anchor\": \"start\", \"v_baseline\": \"auto\", \"rotation\": -0.0, \"fontsize\": 10.0, \"color\": \"#000000\", \"alpha\": 1, \"zorder\": 3, \"id\": \"el122140190808812456\"}, {\"text\": \"illegal\", \"position\": [2.9296395778656006, 4.5402703285217285], \"coordinates\": \"data\", \"h_anchor\": \"start\", \"v_baseline\": \"auto\", \"rotation\": -0.0, \"fontsize\": 10.0, \"color\": \"#000000\", \"alpha\": 1, \"zorder\": 3, \"id\": \"el122140190808812400\"}, {\"text\": \"lengthy\", \"position\": [2.8347644805908203, 4.601049900054932], \"coordinates\": \"data\", \"h_anchor\": \"start\", \"v_baseline\": \"auto\", \"rotation\": -0.0, \"fontsize\": 10.0, \"color\": \"#000000\", \"alpha\": 1, \"zorder\": 3, \"id\": \"el122140190809535040\"}, {\"text\": \"mere\", \"position\": [2.779149293899536, 4.546551704406738], \"coordinates\": \"data\", \"h_anchor\": \"start\", \"v_baseline\": \"auto\", \"rotation\": -0.0, \"fontsize\": 10.0, \"color\": \"#000000\", \"alpha\": 1, \"zorder\": 3, \"id\": \"el122140190809535432\"}, {\"text\": \"fixed\", \"position\": [3.2466039657592773, 4.267065048217773], \"coordinates\": \"data\", \"h_anchor\": \"start\", \"v_baseline\": \"auto\", \"rotation\": -0.0, \"fontsize\": 10.0, \"color\": \"#000000\", \"alpha\": 1, \"zorder\": 3, \"id\": \"el122140190809535096\"}, {\"text\": \"experimental\", \"position\": [2.8692359924316406, 4.6596999168396], \"coordinates\": \"data\", \"h_anchor\": \"start\", \"v_baseline\": \"auto\", \"rotation\": -0.0, \"fontsize\": 10.0, \"color\": \"#000000\", \"alpha\": 1, \"zorder\": 3, \"id\": \"el122140190810573568\"}, {\"text\": \"supernova\", \"position\": [2.4917635917663574, 4.294553756713867], \"coordinates\": \"data\", \"h_anchor\": \"start\", \"v_baseline\": \"auto\", \"rotation\": -0.0, \"fontsize\": 10.0, \"color\": \"#000000\", \"alpha\": 1, \"zorder\": 3, \"id\": \"el122140190809524320\"}, {\"text\": \"thick\", \"position\": [3.360427141189575, 4.905498504638672], \"coordinates\": \"data\", \"h_anchor\": \"start\", \"v_baseline\": \"auto\", \"rotation\": -0.0, \"fontsize\": 10.0, \"color\": \"#000000\", \"alpha\": 1, \"zorder\": 3, \"id\": \"el122140190809525272\"}, {\"text\": \"pregnant\", \"position\": [3.1524975299835205, 4.346652030944824], \"coordinates\": \"data\", \"h_anchor\": \"start\", \"v_baseline\": \"auto\", \"rotation\": -0.0, \"fontsize\": 10.0, \"color\": \"#000000\", \"alpha\": 1, \"zorder\": 3, \"id\": \"el122140190809525104\"}, {\"text\": \"swing\", \"position\": [1.522684931755066, 4.761849880218506], \"coordinates\": \"data\", \"h_anchor\": \"start\", \"v_baseline\": \"auto\", \"rotation\": -0.0, \"fontsize\": 10.0, \"color\": \"#000000\", \"alpha\": 1, \"zorder\": 3, \"id\": \"el122140190821314120\"}, {\"text\": \"and\", \"position\": [4.432304382324219, 3.5718281269073486], \"coordinates\": \"data\", \"h_anchor\": \"start\", \"v_baseline\": \"auto\", \"rotation\": -0.0, \"fontsize\": 10.0, \"color\": \"#000000\", \"alpha\": 1, \"zorder\": 3, \"id\": \"el122140190821314008\"}, {\"text\": \"\\\"\", \"position\": [4.428060054779053, 3.6306896209716797], \"coordinates\": \"data\", \"h_anchor\": \"start\", \"v_baseline\": \"auto\", \"rotation\": -0.0, \"fontsize\": 10.0, \"color\": \"#000000\", \"alpha\": 1, \"zorder\": 3, \"id\": \"el122140190824078976\"}, {\"text\": \"was\", \"position\": [4.172805309295654, 2.7591986656188965], \"coordinates\": \"data\", \"h_anchor\": \"start\", \"v_baseline\": \"auto\", \"rotation\": -0.0, \"fontsize\": 10.0, \"color\": \"#000000\", \"alpha\": 1, \"zorder\": 3, \"id\": \"el122140190824079088\"}, {\"text\": \"to\", \"position\": [4.43427848815918, 3.5892765522003174], \"coordinates\": \"data\", \"h_anchor\": \"start\", \"v_baseline\": \"auto\", \"rotation\": -0.0, \"fontsize\": 10.0, \"color\": \"#000000\", \"alpha\": 1, \"zorder\": 3, \"id\": \"el122140190823293448\"}, {\"text\": \"in\", \"position\": [4.424813747406006, 3.5905697345733643], \"coordinates\": \"data\", \"h_anchor\": \"start\", \"v_baseline\": \"auto\", \"rotation\": -0.0, \"fontsize\": 10.0, \"color\": \"#000000\", \"alpha\": 1, \"zorder\": 3, \"id\": \"el122140190823295016\"}, {\"text\": \"the\", \"position\": [4.473491668701172, 3.700982093811035], \"coordinates\": \"data\", \"h_anchor\": \"start\", \"v_baseline\": \"auto\", \"rotation\": -0.0, \"fontsize\": 10.0, \"color\": \"#000000\", \"alpha\": 1, \"zorder\": 3, \"id\": \"el122140190808928720\"}, {\"text\": \"<unk>\", \"position\": [3.9977734088897705, -3.0997676849365234], \"coordinates\": \"data\", \"h_anchor\": \"start\", \"v_baseline\": \"auto\", \"rotation\": -0.0, \"fontsize\": 10.0, \"color\": \"#000000\", \"alpha\": 1, \"zorder\": 3, \"id\": \"el122140190820998336\"}, {\"text\": \"is\", \"position\": [4.182464122772217, 2.7075905799865723], \"coordinates\": \"data\", \"h_anchor\": \"start\", \"v_baseline\": \"auto\", \"rotation\": -0.0, \"fontsize\": 10.0, \"color\": \"#000000\", \"alpha\": 1, \"zorder\": 3, \"id\": \"el122140190816350160\"}, {\"text\": \"for\", \"position\": [4.450369358062744, 3.5709004402160645], \"coordinates\": \"data\", \"h_anchor\": \"start\", \"v_baseline\": \"auto\", \"rotation\": -0.0, \"fontsize\": 10.0, \"color\": \"#000000\", \"alpha\": 1, \"zorder\": 3, \"id\": \"el122140190820904128\"}, {\"text\": \"that\", \"position\": [4.435280799865723, 3.610142230987549], \"coordinates\": \"data\", \"h_anchor\": \"start\", \"v_baseline\": \"auto\", \"rotation\": -0.0, \"fontsize\": 10.0, \"color\": \"#000000\", \"alpha\": 1, \"zorder\": 3, \"id\": \"el122140190820724688\"}], \"collections\": [{\"offsets\": \"data01\", \"xindex\": 0, \"yindex\": 1, \"paths\": [[[[0.0, -0.5], [0.13260155, -0.5], [0.25978993539242673, -0.44731684579412084], [0.3535533905932738, -0.3535533905932738], [0.44731684579412084, -0.25978993539242673], [0.5, -0.13260155], [0.5, 0.0], [0.5, 0.13260155], [0.44731684579412084, 0.25978993539242673], [0.3535533905932738, 0.3535533905932738], [0.25978993539242673, 0.44731684579412084], [0.13260155, 0.5], [0.0, 0.5], [-0.13260155, 0.5], [-0.25978993539242673, 0.44731684579412084], [-0.3535533905932738, 0.3535533905932738], [-0.44731684579412084, 0.25978993539242673], [-0.5, 0.13260155], [-0.5, 0.0], [-0.5, -0.13260155], [-0.44731684579412084, -0.25978993539242673], [-0.3535533905932738, -0.3535533905932738], [-0.25978993539242673, -0.44731684579412084], [-0.13260155, -0.5], [0.0, -0.5]], [\"M\", \"C\", \"C\", \"C\", \"C\", \"C\", \"C\", \"C\", \"C\", \"Z\"]]], \"pathtransforms\": [[4.47213595499958, 0.0, 0.0, 4.47213595499958, 0.0, 0.0]], \"alphas\": [null], \"edgecolors\": [\"#000080\"], \"facecolors\": [\"#000080\"], \"edgewidths\": [0.5], \"offsetcoordinates\": \"data\", \"pathcoordinates\": \"display\", \"zorder\": 1, \"id\": \"el122140190815755120\"}], \"images\": [], \"sharex\": [], \"sharey\": []}], \"data\": {\"data01\": [[4.473491668701172, 3.700982093811035], [2.1083407402038574, 5.900047302246094], [1.4576929807662964, 4.291845798492432], [4.397940158843994, 3.5790045261383057], [3.0884556770324707, 4.682604789733887], [4.465862274169922, 3.7182509899139404], [4.477811336517334, 3.7004051208496094], [4.467993259429932, 3.688955545425415], [4.476060390472412, 3.6755757331848145], [4.461469650268555, 3.6515941619873047], [4.440008163452148, 3.660221576690674], [4.470633506774902, 3.6933209896087646], [4.46032190322876, 3.6559436321258545], [4.420379161834717, 3.702255964279175], [2.7661619186401367, -3.9250435829162598], [1.869046926498413, 5.594836711883545], [1.7369129657745361, 5.481457233428955], [1.703628420829773, 5.401984214782715], [-0.21671156585216522, 2.1462159156799316], [-0.34157925844192505, 2.3362390995025635], [2.0938820838928223, 2.6531457901000977], [0.3135550618171692, 3.6315863132476807], [-0.268826425075531, 1.9561399221420288], [0.38248708844184875, 3.861858606338501], [-0.26157963275909424, 1.8529282808303833], [2.005741596221924, 5.835488319396973], [1.6869697570800781, 5.428356647491455], [1.9370554685592651, 5.592013359069824], [1.972493290901184, 5.846649646759033], [2.0682263374328613, 5.880605220794678], [2.17765212059021, 5.831765174865723], [1.922433614730835, 5.57221794128418], [2.038717269897461, 5.949910640716553], [1.8883603811264038, 5.604320526123047], [2.0995712280273438, 5.884551525115967], [4.432304382324219, 3.5718281269073486], [4.465862274169922, 3.7182509899139404], [4.450369358062744, 3.5709004402160645], [4.5157294273376465, 3.501326560974121], [4.46032190322876, 3.6559436321258545], [4.424813747406006, 3.5905697345733643], [4.43427848815918, 3.5892765522003174], [4.435280799865723, 3.610142230987549], [2.7961525917053223, -3.903174877166748], [3.9977734088897705, -3.0997676849365234], [1.799355387687683, 3.885010004043579], [1.4715627431869507, 4.271258354187012], [1.615095615386963, 3.4337475299835205], [1.2103502750396729, 4.0664544105529785], [1.8102856874465942, 3.8997843265533447], [2.256415605545044, 3.4352262020111084], [1.4191608428955078, 4.047095775604248], [1.5867500305175781, 3.9232795238494873], [2.121778726577759, 3.215219736099243], [0.8454933166503906, 4.056744575500488], [4.473491668701172, 3.700982093811035], [4.428060054779053, 3.6306896209716797], [4.435280799865723, 3.610142230987549], [4.432304382324219, 3.5718281269073486], [4.424813747406006, 3.5905697345733643], [4.465862274169922, 3.7182509899139404], [-2.7123055458068848, -0.6083588600158691], [4.43427848815918, 3.5892765522003174], [4.450369358062744, 3.5709004402160645], [4.45461893081665, 3.514787197113037], [4.395830154418945, 3.574150562286377], [4.289813995361328, 3.457730531692505], [4.290060043334961, 3.3852477073669434], [4.407075881958008, 3.558478355407715], [4.39228630065918, 3.5694925785064697], [4.4136176109313965, 3.5707757472991943], [4.370050430297852, 3.54756498336792], [4.403170108795166, 3.5799429416656494], [4.347136497497559, 3.480351448059082], [4.3278093338012695, 3.5145456790924072], [-2.7123055458068848, -0.6083588600158691], [2.4376602172851562, 5.944990158081055], [2.4196338653564453, 5.867511749267578], [3.239870309829712, 5.442595481872559], [3.1831459999084473, 5.473480701446533], [2.3452465534210205, 5.9082746505737305], [2.3866426944732666, 5.901252746582031], [4.428060054779053, 3.6306896209716797], [3.9632065296173096, -3.1023099422454834], [2.3459644317626953, 5.843516826629639], [2.4161036014556885, 3.28739595413208], [2.9296395778656006, 4.5402703285217285], [2.8347644805908203, 4.601049900054932], [2.779149293899536, 4.546551704406738], [3.2466039657592773, 4.267065048217773], [2.8692359924316406, 4.6596999168396], [2.4917635917663574, 4.294553756713867], [3.360427141189575, 4.905498504638672], [3.1524975299835205, 4.346652030944824], [1.522684931755066, 4.761849880218506], [4.432304382324219, 3.5718281269073486], [4.428060054779053, 3.6306896209716797], [4.172805309295654, 2.7591986656188965], [4.43427848815918, 3.5892765522003174], [4.424813747406006, 3.5905697345733643], [4.473491668701172, 3.700982093811035], [3.9977734088897705, -3.0997676849365234], [4.182464122772217, 2.7075905799865723], [4.450369358062744, 3.5709004402160645], [4.435280799865723, 3.610142230987549]]}, \"id\": \"el122140190799629728\", \"plugins\": [{\"type\": \"reset\"}, {\"type\": \"zoom\", \"button\": true, \"enabled\": false}, {\"type\": \"boxzoom\", \"button\": true, \"enabled\": false}]});\n",
       "   }(mpld3);\n",
       "}else if(typeof define === \"function\" && define.amd){\n",
       "   // require.js is available: use it to load d3/mpld3\n",
       "   require.config({paths: {d3: \"https://mpld3.github.io/js/d3.v3.min\"}});\n",
       "   require([\"d3\"], function(d3){\n",
       "      window.d3 = d3;\n",
       "      mpld3_load_lib(\"https://mpld3.github.io/js/mpld3.v0.3.1.dev1.js\", function(){\n",
       "         \n",
       "         mpld3.draw_figure(\"fig_el1221401907996297281281618673\", {\"width\": 576.0, \"height\": 576.0, \"axes\": [{\"bbox\": [0.125, 0.125, 0.775, 0.775], \"xlim\": [-4.0, 5.0], \"ylim\": [-6.0, 8.0], \"xdomain\": [-4.0, 5.0], \"ydomain\": [-6.0, 8.0], \"xscale\": \"linear\", \"yscale\": \"linear\", \"axes\": [{\"position\": \"bottom\", \"nticks\": 10, \"tickvalues\": null, \"tickformat\": null, \"scale\": \"linear\", \"fontsize\": 10.0, \"grid\": {\"gridOn\": false}, \"visible\": true}, {\"position\": \"left\", \"nticks\": 8, \"tickvalues\": null, \"tickformat\": null, \"scale\": \"linear\", \"fontsize\": 10.0, \"grid\": {\"gridOn\": false}, \"visible\": true}], \"axesbg\": \"#E5E5E5\", \"axesbgalpha\": null, \"zoomable\": true, \"id\": \"el122140190853054360\", \"lines\": [], \"paths\": [], \"markers\": [], \"texts\": [{\"text\": \"the\", \"position\": [4.473491668701172, 3.700982093811035], \"coordinates\": \"data\", \"h_anchor\": \"start\", \"v_baseline\": \"auto\", \"rotation\": -0.0, \"fontsize\": 10.0, \"color\": \"#008080\", \"alpha\": 1, \"zorder\": 3, \"id\": \"el122140190814960328\"}, {\"text\": \"run\", \"position\": [2.1083407402038574, 5.900047302246094], \"coordinates\": \"data\", \"h_anchor\": \"start\", \"v_baseline\": \"auto\", \"rotation\": -0.0, \"fontsize\": 10.0, \"color\": \"#0000FF\", \"alpha\": 1, \"zorder\": 3, \"id\": \"el122140190820672120\"}, {\"text\": \"dog\", \"position\": [1.4576929807662964, 4.291845798492432], \"coordinates\": \"data\", \"h_anchor\": \"start\", \"v_baseline\": \"auto\", \"rotation\": -0.0, \"fontsize\": 10.0, \"color\": \"#008000\", \"alpha\": 1, \"zorder\": 3, \"id\": \"el122140190821195392\"}, {\"text\": \"where\", \"position\": [4.397940158843994, 3.5790045261383057], \"coordinates\": \"data\", \"h_anchor\": \"start\", \"v_baseline\": \"auto\", \"rotation\": -0.0, \"fontsize\": 10.0, \"color\": \"#4B0082\", \"alpha\": 1, \"zorder\": 3, \"id\": \"el122140190821193880\"}, {\"text\": \"quick\", \"position\": [3.0884556770324707, 4.682604789733887], \"coordinates\": \"data\", \"h_anchor\": \"start\", \"v_baseline\": \"auto\", \"rotation\": -0.0, \"fontsize\": 10.0, \"color\": \"#000000\", \"alpha\": 1, \"zorder\": 3, \"id\": \"el122140190821194328\"}, {\"text\": \"a\", \"position\": [4.465862274169922, 3.7182509899139404], \"coordinates\": \"data\", \"h_anchor\": \"start\", \"v_baseline\": \"auto\", \"rotation\": -0.0, \"fontsize\": 10.0, \"color\": \"#008080\", \"alpha\": 1, \"zorder\": 3, \"id\": \"el122140190806713848\"}, {\"text\": \"an\", \"position\": [4.477811336517334, 3.7004051208496094], \"coordinates\": \"data\", \"h_anchor\": \"start\", \"v_baseline\": \"auto\", \"rotation\": -0.0, \"fontsize\": 10.0, \"color\": \"#008080\", \"alpha\": 1, \"zorder\": 3, \"id\": \"el122140190820826024\"}, {\"text\": \"his\", \"position\": [4.467993259429932, 3.688955545425415], \"coordinates\": \"data\", \"h_anchor\": \"start\", \"v_baseline\": \"auto\", \"rotation\": -0.0, \"fontsize\": 10.0, \"color\": \"#008080\", \"alpha\": 1, \"zorder\": 3, \"id\": \"el122140190818887776\"}, {\"text\": \"their\", \"position\": [4.476060390472412, 3.6755757331848145], \"coordinates\": \"data\", \"h_anchor\": \"start\", \"v_baseline\": \"auto\", \"rotation\": -0.0, \"fontsize\": 10.0, \"color\": \"#008080\", \"alpha\": 1, \"zorder\": 3, \"id\": \"el122140190816739280\"}, {\"text\": \"her\", \"position\": [4.461469650268555, 3.6515941619873047], \"coordinates\": \"data\", \"h_anchor\": \"start\", \"v_baseline\": \"auto\", \"rotation\": -0.0, \"fontsize\": 10.0, \"color\": \"#008080\", \"alpha\": 1, \"zorder\": 3, \"id\": \"el122140190819275832\"}, {\"text\": \"this\", \"position\": [4.440008163452148, 3.660221576690674], \"coordinates\": \"data\", \"h_anchor\": \"start\", \"v_baseline\": \"auto\", \"rotation\": -0.0, \"fontsize\": 10.0, \"color\": \"#008080\", \"alpha\": 1, \"zorder\": 3, \"id\": \"el122140190823655240\"}, {\"text\": \"its\", \"position\": [4.470633506774902, 3.6933209896087646], \"coordinates\": \"data\", \"h_anchor\": \"start\", \"v_baseline\": \"auto\", \"rotation\": -0.0, \"fontsize\": 10.0, \"color\": \"#008080\", \"alpha\": 1, \"zorder\": 3, \"id\": \"el122140190823656864\"}, {\"text\": \"it\", \"position\": [4.46032190322876, 3.6559436321258545], \"coordinates\": \"data\", \"h_anchor\": \"start\", \"v_baseline\": \"auto\", \"rotation\": -0.0, \"fontsize\": 10.0, \"color\": \"#008080\", \"alpha\": 1, \"zorder\": 3, \"id\": \"el122140190816718688\"}, {\"text\": \"both\", \"position\": [4.420379161834717, 3.702255964279175], \"coordinates\": \"data\", \"h_anchor\": \"start\", \"v_baseline\": \"auto\", \"rotation\": -0.0, \"fontsize\": 10.0, \"color\": \"#008080\", \"alpha\": 1, \"zorder\": 3, \"id\": \"el122140190795978680\"}, {\"text\": \"The\", \"position\": [2.7661619186401367, -3.9250435829162598], \"coordinates\": \"data\", \"h_anchor\": \"start\", \"v_baseline\": \"auto\", \"rotation\": -0.0, \"fontsize\": 10.0, \"color\": \"#008080\", \"alpha\": 1, \"zorder\": 3, \"id\": \"el122140190823166864\"}, {\"text\": \"couple\", \"position\": [1.869046926498413, 5.594836711883545], \"coordinates\": \"data\", \"h_anchor\": \"start\", \"v_baseline\": \"auto\", \"rotation\": -0.0, \"fontsize\": 10.0, \"color\": \"#008080\", \"alpha\": 1, \"zorder\": 3, \"id\": \"el122140190821916624\"}, {\"text\": \"essay\", \"position\": [1.7369129657745361, 5.481457233428955], \"coordinates\": \"data\", \"h_anchor\": \"start\", \"v_baseline\": \"auto\", \"rotation\": -0.0, \"fontsize\": 10.0, \"color\": \"#008080\", \"alpha\": 1, \"zorder\": 3, \"id\": \"el122140190820395552\"}, {\"text\": \"outbreak\", \"position\": [1.703628420829773, 5.401984214782715], \"coordinates\": \"data\", \"h_anchor\": \"start\", \"v_baseline\": \"auto\", \"rotation\": -0.0, \"fontsize\": 10.0, \"color\": \"#008080\", \"alpha\": 1, \"zorder\": 3, \"id\": \"el122140190820396056\"}, {\"text\": \"benefice\", \"position\": [-0.21671156585216522, 2.1462159156799316], \"coordinates\": \"data\", \"h_anchor\": \"start\", \"v_baseline\": \"auto\", \"rotation\": -0.0, \"fontsize\": 10.0, \"color\": \"#008080\", \"alpha\": 1, \"zorder\": 3, \"id\": \"el122140190820829616\"}, {\"text\": \"catastrophe\", \"position\": [-0.34157925844192505, 2.3362390995025635], \"coordinates\": \"data\", \"h_anchor\": \"start\", \"v_baseline\": \"auto\", \"rotation\": -0.0, \"fontsize\": 10.0, \"color\": \"#008080\", \"alpha\": 1, \"zorder\": 3, \"id\": \"el122140190818853328\"}, {\"text\": \"asymptotic\", \"position\": [2.0938820838928223, 2.6531457901000977], \"coordinates\": \"data\", \"h_anchor\": \"start\", \"v_baseline\": \"auto\", \"rotation\": -0.0, \"fontsize\": 10.0, \"color\": \"#008080\", \"alpha\": 1, \"zorder\": 3, \"id\": \"el122140190815755848\"}, {\"text\": \"angle\", \"position\": [0.3135550618171692, 3.6315863132476807], \"coordinates\": \"data\", \"h_anchor\": \"start\", \"v_baseline\": \"auto\", \"rotation\": -0.0, \"fontsize\": 10.0, \"color\": \"#008080\", \"alpha\": 1, \"zorder\": 3, \"id\": \"el122140190819137632\"}, {\"text\": \"berm\", \"position\": [-0.268826425075531, 1.9561399221420288], \"coordinates\": \"data\", \"h_anchor\": \"start\", \"v_baseline\": \"auto\", \"rotation\": -0.0, \"fontsize\": 10.0, \"color\": \"#008080\", \"alpha\": 1, \"zorder\": 3, \"id\": \"el122140190818505112\"}, {\"text\": \"doorway\", \"position\": [0.38248708844184875, 3.861858606338501], \"coordinates\": \"data\", \"h_anchor\": \"start\", \"v_baseline\": \"auto\", \"rotation\": -0.0, \"fontsize\": 10.0, \"color\": \"#008080\", \"alpha\": 1, \"zorder\": 3, \"id\": \"el122140190809966128\"}, {\"text\": \"Pizhi\", \"position\": [-0.26157963275909424, 1.8529282808303833], \"coordinates\": \"data\", \"h_anchor\": \"start\", \"v_baseline\": \"auto\", \"rotation\": -0.0, \"fontsize\": 10.0, \"color\": \"#008080\", \"alpha\": 1, \"zorder\": 3, \"id\": \"el122140190814098656\"}, {\"text\": \"pass\", \"position\": [2.005741596221924, 5.835488319396973], \"coordinates\": \"data\", \"h_anchor\": \"start\", \"v_baseline\": \"auto\", \"rotation\": -0.0, \"fontsize\": 10.0, \"color\": \"#0000FF\", \"alpha\": 1, \"zorder\": 3, \"id\": \"el122140190817483184\"}, {\"text\": \"shoot\", \"position\": [1.6869697570800781, 5.428356647491455], \"coordinates\": \"data\", \"h_anchor\": \"start\", \"v_baseline\": \"auto\", \"rotation\": -0.0, \"fontsize\": 10.0, \"color\": \"#0000FF\", \"alpha\": 1, \"zorder\": 3, \"id\": \"el122140190803885808\"}, {\"text\": \"strike\", \"position\": [1.9370554685592651, 5.592013359069824], \"coordinates\": \"data\", \"h_anchor\": \"start\", \"v_baseline\": \"auto\", \"rotation\": -0.0, \"fontsize\": 10.0, \"color\": \"#0000FF\", \"alpha\": 1, \"zorder\": 3, \"id\": \"el122140190803885584\"}, {\"text\": \"act\", \"position\": [1.972493290901184, 5.846649646759033], \"coordinates\": \"data\", \"h_anchor\": \"start\", \"v_baseline\": \"auto\", \"rotation\": -0.0, \"fontsize\": 10.0, \"color\": \"#0000FF\", \"alpha\": 1, \"zorder\": 3, \"id\": \"el122140190803884968\"}, {\"text\": \"deal\", \"position\": [2.0682263374328613, 5.880605220794678], \"coordinates\": \"data\", \"h_anchor\": \"start\", \"v_baseline\": \"auto\", \"rotation\": -0.0, \"fontsize\": 10.0, \"color\": \"#0000FF\", \"alpha\": 1, \"zorder\": 3, \"id\": \"el122140190803886032\"}, {\"text\": \"defeat\", \"position\": [2.17765212059021, 5.831765174865723], \"coordinates\": \"data\", \"h_anchor\": \"start\", \"v_baseline\": \"auto\", \"rotation\": -0.0, \"fontsize\": 10.0, \"color\": \"#0000FF\", \"alpha\": 1, \"zorder\": 3, \"id\": \"el122140190803885472\"}, {\"text\": \"transfer\", \"position\": [1.922433614730835, 5.57221794128418], \"coordinates\": \"data\", \"h_anchor\": \"start\", \"v_baseline\": \"auto\", \"rotation\": -0.0, \"fontsize\": 10.0, \"color\": \"#0000FF\", \"alpha\": 1, \"zorder\": 3, \"id\": \"el122140190803885304\"}, {\"text\": \"move\", \"position\": [2.038717269897461, 5.949910640716553], \"coordinates\": \"data\", \"h_anchor\": \"start\", \"v_baseline\": \"auto\", \"rotation\": -0.0, \"fontsize\": 10.0, \"color\": \"#0000FF\", \"alpha\": 1, \"zorder\": 3, \"id\": \"el122140190803884576\"}, {\"text\": \"kick\", \"position\": [1.8883603811264038, 5.604320526123047], \"coordinates\": \"data\", \"h_anchor\": \"start\", \"v_baseline\": \"auto\", \"rotation\": -0.0, \"fontsize\": 10.0, \"color\": \"#0000FF\", \"alpha\": 1, \"zorder\": 3, \"id\": \"el122140190803883288\"}, {\"text\": \"win\", \"position\": [2.0995712280273438, 5.884551525115967], \"coordinates\": \"data\", \"h_anchor\": \"start\", \"v_baseline\": \"auto\", \"rotation\": -0.0, \"fontsize\": 10.0, \"color\": \"#0000FF\", \"alpha\": 1, \"zorder\": 3, \"id\": \"el122140190807053424\"}, {\"text\": \"and\", \"position\": [4.432304382324219, 3.5718281269073486], \"coordinates\": \"data\", \"h_anchor\": \"start\", \"v_baseline\": \"auto\", \"rotation\": -0.0, \"fontsize\": 10.0, \"color\": \"#0000FF\", \"alpha\": 1, \"zorder\": 3, \"id\": \"el122140190807053144\"}, {\"text\": \"a\", \"position\": [4.465862274169922, 3.7182509899139404], \"coordinates\": \"data\", \"h_anchor\": \"start\", \"v_baseline\": \"auto\", \"rotation\": -0.0, \"fontsize\": 10.0, \"color\": \"#0000FF\", \"alpha\": 1, \"zorder\": 3, \"id\": \"el122140190807054432\"}, {\"text\": \"for\", \"position\": [4.450369358062744, 3.5709004402160645], \"coordinates\": \"data\", \"h_anchor\": \"start\", \"v_baseline\": \"auto\", \"rotation\": -0.0, \"fontsize\": 10.0, \"color\": \"#0000FF\", \"alpha\": 1, \"zorder\": 3, \"id\": \"el122140190828095696\"}, {\"text\": \",\", \"position\": [4.5157294273376465, 3.501326560974121], \"coordinates\": \"data\", \"h_anchor\": \"start\", \"v_baseline\": \"auto\", \"rotation\": -0.0, \"fontsize\": 10.0, \"color\": \"#0000FF\", \"alpha\": 1, \"zorder\": 3, \"id\": \"el122140190828542608\"}, {\"text\": \"it\", \"position\": [4.46032190322876, 3.6559436321258545], \"coordinates\": \"data\", \"h_anchor\": \"start\", \"v_baseline\": \"auto\", \"rotation\": -0.0, \"fontsize\": 10.0, \"color\": \"#0000FF\", \"alpha\": 1, \"zorder\": 3, \"id\": \"el122140190802077680\"}, {\"text\": \"in\", \"position\": [4.424813747406006, 3.5905697345733643], \"coordinates\": \"data\", \"h_anchor\": \"start\", \"v_baseline\": \"auto\", \"rotation\": -0.0, \"fontsize\": 10.0, \"color\": \"#0000FF\", \"alpha\": 1, \"zorder\": 3, \"id\": \"el122140190802077568\"}, {\"text\": \"to\", \"position\": [4.43427848815918, 3.5892765522003174], \"coordinates\": \"data\", \"h_anchor\": \"start\", \"v_baseline\": \"auto\", \"rotation\": -0.0, \"fontsize\": 10.0, \"color\": \"#0000FF\", \"alpha\": 1, \"zorder\": 3, \"id\": \"el122140188075490216\"}, {\"text\": \"that\", \"position\": [4.435280799865723, 3.610142230987549], \"coordinates\": \"data\", \"h_anchor\": \"start\", \"v_baseline\": \"auto\", \"rotation\": -0.0, \"fontsize\": 10.0, \"color\": \"#0000FF\", \"alpha\": 1, \"zorder\": 3, \"id\": \"el122140190821619024\"}, {\"text\": \"A\", \"position\": [2.7961525917053223, -3.903174877166748], \"coordinates\": \"data\", \"h_anchor\": \"start\", \"v_baseline\": \"auto\", \"rotation\": -0.0, \"fontsize\": 10.0, \"color\": \"#0000FF\", \"alpha\": 1, \"zorder\": 3, \"id\": \"el122140190807007640\"}, {\"text\": \"<unk>\", \"position\": [3.9977734088897705, -3.0997676849365234], \"coordinates\": \"data\", \"h_anchor\": \"start\", \"v_baseline\": \"auto\", \"rotation\": -0.0, \"fontsize\": 10.0, \"color\": \"#0000FF\", \"alpha\": 1, \"zorder\": 3, \"id\": \"el122140190823521976\"}, {\"text\": \"sensation\", \"position\": [1.799355387687683, 3.885010004043579], \"coordinates\": \"data\", \"h_anchor\": \"start\", \"v_baseline\": \"auto\", \"rotation\": -0.0, \"fontsize\": 10.0, \"color\": \"#008000\", \"alpha\": 1, \"zorder\": 3, \"id\": \"el122140190823521808\"}, {\"text\": \"mood\", \"position\": [1.4715627431869507, 4.271258354187012], \"coordinates\": \"data\", \"h_anchor\": \"start\", \"v_baseline\": \"auto\", \"rotation\": -0.0, \"fontsize\": 10.0, \"color\": \"#008000\", \"alpha\": 1, \"zorder\": 3, \"id\": \"el122140190823522200\"}, {\"text\": \"dubious\", \"position\": [1.615095615386963, 3.4337475299835205], \"coordinates\": \"data\", \"h_anchor\": \"start\", \"v_baseline\": \"auto\", \"rotation\": -0.0, \"fontsize\": 10.0, \"color\": \"#008000\", \"alpha\": 1, \"zorder\": 3, \"id\": \"el122140190803397768\"}, {\"text\": \"witch\", \"position\": [1.2103502750396729, 4.0664544105529785], \"coordinates\": \"data\", \"h_anchor\": \"start\", \"v_baseline\": \"auto\", \"rotation\": -0.0, \"fontsize\": 10.0, \"color\": \"#008000\", \"alpha\": 1, \"zorder\": 3, \"id\": \"el122140190803398048\"}, {\"text\": \"horns\", \"position\": [1.8102856874465942, 3.8997843265533447], \"coordinates\": \"data\", \"h_anchor\": \"start\", \"v_baseline\": \"auto\", \"rotation\": -0.0, \"fontsize\": 10.0, \"color\": \"#008000\", \"alpha\": 1, \"zorder\": 3, \"id\": \"el122140190803397824\"}, {\"text\": \"demons\", \"position\": [2.256415605545044, 3.4352262020111084], \"coordinates\": \"data\", \"h_anchor\": \"start\", \"v_baseline\": \"auto\", \"rotation\": -0.0, \"fontsize\": 10.0, \"color\": \"#008000\", \"alpha\": 1, \"zorder\": 3, \"id\": \"el122140190803397432\"}, {\"text\": \"findings\", \"position\": [1.4191608428955078, 4.047095775604248], \"coordinates\": \"data\", \"h_anchor\": \"start\", \"v_baseline\": \"auto\", \"rotation\": -0.0, \"fontsize\": 10.0, \"color\": \"#008000\", \"alpha\": 1, \"zorder\": 3, \"id\": \"el122140190803397656\"}, {\"text\": \"enthusiasm\", \"position\": [1.5867500305175781, 3.9232795238494873], \"coordinates\": \"data\", \"h_anchor\": \"start\", \"v_baseline\": \"auto\", \"rotation\": -0.0, \"fontsize\": 10.0, \"color\": \"#008000\", \"alpha\": 1, \"zorder\": 3, \"id\": \"el122140190806378872\"}, {\"text\": \"smart\", \"position\": [2.121778726577759, 3.215219736099243], \"coordinates\": \"data\", \"h_anchor\": \"start\", \"v_baseline\": \"auto\", \"rotation\": -0.0, \"fontsize\": 10.0, \"color\": \"#008000\", \"alpha\": 1, \"zorder\": 3, \"id\": \"el122140190831655064\"}, {\"text\": \"telescope\", \"position\": [0.8454933166503906, 4.056744575500488], \"coordinates\": \"data\", \"h_anchor\": \"start\", \"v_baseline\": \"auto\", \"rotation\": -0.0, \"fontsize\": 10.0, \"color\": \"#008000\", \"alpha\": 1, \"zorder\": 3, \"id\": \"el122140190831656800\"}, {\"text\": \"the\", \"position\": [4.473491668701172, 3.700982093811035], \"coordinates\": \"data\", \"h_anchor\": \"start\", \"v_baseline\": \"auto\", \"rotation\": -0.0, \"fontsize\": 10.0, \"color\": \"#008000\", \"alpha\": 1, \"zorder\": 3, \"id\": \"el122140190828806552\"}, {\"text\": \"\\\"\", \"position\": [4.428060054779053, 3.6306896209716797], \"coordinates\": \"data\", \"h_anchor\": \"start\", \"v_baseline\": \"auto\", \"rotation\": -0.0, \"fontsize\": 10.0, \"color\": \"#008000\", \"alpha\": 1, \"zorder\": 3, \"id\": \"el122140190828809688\"}, {\"text\": \"that\", \"position\": [4.435280799865723, 3.610142230987549], \"coordinates\": \"data\", \"h_anchor\": \"start\", \"v_baseline\": \"auto\", \"rotation\": -0.0, \"fontsize\": 10.0, \"color\": \"#008000\", \"alpha\": 1, \"zorder\": 3, \"id\": \"el122140190826672480\"}, {\"text\": \"and\", \"position\": [4.432304382324219, 3.5718281269073486], \"coordinates\": \"data\", \"h_anchor\": \"start\", \"v_baseline\": \"auto\", \"rotation\": -0.0, \"fontsize\": 10.0, \"color\": \"#008000\", \"alpha\": 1, \"zorder\": 3, \"id\": \"el122140190826672368\"}, {\"text\": \"in\", \"position\": [4.424813747406006, 3.5905697345733643], \"coordinates\": \"data\", \"h_anchor\": \"start\", \"v_baseline\": \"auto\", \"rotation\": -0.0, \"fontsize\": 10.0, \"color\": \"#008000\", \"alpha\": 1, \"zorder\": 3, \"id\": \"el122140190793465984\"}, {\"text\": \"a\", \"position\": [4.465862274169922, 3.7182509899139404], \"coordinates\": \"data\", \"h_anchor\": \"start\", \"v_baseline\": \"auto\", \"rotation\": -0.0, \"fontsize\": 10.0, \"color\": \"#008000\", \"alpha\": 1, \"zorder\": 3, \"id\": \"el122140190830785984\"}, {\"text\": \"two\", \"position\": [-2.7123055458068848, -0.6083588600158691], \"coordinates\": \"data\", \"h_anchor\": \"start\", \"v_baseline\": \"auto\", \"rotation\": -0.0, \"fontsize\": 10.0, \"color\": \"#008000\", \"alpha\": 1, \"zorder\": 3, \"id\": \"el122140190794387016\"}, {\"text\": \"to\", \"position\": [4.43427848815918, 3.5892765522003174], \"coordinates\": \"data\", \"h_anchor\": \"start\", \"v_baseline\": \"auto\", \"rotation\": -0.0, \"fontsize\": 10.0, \"color\": \"#008000\", \"alpha\": 1, \"zorder\": 3, \"id\": \"el122140190794386568\"}, {\"text\": \"for\", \"position\": [4.450369358062744, 3.5709004402160645], \"coordinates\": \"data\", \"h_anchor\": \"start\", \"v_baseline\": \"auto\", \"rotation\": -0.0, \"fontsize\": 10.0, \"color\": \"#008000\", \"alpha\": 1, \"zorder\": 3, \"id\": \"el122140190831170112\"}, {\"text\": \"(\", \"position\": [4.45461893081665, 3.514787197113037], \"coordinates\": \"data\", \"h_anchor\": \"start\", \"v_baseline\": \"auto\", \"rotation\": -0.0, \"fontsize\": 10.0, \"color\": \"#008000\", \"alpha\": 1, \"zorder\": 3, \"id\": \"el122140190831169776\"}, {\"text\": \"which\", \"position\": [4.395830154418945, 3.574150562286377], \"coordinates\": \"data\", \"h_anchor\": \"start\", \"v_baseline\": \"auto\", \"rotation\": -0.0, \"fontsize\": 10.0, \"color\": \"#4B0082\", \"alpha\": 1, \"zorder\": 3, \"id\": \"el122140190827404368\"}, {\"text\": \"whose\", \"position\": [4.289813995361328, 3.457730531692505], \"coordinates\": \"data\", \"h_anchor\": \"start\", \"v_baseline\": \"auto\", \"rotation\": -0.0, \"fontsize\": 10.0, \"color\": \"#4B0082\", \"alpha\": 1, \"zorder\": 3, \"id\": \"el122140190793628584\"}, {\"text\": \"along\", \"position\": [4.290060043334961, 3.3852477073669434], \"coordinates\": \"data\", \"h_anchor\": \"start\", \"v_baseline\": \"auto\", \"rotation\": -0.0, \"fontsize\": 10.0, \"color\": \"#4B0082\", \"alpha\": 1, \"zorder\": 3, \"id\": \"el122140190793628696\"}, {\"text\": \"but\", \"position\": [4.407075881958008, 3.558478355407715], \"coordinates\": \"data\", \"h_anchor\": \"start\", \"v_baseline\": \"auto\", \"rotation\": -0.0, \"fontsize\": 10.0, \"color\": \"#4B0082\", \"alpha\": 1, \"zorder\": 3, \"id\": \"el122140190818950672\"}, {\"text\": \"because\", \"position\": [4.39228630065918, 3.5694925785064697], \"coordinates\": \"data\", \"h_anchor\": \"start\", \"v_baseline\": \"auto\", \"rotation\": -0.0, \"fontsize\": 10.0, \"color\": \"#4B0082\", \"alpha\": 1, \"zorder\": 3, \"id\": \"el122140190831453296\"}, {\"text\": \"when\", \"position\": [4.4136176109313965, 3.5707757472991943], \"coordinates\": \"data\", \"h_anchor\": \"start\", \"v_baseline\": \"auto\", \"rotation\": -0.0, \"fontsize\": 10.0, \"color\": \"#4B0082\", \"alpha\": 1, \"zorder\": 3, \"id\": \"el122140190810078848\"}, {\"text\": \"against\", \"position\": [4.370050430297852, 3.54756498336792], \"coordinates\": \"data\", \"h_anchor\": \"start\", \"v_baseline\": \"auto\", \"rotation\": -0.0, \"fontsize\": 10.0, \"color\": \"#4B0082\", \"alpha\": 1, \"zorder\": 3, \"id\": \"el122140190811564968\"}, {\"text\": \"before\", \"position\": [4.403170108795166, 3.5799429416656494], \"coordinates\": \"data\", \"h_anchor\": \"start\", \"v_baseline\": \"auto\", \"rotation\": -0.0, \"fontsize\": 10.0, \"color\": \"#4B0082\", \"alpha\": 1, \"zorder\": 3, \"id\": \"el122140190809457832\"}, {\"text\": \"without\", \"position\": [4.347136497497559, 3.480351448059082], \"coordinates\": \"data\", \"h_anchor\": \"start\", \"v_baseline\": \"auto\", \"rotation\": -0.0, \"fontsize\": 10.0, \"color\": \"#4B0082\", \"alpha\": 1, \"zorder\": 3, \"id\": \"el122140190809457888\"}, {\"text\": \"within\", \"position\": [4.3278093338012695, 3.5145456790924072], \"coordinates\": \"data\", \"h_anchor\": \"start\", \"v_baseline\": \"auto\", \"rotation\": -0.0, \"fontsize\": 10.0, \"color\": \"#4B0082\", \"alpha\": 1, \"zorder\": 3, \"id\": \"el122140190831408968\"}, {\"text\": \"two\", \"position\": [-2.7123055458068848, -0.6083588600158691], \"coordinates\": \"data\", \"h_anchor\": \"start\", \"v_baseline\": \"auto\", \"rotation\": -0.0, \"fontsize\": 10.0, \"color\": \"#4B0082\", \"alpha\": 1, \"zorder\": 3, \"id\": \"el122140190806961400\"}, {\"text\": \"game\", \"position\": [2.4376602172851562, 5.944990158081055], \"coordinates\": \"data\", \"h_anchor\": \"start\", \"v_baseline\": \"auto\", \"rotation\": -0.0, \"fontsize\": 10.0, \"color\": \"#4B0082\", \"alpha\": 1, \"zorder\": 3, \"id\": \"el122140190806959888\"}, {\"text\": \"series\", \"position\": [2.4196338653564453, 5.867511749267578], \"coordinates\": \"data\", \"h_anchor\": \"start\", \"v_baseline\": \"auto\", \"rotation\": -0.0, \"fontsize\": 10.0, \"color\": \"#4B0082\", \"alpha\": 1, \"zorder\": 3, \"id\": \"el122140190830331944\"}, {\"text\": \"first\", \"position\": [3.239870309829712, 5.442595481872559], \"coordinates\": \"data\", \"h_anchor\": \"start\", \"v_baseline\": \"auto\", \"rotation\": -0.0, \"fontsize\": 10.0, \"color\": \"#4B0082\", \"alpha\": 1, \"zorder\": 3, \"id\": \"el122140190790845944\"}, {\"text\": \"second\", \"position\": [3.1831459999084473, 5.473480701446533], \"coordinates\": \"data\", \"h_anchor\": \"start\", \"v_baseline\": \"auto\", \"rotation\": -0.0, \"fontsize\": 10.0, \"color\": \"#4B0082\", \"alpha\": 1, \"zorder\": 3, \"id\": \"el122140190820496888\"}, {\"text\": \"year\", \"position\": [2.3452465534210205, 5.9082746505737305], \"coordinates\": \"data\", \"h_anchor\": \"start\", \"v_baseline\": \"auto\", \"rotation\": -0.0, \"fontsize\": 10.0, \"color\": \"#4B0082\", \"alpha\": 1, \"zorder\": 3, \"id\": \"el122140190820497728\"}, {\"text\": \"song\", \"position\": [2.3866426944732666, 5.901252746582031], \"coordinates\": \"data\", \"h_anchor\": \"start\", \"v_baseline\": \"auto\", \"rotation\": -0.0, \"fontsize\": 10.0, \"color\": \"#4B0082\", \"alpha\": 1, \"zorder\": 3, \"id\": \"el122140190820497000\"}, {\"text\": \"\\\"\", \"position\": [4.428060054779053, 3.6306896209716797], \"coordinates\": \"data\", \"h_anchor\": \"start\", \"v_baseline\": \"auto\", \"rotation\": -0.0, \"fontsize\": 10.0, \"color\": \"#4B0082\", \"alpha\": 1, \"zorder\": 3, \"id\": \"el122140190809557032\"}, {\"text\": \"British\", \"position\": [3.9632065296173096, -3.1023099422454834], \"coordinates\": \"data\", \"h_anchor\": \"start\", \"v_baseline\": \"auto\", \"rotation\": -0.0, \"fontsize\": 10.0, \"color\": \"#4B0082\", \"alpha\": 1, \"zorder\": 3, \"id\": \"el122140190816341184\"}, {\"text\": \"name\", \"position\": [2.3459644317626953, 5.843516826629639], \"coordinates\": \"data\", \"h_anchor\": \"start\", \"v_baseline\": \"auto\", \"rotation\": -0.0, \"fontsize\": 10.0, \"color\": \"#4B0082\", \"alpha\": 1, \"zorder\": 3, \"id\": \"el122140190813660832\"}, {\"text\": \"psychological\", \"position\": [2.4161036014556885, 3.28739595413208], \"coordinates\": \"data\", \"h_anchor\": \"start\", \"v_baseline\": \"auto\", \"rotation\": -0.0, \"fontsize\": 10.0, \"color\": \"#000000\", \"alpha\": 1, \"zorder\": 3, \"id\": \"el122140190808812456\"}, {\"text\": \"illegal\", \"position\": [2.9296395778656006, 4.5402703285217285], \"coordinates\": \"data\", \"h_anchor\": \"start\", \"v_baseline\": \"auto\", \"rotation\": -0.0, \"fontsize\": 10.0, \"color\": \"#000000\", \"alpha\": 1, \"zorder\": 3, \"id\": \"el122140190808812400\"}, {\"text\": \"lengthy\", \"position\": [2.8347644805908203, 4.601049900054932], \"coordinates\": \"data\", \"h_anchor\": \"start\", \"v_baseline\": \"auto\", \"rotation\": -0.0, \"fontsize\": 10.0, \"color\": \"#000000\", \"alpha\": 1, \"zorder\": 3, \"id\": \"el122140190809535040\"}, {\"text\": \"mere\", \"position\": [2.779149293899536, 4.546551704406738], \"coordinates\": \"data\", \"h_anchor\": \"start\", \"v_baseline\": \"auto\", \"rotation\": -0.0, \"fontsize\": 10.0, \"color\": \"#000000\", \"alpha\": 1, \"zorder\": 3, \"id\": \"el122140190809535432\"}, {\"text\": \"fixed\", \"position\": [3.2466039657592773, 4.267065048217773], \"coordinates\": \"data\", \"h_anchor\": \"start\", \"v_baseline\": \"auto\", \"rotation\": -0.0, \"fontsize\": 10.0, \"color\": \"#000000\", \"alpha\": 1, \"zorder\": 3, \"id\": \"el122140190809535096\"}, {\"text\": \"experimental\", \"position\": [2.8692359924316406, 4.6596999168396], \"coordinates\": \"data\", \"h_anchor\": \"start\", \"v_baseline\": \"auto\", \"rotation\": -0.0, \"fontsize\": 10.0, \"color\": \"#000000\", \"alpha\": 1, \"zorder\": 3, \"id\": \"el122140190810573568\"}, {\"text\": \"supernova\", \"position\": [2.4917635917663574, 4.294553756713867], \"coordinates\": \"data\", \"h_anchor\": \"start\", \"v_baseline\": \"auto\", \"rotation\": -0.0, \"fontsize\": 10.0, \"color\": \"#000000\", \"alpha\": 1, \"zorder\": 3, \"id\": \"el122140190809524320\"}, {\"text\": \"thick\", \"position\": [3.360427141189575, 4.905498504638672], \"coordinates\": \"data\", \"h_anchor\": \"start\", \"v_baseline\": \"auto\", \"rotation\": -0.0, \"fontsize\": 10.0, \"color\": \"#000000\", \"alpha\": 1, \"zorder\": 3, \"id\": \"el122140190809525272\"}, {\"text\": \"pregnant\", \"position\": [3.1524975299835205, 4.346652030944824], \"coordinates\": \"data\", \"h_anchor\": \"start\", \"v_baseline\": \"auto\", \"rotation\": -0.0, \"fontsize\": 10.0, \"color\": \"#000000\", \"alpha\": 1, \"zorder\": 3, \"id\": \"el122140190809525104\"}, {\"text\": \"swing\", \"position\": [1.522684931755066, 4.761849880218506], \"coordinates\": \"data\", \"h_anchor\": \"start\", \"v_baseline\": \"auto\", \"rotation\": -0.0, \"fontsize\": 10.0, \"color\": \"#000000\", \"alpha\": 1, \"zorder\": 3, \"id\": \"el122140190821314120\"}, {\"text\": \"and\", \"position\": [4.432304382324219, 3.5718281269073486], \"coordinates\": \"data\", \"h_anchor\": \"start\", \"v_baseline\": \"auto\", \"rotation\": -0.0, \"fontsize\": 10.0, \"color\": \"#000000\", \"alpha\": 1, \"zorder\": 3, \"id\": \"el122140190821314008\"}, {\"text\": \"\\\"\", \"position\": [4.428060054779053, 3.6306896209716797], \"coordinates\": \"data\", \"h_anchor\": \"start\", \"v_baseline\": \"auto\", \"rotation\": -0.0, \"fontsize\": 10.0, \"color\": \"#000000\", \"alpha\": 1, \"zorder\": 3, \"id\": \"el122140190824078976\"}, {\"text\": \"was\", \"position\": [4.172805309295654, 2.7591986656188965], \"coordinates\": \"data\", \"h_anchor\": \"start\", \"v_baseline\": \"auto\", \"rotation\": -0.0, \"fontsize\": 10.0, \"color\": \"#000000\", \"alpha\": 1, \"zorder\": 3, \"id\": \"el122140190824079088\"}, {\"text\": \"to\", \"position\": [4.43427848815918, 3.5892765522003174], \"coordinates\": \"data\", \"h_anchor\": \"start\", \"v_baseline\": \"auto\", \"rotation\": -0.0, \"fontsize\": 10.0, \"color\": \"#000000\", \"alpha\": 1, \"zorder\": 3, \"id\": \"el122140190823293448\"}, {\"text\": \"in\", \"position\": [4.424813747406006, 3.5905697345733643], \"coordinates\": \"data\", \"h_anchor\": \"start\", \"v_baseline\": \"auto\", \"rotation\": -0.0, \"fontsize\": 10.0, \"color\": \"#000000\", \"alpha\": 1, \"zorder\": 3, \"id\": \"el122140190823295016\"}, {\"text\": \"the\", \"position\": [4.473491668701172, 3.700982093811035], \"coordinates\": \"data\", \"h_anchor\": \"start\", \"v_baseline\": \"auto\", \"rotation\": -0.0, \"fontsize\": 10.0, \"color\": \"#000000\", \"alpha\": 1, \"zorder\": 3, \"id\": \"el122140190808928720\"}, {\"text\": \"<unk>\", \"position\": [3.9977734088897705, -3.0997676849365234], \"coordinates\": \"data\", \"h_anchor\": \"start\", \"v_baseline\": \"auto\", \"rotation\": -0.0, \"fontsize\": 10.0, \"color\": \"#000000\", \"alpha\": 1, \"zorder\": 3, \"id\": \"el122140190820998336\"}, {\"text\": \"is\", \"position\": [4.182464122772217, 2.7075905799865723], \"coordinates\": \"data\", \"h_anchor\": \"start\", \"v_baseline\": \"auto\", \"rotation\": -0.0, \"fontsize\": 10.0, \"color\": \"#000000\", \"alpha\": 1, \"zorder\": 3, \"id\": \"el122140190816350160\"}, {\"text\": \"for\", \"position\": [4.450369358062744, 3.5709004402160645], \"coordinates\": \"data\", \"h_anchor\": \"start\", \"v_baseline\": \"auto\", \"rotation\": -0.0, \"fontsize\": 10.0, \"color\": \"#000000\", \"alpha\": 1, \"zorder\": 3, \"id\": \"el122140190820904128\"}, {\"text\": \"that\", \"position\": [4.435280799865723, 3.610142230987549], \"coordinates\": \"data\", \"h_anchor\": \"start\", \"v_baseline\": \"auto\", \"rotation\": -0.0, \"fontsize\": 10.0, \"color\": \"#000000\", \"alpha\": 1, \"zorder\": 3, \"id\": \"el122140190820724688\"}], \"collections\": [{\"offsets\": \"data01\", \"xindex\": 0, \"yindex\": 1, \"paths\": [[[[0.0, -0.5], [0.13260155, -0.5], [0.25978993539242673, -0.44731684579412084], [0.3535533905932738, -0.3535533905932738], [0.44731684579412084, -0.25978993539242673], [0.5, -0.13260155], [0.5, 0.0], [0.5, 0.13260155], [0.44731684579412084, 0.25978993539242673], [0.3535533905932738, 0.3535533905932738], [0.25978993539242673, 0.44731684579412084], [0.13260155, 0.5], [0.0, 0.5], [-0.13260155, 0.5], [-0.25978993539242673, 0.44731684579412084], [-0.3535533905932738, 0.3535533905932738], [-0.44731684579412084, 0.25978993539242673], [-0.5, 0.13260155], [-0.5, 0.0], [-0.5, -0.13260155], [-0.44731684579412084, -0.25978993539242673], [-0.3535533905932738, -0.3535533905932738], [-0.25978993539242673, -0.44731684579412084], [-0.13260155, -0.5], [0.0, -0.5]], [\"M\", \"C\", \"C\", \"C\", \"C\", \"C\", \"C\", \"C\", \"C\", \"Z\"]]], \"pathtransforms\": [[4.47213595499958, 0.0, 0.0, 4.47213595499958, 0.0, 0.0]], \"alphas\": [null], \"edgecolors\": [\"#000080\"], \"facecolors\": [\"#000080\"], \"edgewidths\": [0.5], \"offsetcoordinates\": \"data\", \"pathcoordinates\": \"display\", \"zorder\": 1, \"id\": \"el122140190815755120\"}], \"images\": [], \"sharex\": [], \"sharey\": []}], \"data\": {\"data01\": [[4.473491668701172, 3.700982093811035], [2.1083407402038574, 5.900047302246094], [1.4576929807662964, 4.291845798492432], [4.397940158843994, 3.5790045261383057], [3.0884556770324707, 4.682604789733887], [4.465862274169922, 3.7182509899139404], [4.477811336517334, 3.7004051208496094], [4.467993259429932, 3.688955545425415], [4.476060390472412, 3.6755757331848145], [4.461469650268555, 3.6515941619873047], [4.440008163452148, 3.660221576690674], [4.470633506774902, 3.6933209896087646], [4.46032190322876, 3.6559436321258545], [4.420379161834717, 3.702255964279175], [2.7661619186401367, -3.9250435829162598], [1.869046926498413, 5.594836711883545], [1.7369129657745361, 5.481457233428955], [1.703628420829773, 5.401984214782715], [-0.21671156585216522, 2.1462159156799316], [-0.34157925844192505, 2.3362390995025635], [2.0938820838928223, 2.6531457901000977], [0.3135550618171692, 3.6315863132476807], [-0.268826425075531, 1.9561399221420288], [0.38248708844184875, 3.861858606338501], [-0.26157963275909424, 1.8529282808303833], [2.005741596221924, 5.835488319396973], [1.6869697570800781, 5.428356647491455], [1.9370554685592651, 5.592013359069824], [1.972493290901184, 5.846649646759033], [2.0682263374328613, 5.880605220794678], [2.17765212059021, 5.831765174865723], [1.922433614730835, 5.57221794128418], [2.038717269897461, 5.949910640716553], [1.8883603811264038, 5.604320526123047], [2.0995712280273438, 5.884551525115967], [4.432304382324219, 3.5718281269073486], [4.465862274169922, 3.7182509899139404], [4.450369358062744, 3.5709004402160645], [4.5157294273376465, 3.501326560974121], [4.46032190322876, 3.6559436321258545], [4.424813747406006, 3.5905697345733643], [4.43427848815918, 3.5892765522003174], [4.435280799865723, 3.610142230987549], [2.7961525917053223, -3.903174877166748], [3.9977734088897705, -3.0997676849365234], [1.799355387687683, 3.885010004043579], [1.4715627431869507, 4.271258354187012], [1.615095615386963, 3.4337475299835205], [1.2103502750396729, 4.0664544105529785], [1.8102856874465942, 3.8997843265533447], [2.256415605545044, 3.4352262020111084], [1.4191608428955078, 4.047095775604248], [1.5867500305175781, 3.9232795238494873], [2.121778726577759, 3.215219736099243], [0.8454933166503906, 4.056744575500488], [4.473491668701172, 3.700982093811035], [4.428060054779053, 3.6306896209716797], [4.435280799865723, 3.610142230987549], [4.432304382324219, 3.5718281269073486], [4.424813747406006, 3.5905697345733643], [4.465862274169922, 3.7182509899139404], [-2.7123055458068848, -0.6083588600158691], [4.43427848815918, 3.5892765522003174], [4.450369358062744, 3.5709004402160645], [4.45461893081665, 3.514787197113037], [4.395830154418945, 3.574150562286377], [4.289813995361328, 3.457730531692505], [4.290060043334961, 3.3852477073669434], [4.407075881958008, 3.558478355407715], [4.39228630065918, 3.5694925785064697], [4.4136176109313965, 3.5707757472991943], [4.370050430297852, 3.54756498336792], [4.403170108795166, 3.5799429416656494], [4.347136497497559, 3.480351448059082], [4.3278093338012695, 3.5145456790924072], [-2.7123055458068848, -0.6083588600158691], [2.4376602172851562, 5.944990158081055], [2.4196338653564453, 5.867511749267578], [3.239870309829712, 5.442595481872559], [3.1831459999084473, 5.473480701446533], [2.3452465534210205, 5.9082746505737305], [2.3866426944732666, 5.901252746582031], [4.428060054779053, 3.6306896209716797], [3.9632065296173096, -3.1023099422454834], [2.3459644317626953, 5.843516826629639], [2.4161036014556885, 3.28739595413208], [2.9296395778656006, 4.5402703285217285], [2.8347644805908203, 4.601049900054932], [2.779149293899536, 4.546551704406738], [3.2466039657592773, 4.267065048217773], [2.8692359924316406, 4.6596999168396], [2.4917635917663574, 4.294553756713867], [3.360427141189575, 4.905498504638672], [3.1524975299835205, 4.346652030944824], [1.522684931755066, 4.761849880218506], [4.432304382324219, 3.5718281269073486], [4.428060054779053, 3.6306896209716797], [4.172805309295654, 2.7591986656188965], [4.43427848815918, 3.5892765522003174], [4.424813747406006, 3.5905697345733643], [4.473491668701172, 3.700982093811035], [3.9977734088897705, -3.0997676849365234], [4.182464122772217, 2.7075905799865723], [4.450369358062744, 3.5709004402160645], [4.435280799865723, 3.610142230987549]]}, \"id\": \"el122140190799629728\", \"plugins\": [{\"type\": \"reset\"}, {\"type\": \"zoom\", \"button\": true, \"enabled\": false}, {\"type\": \"boxzoom\", \"button\": true, \"enabled\": false}]});\n",
       "      });\n",
       "    });\n",
       "}else{\n",
       "    // require.js not available: dynamically load d3 & mpld3\n",
       "    mpld3_load_lib(\"https://mpld3.github.io/js/d3.v3.min.js\", function(){\n",
       "         mpld3_load_lib(\"https://mpld3.github.io/js/mpld3.v0.3.1.dev1.js\", function(){\n",
       "                 \n",
       "                 mpld3.draw_figure(\"fig_el1221401907996297281281618673\", {\"width\": 576.0, \"height\": 576.0, \"axes\": [{\"bbox\": [0.125, 0.125, 0.775, 0.775], \"xlim\": [-4.0, 5.0], \"ylim\": [-6.0, 8.0], \"xdomain\": [-4.0, 5.0], \"ydomain\": [-6.0, 8.0], \"xscale\": \"linear\", \"yscale\": \"linear\", \"axes\": [{\"position\": \"bottom\", \"nticks\": 10, \"tickvalues\": null, \"tickformat\": null, \"scale\": \"linear\", \"fontsize\": 10.0, \"grid\": {\"gridOn\": false}, \"visible\": true}, {\"position\": \"left\", \"nticks\": 8, \"tickvalues\": null, \"tickformat\": null, \"scale\": \"linear\", \"fontsize\": 10.0, \"grid\": {\"gridOn\": false}, \"visible\": true}], \"axesbg\": \"#E5E5E5\", \"axesbgalpha\": null, \"zoomable\": true, \"id\": \"el122140190853054360\", \"lines\": [], \"paths\": [], \"markers\": [], \"texts\": [{\"text\": \"the\", \"position\": [4.473491668701172, 3.700982093811035], \"coordinates\": \"data\", \"h_anchor\": \"start\", \"v_baseline\": \"auto\", \"rotation\": -0.0, \"fontsize\": 10.0, \"color\": \"#008080\", \"alpha\": 1, \"zorder\": 3, \"id\": \"el122140190814960328\"}, {\"text\": \"run\", \"position\": [2.1083407402038574, 5.900047302246094], \"coordinates\": \"data\", \"h_anchor\": \"start\", \"v_baseline\": \"auto\", \"rotation\": -0.0, \"fontsize\": 10.0, \"color\": \"#0000FF\", \"alpha\": 1, \"zorder\": 3, \"id\": \"el122140190820672120\"}, {\"text\": \"dog\", \"position\": [1.4576929807662964, 4.291845798492432], \"coordinates\": \"data\", \"h_anchor\": \"start\", \"v_baseline\": \"auto\", \"rotation\": -0.0, \"fontsize\": 10.0, \"color\": \"#008000\", \"alpha\": 1, \"zorder\": 3, \"id\": \"el122140190821195392\"}, {\"text\": \"where\", \"position\": [4.397940158843994, 3.5790045261383057], \"coordinates\": \"data\", \"h_anchor\": \"start\", \"v_baseline\": \"auto\", \"rotation\": -0.0, \"fontsize\": 10.0, \"color\": \"#4B0082\", \"alpha\": 1, \"zorder\": 3, \"id\": \"el122140190821193880\"}, {\"text\": \"quick\", \"position\": [3.0884556770324707, 4.682604789733887], \"coordinates\": \"data\", \"h_anchor\": \"start\", \"v_baseline\": \"auto\", \"rotation\": -0.0, \"fontsize\": 10.0, \"color\": \"#000000\", \"alpha\": 1, \"zorder\": 3, \"id\": \"el122140190821194328\"}, {\"text\": \"a\", \"position\": [4.465862274169922, 3.7182509899139404], \"coordinates\": \"data\", \"h_anchor\": \"start\", \"v_baseline\": \"auto\", \"rotation\": -0.0, \"fontsize\": 10.0, \"color\": \"#008080\", \"alpha\": 1, \"zorder\": 3, \"id\": \"el122140190806713848\"}, {\"text\": \"an\", \"position\": [4.477811336517334, 3.7004051208496094], \"coordinates\": \"data\", \"h_anchor\": \"start\", \"v_baseline\": \"auto\", \"rotation\": -0.0, \"fontsize\": 10.0, \"color\": \"#008080\", \"alpha\": 1, \"zorder\": 3, \"id\": \"el122140190820826024\"}, {\"text\": \"his\", \"position\": [4.467993259429932, 3.688955545425415], \"coordinates\": \"data\", \"h_anchor\": \"start\", \"v_baseline\": \"auto\", \"rotation\": -0.0, \"fontsize\": 10.0, \"color\": \"#008080\", \"alpha\": 1, \"zorder\": 3, \"id\": \"el122140190818887776\"}, {\"text\": \"their\", \"position\": [4.476060390472412, 3.6755757331848145], \"coordinates\": \"data\", \"h_anchor\": \"start\", \"v_baseline\": \"auto\", \"rotation\": -0.0, \"fontsize\": 10.0, \"color\": \"#008080\", \"alpha\": 1, \"zorder\": 3, \"id\": \"el122140190816739280\"}, {\"text\": \"her\", \"position\": [4.461469650268555, 3.6515941619873047], \"coordinates\": \"data\", \"h_anchor\": \"start\", \"v_baseline\": \"auto\", \"rotation\": -0.0, \"fontsize\": 10.0, \"color\": \"#008080\", \"alpha\": 1, \"zorder\": 3, \"id\": \"el122140190819275832\"}, {\"text\": \"this\", \"position\": [4.440008163452148, 3.660221576690674], \"coordinates\": \"data\", \"h_anchor\": \"start\", \"v_baseline\": \"auto\", \"rotation\": -0.0, \"fontsize\": 10.0, \"color\": \"#008080\", \"alpha\": 1, \"zorder\": 3, \"id\": \"el122140190823655240\"}, {\"text\": \"its\", \"position\": [4.470633506774902, 3.6933209896087646], \"coordinates\": \"data\", \"h_anchor\": \"start\", \"v_baseline\": \"auto\", \"rotation\": -0.0, \"fontsize\": 10.0, \"color\": \"#008080\", \"alpha\": 1, \"zorder\": 3, \"id\": \"el122140190823656864\"}, {\"text\": \"it\", \"position\": [4.46032190322876, 3.6559436321258545], \"coordinates\": \"data\", \"h_anchor\": \"start\", \"v_baseline\": \"auto\", \"rotation\": -0.0, \"fontsize\": 10.0, \"color\": \"#008080\", \"alpha\": 1, \"zorder\": 3, \"id\": \"el122140190816718688\"}, {\"text\": \"both\", \"position\": [4.420379161834717, 3.702255964279175], \"coordinates\": \"data\", \"h_anchor\": \"start\", \"v_baseline\": \"auto\", \"rotation\": -0.0, \"fontsize\": 10.0, \"color\": \"#008080\", \"alpha\": 1, \"zorder\": 3, \"id\": \"el122140190795978680\"}, {\"text\": \"The\", \"position\": [2.7661619186401367, -3.9250435829162598], \"coordinates\": \"data\", \"h_anchor\": \"start\", \"v_baseline\": \"auto\", \"rotation\": -0.0, \"fontsize\": 10.0, \"color\": \"#008080\", \"alpha\": 1, \"zorder\": 3, \"id\": \"el122140190823166864\"}, {\"text\": \"couple\", \"position\": [1.869046926498413, 5.594836711883545], \"coordinates\": \"data\", \"h_anchor\": \"start\", \"v_baseline\": \"auto\", \"rotation\": -0.0, \"fontsize\": 10.0, \"color\": \"#008080\", \"alpha\": 1, \"zorder\": 3, \"id\": \"el122140190821916624\"}, {\"text\": \"essay\", \"position\": [1.7369129657745361, 5.481457233428955], \"coordinates\": \"data\", \"h_anchor\": \"start\", \"v_baseline\": \"auto\", \"rotation\": -0.0, \"fontsize\": 10.0, \"color\": \"#008080\", \"alpha\": 1, \"zorder\": 3, \"id\": \"el122140190820395552\"}, {\"text\": \"outbreak\", \"position\": [1.703628420829773, 5.401984214782715], \"coordinates\": \"data\", \"h_anchor\": \"start\", \"v_baseline\": \"auto\", \"rotation\": -0.0, \"fontsize\": 10.0, \"color\": \"#008080\", \"alpha\": 1, \"zorder\": 3, \"id\": \"el122140190820396056\"}, {\"text\": \"benefice\", \"position\": [-0.21671156585216522, 2.1462159156799316], \"coordinates\": \"data\", \"h_anchor\": \"start\", \"v_baseline\": \"auto\", \"rotation\": -0.0, \"fontsize\": 10.0, \"color\": \"#008080\", \"alpha\": 1, \"zorder\": 3, \"id\": \"el122140190820829616\"}, {\"text\": \"catastrophe\", \"position\": [-0.34157925844192505, 2.3362390995025635], \"coordinates\": \"data\", \"h_anchor\": \"start\", \"v_baseline\": \"auto\", \"rotation\": -0.0, \"fontsize\": 10.0, \"color\": \"#008080\", \"alpha\": 1, \"zorder\": 3, \"id\": \"el122140190818853328\"}, {\"text\": \"asymptotic\", \"position\": [2.0938820838928223, 2.6531457901000977], \"coordinates\": \"data\", \"h_anchor\": \"start\", \"v_baseline\": \"auto\", \"rotation\": -0.0, \"fontsize\": 10.0, \"color\": \"#008080\", \"alpha\": 1, \"zorder\": 3, \"id\": \"el122140190815755848\"}, {\"text\": \"angle\", \"position\": [0.3135550618171692, 3.6315863132476807], \"coordinates\": \"data\", \"h_anchor\": \"start\", \"v_baseline\": \"auto\", \"rotation\": -0.0, \"fontsize\": 10.0, \"color\": \"#008080\", \"alpha\": 1, \"zorder\": 3, \"id\": \"el122140190819137632\"}, {\"text\": \"berm\", \"position\": [-0.268826425075531, 1.9561399221420288], \"coordinates\": \"data\", \"h_anchor\": \"start\", \"v_baseline\": \"auto\", \"rotation\": -0.0, \"fontsize\": 10.0, \"color\": \"#008080\", \"alpha\": 1, \"zorder\": 3, \"id\": \"el122140190818505112\"}, {\"text\": \"doorway\", \"position\": [0.38248708844184875, 3.861858606338501], \"coordinates\": \"data\", \"h_anchor\": \"start\", \"v_baseline\": \"auto\", \"rotation\": -0.0, \"fontsize\": 10.0, \"color\": \"#008080\", \"alpha\": 1, \"zorder\": 3, \"id\": \"el122140190809966128\"}, {\"text\": \"Pizhi\", \"position\": [-0.26157963275909424, 1.8529282808303833], \"coordinates\": \"data\", \"h_anchor\": \"start\", \"v_baseline\": \"auto\", \"rotation\": -0.0, \"fontsize\": 10.0, \"color\": \"#008080\", \"alpha\": 1, \"zorder\": 3, \"id\": \"el122140190814098656\"}, {\"text\": \"pass\", \"position\": [2.005741596221924, 5.835488319396973], \"coordinates\": \"data\", \"h_anchor\": \"start\", \"v_baseline\": \"auto\", \"rotation\": -0.0, \"fontsize\": 10.0, \"color\": \"#0000FF\", \"alpha\": 1, \"zorder\": 3, \"id\": \"el122140190817483184\"}, {\"text\": \"shoot\", \"position\": [1.6869697570800781, 5.428356647491455], \"coordinates\": \"data\", \"h_anchor\": \"start\", \"v_baseline\": \"auto\", \"rotation\": -0.0, \"fontsize\": 10.0, \"color\": \"#0000FF\", \"alpha\": 1, \"zorder\": 3, \"id\": \"el122140190803885808\"}, {\"text\": \"strike\", \"position\": [1.9370554685592651, 5.592013359069824], \"coordinates\": \"data\", \"h_anchor\": \"start\", \"v_baseline\": \"auto\", \"rotation\": -0.0, \"fontsize\": 10.0, \"color\": \"#0000FF\", \"alpha\": 1, \"zorder\": 3, \"id\": \"el122140190803885584\"}, {\"text\": \"act\", \"position\": [1.972493290901184, 5.846649646759033], \"coordinates\": \"data\", \"h_anchor\": \"start\", \"v_baseline\": \"auto\", \"rotation\": -0.0, \"fontsize\": 10.0, \"color\": \"#0000FF\", \"alpha\": 1, \"zorder\": 3, \"id\": \"el122140190803884968\"}, {\"text\": \"deal\", \"position\": [2.0682263374328613, 5.880605220794678], \"coordinates\": \"data\", \"h_anchor\": \"start\", \"v_baseline\": \"auto\", \"rotation\": -0.0, \"fontsize\": 10.0, \"color\": \"#0000FF\", \"alpha\": 1, \"zorder\": 3, \"id\": \"el122140190803886032\"}, {\"text\": \"defeat\", \"position\": [2.17765212059021, 5.831765174865723], \"coordinates\": \"data\", \"h_anchor\": \"start\", \"v_baseline\": \"auto\", \"rotation\": -0.0, \"fontsize\": 10.0, \"color\": \"#0000FF\", \"alpha\": 1, \"zorder\": 3, \"id\": \"el122140190803885472\"}, {\"text\": \"transfer\", \"position\": [1.922433614730835, 5.57221794128418], \"coordinates\": \"data\", \"h_anchor\": \"start\", \"v_baseline\": \"auto\", \"rotation\": -0.0, \"fontsize\": 10.0, \"color\": \"#0000FF\", \"alpha\": 1, \"zorder\": 3, \"id\": \"el122140190803885304\"}, {\"text\": \"move\", \"position\": [2.038717269897461, 5.949910640716553], \"coordinates\": \"data\", \"h_anchor\": \"start\", \"v_baseline\": \"auto\", \"rotation\": -0.0, \"fontsize\": 10.0, \"color\": \"#0000FF\", \"alpha\": 1, \"zorder\": 3, \"id\": \"el122140190803884576\"}, {\"text\": \"kick\", \"position\": [1.8883603811264038, 5.604320526123047], \"coordinates\": \"data\", \"h_anchor\": \"start\", \"v_baseline\": \"auto\", \"rotation\": -0.0, \"fontsize\": 10.0, \"color\": \"#0000FF\", \"alpha\": 1, \"zorder\": 3, \"id\": \"el122140190803883288\"}, {\"text\": \"win\", \"position\": [2.0995712280273438, 5.884551525115967], \"coordinates\": \"data\", \"h_anchor\": \"start\", \"v_baseline\": \"auto\", \"rotation\": -0.0, \"fontsize\": 10.0, \"color\": \"#0000FF\", \"alpha\": 1, \"zorder\": 3, \"id\": \"el122140190807053424\"}, {\"text\": \"and\", \"position\": [4.432304382324219, 3.5718281269073486], \"coordinates\": \"data\", \"h_anchor\": \"start\", \"v_baseline\": \"auto\", \"rotation\": -0.0, \"fontsize\": 10.0, \"color\": \"#0000FF\", \"alpha\": 1, \"zorder\": 3, \"id\": \"el122140190807053144\"}, {\"text\": \"a\", \"position\": [4.465862274169922, 3.7182509899139404], \"coordinates\": \"data\", \"h_anchor\": \"start\", \"v_baseline\": \"auto\", \"rotation\": -0.0, \"fontsize\": 10.0, \"color\": \"#0000FF\", \"alpha\": 1, \"zorder\": 3, \"id\": \"el122140190807054432\"}, {\"text\": \"for\", \"position\": [4.450369358062744, 3.5709004402160645], \"coordinates\": \"data\", \"h_anchor\": \"start\", \"v_baseline\": \"auto\", \"rotation\": -0.0, \"fontsize\": 10.0, \"color\": \"#0000FF\", \"alpha\": 1, \"zorder\": 3, \"id\": \"el122140190828095696\"}, {\"text\": \",\", \"position\": [4.5157294273376465, 3.501326560974121], \"coordinates\": \"data\", \"h_anchor\": \"start\", \"v_baseline\": \"auto\", \"rotation\": -0.0, \"fontsize\": 10.0, \"color\": \"#0000FF\", \"alpha\": 1, \"zorder\": 3, \"id\": \"el122140190828542608\"}, {\"text\": \"it\", \"position\": [4.46032190322876, 3.6559436321258545], \"coordinates\": \"data\", \"h_anchor\": \"start\", \"v_baseline\": \"auto\", \"rotation\": -0.0, \"fontsize\": 10.0, \"color\": \"#0000FF\", \"alpha\": 1, \"zorder\": 3, \"id\": \"el122140190802077680\"}, {\"text\": \"in\", \"position\": [4.424813747406006, 3.5905697345733643], \"coordinates\": \"data\", \"h_anchor\": \"start\", \"v_baseline\": \"auto\", \"rotation\": -0.0, \"fontsize\": 10.0, \"color\": \"#0000FF\", \"alpha\": 1, \"zorder\": 3, \"id\": \"el122140190802077568\"}, {\"text\": \"to\", \"position\": [4.43427848815918, 3.5892765522003174], \"coordinates\": \"data\", \"h_anchor\": \"start\", \"v_baseline\": \"auto\", \"rotation\": -0.0, \"fontsize\": 10.0, \"color\": \"#0000FF\", \"alpha\": 1, \"zorder\": 3, \"id\": \"el122140188075490216\"}, {\"text\": \"that\", \"position\": [4.435280799865723, 3.610142230987549], \"coordinates\": \"data\", \"h_anchor\": \"start\", \"v_baseline\": \"auto\", \"rotation\": -0.0, \"fontsize\": 10.0, \"color\": \"#0000FF\", \"alpha\": 1, \"zorder\": 3, \"id\": \"el122140190821619024\"}, {\"text\": \"A\", \"position\": [2.7961525917053223, -3.903174877166748], \"coordinates\": \"data\", \"h_anchor\": \"start\", \"v_baseline\": \"auto\", \"rotation\": -0.0, \"fontsize\": 10.0, \"color\": \"#0000FF\", \"alpha\": 1, \"zorder\": 3, \"id\": \"el122140190807007640\"}, {\"text\": \"<unk>\", \"position\": [3.9977734088897705, -3.0997676849365234], \"coordinates\": \"data\", \"h_anchor\": \"start\", \"v_baseline\": \"auto\", \"rotation\": -0.0, \"fontsize\": 10.0, \"color\": \"#0000FF\", \"alpha\": 1, \"zorder\": 3, \"id\": \"el122140190823521976\"}, {\"text\": \"sensation\", \"position\": [1.799355387687683, 3.885010004043579], \"coordinates\": \"data\", \"h_anchor\": \"start\", \"v_baseline\": \"auto\", \"rotation\": -0.0, \"fontsize\": 10.0, \"color\": \"#008000\", \"alpha\": 1, \"zorder\": 3, \"id\": \"el122140190823521808\"}, {\"text\": \"mood\", \"position\": [1.4715627431869507, 4.271258354187012], \"coordinates\": \"data\", \"h_anchor\": \"start\", \"v_baseline\": \"auto\", \"rotation\": -0.0, \"fontsize\": 10.0, \"color\": \"#008000\", \"alpha\": 1, \"zorder\": 3, \"id\": \"el122140190823522200\"}, {\"text\": \"dubious\", \"position\": [1.615095615386963, 3.4337475299835205], \"coordinates\": \"data\", \"h_anchor\": \"start\", \"v_baseline\": \"auto\", \"rotation\": -0.0, \"fontsize\": 10.0, \"color\": \"#008000\", \"alpha\": 1, \"zorder\": 3, \"id\": \"el122140190803397768\"}, {\"text\": \"witch\", \"position\": [1.2103502750396729, 4.0664544105529785], \"coordinates\": \"data\", \"h_anchor\": \"start\", \"v_baseline\": \"auto\", \"rotation\": -0.0, \"fontsize\": 10.0, \"color\": \"#008000\", \"alpha\": 1, \"zorder\": 3, \"id\": \"el122140190803398048\"}, {\"text\": \"horns\", \"position\": [1.8102856874465942, 3.8997843265533447], \"coordinates\": \"data\", \"h_anchor\": \"start\", \"v_baseline\": \"auto\", \"rotation\": -0.0, \"fontsize\": 10.0, \"color\": \"#008000\", \"alpha\": 1, \"zorder\": 3, \"id\": \"el122140190803397824\"}, {\"text\": \"demons\", \"position\": [2.256415605545044, 3.4352262020111084], \"coordinates\": \"data\", \"h_anchor\": \"start\", \"v_baseline\": \"auto\", \"rotation\": -0.0, \"fontsize\": 10.0, \"color\": \"#008000\", \"alpha\": 1, \"zorder\": 3, \"id\": \"el122140190803397432\"}, {\"text\": \"findings\", \"position\": [1.4191608428955078, 4.047095775604248], \"coordinates\": \"data\", \"h_anchor\": \"start\", \"v_baseline\": \"auto\", \"rotation\": -0.0, \"fontsize\": 10.0, \"color\": \"#008000\", \"alpha\": 1, \"zorder\": 3, \"id\": \"el122140190803397656\"}, {\"text\": \"enthusiasm\", \"position\": [1.5867500305175781, 3.9232795238494873], \"coordinates\": \"data\", \"h_anchor\": \"start\", \"v_baseline\": \"auto\", \"rotation\": -0.0, \"fontsize\": 10.0, \"color\": \"#008000\", \"alpha\": 1, \"zorder\": 3, \"id\": \"el122140190806378872\"}, {\"text\": \"smart\", \"position\": [2.121778726577759, 3.215219736099243], \"coordinates\": \"data\", \"h_anchor\": \"start\", \"v_baseline\": \"auto\", \"rotation\": -0.0, \"fontsize\": 10.0, \"color\": \"#008000\", \"alpha\": 1, \"zorder\": 3, \"id\": \"el122140190831655064\"}, {\"text\": \"telescope\", \"position\": [0.8454933166503906, 4.056744575500488], \"coordinates\": \"data\", \"h_anchor\": \"start\", \"v_baseline\": \"auto\", \"rotation\": -0.0, \"fontsize\": 10.0, \"color\": \"#008000\", \"alpha\": 1, \"zorder\": 3, \"id\": \"el122140190831656800\"}, {\"text\": \"the\", \"position\": [4.473491668701172, 3.700982093811035], \"coordinates\": \"data\", \"h_anchor\": \"start\", \"v_baseline\": \"auto\", \"rotation\": -0.0, \"fontsize\": 10.0, \"color\": \"#008000\", \"alpha\": 1, \"zorder\": 3, \"id\": \"el122140190828806552\"}, {\"text\": \"\\\"\", \"position\": [4.428060054779053, 3.6306896209716797], \"coordinates\": \"data\", \"h_anchor\": \"start\", \"v_baseline\": \"auto\", \"rotation\": -0.0, \"fontsize\": 10.0, \"color\": \"#008000\", \"alpha\": 1, \"zorder\": 3, \"id\": \"el122140190828809688\"}, {\"text\": \"that\", \"position\": [4.435280799865723, 3.610142230987549], \"coordinates\": \"data\", \"h_anchor\": \"start\", \"v_baseline\": \"auto\", \"rotation\": -0.0, \"fontsize\": 10.0, \"color\": \"#008000\", \"alpha\": 1, \"zorder\": 3, \"id\": \"el122140190826672480\"}, {\"text\": \"and\", \"position\": [4.432304382324219, 3.5718281269073486], \"coordinates\": \"data\", \"h_anchor\": \"start\", \"v_baseline\": \"auto\", \"rotation\": -0.0, \"fontsize\": 10.0, \"color\": \"#008000\", \"alpha\": 1, \"zorder\": 3, \"id\": \"el122140190826672368\"}, {\"text\": \"in\", \"position\": [4.424813747406006, 3.5905697345733643], \"coordinates\": \"data\", \"h_anchor\": \"start\", \"v_baseline\": \"auto\", \"rotation\": -0.0, \"fontsize\": 10.0, \"color\": \"#008000\", \"alpha\": 1, \"zorder\": 3, \"id\": \"el122140190793465984\"}, {\"text\": \"a\", \"position\": [4.465862274169922, 3.7182509899139404], \"coordinates\": \"data\", \"h_anchor\": \"start\", \"v_baseline\": \"auto\", \"rotation\": -0.0, \"fontsize\": 10.0, \"color\": \"#008000\", \"alpha\": 1, \"zorder\": 3, \"id\": \"el122140190830785984\"}, {\"text\": \"two\", \"position\": [-2.7123055458068848, -0.6083588600158691], \"coordinates\": \"data\", \"h_anchor\": \"start\", \"v_baseline\": \"auto\", \"rotation\": -0.0, \"fontsize\": 10.0, \"color\": \"#008000\", \"alpha\": 1, \"zorder\": 3, \"id\": \"el122140190794387016\"}, {\"text\": \"to\", \"position\": [4.43427848815918, 3.5892765522003174], \"coordinates\": \"data\", \"h_anchor\": \"start\", \"v_baseline\": \"auto\", \"rotation\": -0.0, \"fontsize\": 10.0, \"color\": \"#008000\", \"alpha\": 1, \"zorder\": 3, \"id\": \"el122140190794386568\"}, {\"text\": \"for\", \"position\": [4.450369358062744, 3.5709004402160645], \"coordinates\": \"data\", \"h_anchor\": \"start\", \"v_baseline\": \"auto\", \"rotation\": -0.0, \"fontsize\": 10.0, \"color\": \"#008000\", \"alpha\": 1, \"zorder\": 3, \"id\": \"el122140190831170112\"}, {\"text\": \"(\", \"position\": [4.45461893081665, 3.514787197113037], \"coordinates\": \"data\", \"h_anchor\": \"start\", \"v_baseline\": \"auto\", \"rotation\": -0.0, \"fontsize\": 10.0, \"color\": \"#008000\", \"alpha\": 1, \"zorder\": 3, \"id\": \"el122140190831169776\"}, {\"text\": \"which\", \"position\": [4.395830154418945, 3.574150562286377], \"coordinates\": \"data\", \"h_anchor\": \"start\", \"v_baseline\": \"auto\", \"rotation\": -0.0, \"fontsize\": 10.0, \"color\": \"#4B0082\", \"alpha\": 1, \"zorder\": 3, \"id\": \"el122140190827404368\"}, {\"text\": \"whose\", \"position\": [4.289813995361328, 3.457730531692505], \"coordinates\": \"data\", \"h_anchor\": \"start\", \"v_baseline\": \"auto\", \"rotation\": -0.0, \"fontsize\": 10.0, \"color\": \"#4B0082\", \"alpha\": 1, \"zorder\": 3, \"id\": \"el122140190793628584\"}, {\"text\": \"along\", \"position\": [4.290060043334961, 3.3852477073669434], \"coordinates\": \"data\", \"h_anchor\": \"start\", \"v_baseline\": \"auto\", \"rotation\": -0.0, \"fontsize\": 10.0, \"color\": \"#4B0082\", \"alpha\": 1, \"zorder\": 3, \"id\": \"el122140190793628696\"}, {\"text\": \"but\", \"position\": [4.407075881958008, 3.558478355407715], \"coordinates\": \"data\", \"h_anchor\": \"start\", \"v_baseline\": \"auto\", \"rotation\": -0.0, \"fontsize\": 10.0, \"color\": \"#4B0082\", \"alpha\": 1, \"zorder\": 3, \"id\": \"el122140190818950672\"}, {\"text\": \"because\", \"position\": [4.39228630065918, 3.5694925785064697], \"coordinates\": \"data\", \"h_anchor\": \"start\", \"v_baseline\": \"auto\", \"rotation\": -0.0, \"fontsize\": 10.0, \"color\": \"#4B0082\", \"alpha\": 1, \"zorder\": 3, \"id\": \"el122140190831453296\"}, {\"text\": \"when\", \"position\": [4.4136176109313965, 3.5707757472991943], \"coordinates\": \"data\", \"h_anchor\": \"start\", \"v_baseline\": \"auto\", \"rotation\": -0.0, \"fontsize\": 10.0, \"color\": \"#4B0082\", \"alpha\": 1, \"zorder\": 3, \"id\": \"el122140190810078848\"}, {\"text\": \"against\", \"position\": [4.370050430297852, 3.54756498336792], \"coordinates\": \"data\", \"h_anchor\": \"start\", \"v_baseline\": \"auto\", \"rotation\": -0.0, \"fontsize\": 10.0, \"color\": \"#4B0082\", \"alpha\": 1, \"zorder\": 3, \"id\": \"el122140190811564968\"}, {\"text\": \"before\", \"position\": [4.403170108795166, 3.5799429416656494], \"coordinates\": \"data\", \"h_anchor\": \"start\", \"v_baseline\": \"auto\", \"rotation\": -0.0, \"fontsize\": 10.0, \"color\": \"#4B0082\", \"alpha\": 1, \"zorder\": 3, \"id\": \"el122140190809457832\"}, {\"text\": \"without\", \"position\": [4.347136497497559, 3.480351448059082], \"coordinates\": \"data\", \"h_anchor\": \"start\", \"v_baseline\": \"auto\", \"rotation\": -0.0, \"fontsize\": 10.0, \"color\": \"#4B0082\", \"alpha\": 1, \"zorder\": 3, \"id\": \"el122140190809457888\"}, {\"text\": \"within\", \"position\": [4.3278093338012695, 3.5145456790924072], \"coordinates\": \"data\", \"h_anchor\": \"start\", \"v_baseline\": \"auto\", \"rotation\": -0.0, \"fontsize\": 10.0, \"color\": \"#4B0082\", \"alpha\": 1, \"zorder\": 3, \"id\": \"el122140190831408968\"}, {\"text\": \"two\", \"position\": [-2.7123055458068848, -0.6083588600158691], \"coordinates\": \"data\", \"h_anchor\": \"start\", \"v_baseline\": \"auto\", \"rotation\": -0.0, \"fontsize\": 10.0, \"color\": \"#4B0082\", \"alpha\": 1, \"zorder\": 3, \"id\": \"el122140190806961400\"}, {\"text\": \"game\", \"position\": [2.4376602172851562, 5.944990158081055], \"coordinates\": \"data\", \"h_anchor\": \"start\", \"v_baseline\": \"auto\", \"rotation\": -0.0, \"fontsize\": 10.0, \"color\": \"#4B0082\", \"alpha\": 1, \"zorder\": 3, \"id\": \"el122140190806959888\"}, {\"text\": \"series\", \"position\": [2.4196338653564453, 5.867511749267578], \"coordinates\": \"data\", \"h_anchor\": \"start\", \"v_baseline\": \"auto\", \"rotation\": -0.0, \"fontsize\": 10.0, \"color\": \"#4B0082\", \"alpha\": 1, \"zorder\": 3, \"id\": \"el122140190830331944\"}, {\"text\": \"first\", \"position\": [3.239870309829712, 5.442595481872559], \"coordinates\": \"data\", \"h_anchor\": \"start\", \"v_baseline\": \"auto\", \"rotation\": -0.0, \"fontsize\": 10.0, \"color\": \"#4B0082\", \"alpha\": 1, \"zorder\": 3, \"id\": \"el122140190790845944\"}, {\"text\": \"second\", \"position\": [3.1831459999084473, 5.473480701446533], \"coordinates\": \"data\", \"h_anchor\": \"start\", \"v_baseline\": \"auto\", \"rotation\": -0.0, \"fontsize\": 10.0, \"color\": \"#4B0082\", \"alpha\": 1, \"zorder\": 3, \"id\": \"el122140190820496888\"}, {\"text\": \"year\", \"position\": [2.3452465534210205, 5.9082746505737305], \"coordinates\": \"data\", \"h_anchor\": \"start\", \"v_baseline\": \"auto\", \"rotation\": -0.0, \"fontsize\": 10.0, \"color\": \"#4B0082\", \"alpha\": 1, \"zorder\": 3, \"id\": \"el122140190820497728\"}, {\"text\": \"song\", \"position\": [2.3866426944732666, 5.901252746582031], \"coordinates\": \"data\", \"h_anchor\": \"start\", \"v_baseline\": \"auto\", \"rotation\": -0.0, \"fontsize\": 10.0, \"color\": \"#4B0082\", \"alpha\": 1, \"zorder\": 3, \"id\": \"el122140190820497000\"}, {\"text\": \"\\\"\", \"position\": [4.428060054779053, 3.6306896209716797], \"coordinates\": \"data\", \"h_anchor\": \"start\", \"v_baseline\": \"auto\", \"rotation\": -0.0, \"fontsize\": 10.0, \"color\": \"#4B0082\", \"alpha\": 1, \"zorder\": 3, \"id\": \"el122140190809557032\"}, {\"text\": \"British\", \"position\": [3.9632065296173096, -3.1023099422454834], \"coordinates\": \"data\", \"h_anchor\": \"start\", \"v_baseline\": \"auto\", \"rotation\": -0.0, \"fontsize\": 10.0, \"color\": \"#4B0082\", \"alpha\": 1, \"zorder\": 3, \"id\": \"el122140190816341184\"}, {\"text\": \"name\", \"position\": [2.3459644317626953, 5.843516826629639], \"coordinates\": \"data\", \"h_anchor\": \"start\", \"v_baseline\": \"auto\", \"rotation\": -0.0, \"fontsize\": 10.0, \"color\": \"#4B0082\", \"alpha\": 1, \"zorder\": 3, \"id\": \"el122140190813660832\"}, {\"text\": \"psychological\", \"position\": [2.4161036014556885, 3.28739595413208], \"coordinates\": \"data\", \"h_anchor\": \"start\", \"v_baseline\": \"auto\", \"rotation\": -0.0, \"fontsize\": 10.0, \"color\": \"#000000\", \"alpha\": 1, \"zorder\": 3, \"id\": \"el122140190808812456\"}, {\"text\": \"illegal\", \"position\": [2.9296395778656006, 4.5402703285217285], \"coordinates\": \"data\", \"h_anchor\": \"start\", \"v_baseline\": \"auto\", \"rotation\": -0.0, \"fontsize\": 10.0, \"color\": \"#000000\", \"alpha\": 1, \"zorder\": 3, \"id\": \"el122140190808812400\"}, {\"text\": \"lengthy\", \"position\": [2.8347644805908203, 4.601049900054932], \"coordinates\": \"data\", \"h_anchor\": \"start\", \"v_baseline\": \"auto\", \"rotation\": -0.0, \"fontsize\": 10.0, \"color\": \"#000000\", \"alpha\": 1, \"zorder\": 3, \"id\": \"el122140190809535040\"}, {\"text\": \"mere\", \"position\": [2.779149293899536, 4.546551704406738], \"coordinates\": \"data\", \"h_anchor\": \"start\", \"v_baseline\": \"auto\", \"rotation\": -0.0, \"fontsize\": 10.0, \"color\": \"#000000\", \"alpha\": 1, \"zorder\": 3, \"id\": \"el122140190809535432\"}, {\"text\": \"fixed\", \"position\": [3.2466039657592773, 4.267065048217773], \"coordinates\": \"data\", \"h_anchor\": \"start\", \"v_baseline\": \"auto\", \"rotation\": -0.0, \"fontsize\": 10.0, \"color\": \"#000000\", \"alpha\": 1, \"zorder\": 3, \"id\": \"el122140190809535096\"}, {\"text\": \"experimental\", \"position\": [2.8692359924316406, 4.6596999168396], \"coordinates\": \"data\", \"h_anchor\": \"start\", \"v_baseline\": \"auto\", \"rotation\": -0.0, \"fontsize\": 10.0, \"color\": \"#000000\", \"alpha\": 1, \"zorder\": 3, \"id\": \"el122140190810573568\"}, {\"text\": \"supernova\", \"position\": [2.4917635917663574, 4.294553756713867], \"coordinates\": \"data\", \"h_anchor\": \"start\", \"v_baseline\": \"auto\", \"rotation\": -0.0, \"fontsize\": 10.0, \"color\": \"#000000\", \"alpha\": 1, \"zorder\": 3, \"id\": \"el122140190809524320\"}, {\"text\": \"thick\", \"position\": [3.360427141189575, 4.905498504638672], \"coordinates\": \"data\", \"h_anchor\": \"start\", \"v_baseline\": \"auto\", \"rotation\": -0.0, \"fontsize\": 10.0, \"color\": \"#000000\", \"alpha\": 1, \"zorder\": 3, \"id\": \"el122140190809525272\"}, {\"text\": \"pregnant\", \"position\": [3.1524975299835205, 4.346652030944824], \"coordinates\": \"data\", \"h_anchor\": \"start\", \"v_baseline\": \"auto\", \"rotation\": -0.0, \"fontsize\": 10.0, \"color\": \"#000000\", \"alpha\": 1, \"zorder\": 3, \"id\": \"el122140190809525104\"}, {\"text\": \"swing\", \"position\": [1.522684931755066, 4.761849880218506], \"coordinates\": \"data\", \"h_anchor\": \"start\", \"v_baseline\": \"auto\", \"rotation\": -0.0, \"fontsize\": 10.0, \"color\": \"#000000\", \"alpha\": 1, \"zorder\": 3, \"id\": \"el122140190821314120\"}, {\"text\": \"and\", \"position\": [4.432304382324219, 3.5718281269073486], \"coordinates\": \"data\", \"h_anchor\": \"start\", \"v_baseline\": \"auto\", \"rotation\": -0.0, \"fontsize\": 10.0, \"color\": \"#000000\", \"alpha\": 1, \"zorder\": 3, \"id\": \"el122140190821314008\"}, {\"text\": \"\\\"\", \"position\": [4.428060054779053, 3.6306896209716797], \"coordinates\": \"data\", \"h_anchor\": \"start\", \"v_baseline\": \"auto\", \"rotation\": -0.0, \"fontsize\": 10.0, \"color\": \"#000000\", \"alpha\": 1, \"zorder\": 3, \"id\": \"el122140190824078976\"}, {\"text\": \"was\", \"position\": [4.172805309295654, 2.7591986656188965], \"coordinates\": \"data\", \"h_anchor\": \"start\", \"v_baseline\": \"auto\", \"rotation\": -0.0, \"fontsize\": 10.0, \"color\": \"#000000\", \"alpha\": 1, \"zorder\": 3, \"id\": \"el122140190824079088\"}, {\"text\": \"to\", \"position\": [4.43427848815918, 3.5892765522003174], \"coordinates\": \"data\", \"h_anchor\": \"start\", \"v_baseline\": \"auto\", \"rotation\": -0.0, \"fontsize\": 10.0, \"color\": \"#000000\", \"alpha\": 1, \"zorder\": 3, \"id\": \"el122140190823293448\"}, {\"text\": \"in\", \"position\": [4.424813747406006, 3.5905697345733643], \"coordinates\": \"data\", \"h_anchor\": \"start\", \"v_baseline\": \"auto\", \"rotation\": -0.0, \"fontsize\": 10.0, \"color\": \"#000000\", \"alpha\": 1, \"zorder\": 3, \"id\": \"el122140190823295016\"}, {\"text\": \"the\", \"position\": [4.473491668701172, 3.700982093811035], \"coordinates\": \"data\", \"h_anchor\": \"start\", \"v_baseline\": \"auto\", \"rotation\": -0.0, \"fontsize\": 10.0, \"color\": \"#000000\", \"alpha\": 1, \"zorder\": 3, \"id\": \"el122140190808928720\"}, {\"text\": \"<unk>\", \"position\": [3.9977734088897705, -3.0997676849365234], \"coordinates\": \"data\", \"h_anchor\": \"start\", \"v_baseline\": \"auto\", \"rotation\": -0.0, \"fontsize\": 10.0, \"color\": \"#000000\", \"alpha\": 1, \"zorder\": 3, \"id\": \"el122140190820998336\"}, {\"text\": \"is\", \"position\": [4.182464122772217, 2.7075905799865723], \"coordinates\": \"data\", \"h_anchor\": \"start\", \"v_baseline\": \"auto\", \"rotation\": -0.0, \"fontsize\": 10.0, \"color\": \"#000000\", \"alpha\": 1, \"zorder\": 3, \"id\": \"el122140190816350160\"}, {\"text\": \"for\", \"position\": [4.450369358062744, 3.5709004402160645], \"coordinates\": \"data\", \"h_anchor\": \"start\", \"v_baseline\": \"auto\", \"rotation\": -0.0, \"fontsize\": 10.0, \"color\": \"#000000\", \"alpha\": 1, \"zorder\": 3, \"id\": \"el122140190820904128\"}, {\"text\": \"that\", \"position\": [4.435280799865723, 3.610142230987549], \"coordinates\": \"data\", \"h_anchor\": \"start\", \"v_baseline\": \"auto\", \"rotation\": -0.0, \"fontsize\": 10.0, \"color\": \"#000000\", \"alpha\": 1, \"zorder\": 3, \"id\": \"el122140190820724688\"}], \"collections\": [{\"offsets\": \"data01\", \"xindex\": 0, \"yindex\": 1, \"paths\": [[[[0.0, -0.5], [0.13260155, -0.5], [0.25978993539242673, -0.44731684579412084], [0.3535533905932738, -0.3535533905932738], [0.44731684579412084, -0.25978993539242673], [0.5, -0.13260155], [0.5, 0.0], [0.5, 0.13260155], [0.44731684579412084, 0.25978993539242673], [0.3535533905932738, 0.3535533905932738], [0.25978993539242673, 0.44731684579412084], [0.13260155, 0.5], [0.0, 0.5], [-0.13260155, 0.5], [-0.25978993539242673, 0.44731684579412084], [-0.3535533905932738, 0.3535533905932738], [-0.44731684579412084, 0.25978993539242673], [-0.5, 0.13260155], [-0.5, 0.0], [-0.5, -0.13260155], [-0.44731684579412084, -0.25978993539242673], [-0.3535533905932738, -0.3535533905932738], [-0.25978993539242673, -0.44731684579412084], [-0.13260155, -0.5], [0.0, -0.5]], [\"M\", \"C\", \"C\", \"C\", \"C\", \"C\", \"C\", \"C\", \"C\", \"Z\"]]], \"pathtransforms\": [[4.47213595499958, 0.0, 0.0, 4.47213595499958, 0.0, 0.0]], \"alphas\": [null], \"edgecolors\": [\"#000080\"], \"facecolors\": [\"#000080\"], \"edgewidths\": [0.5], \"offsetcoordinates\": \"data\", \"pathcoordinates\": \"display\", \"zorder\": 1, \"id\": \"el122140190815755120\"}], \"images\": [], \"sharex\": [], \"sharey\": []}], \"data\": {\"data01\": [[4.473491668701172, 3.700982093811035], [2.1083407402038574, 5.900047302246094], [1.4576929807662964, 4.291845798492432], [4.397940158843994, 3.5790045261383057], [3.0884556770324707, 4.682604789733887], [4.465862274169922, 3.7182509899139404], [4.477811336517334, 3.7004051208496094], [4.467993259429932, 3.688955545425415], [4.476060390472412, 3.6755757331848145], [4.461469650268555, 3.6515941619873047], [4.440008163452148, 3.660221576690674], [4.470633506774902, 3.6933209896087646], [4.46032190322876, 3.6559436321258545], [4.420379161834717, 3.702255964279175], [2.7661619186401367, -3.9250435829162598], [1.869046926498413, 5.594836711883545], [1.7369129657745361, 5.481457233428955], [1.703628420829773, 5.401984214782715], [-0.21671156585216522, 2.1462159156799316], [-0.34157925844192505, 2.3362390995025635], [2.0938820838928223, 2.6531457901000977], [0.3135550618171692, 3.6315863132476807], [-0.268826425075531, 1.9561399221420288], [0.38248708844184875, 3.861858606338501], [-0.26157963275909424, 1.8529282808303833], [2.005741596221924, 5.835488319396973], [1.6869697570800781, 5.428356647491455], [1.9370554685592651, 5.592013359069824], [1.972493290901184, 5.846649646759033], [2.0682263374328613, 5.880605220794678], [2.17765212059021, 5.831765174865723], [1.922433614730835, 5.57221794128418], [2.038717269897461, 5.949910640716553], [1.8883603811264038, 5.604320526123047], [2.0995712280273438, 5.884551525115967], [4.432304382324219, 3.5718281269073486], [4.465862274169922, 3.7182509899139404], [4.450369358062744, 3.5709004402160645], [4.5157294273376465, 3.501326560974121], [4.46032190322876, 3.6559436321258545], [4.424813747406006, 3.5905697345733643], [4.43427848815918, 3.5892765522003174], [4.435280799865723, 3.610142230987549], [2.7961525917053223, -3.903174877166748], [3.9977734088897705, -3.0997676849365234], [1.799355387687683, 3.885010004043579], [1.4715627431869507, 4.271258354187012], [1.615095615386963, 3.4337475299835205], [1.2103502750396729, 4.0664544105529785], [1.8102856874465942, 3.8997843265533447], [2.256415605545044, 3.4352262020111084], [1.4191608428955078, 4.047095775604248], [1.5867500305175781, 3.9232795238494873], [2.121778726577759, 3.215219736099243], [0.8454933166503906, 4.056744575500488], [4.473491668701172, 3.700982093811035], [4.428060054779053, 3.6306896209716797], [4.435280799865723, 3.610142230987549], [4.432304382324219, 3.5718281269073486], [4.424813747406006, 3.5905697345733643], [4.465862274169922, 3.7182509899139404], [-2.7123055458068848, -0.6083588600158691], [4.43427848815918, 3.5892765522003174], [4.450369358062744, 3.5709004402160645], [4.45461893081665, 3.514787197113037], [4.395830154418945, 3.574150562286377], [4.289813995361328, 3.457730531692505], [4.290060043334961, 3.3852477073669434], [4.407075881958008, 3.558478355407715], [4.39228630065918, 3.5694925785064697], [4.4136176109313965, 3.5707757472991943], [4.370050430297852, 3.54756498336792], [4.403170108795166, 3.5799429416656494], [4.347136497497559, 3.480351448059082], [4.3278093338012695, 3.5145456790924072], [-2.7123055458068848, -0.6083588600158691], [2.4376602172851562, 5.944990158081055], [2.4196338653564453, 5.867511749267578], [3.239870309829712, 5.442595481872559], [3.1831459999084473, 5.473480701446533], [2.3452465534210205, 5.9082746505737305], [2.3866426944732666, 5.901252746582031], [4.428060054779053, 3.6306896209716797], [3.9632065296173096, -3.1023099422454834], [2.3459644317626953, 5.843516826629639], [2.4161036014556885, 3.28739595413208], [2.9296395778656006, 4.5402703285217285], [2.8347644805908203, 4.601049900054932], [2.779149293899536, 4.546551704406738], [3.2466039657592773, 4.267065048217773], [2.8692359924316406, 4.6596999168396], [2.4917635917663574, 4.294553756713867], [3.360427141189575, 4.905498504638672], [3.1524975299835205, 4.346652030944824], [1.522684931755066, 4.761849880218506], [4.432304382324219, 3.5718281269073486], [4.428060054779053, 3.6306896209716797], [4.172805309295654, 2.7591986656188965], [4.43427848815918, 3.5892765522003174], [4.424813747406006, 3.5905697345733643], [4.473491668701172, 3.700982093811035], [3.9977734088897705, -3.0997676849365234], [4.182464122772217, 2.7075905799865723], [4.450369358062744, 3.5709004402160645], [4.435280799865723, 3.610142230987549]]}, \"id\": \"el122140190799629728\", \"plugins\": [{\"type\": \"reset\"}, {\"type\": \"zoom\", \"button\": true, \"enabled\": false}, {\"type\": \"boxzoom\", \"button\": true, \"enabled\": false}]});\n",
       "            })\n",
       "         });\n",
       "}\n",
       "</script>"
      ],
      "text/plain": [
       "<Figure size 576x576 with 1 Axes>"
      ]
     },
     "metadata": {
      "tags": []
     },
     "output_type": "display_data"
    }
   ],
   "source": [
    "umap_plot(Projection,words_id2_n, words2)"
   ]
  },
  {
   "cell_type": "markdown",
   "metadata": {},
   "source": [
    "<img src=\"p2.jpeg\" alt=\"Drawing\" style=\"width: 600px;\"/>"
   ]
  },
  {
   "cell_type": "markdown",
   "metadata": {
    "colab_type": "text",
    "id": "TCxQyiw5kbsT"
   },
   "source": [
    "### II.3 Scoring"
   ]
  },
  {
   "cell_type": "code",
   "execution_count": null,
   "metadata": {
    "colab": {},
    "colab_type": "code",
    "id": "s-t0hooVkbsU",
    "jupyter": {
     "source_hidden": true
    }
   },
   "outputs": [],
   "source": [
    "# load checkpoint file of the best model and set up the model with the loaded .pt file\n",
    "if not os.path.exists(\"./drive/My Drive/wiki_LSTM_emb256_dp0.3.pt\"):\n",
    "    raise EOFError('Need the best trained model!')\n",
    "model_dict = torch.load(\"./drive/My Drive/wiki_LSTM_emb256_dp0.3.pt\")\n",
    "options = model_dict['options']\n",
    "\n",
    "num_gpus = torch.cuda.device_count()\n",
    "if num_gpus > 0:\n",
    "    current_device = 'cuda'\n",
    "else:\n",
    "    current_device = 'cpu'\n",
    "\n",
    "model = LSTMLanguageModel(options).to(current_device)\n",
    "model.load_state_dict(model_dict['model_dict'])\n",
    "\n",
    "import spacy\n",
    "import string\n",
    "from tqdm import tqdm\n",
    "from scipy.special import softmax\n",
    "nlp = spacy.load(\"en_core_web_sm\")\n",
    "\n",
    "def score(seq_tokenized, model):\n",
    "    seq_ids = train_val_dictionary.encode_token_seq(seq_tokenized)\n",
    "    seq_tensored = TensoredDataset([seq_ids])\n",
    "    seq_loader = DataLoader(seq_tensored, batch_size=1, collate_fn=pad_collate_fn)\n",
    "    model.eval()\n",
    "    with torch.no_grad():\n",
    "        for _, (inp, target) in enumerate(seq_loader):\n",
    "            inp = inp.to(current_device)\n",
    "            target = target.to(current_device)\n",
    "\n",
    "            logits = model(inp)\n",
    "\n",
    "            target = target.cpu().numpy()[0]\n",
    "            logits = logits.cpu().numpy()[0]\n",
    "\n",
    "            probs = [softmax(logit) for logit in logits][0]\n",
    "            log_prob = 0\n",
    "            for idx in target:\n",
    "                log_prob += np.log2(probs[idx])\n",
    "            log_prob /= len(seq_tokenized)\n",
    "\n",
    "    return log_prob"
   ]
  },
  {
   "cell_type": "markdown",
   "metadata": {
    "colab_type": "text",
    "id": "KVuxvKUQkbsV"
   },
   "source": [
    "#### II.3.2 Highest and Lowest scoring sequences"
   ]
  },
  {
   "cell_type": "code",
   "execution_count": null,
   "metadata": {
    "colab": {
     "base_uri": "https://localhost:8080/",
     "height": 1000
    },
    "colab_type": "code",
    "id": "ZCHSJ7cuvgGy",
    "jupyter": {
     "source_hidden": true
    },
    "outputId": "12d26714-d9d2-4179-e141-313526827c08"
   },
   "outputs": [
    {
     "name": "stdout",
     "output_type": "stream",
     "text": [
      "The 10 sequences from the validation set with the HIGHEST scores are (listed in descending order on score):\n",
      "SENTENCE: = = = <unk> from the stage = = =\n",
      "SCORE: -4.891379880905151\n",
      "\n",
      "SENTENCE: = = = = Invasion of the <unk> = = = =\n",
      "SCORE: -5.245575467745463\n",
      "\n",
      "SENTENCE: = = = Army returns = = =\n",
      "SCORE: -5.362616837024689\n",
      "\n",
      "SENTENCE: = = = Raid of <unk> = = =\n",
      "SCORE: -5.428578164842394\n",
      "\n",
      "SENTENCE: = = = Scientology sources = = =\n",
      "SCORE: -5.577610671520233\n",
      "\n",
      "SENTENCE: = = = Hit list = = =\n",
      "SCORE: -5.598378241062164\n",
      "\n",
      "SENTENCE: = = = Architectural groups = = =\n",
      "SCORE: -5.867372214794159\n",
      "\n",
      "SENTENCE: = = = Training in Europe = = =\n",
      "SCORE: -6.1901134914822045\n",
      "\n",
      "SENTENCE: = = <unk> in England and early matches = =\n",
      "SCORE: -6.231830501556397\n",
      "\n",
      "SENTENCE: = = Later life and death = =\n",
      "SCORE: -6.322118163108826\n",
      "\n",
      "The 10 sequences from the validation set with the LOWEST scores are (listed in descending order on score):\n",
      "SENTENCE: Initially these were militias in support of British regulars , but when military support for the colonies ended in 1870 , the colonies assumed their own defence responsibilities .\n",
      "SCORE: -44.86422821571087\n",
      "\n",
      "SENTENCE: Ultimately the <unk> were defeated , and the war ended on 31 May 1902 .\n",
      "SCORE: -44.872772471110025\n",
      "\n",
      "SENTENCE: Prior to filming , a week was spent reinforcing the roof of the liquor store to ensure it would not collapse if it were to be <unk> by a group of fans .\n",
      "SCORE: -44.917167432380445\n",
      "\n",
      "SENTENCE: Prior to the performances in Australia , a scene of Carey swimming with <unk> is shown .\n",
      "SCORE: -44.98046381333295\n",
      "\n",
      "SENTENCE: Still the advance continued , with the drive to <unk> in May including more than 3 @,@ 000 Australians .\n",
      "SCORE: -45.01626091003418\n",
      "\n",
      "SENTENCE: Prior to that direction , confusion arose because the species had been referred to by several different names , including <unk>\n",
      "SCORE: -45.11205546061198\n",
      "\n",
      "SENTENCE: Along this same vein , <unk> vinyl <unk> of the type studied extensively by Marcus <unk> of the University of Hawaii show dramatic rate acceleration due to the removal of β @-@ <unk> , <unk> a large amount of <unk> strain in the s @-@ <unk> <unk> .\n",
      "SCORE: -45.764676014582314\n",
      "\n",
      "SENTENCE: Returning to <unk> , he finished second , before winning his first race on the road course at Riverside , California the following week .\n",
      "SCORE: -46.040196838378904\n",
      "\n",
      "SENTENCE: Ultimately , though , the war came to an end before the final Australian advance began , bringing the campaign to an end .\n",
      "SCORE: -46.20631726582845\n",
      "\n",
      "SENTENCE: Outside of the <unk> anime and manga , <unk> has appeared in four of the feature films in the series , as well as several other media relating to the series , including video games and original video animations .\n",
      "SCORE: -46.74230484962463\n",
      "\n"
     ]
    }
   ],
   "source": [
    "# change the batch size of validation data loader to 1, so we feed samples in validation data set one by one\n",
    "batch_size = 1\n",
    "validation_data = datasets['valid']\n",
    "\n",
    "seq_score = [] # a list of tuple, [('<bos> i like apple <eos>', score), ('<bos> i like apple <eos>', score), ... ]\n",
    "\n",
    "for sample in tqdm(validation_data):\n",
    "    seq_score.append((' '.join(sample), score(sample, model)))\n",
    "\n",
    "sorted_seq_score = sorted(seq_score, key=lambda x: x[1], reverse = True)# sort seq_score based on the 2nd value of tuple\n",
    "print('The 10 sequences from the validation set with the HIGHEST scores are (listed in descending order on score):')\n",
    "for seq_score_pair in sorted_seq_score[0:10]:\n",
    "    print('SENTENCE: {}'.format(seq_score_pair[0]))\n",
    "    print('SCORE: {}\\n'.format(seq_score_pair[1]))\n",
    "print('The 10 sequences from the validation set with the LOWEST scores are (listed in descending order on score):')\n",
    "for seq_score_pair in sorted_seq_score[-10:]:\n",
    "    print('SENTENCE: {}'.format(seq_score_pair[0]))\n",
    "    print('SCORE: {}\\n'.format(seq_score_pair[1]))"
   ]
  },
  {
   "cell_type": "markdown",
   "metadata": {
    "colab_type": "text",
    "id": "L_BZuiqnkbsX"
   },
   "source": [
    "#### II.3.3 Modified sequences"
   ]
  },
  {
   "cell_type": "markdown",
   "metadata": {
    "colab_type": "text",
    "id": "VUUXeAL3kbsX"
   },
   "source": [
    "##### The sequence I am going to modify is '= = = Army returns = = =', which has score -5.362616837024689."
   ]
  },
  {
   "cell_type": "markdown",
   "metadata": {
    "colab_type": "text",
    "id": "zlG1BhK-LzXa"
   },
   "source": [
    "##### A modified sequence with higher score is '= = = = = = = =', with score -2.716721475124359.\n",
    "This modified sequence has higher score (higher probability) because after the training, the pattern '= =', '= = =' will be assigned high probability because they appear many times in training data. Therefore, if I change all tokens to be '=', the sequence would have a higher score."
   ]
  },
  {
   "cell_type": "code",
   "execution_count": null,
   "metadata": {
    "colab": {
     "base_uri": "https://localhost:8080/",
     "height": 35
    },
    "colab_type": "code",
    "id": "8XNPXugbI_Q-",
    "outputId": "66e8415e-9839-4bcc-f822-a0f050ed969d"
   },
   "outputs": [
    {
     "name": "stdout",
     "output_type": "stream",
     "text": [
      "-2.716721475124359\n"
     ]
    }
   ],
   "source": [
    "seq_higher = '= = = = = = = ='\n",
    "seq_tokenized_higher = [str(token) for token in nlp(seq_higher)]\n",
    "seq_higher_sc = score(seq_tokenized_higher, model)\n",
    "print(seq_higher_sc)"
   ]
  },
  {
   "cell_type": "markdown",
   "metadata": {
    "colab_type": "text",
    "id": "sjUEOoKRMBgO"
   },
   "source": [
    "\n",
    "##### A modified sequence with lower score is '= = = Army returns on this thing', which has score -7.881718575954437.\n",
    "This modified sequence has lower score(lower probability) because I decrease the appearance of consecutive '=', which adds more difficulty in predictig '=' given all tokens '=','=','=','Army', 'returns', 'on' before it."
   ]
  },
  {
   "cell_type": "code",
   "execution_count": null,
   "metadata": {
    "colab": {
     "base_uri": "https://localhost:8080/",
     "height": 35
    },
    "colab_type": "code",
    "id": "CMeUbqgzJiCv",
    "outputId": "808d86d7-b8bc-4494-c04d-720ee95e4eed"
   },
   "outputs": [
    {
     "name": "stdout",
     "output_type": "stream",
     "text": [
      "-7.881718575954437\n"
     ]
    }
   ],
   "source": [
    "seq_lower = '= = = Army returns = this thing'\n",
    "seq_tokenized_lower = [str(token) for token in nlp(seq_lower)]\n",
    "seq_lower_sc = score(seq_tokenized_lower, model)\n",
    "print(seq_lower_sc)"
   ]
  },
  {
   "cell_type": "markdown",
   "metadata": {
    "colab_type": "text",
    "id": "0cv-nMjqkbsY"
   },
   "source": [
    "### II.4 Sampling"
   ]
  },
  {
   "cell_type": "code",
   "execution_count": null,
   "metadata": {
    "colab": {
     "base_uri": "https://localhost:8080/",
     "height": 72
    },
    "colab_type": "code",
    "collapsed": true,
    "id": "DoyepKpfjX4Z",
    "jupyter": {
     "outputs_hidden": true,
     "source_hidden": true
    },
    "outputId": "87dbed28-cbf4-434f-bcaa-8ca05068d95c"
   },
   "outputs": [
    {
     "name": "stdout",
     "output_type": "stream",
     "text": [
      "{'num_embeddings': 33181, 'embedding_dim': 256, 'padding_idx': 2, 'input_size': 256, 'hidden_size': 512, 'num_layers': 3, 'rnn_dropout': 0.3}\n"
     ]
    },
    {
     "data": {
      "text/plain": [
       "<All keys matched successfully>"
      ]
     },
     "execution_count": 16,
     "metadata": {
      "tags": []
     },
     "output_type": "execute_result"
    }
   ],
   "source": [
    "# load the best model\n",
    "checkpoint_dict = torch.load('/content/drive/My Drive/wiki_LSTM_emb256_dp0.3.pt')\n",
    "# read options\n",
    "option_best = checkpoint_dict['options']\n",
    "print(option_best)\n",
    "# initialize model to GPU and read model \n",
    "num_gpus = torch.cuda.device_count()\n",
    "\n",
    "if num_gpus > 0:\n",
    "    current_device = 'cuda'\n",
    "else:\n",
    "    current_device = 'cpu'\n",
    "\n",
    "model = LSTMLanguageModel(option_best).to(current_device)\n",
    "model.load_state_dict(checkpoint_dict['model_dict'])"
   ]
  },
  {
   "cell_type": "code",
   "execution_count": null,
   "metadata": {
    "colab": {},
    "colab_type": "code",
    "id": "E4QsbGBxkbsZ",
    "jupyter": {
     "source_hidden": true
    }
   },
   "outputs": [],
   "source": [
    "import torch.nn.functional as F\n",
    "\n",
    "def get_prob_next_hidden_given_seq(context):\n",
    "  '''\n",
    "  context be token to id\n",
    "  '''\n",
    "  inp = train_val_dictionary.encode_token_seq(context)\n",
    " \n",
    "  with torch.no_grad():\n",
    "    model.eval()\n",
    "    embeddings = model.lookup(context)\n",
    "    # I don't know how to initialize h0 and how to pass ht\n",
    "    hidden, cell_stuffs = model.lstm(embeddings)\n",
    "    logits = model.projection(hidden) ## This returns the output of LSTM, instead of the cell.\n",
    "    # softmax to get the prob of predicting the last token\n",
    "    # get the last prediction\n",
    "    # dim=-1??\n",
    "    prob_distr = F.softmax(logits[0,-1], dim=-1)\n",
    "    \n",
    "  return prob_distr\n",
    "\n",
    "def lstm_sample():\n",
    "  context = torch.tensor(train_val_dictionary.get_id('<bos>')).view(1,1).to(current_device)\n",
    "  xt = context\n",
    "  while xt != train_val_dictionary.get_id('<eos>'):\n",
    "    prob = get_prob_next_hidden_given_seq(context)\n",
    "    xt = torch.multinomial(prob,1)\n",
    "    context = torch.cat([context, xt.view(1,1)], 1)\n",
    "  return context"
   ]
  },
  {
   "cell_type": "code",
   "execution_count": null,
   "metadata": {
    "colab": {
     "base_uri": "https://localhost:8080/",
     "height": 190
    },
    "colab_type": "code",
    "collapsed": true,
    "id": "pI86QfoBj4Is",
    "jupyter": {
     "outputs_hidden": true,
     "source_hidden": true
    },
    "outputId": "fa21e018-6b9a-47ed-bc84-d8d13aff4245"
   },
   "outputs": [
    {
     "name": "stdout",
     "output_type": "stream",
     "text": [
      "100 samples have been generated.\n",
      "200 samples have been generated.\n",
      "300 samples have been generated.\n",
      "400 samples have been generated.\n",
      "500 samples have been generated.\n",
      "600 samples have been generated.\n",
      "700 samples have been generated.\n",
      "800 samples have been generated.\n",
      "900 samples have been generated.\n",
      "1000 samples have been generated.\n"
     ]
    }
   ],
   "source": [
    "gen_spls = []\n",
    "for _ in range(1000):\n",
    "  sample_list = train_val_dictionary.decode_idx_seq(lstm_sample()[0])\n",
    "  gen_spls.append(sample_list)\n",
    "  if _ > 0 and _ % 100 == 99:\n",
    "    print('{} samples have been generated.'.format(str(_+1)))"
   ]
  },
  {
   "cell_type": "code",
   "execution_count": null,
   "metadata": {
    "colab": {
     "base_uri": "https://localhost:8080/",
     "height": 383
    },
    "colab_type": "code",
    "id": "VRVXV-Hpn9bz",
    "jupyter": {
     "source_hidden": true
    },
    "outputId": "c541607c-57d9-487d-a1e0-eb86ef4a2744"
   },
   "outputs": [
    {
     "name": "stdout",
     "output_type": "stream",
     "text": [
      "sentence 1:\n",
      "Karamokho financial starlings , such as <unk , expanding an pregnancy of 30 @-@ inch Disc , officer and small submarine music .\n",
      "sentence 2:\n",
      "For most of his writings , while his discovery , the colder could be offered to cross in the base below \" Nice Urn \" or \" <\n",
      "sentence 3:\n",
      "The water rose from the southeast of St. Louis on 20 September 1992 , which was situated off the downstream of Mogadishu .\n",
      "sentence 4:\n",
      "It enabled 50 @,@ 000 @,@ 000 ton to cut salvage .\n",
      "sentence 5:\n",
      "But I accept the Women , and I know this show since it was so below , but they tend always to keep it .\n",
      "sentence 6:\n",
      "Following the 10th Confederations Cup Finals State Town , the area began to have already been annexed on a Screen time regarding the crusader Bruce and exit grounds to host the series .\n",
      "sentence 7:\n",
      "Fowler was unable to break off starting from winning in ten Two games .\n",
      "sentence 8:\n",
      "The ﻿ schedule , Tomita Wolf Scott and Dean Smith , among the 130th Masters Film and Rochdale .\n",
      "sentence 9:\n",
      "As not as good as \" knowing \" , though he died in 1866 , poems , it has the highest thing of \" legal Project @-@ scientific agents at \" in many religions \" with high 1980s in terms of hearing \" , and some women could also be clichéd stars , heroin anti @-@ vegetarian music and folk composer organizations .\n",
      "sentence 10:\n",
      "Also only , the Viet Cong companies under the 3rd Battalion withdrawn was irrespective as sent to Okinawa .\n"
     ]
    }
   ],
   "source": [
    "for i in range(10):\n",
    "    print(u'sentence {}:'.format(i+1))\n",
    "    print(' '.join(gen_spls[i][1:-1]))"
   ]
  },
  {
   "cell_type": "markdown",
   "metadata": {
    "colab_type": "text",
    "id": "d8d7WAASkbsa"
   },
   "source": [
    "#### II.4.3 Number of unique tokens and sequence length \n",
    "\n",
    "(1,000 samples vs. 1,000 randomly selected validation-set sequences)"
   ]
  },
  {
   "cell_type": "code",
   "execution_count": null,
   "metadata": {
    "colab": {},
    "colab_type": "code",
    "id": "pdCBgj5Ckbsa",
    "jupyter": {
     "source_hidden": true
    }
   },
   "outputs": [],
   "source": [
    "import random\n",
    "\n",
    "def gen_val_spls(val_set, num_spls):\n",
    "    num_val=len(val_set)\n",
    "    output_ = []\n",
    "\n",
    "    val_idx = random.sample(range(0, num_val), num_spls)\n",
    "    for idx in val_idx:\n",
    "        output_.append(val_set[idx])\n",
    "    \n",
    "    return output_\n",
    "\n",
    "# Note!!! This step requires to load \"datasets\" first.\n",
    "val_spls = gen_val_spls(datasets['valid'], 1000)"
   ]
  },
  {
   "cell_type": "code",
   "execution_count": null,
   "metadata": {
    "colab": {},
    "colab_type": "code",
    "id": "V2Q6v1JQrxRK",
    "jupyter": {
     "source_hidden": true
    }
   },
   "outputs": [],
   "source": [
    "def get_tokens_n_len(gen_, val_, num_spls):\n",
    "    # get number of unique tokens and sequence lengths\n",
    "    gen_tokens = []\n",
    "    val_tokens = []\n",
    "    gen_len = []\n",
    "    val_len = []\n",
    "    assert (len(gen_) == len(val_)),\"Lengths of generated and selected val samples do not match!\"\n",
    "    num_spls = len(gen_)\n",
    "\n",
    "    for i in range(num_spls):\n",
    "        gen_tokens.extend(gen_[i])\n",
    "        val_tokens.extend(val_[i])\n",
    "        # Minus 2 means it subtracts <bos> and <eos>, and it only occurs to generated sentences\n",
    "        gen_len.append(len(gen_[i])-2)\n",
    "        val_len.append(len(val_[i]))\n",
    "    \n",
    "    gen_tokens = list(set(gen_tokens))\n",
    "    val_tokens = list(set(val_tokens))\n",
    "\n",
    "    return len(gen_tokens), len(val_tokens), gen_len, val_len\n",
    "\n",
    "num_tokens_gen, num_tokens_val, sqn_len_gen, sqn_len_val = get_tokens_n_len(gen_spls, val_spls, 1000)"
   ]
  },
  {
   "cell_type": "markdown",
   "metadata": {
    "colab_type": "text",
    "id": "Mh_I6l6feSkC"
   },
   "source": [
    "##### Results"
   ]
  },
  {
   "cell_type": "code",
   "execution_count": null,
   "metadata": {
    "colab": {
     "base_uri": "https://localhost:8080/",
     "height": 225
    },
    "colab_type": "code",
    "id": "JfzK5WSAsgzf",
    "jupyter": {
     "source_hidden": true
    },
    "outputId": "a02f43d5-2e70-4bca-e407-df0b4b5fe197"
   },
   "outputs": [
    {
     "name": "stdout",
     "output_type": "stream",
     "text": [
      "Generated sequences\n",
      "\n",
      "token numbers: 6199\n",
      "mean of sequence lengths: 24.343\n",
      "variance of sequence lengths: 133.703351\n",
      "\n",
      "Validation sequences\n",
      "\n",
      "token numbers: 5034\n",
      "mean of sequence lengths: 22.879\n",
      "variance of sequence lengths: 129.250359\n",
      "\n"
     ]
    }
   ],
   "source": [
    "# Statistics of generated and validation samples\n",
    "import numpy as np\n",
    "\n",
    "print('Generated sequences\\n\\ntoken numbers: {}\\nmean of sequence lengths: {}\\nvariance of sequence lengths: {}\\n'\n",
    ".format(num_tokens_gen,np.mean(sqn_len_gen),np.var(sqn_len_gen)))\n",
    "print('Validation sequences\\n\\ntoken numbers: {}\\nmean of sequence lengths: {}\\nvariance of sequence lengths: {}\\n'\n",
    ".format(num_tokens_val,np.mean(sqn_len_val),np.var(sqn_len_val)))\n"
   ]
  },
  {
   "cell_type": "code",
   "execution_count": null,
   "metadata": {
    "colab": {
     "base_uri": "https://localhost:8080/",
     "height": 349
    },
    "colab_type": "code",
    "collapsed": true,
    "id": "SE4-NZiYzROL",
    "jupyter": {
     "outputs_hidden": true,
     "source_hidden": true
    },
    "outputId": "b9282214-d402-4fa4-91c5-069ec07cdfce"
   },
   "outputs": [
    {
     "name": "stderr",
     "output_type": "stream",
     "text": [
      "/usr/local/lib/python3.6/dist-packages/ipykernel_launcher.py:5: MatplotlibDeprecationWarning: scipy.stats.norm.pdf\n",
      "  \"\"\"\n"
     ]
    },
    {
     "data": {
      "image/png": "[encoded data removed]",
      "text/plain": [
       "<Figure size 432x288 with 1 Axes>"
      ]
     },
     "metadata": {
      "tags": []
     },
     "output_type": "display_data"
    }
   ],
   "source": [
    "import matplotlib.pyplot as plt\n",
    "import matplotlib.mlab as mlab\n",
    "bins = np.arange(0, 90, 1)\n",
    "bins_normal = np.arange(-15, 90, 1)\n",
    "y = mlab.normpdf(bins_normal, np.mean(sqn_len_val), np.std(sqn_len_val))\n",
    "plt.hist(sqn_len_gen, bins=bins, density=True, alpha=0.5)\n",
    "plt.plot(bins_normal, y, 'r--')\n",
    "plt.title(\"Histogram of Sampling Sequences\")\n",
    "plt.xlabel('Sequence Length')\n",
    "plt.ylabel('Relative Frequency')\n",
    "plt.show()"
   ]
  },
  {
   "cell_type": "code",
   "execution_count": null,
   "metadata": {
    "colab": {
     "base_uri": "https://localhost:8080/",
     "height": 349
    },
    "colab_type": "code",
    "id": "h0VFLECl18d6",
    "jupyter": {
     "source_hidden": true
    },
    "outputId": "e752f192-a0f5-433a-87d5-156ea8459f8f"
   },
   "outputs": [
    {
     "name": "stderr",
     "output_type": "stream",
     "text": [
      "/usr/local/lib/python3.6/dist-packages/ipykernel_launcher.py:5: MatplotlibDeprecationWarning: scipy.stats.norm.pdf\n",
      "  \"\"\"\n"
     ]
    },
    {
     "data": {
      "image/png": "[encoded data removed]",
      "text/plain": [
       "<Figure size 432x288 with 1 Axes>"
      ]
     },
     "metadata": {
      "tags": []
     },
     "output_type": "display_data"
    }
   ],
   "source": [
    "import matplotlib.pyplot as plt\n",
    "import matplotlib.mlab as mlab\n",
    "bins = np.arange(0, 90, 1)\n",
    "bins_normal = np.arange(-15, 90, 1)\n",
    "y = mlab.normpdf(bins_normal, np.mean(sqn_len_val), np.std(sqn_len_val))\n",
    "plt.hist(sqn_len_val, bins=bins, density=True,alpha=0.5)\n",
    "plt.plot(bins_normal, y, 'r--')\n",
    "plt.title(\"Histogram of Picked Validation Sequences\")\n",
    "plt.xlabel('Sequence Length')\n",
    "plt.ylabel('Relative Frequency')\n",
    "plt.show()"
   ]
  },
  {
   "cell_type": "markdown",
   "metadata": {
    "colab_type": "text",
    "id": "fqdxqO9Akbsb"
   },
   "source": [
    "#### II.4.4 Example Samples"
   ]
  },
  {
   "cell_type": "code",
   "execution_count": null,
   "metadata": {
    "colab": {
     "base_uri": "https://localhost:8080/",
     "height": 141
    },
    "colab_type": "code",
    "id": "kyB2-osSkbsc",
    "jupyter": {
     "source_hidden": true
    },
    "outputId": "61909875-0939-48a6-da42-df69105f6c1b"
   },
   "outputs": [
    {
     "name": "stdout",
     "output_type": "stream",
     "text": [
      "Hurricane Abby was still disbanded until 1914 , and sold the pole of Ireland 's following year . \n",
      "\n",
      "After its release , Liu Kang won their first year at the August 5 , 2003 , the second @-@ seller lyrics , but managed by Zack Zero and Josh Weinstein , she gets a girl character . \n",
      "\n",
      "Throughout the time of Sveshnikov Edward Diarmata and his Montgomery , Anderson took \" low nothing \" that would go through a training until returning to London and suffered aside assistance . \n",
      "\n"
     ]
    }
   ],
   "source": [
    "selected_sent = []\n",
    "gen_idx = random.sample(range(0, len(gen_spls)), 3)\n",
    "for idx in gen_idx:\n",
    "    selected_sent.append(gen_spls[idx][1:-1])\n",
    "for sent in selected_sent:\n",
    "    print(' '.join(sent), '\\n')"
   ]
  },
  {
   "cell_type": "markdown",
   "metadata": {
    "colab_type": "text",
    "id": "KUfMuLFEg1g1"
   },
   "source": [
    "__Generated Sentences:__\n",
    "\n",
    "__The First Sentence:__\n",
    "<br />Hurricane Abby was still disbanded until 1914 , and sold the pole of Ireland 's following year.\n",
    "\n",
    "__The Second Sentence:__\n",
    "<br />After its release , Liu Kang won their first year at the August 5 , 2003 , the second @-@ seller lyrics , but managed by Zack Zero and Josh Weinstein , she gets a girl character.\n",
    "\n",
    "__The Third Sentence:__\n",
    "<br />Throughout the time of Sveshnikov Edward Diarmata and his Montgomery , Anderson took \" low nothing \" that would go through a training until returning to London and suffered aside assistance . "
   ]
  },
  {
   "cell_type": "markdown",
   "metadata": {
    "colab_type": "text",
    "id": "nRpCMttohj1-"
   },
   "source": [
    "##### Analysis"
   ]
  },
  {
   "cell_type": "markdown",
   "metadata": {
    "colab_type": "text",
    "id": "gAEE6Jw3h9R5"
   },
   "source": [
    "__It is easy to tell that all these sentences are generated sentences instead of human writing or typing ones,__ as <u>name entities, syntatic structures, and semantic logic are far from correctness.</u> For instance, in the first generated sentence, we can hardly find a __Hurricane Abby__ actually (but still, to give a person's name to a hurricane is the correct habit of meterologists). The logic of \"A hurricane is disbanded\" and \"A hurricane is sold to some place\" is also obviously incorrect\n",
    "\n",
    "__However, the sentences are coherent in staying on one topic.__ It can be easily told that the topic of first sentence is __meterology__, of the second is __entertainment (movie, music, etc.)__ and __one person's story__, and of the third is __literature__."
   ]
  }
 ],
 "metadata": {
  "accelerator": "GPU",
  "colab": {
   "collapsed_sections": [
    "d8d7WAASkbsa",
    "fqdxqO9Akbsb"
   ],
   "name": "lm_homework(official).ipynb",
   "provenance": [],
   "toc_visible": true
  },
  "kernelspec": {
   "display_name": "Python 3",
   "language": "python",
   "name": "python3"
  },
  "language_info": {
   "codemirror_mode": {
    "name": "ipython",
    "version": 3
   },
   "file_extension": ".py",
   "mimetype": "text/x-python",
   "name": "python",
   "nbconvert_exporter": "python",
   "pygments_lexer": "ipython3",
   "version": "3.7.3"
  }
 },
 "nbformat": 4,
 "nbformat_minor": 4
}
